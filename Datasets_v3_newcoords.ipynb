{
 "cells": [
  {
   "cell_type": "code",
   "execution_count": 1,
   "metadata": {
    "ExecuteTime": {
     "end_time": "2018-03-04T03:38:50.463682Z",
     "start_time": "2018-03-04T03:38:50.458976Z"
    }
   },
   "outputs": [],
   "source": [
    "#!pip install sodapy"
   ]
  },
  {
   "cell_type": "markdown",
   "metadata": {},
   "source": [
    "# Datasets"
   ]
  },
  {
   "cell_type": "code",
   "execution_count": 2,
   "metadata": {
    "ExecuteTime": {
     "end_time": "2018-03-04T03:38:52.247810Z",
     "start_time": "2018-03-04T03:38:51.639876Z"
    }
   },
   "outputs": [],
   "source": [
    "import pandas as pd\n",
    "from sodapy import Socrata"
   ]
  },
  {
   "cell_type": "markdown",
   "metadata": {
    "ExecuteTime": {
     "end_time": "2018-03-03T23:14:10.650069Z",
     "start_time": "2018-03-03T23:14:10.639163Z"
    }
   },
   "source": [
    "- neighbourhood\n",
    "- bugs\n",
    "- bikes"
   ]
  },
  {
   "cell_type": "markdown",
   "metadata": {},
   "source": [
    "## neighbourhoods"
   ]
  },
  {
   "cell_type": "code",
   "execution_count": 3,
   "metadata": {
    "ExecuteTime": {
     "end_time": "2018-03-04T03:38:59.956930Z",
     "start_time": "2018-03-04T03:38:58.913496Z"
    }
   },
   "outputs": [
    {
     "name": "stderr",
     "output_type": "stream",
     "text": [
      "WARNING:root:Requests made without an app_token will be subject to strict throttling limits.\n"
     ]
    },
    {
     "data": {
      "text/html": [
       "<div>\n",
       "<style scoped>\n",
       "    .dataframe tbody tr th:only-of-type {\n",
       "        vertical-align: middle;\n",
       "    }\n",
       "\n",
       "    .dataframe tbody tr th {\n",
       "        vertical-align: top;\n",
       "    }\n",
       "\n",
       "    .dataframe thead th {\n",
       "        text-align: right;\n",
       "    }\n",
       "</style>\n",
       "<table border=\"1\" class=\"dataframe\">\n",
       "  <thead>\n",
       "    <tr style=\"text-align: right;\">\n",
       "      <th></th>\n",
       "      <th>id</th>\n",
       "      <th>name</th>\n",
       "      <th>the_geom</th>\n",
       "      <th>newgeom</th>\n",
       "    </tr>\n",
       "  </thead>\n",
       "  <tbody>\n",
       "    <tr>\n",
       "      <th>0</th>\n",
       "      <td>696</td>\n",
       "      <td>Seven Oaks</td>\n",
       "      <td>{'type': 'MultiPolygon', 'coordinates': [[[[-9...</td>\n",
       "      <td>POLYGON ((-97.11021888431701 49.925633193803, ...</td>\n",
       "    </tr>\n",
       "    <tr>\n",
       "      <th>1</th>\n",
       "      <td>178</td>\n",
       "      <td>Parker</td>\n",
       "      <td>{'type': 'MultiPolygon', 'coordinates': [[[[-9...</td>\n",
       "      <td>POLYGON ((-97.17615035641499 49.850537882086, ...</td>\n",
       "    </tr>\n",
       "    <tr>\n",
       "      <th>2</th>\n",
       "      <td>630</td>\n",
       "      <td>The Maples</td>\n",
       "      <td>{'type': 'MultiPolygon', 'coordinates': [[[[-9...</td>\n",
       "      <td>POLYGON ((-97.163398354858 49.941591371416, -9...</td>\n",
       "    </tr>\n",
       "    <tr>\n",
       "      <th>3</th>\n",
       "      <td>702</td>\n",
       "      <td>Luxton</td>\n",
       "      <td>{'type': 'MultiPolygon', 'coordinates': [[[[-9...</td>\n",
       "      <td>POLYGON ((-97.116047777972 49.920325228662, -9...</td>\n",
       "    </tr>\n",
       "    <tr>\n",
       "      <th>4</th>\n",
       "      <td>1012</td>\n",
       "      <td>Talbot-Grey</td>\n",
       "      <td>{'type': 'MultiPolygon', 'coordinates': [[[[-9...</td>\n",
       "      <td>POLYGON ((-97.101068054847 49.904738664792, -9...</td>\n",
       "    </tr>\n",
       "  </tbody>\n",
       "</table>\n",
       "</div>"
      ],
      "text/plain": [
       "     id         name                                           the_geom  \\\n",
       "0   696   Seven Oaks  {'type': 'MultiPolygon', 'coordinates': [[[[-9...   \n",
       "1   178       Parker  {'type': 'MultiPolygon', 'coordinates': [[[[-9...   \n",
       "2   630   The Maples  {'type': 'MultiPolygon', 'coordinates': [[[[-9...   \n",
       "3   702       Luxton  {'type': 'MultiPolygon', 'coordinates': [[[[-9...   \n",
       "4  1012  Talbot-Grey  {'type': 'MultiPolygon', 'coordinates': [[[[-9...   \n",
       "\n",
       "                                             newgeom  \n",
       "0  POLYGON ((-97.11021888431701 49.925633193803, ...  \n",
       "1  POLYGON ((-97.17615035641499 49.850537882086, ...  \n",
       "2  POLYGON ((-97.163398354858 49.941591371416, -9...  \n",
       "3  POLYGON ((-97.116047777972 49.920325228662, -9...  \n",
       "4  POLYGON ((-97.101068054847 49.904738664792, -9...  "
      ]
     },
     "execution_count": 3,
     "metadata": {},
     "output_type": "execute_result"
    }
   ],
   "source": [
    "import shapely.geometry\n",
    "from geopandas import GeoDataFrame\n",
    "client = Socrata(\"data.winnipeg.ca\", None)\n",
    "neighbourhoods_id = \"xaux-29zr\"\n",
    "neighbourhoods = client.get(neighbourhoods_id, limit=2000)\n",
    "neighbourhoods = GeoDataFrame(neighbourhoods)\n",
    "newgeom = [shapely.geometry.Polygon(x['coordinates'][0][0]) for x in neighbourhoods.the_geom]\n",
    "neighbourhoods['newgeom'] = newgeom\n",
    "neighbourhoods = neighbourhoods.set_geometry('newgeom')\n",
    "neighbourhoods.head()\n"
   ]
  },
  {
   "cell_type": "code",
   "execution_count": 4,
   "metadata": {
    "ExecuteTime": {
     "end_time": "2018-03-04T03:39:00.498044Z",
     "start_time": "2018-03-04T03:38:59.960042Z"
    }
   },
   "outputs": [
    {
     "data": {
      "text/plain": [
       "<matplotlib.axes._subplots.AxesSubplot at 0x7faa463d29e8>"
      ]
     },
     "execution_count": 4,
     "metadata": {},
     "output_type": "execute_result"
    }
   ],
   "source": [
    "neighbourhoods.plot()"
   ]
  },
  {
   "cell_type": "markdown",
   "metadata": {},
   "source": [
    "## bikes"
   ]
  },
  {
   "cell_type": "code",
   "execution_count": 5,
   "metadata": {
    "ExecuteTime": {
     "end_time": "2018-03-04T03:39:02.356422Z",
     "start_time": "2018-03-04T03:39:01.578552Z"
    }
   },
   "outputs": [
    {
     "name": "stderr",
     "output_type": "stream",
     "text": [
      "WARNING:root:Requests made without an app_token will be subject to strict throttling limits.\n"
     ]
    },
    {
     "data": {
      "text/html": [
       "<div>\n",
       "<style scoped>\n",
       "    .dataframe tbody tr th:only-of-type {\n",
       "        vertical-align: middle;\n",
       "    }\n",
       "\n",
       "    .dataframe tbody tr th {\n",
       "        vertical-align: top;\n",
       "    }\n",
       "\n",
       "    .dataframe thead th {\n",
       "        text-align: right;\n",
       "    }\n",
       "</style>\n",
       "<table border=\"1\" class=\"dataframe\">\n",
       "  <thead>\n",
       "    <tr style=\"text-align: right;\">\n",
       "      <th></th>\n",
       "      <th>0</th>\n",
       "      <th>1</th>\n",
       "      <th>2</th>\n",
       "    </tr>\n",
       "  </thead>\n",
       "  <tbody>\n",
       "    <tr>\n",
       "      <th>asset_class</th>\n",
       "      <td>STAND-ALONE PLAY COMPONENT</td>\n",
       "      <td>SEATING</td>\n",
       "      <td>SEATING</td>\n",
       "    </tr>\n",
       "    <tr>\n",
       "      <th>asset_id</th>\n",
       "      <td>46292</td>\n",
       "      <td>47525</td>\n",
       "      <td>24478</td>\n",
       "    </tr>\n",
       "    <tr>\n",
       "      <th>asset_size</th>\n",
       "      <td>N/A</td>\n",
       "      <td>N/A</td>\n",
       "      <td>N/A</td>\n",
       "    </tr>\n",
       "    <tr>\n",
       "      <th>asset_type</th>\n",
       "      <td>N/A</td>\n",
       "      <td>BENCH</td>\n",
       "      <td>BENCH</td>\n",
       "    </tr>\n",
       "    <tr>\n",
       "      <th>geom_type</th>\n",
       "      <td>POINT</td>\n",
       "      <td>POINT</td>\n",
       "      <td>POINT</td>\n",
       "    </tr>\n",
       "    <tr>\n",
       "      <th>park_id</th>\n",
       "      <td>1137</td>\n",
       "      <td>266</td>\n",
       "      <td>1179</td>\n",
       "    </tr>\n",
       "    <tr>\n",
       "      <th>park_name</th>\n",
       "      <td>Frontenac Park</td>\n",
       "      <td>Muriel Street Park</td>\n",
       "      <td>Aberdeen Adventure Playground</td>\n",
       "    </tr>\n",
       "    <tr>\n",
       "      <th>prim_field</th>\n",
       "      <td>N/A</td>\n",
       "      <td>N/A</td>\n",
       "      <td>N/A</td>\n",
       "    </tr>\n",
       "    <tr>\n",
       "      <th>the_geom</th>\n",
       "      <td>{'type': 'Point', 'coordinates': [-97.08174796...</td>\n",
       "      <td>{'type': 'Point', 'coordinates': [-97.29729904...</td>\n",
       "      <td>{'type': 'Point', 'coordinates': [-97.12915711...</td>\n",
       "    </tr>\n",
       "  </tbody>\n",
       "</table>\n",
       "</div>"
      ],
      "text/plain": [
       "                                                             0  \\\n",
       "asset_class                         STAND-ALONE PLAY COMPONENT   \n",
       "asset_id                                                 46292   \n",
       "asset_size                                                 N/A   \n",
       "asset_type                                                 N/A   \n",
       "geom_type                                                POINT   \n",
       "park_id                                                   1137   \n",
       "park_name                                       Frontenac Park   \n",
       "prim_field                                                 N/A   \n",
       "the_geom     {'type': 'Point', 'coordinates': [-97.08174796...   \n",
       "\n",
       "                                                             1  \\\n",
       "asset_class                                            SEATING   \n",
       "asset_id                                                 47525   \n",
       "asset_size                                                 N/A   \n",
       "asset_type                                               BENCH   \n",
       "geom_type                                                POINT   \n",
       "park_id                                                    266   \n",
       "park_name                                   Muriel Street Park   \n",
       "prim_field                                                 N/A   \n",
       "the_geom     {'type': 'Point', 'coordinates': [-97.29729904...   \n",
       "\n",
       "                                                             2  \n",
       "asset_class                                            SEATING  \n",
       "asset_id                                                 24478  \n",
       "asset_size                                                 N/A  \n",
       "asset_type                                               BENCH  \n",
       "geom_type                                                POINT  \n",
       "park_id                                                   1179  \n",
       "park_name                        Aberdeen Adventure Playground  \n",
       "prim_field                                                 N/A  \n",
       "the_geom     {'type': 'Point', 'coordinates': [-97.12915711...  "
      ]
     },
     "execution_count": 5,
     "metadata": {},
     "output_type": "execute_result"
    }
   ],
   "source": [
    "client = Socrata(\"data.winnipeg.ca\", None)\n",
    "bikes = client.get(\"9t9k-ya8b\", limit=10000)\n",
    "bikes = pd.DataFrame(bikes)\n",
    "bikes.head(3).T"
   ]
  },
  {
   "cell_type": "code",
   "execution_count": 6,
   "metadata": {
    "ExecuteTime": {
     "end_time": "2018-03-04T03:39:03.078471Z",
     "start_time": "2018-03-04T03:39:02.393814Z"
    }
   },
   "outputs": [
    {
     "data": {
      "text/plain": [
       "<matplotlib.axes._subplots.AxesSubplot at 0x7faa3e62d6a0>"
      ]
     },
     "execution_count": 6,
     "metadata": {},
     "output_type": "execute_result"
    },
    {
     "data": {
      "image/png": "[encoded data removed]",
      "text/plain": [
       "<matplotlib.figure.Figure at 0x7faa3e62d048>"
      ]
     },
     "metadata": {},
     "output_type": "display_data"
    }
   ],
   "source": [
    "from shapely.geometry import Point\n",
    "\n",
    "newgeom = [Point(x['coordinates']) for x in bikes.the_geom]\n",
    "bikes['newgeom'] = newgeom\n",
    "bikes = bikes.set_geometry('newgeom')\n",
    "bikes.plot()"
   ]
  },
  {
   "cell_type": "markdown",
   "metadata": {
    "ExecuteTime": {
     "end_time": "2018-03-04T00:09:15.829402Z",
     "start_time": "2018-03-04T00:09:15.822434Z"
    }
   },
   "source": [
    "## bugs"
   ]
  },
  {
   "cell_type": "code",
   "execution_count": 7,
   "metadata": {
    "ExecuteTime": {
     "end_time": "2018-03-04T03:39:04.660963Z",
     "start_time": "2018-03-04T03:39:04.184340Z"
    }
   },
   "outputs": [
    {
     "name": "stderr",
     "output_type": "stream",
     "text": [
      "WARNING:root:Requests made without an app_token will be subject to strict throttling limits.\n"
     ]
    },
    {
     "name": "stdout",
     "output_type": "stream",
     "text": [
      "number of locations 37\n"
     ]
    },
    {
     "data": {
      "text/html": [
       "<div>\n",
       "<style scoped>\n",
       "    .dataframe tbody tr th:only-of-type {\n",
       "        vertical-align: middle;\n",
       "    }\n",
       "\n",
       "    .dataframe tbody tr th {\n",
       "        vertical-align: top;\n",
       "    }\n",
       "\n",
       "    .dataframe thead th {\n",
       "        text-align: right;\n",
       "    }\n",
       "</style>\n",
       "<table border=\"1\" class=\"dataframe\">\n",
       "  <thead>\n",
       "    <tr style=\"text-align: right;\">\n",
       "      <th></th>\n",
       "      <th>count_date</th>\n",
       "      <th>trap_days</th>\n",
       "      <th>location</th>\n",
       "      <th>bugcount</th>\n",
       "    </tr>\n",
       "  </thead>\n",
       "  <tbody>\n",
       "    <tr>\n",
       "      <th>0</th>\n",
       "      <td>2015-05-04T00:00:00</td>\n",
       "      <td>3</td>\n",
       "      <td>north_east_1</td>\n",
       "      <td>0</td>\n",
       "    </tr>\n",
       "    <tr>\n",
       "      <th>1</th>\n",
       "      <td>2015-05-06T00:00:00</td>\n",
       "      <td>2</td>\n",
       "      <td>north_east_1</td>\n",
       "      <td>2</td>\n",
       "    </tr>\n",
       "    <tr>\n",
       "      <th>2</th>\n",
       "      <td>2015-05-08T00:00:00</td>\n",
       "      <td>2</td>\n",
       "      <td>north_east_1</td>\n",
       "      <td>0</td>\n",
       "    </tr>\n",
       "    <tr>\n",
       "      <th>3</th>\n",
       "      <td>2015-05-11T00:00:00</td>\n",
       "      <td>3</td>\n",
       "      <td>north_east_1</td>\n",
       "      <td>0</td>\n",
       "    </tr>\n",
       "    <tr>\n",
       "      <th>4</th>\n",
       "      <td>2015-05-13T00:00:00</td>\n",
       "      <td>2</td>\n",
       "      <td>north_east_1</td>\n",
       "      <td>1</td>\n",
       "    </tr>\n",
       "  </tbody>\n",
       "</table>\n",
       "</div>"
      ],
      "text/plain": [
       "            count_date trap_days      location bugcount\n",
       "0  2015-05-04T00:00:00         3  north_east_1        0\n",
       "1  2015-05-06T00:00:00         2  north_east_1        2\n",
       "2  2015-05-08T00:00:00         2  north_east_1        0\n",
       "3  2015-05-11T00:00:00         3  north_east_1        0\n",
       "4  2015-05-13T00:00:00         2  north_east_1        1"
      ]
     },
     "execution_count": 7,
     "metadata": {},
     "output_type": "execute_result"
    }
   ],
   "source": [
    "import pandas as pd\n",
    "from geopandas import GeoDataFrame\n",
    "client = Socrata(\"data.winnipeg.ca\", None)\n",
    "bugs = client.get(\"du7c-8488\", limit=2000)\n",
    "bugs = GeoDataFrame(bugs)\n",
    "\n",
    "# wrangling\n",
    "idvars = ['count_date', 'trap_days']\n",
    "location_only = [x for x in bugs.columns if \"average\" not in x]\n",
    "location_only = [x for x in location_only if x not in idvars]\n",
    "print(f\"number of locations {len(location_only)}\")\n",
    "\n",
    "# make wide to long \n",
    "bugs = pd.melt(bugs[location_only + idvars], id_vars = idvars, var_name = 'location', value_name = 'bugcount')\n",
    "bugs = GeoDataFrame(bugs)\n",
    "bugs.head()"
   ]
  },
  {
   "cell_type": "markdown",
   "metadata": {
    "ExecuteTime": {
     "end_time": "2018-03-04T00:26:30.046265Z",
     "start_time": "2018-03-04T00:26:29.999755Z"
    }
   },
   "source": [
    "buglocations2gps = \\\n",
    "{\"north_east_1\": {\"coord\": [49.951867, -97.059306]}\n",
    ",\"north_east_2\": {\"coord\": [49.933941, -97.096341]}\n",
    ",\"north_east_3\": {\"coord\": [49.924809, -97.056330]}\n",
    ",\"north_east_4\": {\"coord\": [49.906175, -97.094797]}\n",
    ",\"north_east_5\": {\"coord\": [49.892358, -97.022426]}\n",
    ",\"north_east_6\": {\"coord\": [49.918257, -97.043848]}\n",
    ",\"north_east_7\": {\"coord\": [49.904900, -96.981602]}\n",
    ",\"north_west_1\": {\"coord\": [49.890104, -97.308464]}\n",
    ",\"north_west_2\": {\"coord\": [49.882624, -97.238131]}\n",
    ",\"north_west_3\": {\"coord\": [49.888943, -97.193254]}\n",
    ",\"north_west_4\": {\"coord\": [49.920877, -97.202540]}\n",
    ",\"north_west_5\": {\"coord\": [49.931627, -97.170450]}\n",
    ",\"north_west_6\": {\"coord\": [49.975104, -97.147863]}\n",
    ",\"north_west_7\": {\"coord\": [49.948876, -97.126311]}\n",
    ",\"rural_aa\": {\"coord\": [49.981128, -97.244987]}\n",
    ",\"rural_bb\": {\"coord\": [49.999793, -97.194880]}\n",
    ",\"rural_cc\": {\"coord\": [49.991068, -97.089770]}\n",
    ",\"rural_dd\": {\"coord\": [49.990523, -97.013920]}\n",
    ",\"rural_ee\": {\"coord\": [49.852485, -96.986202]}\n",
    ",\"rural_ff\": {\"coord\": [49.800355, -97.073122]}\n",
    ",\"rural_gg\": {\"coord\": [49.782835, -97.339871]}\n",
    ",\"rural_hh\": {\"coord\": [49.854707, -97.338403]}\n",
    ",\"rural_ii\": {\"coord\": [49.890188, -97.341707]}\n",
    ",\"south_east_1\": {\"coord\": [49.52426, 97.07156]}\n",
    ",\"south_east_2\": {\"coord\": [49.856801, -97.109705]}\n",
    ",\"south_east_3\": {\"coord\": [49.859405, -97.066774]}\n",
    ",\"south_east_4\": {\"coord\": [49.824369, -97.133797]}\n",
    ",\"south_east_5\": {\"coord\": [49.829048, -97.098352]}\n",
    ",\"south_east_6\": {\"coord\": [49.827414, -97.060787]}\n",
    ",\"south_east_7\": {\"coord\": [49.806356, -97.100467]}\n",
    ",\"south_west_1\": {\"coord\": [49.832983, -97.332547]}\n",
    ",\"south_west_2\": {\"coord\": [49.852445, -97.275173]}\n",
    ",\"south_west_3\": {\"coord\": [49.868974, -97.243095]}\n",
    ",\"south_west_4\": {\"coord\": [49.868834, -97.184476]}\n",
    ",\"south_west_5\": {\"coord\": [49.818122, -97.165982]}\n",
    " }"
   ]
  },
  {
   "cell_type": "code",
   "execution_count": 8,
   "metadata": {
    "ExecuteTime": {
     "end_time": "2018-03-04T03:55:30.655053Z",
     "start_time": "2018-03-04T03:55:30.596739Z"
    }
   },
   "outputs": [],
   "source": [
    "buglocations2gps = \\\n",
    "{\"north_east_1\": {\"coord\": [49.951867, -97.059306]}\n",
    ",\"north_east_2\": {\"coord\": [49.933941, -97.096341]}\n",
    ",\"north_east_3\": {\"coord\": [49.924809, -97.056330]}\n",
    ",\"north_east_4\": {\"coord\": [49.906175, -97.094797]}\n",
    ",\"north_east_5\": {\"coord\": [49.892358, -97.022426]}\n",
    ",\"north_east_6\": {\"coord\": [49.918257, -97.043848]}\n",
    ",\"north_east_7\": {\"coord\": [49.904900, -96.981602]}\n",
    ",\"north_west_1\": {\"coord\": [49.890104, -97.308464]}\n",
    ",\"north_west_2\": {\"coord\": [49.882624, -97.238131]}\n",
    ",\"north_west_3\": {\"coord\": [49.888943, -97.193254]}\n",
    ",\"north_west_4\": {\"coord\": [49.920877, -97.202540]}\n",
    ",\"north_west_5\": {\"coord\": [49.931627, -97.170450]}\n",
    ",\"north_west_6\": {\"coord\": [49.975104, -97.147863]}\n",
    ",\"north_west_7\": {\"coord\": [49.948876, -97.126311]}\n",
    ",\"rural_aa\": {\"coord\": [49.981128, -97.244987]}\n",
    ",\"rural_bb\": {\"coord\": [49.999793, -97.194880]}\n",
    ",\"rural_cc\": {\"coord\": [49.991068, -97.089770]}\n",
    ",\"rural_dd\": {\"coord\": [49.990523, -97.013920]}\n",
    ",\"rural_ee\": {\"coord\": [49.852485, -96.986202]}\n",
    ",\"rural_ff\": {\"coord\": [49.800355, -97.073122]}\n",
    ",\"rural_gg\": {\"coord\": [49.782835, -97.339871]}\n",
    ",\"rural_hh\": {\"coord\": [49.854707, -97.338403]}\n",
    ",\"rural_ii\": {\"coord\": [49.890188, -97.341707]}\n",
    ",\"south_east_1\": {\"coord\": [49.874801, -97.127406]}\n",
    ",\"south_east_2\": {\"coord\": [49.856801, -97.109705]}\n",
    ",\"south_east_3\": {\"coord\": [49.859405, -97.066774]}\n",
    ",\"south_east_4\": {\"coord\": [49.824369, -97.133797]}\n",
    ",\"south_east_5\": {\"coord\": [49.829048, -97.098352]}\n",
    ",\"south_east_6\": {\"coord\": [49.827414, -97.060787]}\n",
    ",\"south_east_7\": {\"coord\": [49.806356, -97.100467]}\n",
    ",\"south_west_1\": {\"coord\": [49.832983, -97.332547]}\n",
    ",\"south_west_2\": {\"coord\": [49.852445, -97.275173]}\n",
    ",\"south_west_3\": {\"coord\": [49.868974, -97.243095]}\n",
    ",\"south_west_4\": {\"coord\": [49.868834, -97.184476]}\n",
    ",\"south_west_5\": {\"coord\": [49.823724, -97.177251]}\n",
    ",\"south_west_6\": {\"coord\": [49.805538, -97.138229]}\n",
    ",\"south_west_7\": {\"coord\": [49.781820, -97.178710]}\n",
    " }"
   ]
  },
  {
   "cell_type": "code",
   "execution_count": 9,
   "metadata": {
    "ExecuteTime": {
     "end_time": "2018-03-04T03:55:31.659800Z",
     "start_time": "2018-03-04T03:55:31.533635Z"
    }
   },
   "outputs": [
    {
     "data": {
      "text/html": [
       "<div>\n",
       "<style scoped>\n",
       "    .dataframe tbody tr th:only-of-type {\n",
       "        vertical-align: middle;\n",
       "    }\n",
       "\n",
       "    .dataframe tbody tr th {\n",
       "        vertical-align: top;\n",
       "    }\n",
       "\n",
       "    .dataframe thead th {\n",
       "        text-align: right;\n",
       "    }\n",
       "</style>\n",
       "<table border=\"1\" class=\"dataframe\">\n",
       "  <thead>\n",
       "    <tr style=\"text-align: right;\">\n",
       "      <th></th>\n",
       "      <th>count_date</th>\n",
       "      <th>trap_days</th>\n",
       "      <th>location</th>\n",
       "      <th>bugcount</th>\n",
       "      <th>newgeom</th>\n",
       "    </tr>\n",
       "  </thead>\n",
       "  <tbody>\n",
       "    <tr>\n",
       "      <th>0</th>\n",
       "      <td>2015-05-04T00:00:00</td>\n",
       "      <td>3</td>\n",
       "      <td>north_east_1</td>\n",
       "      <td>0</td>\n",
       "      <td>POINT (-97.05930600000001 49.951867)</td>\n",
       "    </tr>\n",
       "    <tr>\n",
       "      <th>1</th>\n",
       "      <td>2015-05-06T00:00:00</td>\n",
       "      <td>2</td>\n",
       "      <td>north_east_1</td>\n",
       "      <td>2</td>\n",
       "      <td>POINT (-97.05930600000001 49.951867)</td>\n",
       "    </tr>\n",
       "    <tr>\n",
       "      <th>2</th>\n",
       "      <td>2015-05-08T00:00:00</td>\n",
       "      <td>2</td>\n",
       "      <td>north_east_1</td>\n",
       "      <td>0</td>\n",
       "      <td>POINT (-97.05930600000001 49.951867)</td>\n",
       "    </tr>\n",
       "    <tr>\n",
       "      <th>3</th>\n",
       "      <td>2015-05-11T00:00:00</td>\n",
       "      <td>3</td>\n",
       "      <td>north_east_1</td>\n",
       "      <td>0</td>\n",
       "      <td>POINT (-97.05930600000001 49.951867)</td>\n",
       "    </tr>\n",
       "    <tr>\n",
       "      <th>4</th>\n",
       "      <td>2015-05-13T00:00:00</td>\n",
       "      <td>2</td>\n",
       "      <td>north_east_1</td>\n",
       "      <td>1</td>\n",
       "      <td>POINT (-97.05930600000001 49.951867)</td>\n",
       "    </tr>\n",
       "  </tbody>\n",
       "</table>\n",
       "</div>"
      ],
      "text/plain": [
       "            count_date trap_days      location bugcount  \\\n",
       "0  2015-05-04T00:00:00         3  north_east_1        0   \n",
       "1  2015-05-06T00:00:00         2  north_east_1        2   \n",
       "2  2015-05-08T00:00:00         2  north_east_1        0   \n",
       "3  2015-05-11T00:00:00         3  north_east_1        0   \n",
       "4  2015-05-13T00:00:00         2  north_east_1        1   \n",
       "\n",
       "                                newgeom  \n",
       "0  POINT (-97.05930600000001 49.951867)  \n",
       "1  POINT (-97.05930600000001 49.951867)  \n",
       "2  POINT (-97.05930600000001 49.951867)  \n",
       "3  POINT (-97.05930600000001 49.951867)  \n",
       "4  POINT (-97.05930600000001 49.951867)  "
      ]
     },
     "execution_count": 9,
     "metadata": {},
     "output_type": "execute_result"
    }
   ],
   "source": [
    "temp = bugs.location.map(buglocations2gps)\n",
    "newgeom = [shapely.geometry.Point(x['coord'][1], x['coord'][0]) for x in temp]\n",
    "bugs = GeoDataFrame(bugs)\n",
    "bugs['newgeom'] = newgeom\n",
    "bugs = bugs.set_geometry('newgeom')\n",
    "bugs.head()"
   ]
  },
  {
   "cell_type": "code",
   "execution_count": 10,
   "metadata": {
    "ExecuteTime": {
     "end_time": "2018-03-04T03:55:33.458890Z",
     "start_time": "2018-03-04T03:55:32.867664Z"
    }
   },
   "outputs": [
    {
     "data": {
      "text/plain": [
       "<matplotlib.axes._subplots.AxesSubplot at 0x7faa3ec935f8>"
      ]
     },
     "execution_count": 10,
     "metadata": {},
     "output_type": "execute_result"
    },
    {
     "data": {
      "image/png": "[encoded data removed]",
      "text/plain": [
       "<matplotlib.figure.Figure at 0x7faa3ec93898>"
      ]
     },
     "metadata": {},
     "output_type": "display_data"
    }
   ],
   "source": [
    "bugs.plot()"
   ]
  },
  {
   "cell_type": "markdown",
   "metadata": {},
   "source": [
    "### map bugtrap to winnipeg neighbourhoods"
   ]
  },
  {
   "cell_type": "code",
   "execution_count": 11,
   "metadata": {
    "ExecuteTime": {
     "end_time": "2018-03-04T03:55:34.955026Z",
     "start_time": "2018-03-04T03:55:34.925980Z"
    }
   },
   "outputs": [
    {
     "name": "stdout",
     "output_type": "stream",
     "text": [
      "(37, 5)\n"
     ]
    },
    {
     "data": {
      "text/html": [
       "<div>\n",
       "<style scoped>\n",
       "    .dataframe tbody tr th:only-of-type {\n",
       "        vertical-align: middle;\n",
       "    }\n",
       "\n",
       "    .dataframe tbody tr th {\n",
       "        vertical-align: top;\n",
       "    }\n",
       "\n",
       "    .dataframe thead th {\n",
       "        text-align: right;\n",
       "    }\n",
       "</style>\n",
       "<table border=\"1\" class=\"dataframe\">\n",
       "  <thead>\n",
       "    <tr style=\"text-align: right;\">\n",
       "      <th></th>\n",
       "      <th>count_date</th>\n",
       "      <th>trap_days</th>\n",
       "      <th>location</th>\n",
       "      <th>bugcount</th>\n",
       "      <th>newgeom</th>\n",
       "    </tr>\n",
       "  </thead>\n",
       "  <tbody>\n",
       "    <tr>\n",
       "      <th>0</th>\n",
       "      <td>2015-05-04T00:00:00</td>\n",
       "      <td>3</td>\n",
       "      <td>north_east_1</td>\n",
       "      <td>0</td>\n",
       "      <td>POINT (-97.05930600000001 49.951867)</td>\n",
       "    </tr>\n",
       "  </tbody>\n",
       "</table>\n",
       "</div>"
      ],
      "text/plain": [
       "            count_date trap_days      location bugcount  \\\n",
       "0  2015-05-04T00:00:00         3  north_east_1        0   \n",
       "\n",
       "                                newgeom  \n",
       "0  POINT (-97.05930600000001 49.951867)  "
      ]
     },
     "execution_count": 11,
     "metadata": {},
     "output_type": "execute_result"
    }
   ],
   "source": [
    "bugsubset = bugs[bugs.count_date == bugs.count_date[0]]\n",
    "print(bugsubset.shape)\n",
    "bugsubset.head(1)"
   ]
  },
  {
   "cell_type": "code",
   "execution_count": 129,
   "metadata": {
    "ExecuteTime": {
     "end_time": "2018-03-04T03:55:51.633301Z",
     "start_time": "2018-03-04T03:55:51.493068Z"
    }
   },
   "outputs": [],
   "source": [
    "hood = neighbourhoods.set_index('id').to_dict(orient='record')\n",
    "bugloc = bugsubset[['location','newgeom']].set_index('location')\n",
    "bugloc = bugloc['newgeom'] \n",
    "bugloc.head()\n",
    "trap_in_neighbourhoods = {}\n",
    "for datum in hood:\n",
    "    name, the_geom, newgeom = datum.values()\n",
    "    hoodloc = the_geom['coordinates']\n",
    "    hoodgeom = shapely.geometry.Polygon(hoodloc[0][0])\n",
    "    dump = [k for k,v in bugloc.to_dict().items() if hoodgeom.intersects(v)]\n",
    "    #distance = GeoSeries.distance\n",
    "    if dump != []:\n",
    "        if len(dump) == 1:\n",
    "            trap_in_neighbourhoods[name] = dump[0]\n"
   ]
  },
  {
   "cell_type": "code",
   "execution_count": 130,
   "metadata": {},
   "outputs": [],
   "source": [
    "map_bugtraps_to_neighbourhoods = \\\n",
    "{v:k for k,v in trap_in_neighbourhoods.items()}"
   ]
  },
  {
   "cell_type": "code",
   "execution_count": 131,
   "metadata": {
    "ExecuteTime": {
     "end_time": "2018-03-04T03:57:10.412751Z",
     "start_time": "2018-03-04T03:57:10.409143Z"
    }
   },
   "outputs": [
    {
     "data": {
      "text/plain": [
       "{'north_east_1': 'River East',\n",
       " 'north_east_2': 'Rossmere-A',\n",
       " 'north_east_3': 'Springfield South',\n",
       " 'north_east_4': 'Talbot-Grey',\n",
       " 'north_east_5': 'Transcona Yards',\n",
       " 'north_east_6': 'Grassie',\n",
       " 'north_east_7': 'Kildare-Redonda',\n",
       " 'north_west_1': 'Crestview',\n",
       " 'north_west_2': 'Deer Lodge',\n",
       " 'north_west_3': 'Minto',\n",
       " 'north_west_4': 'Brooklands',\n",
       " 'north_west_5': 'Shaughnessy Park',\n",
       " 'north_west_6': 'Rosser-Old Kildonan',\n",
       " 'north_west_7': 'Templeton-Sinclair',\n",
       " 'rural_ff': 'St. Vital Perimeter South',\n",
       " 'rural_ii': 'Assiniboia Downs',\n",
       " 'south_east_1': 'Norwood West',\n",
       " 'south_east_2': 'Varennes',\n",
       " 'south_east_3': 'Windsor Park',\n",
       " 'south_east_4': 'Pulberry',\n",
       " 'south_east_5': 'Meadowood',\n",
       " 'south_east_6': 'Island Lakes',\n",
       " 'south_east_7': 'River Park South',\n",
       " 'south_west_1': 'West Perimeter South',\n",
       " 'south_west_2': 'Eric Coy',\n",
       " 'south_west_3': 'Assiniboine Park',\n",
       " 'south_west_4': 'North River Heights',\n",
       " 'south_west_5': 'Chevrier',\n",
       " 'south_west_6': 'University',\n",
       " 'south_west_7': 'South Pointe'}"
      ]
     },
     "execution_count": 131,
     "metadata": {},
     "output_type": "execute_result"
    }
   ],
   "source": [
    "map_bugtraps_to_neighbourhoods"
   ]
  },
  {
   "cell_type": "code",
   "execution_count": 132,
   "metadata": {},
   "outputs": [
    {
     "data": {
      "text/html": [
       "<div>\n",
       "<style scoped>\n",
       "    .dataframe tbody tr th:only-of-type {\n",
       "        vertical-align: middle;\n",
       "    }\n",
       "\n",
       "    .dataframe tbody tr th {\n",
       "        vertical-align: top;\n",
       "    }\n",
       "\n",
       "    .dataframe thead th {\n",
       "        text-align: right;\n",
       "    }\n",
       "</style>\n",
       "<table border=\"1\" class=\"dataframe\">\n",
       "  <thead>\n",
       "    <tr style=\"text-align: right;\">\n",
       "      <th></th>\n",
       "      <th>0</th>\n",
       "      <th>1</th>\n",
       "      <th>2</th>\n",
       "    </tr>\n",
       "  </thead>\n",
       "  <tbody>\n",
       "    <tr>\n",
       "      <th>count_date</th>\n",
       "      <td>2015-05-04T00:00:00</td>\n",
       "      <td>2015-05-06T00:00:00</td>\n",
       "      <td>2015-05-08T00:00:00</td>\n",
       "    </tr>\n",
       "    <tr>\n",
       "      <th>trap_days</th>\n",
       "      <td>3</td>\n",
       "      <td>2</td>\n",
       "      <td>2</td>\n",
       "    </tr>\n",
       "    <tr>\n",
       "      <th>location</th>\n",
       "      <td>north_east_1</td>\n",
       "      <td>north_east_1</td>\n",
       "      <td>north_east_1</td>\n",
       "    </tr>\n",
       "    <tr>\n",
       "      <th>bugcount</th>\n",
       "      <td>0</td>\n",
       "      <td>2</td>\n",
       "      <td>0</td>\n",
       "    </tr>\n",
       "    <tr>\n",
       "      <th>newgeom</th>\n",
       "      <td>POINT (-97.05930600000001 49.951867)</td>\n",
       "      <td>POINT (-97.05930600000001 49.951867)</td>\n",
       "      <td>POINT (-97.05930600000001 49.951867)</td>\n",
       "    </tr>\n",
       "    <tr>\n",
       "      <th>neighbourhood</th>\n",
       "      <td>River East</td>\n",
       "      <td>River East</td>\n",
       "      <td>River East</td>\n",
       "    </tr>\n",
       "  </tbody>\n",
       "</table>\n",
       "</div>"
      ],
      "text/plain": [
       "                                                  0  \\\n",
       "count_date                      2015-05-04T00:00:00   \n",
       "trap_days                                         3   \n",
       "location                               north_east_1   \n",
       "bugcount                                          0   \n",
       "newgeom        POINT (-97.05930600000001 49.951867)   \n",
       "neighbourhood                            River East   \n",
       "\n",
       "                                                  1  \\\n",
       "count_date                      2015-05-06T00:00:00   \n",
       "trap_days                                         2   \n",
       "location                               north_east_1   \n",
       "bugcount                                          2   \n",
       "newgeom        POINT (-97.05930600000001 49.951867)   \n",
       "neighbourhood                            River East   \n",
       "\n",
       "                                                  2  \n",
       "count_date                      2015-05-08T00:00:00  \n",
       "trap_days                                         2  \n",
       "location                               north_east_1  \n",
       "bugcount                                          0  \n",
       "newgeom        POINT (-97.05930600000001 49.951867)  \n",
       "neighbourhood                            River East  "
      ]
     },
     "execution_count": 132,
     "metadata": {},
     "output_type": "execute_result"
    }
   ],
   "source": [
    "bugs['neighbourhood'] = bugs.location.map(map_bugtraps_to_neighbourhoods)\n",
    "bugtrap = bugs\n",
    "bugtrap.head(3).T"
   ]
  },
  {
   "cell_type": "markdown",
   "metadata": {},
   "source": [
    "### neighbourhood with distance to each trap"
   ]
  },
  {
   "cell_type": "code",
   "execution_count": 133,
   "metadata": {},
   "outputs": [],
   "source": [
    "def flatten(listoflist):\n",
    "    oldlist = listoflist\n",
    "    while type(oldlist) == list:\n",
    "        newlist = list(itertools.chain(*oldlist))\n",
    "        if len(newlist) == 1:\n",
    "            oldlist = newlist\n",
    "        else:\n",
    "            return newlist"
   ]
  },
  {
   "cell_type": "code",
   "execution_count": 134,
   "metadata": {},
   "outputs": [
    {
     "data": {
      "text/plain": [
       "(237,)"
      ]
     },
     "execution_count": 134,
     "metadata": {},
     "output_type": "execute_result"
    }
   ],
   "source": [
    "neighbourhoods.newgeom.shape"
   ]
  },
  {
   "cell_type": "code",
   "execution_count": 146,
   "metadata": {},
   "outputs": [
    {
     "name": "stdout",
     "output_type": "stream",
     "text": [
      "(237,)\n"
     ]
    },
    {
     "data": {
      "text/plain": [
       "name\n",
       "Seven Oaks     POLYGON ((-97.11021888431701 49.925633193803, ...\n",
       "Parker         POLYGON ((-97.17615035641499 49.850537882086, ...\n",
       "The Maples     POLYGON ((-97.163398354858 49.941591371416, -9...\n",
       "Luxton         POLYGON ((-97.116047777972 49.920325228662, -9...\n",
       "Talbot-Grey    POLYGON ((-97.101068054847 49.904738664792, -9...\n",
       "Name: newgeom, dtype: object"
      ]
     },
     "execution_count": 146,
     "metadata": {},
     "output_type": "execute_result"
    }
   ],
   "source": [
    "neighbourhoods_geom_series = neighbourhoods.set_index('name')['newgeom']\n",
    "print(neighbourhoods_geom_series.shape)\n",
    "neighbourhoods_geom_series.head()"
   ]
  },
  {
   "cell_type": "code",
   "execution_count": 139,
   "metadata": {},
   "outputs": [
    {
     "name": "stdout",
     "output_type": "stream",
     "text": [
      "(37,)\n"
     ]
    },
    {
     "data": {
      "text/plain": [
       "location\n",
       "north_east_1    POINT (-97.05930600000001 49.951867)\n",
       "north_east_2            POINT (-97.096341 49.933941)\n",
       "north_east_3             POINT (-97.05633 49.924809)\n",
       "north_east_4            POINT (-97.094797 49.906175)\n",
       "north_east_5            POINT (-97.022426 49.892358)\n",
       "Name: newgeom, dtype: object"
      ]
     },
     "execution_count": 139,
     "metadata": {},
     "output_type": "execute_result"
    }
   ],
   "source": [
    "print(bugloc.shape)\n",
    "bugloc.head()"
   ]
  },
  {
   "cell_type": "code",
   "execution_count": 155,
   "metadata": {},
   "outputs": [
    {
     "data": {
      "text/plain": [
       "('Seven Oaks', <shapely.geometry.polygon.Polygon at 0x7faa7e70a320>)"
      ]
     },
     "execution_count": 155,
     "metadata": {},
     "output_type": "execute_result"
    }
   ],
   "source": [
    "[x for x in neighbourhoods_geom_series.items()][0]"
   ]
  },
  {
   "cell_type": "code",
   "execution_count": 176,
   "metadata": {},
   "outputs": [],
   "source": [
    "import geopandas\n",
    "from geopandas import GeoSeries"
   ]
  },
  {
   "cell_type": "code",
   "execution_count": 178,
   "metadata": {},
   "outputs": [
    {
     "data": {
      "text/plain": [
       "location\n",
       "north_east_1    POLYGON ((-97.11021888431701 49.925633193803, ...\n",
       "north_east_2    POLYGON ((-97.11021888431701 49.925633193803, ...\n",
       "north_east_3    POLYGON ((-97.11021888431701 49.925633193803, ...\n",
       "north_east_4    POLYGON ((-97.11021888431701 49.925633193803, ...\n",
       "north_east_5    POLYGON ((-97.11021888431701 49.925633193803, ...\n",
       "north_east_6    POLYGON ((-97.11021888431701 49.925633193803, ...\n",
       "north_east_7    POLYGON ((-97.11021888431701 49.925633193803, ...\n",
       "north_west_1    POLYGON ((-97.11021888431701 49.925633193803, ...\n",
       "north_west_2    POLYGON ((-97.11021888431701 49.925633193803, ...\n",
       "north_west_3    POLYGON ((-97.11021888431701 49.925633193803, ...\n",
       "north_west_4    POLYGON ((-97.11021888431701 49.925633193803, ...\n",
       "north_west_5    POLYGON ((-97.11021888431701 49.925633193803, ...\n",
       "north_west_6    POLYGON ((-97.11021888431701 49.925633193803, ...\n",
       "north_west_7    POLYGON ((-97.11021888431701 49.925633193803, ...\n",
       "rural_aa        POLYGON ((-97.11021888431701 49.925633193803, ...\n",
       "rural_bb        POLYGON ((-97.11021888431701 49.925633193803, ...\n",
       "rural_cc        POLYGON ((-97.11021888431701 49.925633193803, ...\n",
       "rural_dd        POLYGON ((-97.11021888431701 49.925633193803, ...\n",
       "rural_ee        POLYGON ((-97.11021888431701 49.925633193803, ...\n",
       "rural_ff        POLYGON ((-97.11021888431701 49.925633193803, ...\n",
       "rural_gg        POLYGON ((-97.11021888431701 49.925633193803, ...\n",
       "rural_hh        POLYGON ((-97.11021888431701 49.925633193803, ...\n",
       "rural_ii        POLYGON ((-97.11021888431701 49.925633193803, ...\n",
       "south_east_1    POLYGON ((-97.11021888431701 49.925633193803, ...\n",
       "south_east_2    POLYGON ((-97.11021888431701 49.925633193803, ...\n",
       "south_east_3    POLYGON ((-97.11021888431701 49.925633193803, ...\n",
       "south_east_4    POLYGON ((-97.11021888431701 49.925633193803, ...\n",
       "south_east_5    POLYGON ((-97.11021888431701 49.925633193803, ...\n",
       "south_east_6    POLYGON ((-97.11021888431701 49.925633193803, ...\n",
       "south_east_7    POLYGON ((-97.11021888431701 49.925633193803, ...\n",
       "south_west_1    POLYGON ((-97.11021888431701 49.925633193803, ...\n",
       "south_west_2    POLYGON ((-97.11021888431701 49.925633193803, ...\n",
       "south_west_3    POLYGON ((-97.11021888431701 49.925633193803, ...\n",
       "south_west_4    POLYGON ((-97.11021888431701 49.925633193803, ...\n",
       "south_west_5    POLYGON ((-97.11021888431701 49.925633193803, ...\n",
       "south_west_6    POLYGON ((-97.11021888431701 49.925633193803, ...\n",
       "south_west_7    POLYGON ((-97.11021888431701 49.925633193803, ...\n",
       "dtype: object"
      ]
     },
     "execution_count": 178,
     "metadata": {},
     "output_type": "execute_result"
    }
   ],
   "source": [
    "GeoSeries([neighbourhoods_geom_series[0]], index= bugloc.index)"
   ]
  },
  {
   "cell_type": "code",
   "execution_count": 182,
   "metadata": {},
   "outputs": [
    {
     "data": {
      "text/plain": [
       "location\n",
       "north_east_1    0.043155\n",
       "north_east_2    0.007526\n",
       "north_east_3    0.046994\n",
       "north_east_4    0.024829\n",
       "north_east_5    0.091720\n",
       "north_east_6    0.060962\n",
       "north_east_7    0.124259\n",
       "north_west_1    0.189770\n",
       "north_west_2    0.124492\n",
       "north_west_3    0.081313\n",
       "north_west_4    0.080163\n",
       "north_west_5    0.047634\n",
       "north_west_6    0.047348\n",
       "north_west_7    0.014283\n",
       "rural_aa        0.132540\n",
       "rural_bb        0.099653\n",
       "rural_cc        0.051961\n",
       "rural_dd        0.100499\n",
       "rural_ee        0.143982\n",
       "rural_ff        0.130655\n",
       "rural_gg        0.262004\n",
       "rural_hh        0.228198\n",
       "rural_ii        0.222377\n",
       "south_east_1    0.053516\n",
       "south_east_2    0.068834\n",
       "south_east_3    0.079206\n",
       "south_east_4    0.103973\n",
       "south_east_5    0.097311\n",
       "south_east_6    0.109957\n",
       "south_east_7    0.119675\n",
       "south_west_1    0.230894\n",
       "south_west_2    0.170759\n",
       "south_west_3    0.134674\n",
       "south_west_4    0.086568\n",
       "south_west_5    0.119065\n",
       "south_west_6    0.123318\n",
       "south_west_7    0.157775\n",
       "dtype: float64"
      ]
     },
     "execution_count": 182,
     "metadata": {},
     "output_type": "execute_result"
    }
   ],
   "source": [
    "GeoSeries.distance(bugloc, \n",
    "                   GeoSeries([neighbourhoods_geom_series[0]], index= bugloc.index)\n",
    "                  )"
   ]
  },
  {
   "cell_type": "code",
   "execution_count": 183,
   "metadata": {},
   "outputs": [
    {
     "data": {
      "image/svg+xml": [
       "<svg xmlns=\"http://www.w3.org/2000/svg\" xmlns:xlink=\"http://www.w3.org/1999/xlink\" width=\"100.0\" height=\"100.0\" viewBox=\"-97.12373986818272 49.924750860448285 0.023823000577451126 0.01989629296243578\" preserveAspectRatio=\"xMinYMin meet\"><g transform=\"matrix(1,0,0,-1,0,99.86939801385901)\"><path fill-rule=\"evenodd\" fill=\"#66cc99\" stroke=\"#555555\" stroke-width=\"0.00047646001154902254\" opacity=\"0.6\" d=\"M -97.110218884317,49.925633193803 L -97.110013115236,49.926312157644 L -97.109899223467,49.92719918447 L -97.109891037485,49.928006598639 L -97.109960763006,49.928524798105 L -97.110222083791,49.92934473874 L -97.110623989414,49.930298268692 L -97.111044483471,49.93137526533 L -97.1111731246,49.931814249814 L -97.111431919211,49.933252296923 L -97.111402047666,49.93401636541 L -97.111259499652,49.934807646831 L -97.111058254325,49.935350479077 L -97.110776982104,49.935914083849 L -97.110514492299,49.936273493022 L -97.109972455172,49.9368758378 L -97.109401629662,49.937339440106 L -97.108742518282,49.93775860793 L -97.107984644103,49.938125035258 L -97.107285672508,49.938412245503 L -97.105222325204,49.938967648151 L -97.104209605964,49.939220664015 L -97.102038882801,49.939666194386 L -97.10079920096,49.940004983585 L -97.102198054456,49.940457113731 L -97.103056628352,49.940734253919 L -97.103020108568,49.940743384677 L -97.112371361058,49.943764820056 L -97.113405671579,49.942340501737 L -97.116744551494,49.937742174516 L -97.121042229667,49.932852446195 L -97.122857534828,49.929638289388 L -97.122605005221,49.929556864966 L -97.122415140437,49.929495674034 L -97.12222527645,49.929434482896 L -97.119173739749,49.928450937511 L -97.1194646758,49.928049075954 L -97.117322908765,49.927358446282 L -97.117144837334,49.927791453212 L -97.112968421714,49.926448323439 L -97.112949722481,49.926512320245 L -97.112816315215,49.926469479847 L -97.112282886859,49.926297534013 L -97.112236541376,49.926282595204 L -97.111212865878,49.925952611899 L -97.110218884317,49.925633193803 z\" /></g></svg>"
      ],
      "text/plain": [
       "<shapely.geometry.polygon.Polygon at 0x7faa7e70a320>"
      ]
     },
     "execution_count": 183,
     "metadata": {},
     "output_type": "execute_result"
    }
   ],
   "source": [
    "area_geom"
   ]
  },
  {
   "cell_type": "code",
   "execution_count": 184,
   "metadata": {},
   "outputs": [],
   "source": [
    "from geopandas import GeoSeries\n",
    "result = {}\n",
    "for area_name, area_geom in neighbourhoods_geom_series.items():\n",
    "    output = GeoSeries.distance(bugloc, \n",
    "                   GeoSeries([area_geom], index= bugloc.index)\n",
    "                  )\n",
    "    result[area_name] = output\n",
    "    "
   ]
  },
  {
   "cell_type": "code",
   "execution_count": 202,
   "metadata": {},
   "outputs": [],
   "source": [
    "distance_matrix_between_neighbourhood_and_bugtraps = \\\n",
    "pd.DataFrame(result)"
   ]
  },
  {
   "cell_type": "code",
   "execution_count": 203,
   "metadata": {},
   "outputs": [
    {
     "data": {
      "text/html": [
       "<div>\n",
       "<style scoped>\n",
       "    .dataframe tbody tr th:only-of-type {\n",
       "        vertical-align: middle;\n",
       "    }\n",
       "\n",
       "    .dataframe tbody tr th {\n",
       "        vertical-align: top;\n",
       "    }\n",
       "\n",
       "    .dataframe thead th {\n",
       "        text-align: right;\n",
       "    }\n",
       "</style>\n",
       "<table border=\"1\" class=\"dataframe\">\n",
       "  <thead>\n",
       "    <tr style=\"text-align: right;\">\n",
       "      <th></th>\n",
       "      <th>Agassiz</th>\n",
       "      <th>Airport</th>\n",
       "      <th>Alpine Place</th>\n",
       "      <th>Amber Trails</th>\n",
       "      <th>Archwood</th>\n",
       "    </tr>\n",
       "    <tr>\n",
       "      <th>location</th>\n",
       "      <th></th>\n",
       "      <th></th>\n",
       "      <th></th>\n",
       "      <th></th>\n",
       "      <th></th>\n",
       "    </tr>\n",
       "  </thead>\n",
       "  <tbody>\n",
       "    <tr>\n",
       "      <th>north_east_1</th>\n",
       "      <td>0.154652</td>\n",
       "      <td>0.157004</td>\n",
       "      <td>0.100539</td>\n",
       "      <td>0.101878</td>\n",
       "      <td>0.080319</td>\n",
       "    </tr>\n",
       "    <tr>\n",
       "      <th>north_east_2</th>\n",
       "      <td>0.121501</td>\n",
       "      <td>0.116964</td>\n",
       "      <td>0.076125</td>\n",
       "      <td>0.068894</td>\n",
       "      <td>0.052075</td>\n",
       "    </tr>\n",
       "    <tr>\n",
       "      <th>north_east_3</th>\n",
       "      <td>0.134564</td>\n",
       "      <td>0.155522</td>\n",
       "      <td>0.077276</td>\n",
       "      <td>0.109726</td>\n",
       "      <td>0.060350</td>\n",
       "    </tr>\n",
       "    <tr>\n",
       "      <th>north_east_4</th>\n",
       "      <td>0.097174</td>\n",
       "      <td>0.116791</td>\n",
       "      <td>0.048351</td>\n",
       "      <td>0.083888</td>\n",
       "      <td>0.024578</td>\n",
       "    </tr>\n",
       "    <tr>\n",
       "      <th>north_east_5</th>\n",
       "      <td>0.139302</td>\n",
       "      <td>0.189944</td>\n",
       "      <td>0.080246</td>\n",
       "      <td>0.153212</td>\n",
       "      <td>0.073227</td>\n",
       "    </tr>\n",
       "  </tbody>\n",
       "</table>\n",
       "</div>"
      ],
      "text/plain": [
       "               Agassiz   Airport  Alpine Place  Amber Trails  Archwood\n",
       "location                                                              \n",
       "north_east_1  0.154652  0.157004      0.100539      0.101878  0.080319\n",
       "north_east_2  0.121501  0.116964      0.076125      0.068894  0.052075\n",
       "north_east_3  0.134564  0.155522      0.077276      0.109726  0.060350\n",
       "north_east_4  0.097174  0.116791      0.048351      0.083888  0.024578\n",
       "north_east_5  0.139302  0.189944      0.080246      0.153212  0.073227"
      ]
     },
     "execution_count": 203,
     "metadata": {},
     "output_type": "execute_result"
    }
   ],
   "source": [
    "distance_matrix_between_neighbourhood_and_bugtraps.head().T.head().T"
   ]
  },
  {
   "cell_type": "code",
   "execution_count": 207,
   "metadata": {},
   "outputs": [],
   "source": [
    "df = distance_matrix_between_neighbourhood_and_bugtraps"
   ]
  },
  {
   "cell_type": "code",
   "execution_count": 217,
   "metadata": {},
   "outputs": [],
   "source": [
    "winnipeg_areas = pd.DataFrame(neighbourhoods.set_index('name')['newgeom'])"
   ]
  },
  {
   "cell_type": "code",
   "execution_count": 247,
   "metadata": {},
   "outputs": [
    {
     "name": "stderr",
     "output_type": "stream",
     "text": [
      "/home/ruxi/miniconda3/envs/winnipeg/lib/python3.6/site-packages/pandas/core/frame.py:4933: FutureWarning: 'argmin' is deprecated. Use 'idxmin' instead. The behavior of 'argmin' will be corrected to return the positional minimum in the future. Use 'series.values.argmin' to get the position of the minimum now.\n",
      "  labels=labels)\n"
     ]
    },
    {
     "data": {
      "text/html": [
       "<div>\n",
       "<style scoped>\n",
       "    .dataframe tbody tr th:only-of-type {\n",
       "        vertical-align: middle;\n",
       "    }\n",
       "\n",
       "    .dataframe tbody tr th {\n",
       "        vertical-align: top;\n",
       "    }\n",
       "\n",
       "    .dataframe thead th {\n",
       "        text-align: right;\n",
       "    }\n",
       "</style>\n",
       "<table border=\"1\" class=\"dataframe\">\n",
       "  <thead>\n",
       "    <tr style=\"text-align: right;\">\n",
       "      <th>area_name</th>\n",
       "      <th>Seven Oaks</th>\n",
       "    </tr>\n",
       "  </thead>\n",
       "  <tbody>\n",
       "    <tr>\n",
       "      <th>area_geom</th>\n",
       "      <td>POLYGON ((-97.11021888431701 49.925633193803, ...</td>\n",
       "    </tr>\n",
       "    <tr>\n",
       "      <th>nearest_bugtrap</th>\n",
       "      <td>north_east_2</td>\n",
       "    </tr>\n",
       "    <tr>\n",
       "      <th>nearest_bugtrap_geom</th>\n",
       "      <td>POINT (-97.096341 49.933941)</td>\n",
       "    </tr>\n",
       "    <tr>\n",
       "      <th>nearest_bugtrap_distance</th>\n",
       "      <td>0.00752645</td>\n",
       "    </tr>\n",
       "    <tr>\n",
       "      <th>area_intersects_bugtrap</th>\n",
       "      <td>False</td>\n",
       "    </tr>\n",
       "  </tbody>\n",
       "</table>\n",
       "</div>"
      ],
      "text/plain": [
       "area_name                                                        Seven Oaks\n",
       "area_geom                 POLYGON ((-97.11021888431701 49.925633193803, ...\n",
       "nearest_bugtrap                                                north_east_2\n",
       "nearest_bugtrap_geom                           POINT (-97.096341 49.933941)\n",
       "nearest_bugtrap_distance                                         0.00752645\n",
       "area_intersects_bugtrap                                               False"
      ]
     },
     "execution_count": 247,
     "metadata": {},
     "output_type": "execute_result"
    }
   ],
   "source": [
    "import numpy as np\n",
    "import pandas as pd\n",
    "winnipeg_areas = pd.DataFrame(neighbourhoods.set_index('name')['newgeom'])\n",
    "winnipeg_areas.index.name = 'area_name'\n",
    "winnipeg_areas = winnipeg_areas.rename(columns = {'newgeom':'area_geom'})\n",
    "df = distance_matrix_between_neighbourhood_and_bugtraps\n",
    "winnipeg_areas['nearest_bugtrap'] = df.apply(pd.Series.argmin)\n",
    "winnipeg_areas['nearest_bugtrap_geom'] \\\n",
    "= winnipeg_areas['nearest_bugtrap'].map(bugloc)\n",
    "winnipeg_areas['nearest_bugtrap_distance'] = df.apply(np.min)\n",
    "winnipeg_areas['area_intersects_bugtrap'] =\\\n",
    "[\n",
    "    datum['nearest_bugtrap_geom'].intersects(datum['area_geom'])\n",
    "    for area_name, datum in winnipeg_areas.iterrows()    \n",
    "]\n",
    "winnipeg_areas.head(1).T"
   ]
  },
  {
   "cell_type": "code",
   "execution_count": 246,
   "metadata": {},
   "outputs": [
    {
     "data": {
      "text/plain": [
       "[False,\n",
       " False,\n",
       " False,\n",
       " False,\n",
       " True,\n",
       " False,\n",
       " True,\n",
       " False,\n",
       " False,\n",
       " False,\n",
       " False,\n",
       " False,\n",
       " False,\n",
       " False,\n",
       " False,\n",
       " False,\n",
       " False,\n",
       " False,\n",
       " False,\n",
       " False,\n",
       " False,\n",
       " False,\n",
       " False,\n",
       " False,\n",
       " False,\n",
       " False,\n",
       " False,\n",
       " False,\n",
       " False,\n",
       " False,\n",
       " False,\n",
       " False,\n",
       " False,\n",
       " False,\n",
       " False,\n",
       " False,\n",
       " True,\n",
       " False,\n",
       " False,\n",
       " False,\n",
       " False,\n",
       " False,\n",
       " False,\n",
       " False,\n",
       " True,\n",
       " False,\n",
       " False,\n",
       " False,\n",
       " False,\n",
       " False,\n",
       " False,\n",
       " False,\n",
       " False,\n",
       " True,\n",
       " False,\n",
       " False,\n",
       " False,\n",
       " False,\n",
       " False,\n",
       " True,\n",
       " False,\n",
       " False,\n",
       " False,\n",
       " False,\n",
       " False,\n",
       " True,\n",
       " False,\n",
       " False,\n",
       " False,\n",
       " False,\n",
       " False,\n",
       " False,\n",
       " False,\n",
       " False,\n",
       " True,\n",
       " False,\n",
       " False,\n",
       " False,\n",
       " False,\n",
       " False,\n",
       " False,\n",
       " False,\n",
       " False,\n",
       " False,\n",
       " False,\n",
       " False,\n",
       " True,\n",
       " False,\n",
       " False,\n",
       " False,\n",
       " True,\n",
       " False,\n",
       " True,\n",
       " False,\n",
       " False,\n",
       " False,\n",
       " False,\n",
       " False,\n",
       " False,\n",
       " False,\n",
       " False,\n",
       " False,\n",
       " True,\n",
       " False,\n",
       " False,\n",
       " False,\n",
       " False,\n",
       " False,\n",
       " False,\n",
       " False,\n",
       " False,\n",
       " False,\n",
       " False,\n",
       " False,\n",
       " False,\n",
       " False,\n",
       " False,\n",
       " False,\n",
       " False,\n",
       " False,\n",
       " False,\n",
       " True,\n",
       " False,\n",
       " False,\n",
       " False,\n",
       " False,\n",
       " False,\n",
       " True,\n",
       " False,\n",
       " False,\n",
       " False,\n",
       " False,\n",
       " False,\n",
       " False,\n",
       " True,\n",
       " False,\n",
       " False,\n",
       " False,\n",
       " False,\n",
       " False,\n",
       " False,\n",
       " True,\n",
       " False,\n",
       " False,\n",
       " False,\n",
       " False,\n",
       " False,\n",
       " False,\n",
       " False,\n",
       " False,\n",
       " False,\n",
       " False,\n",
       " False,\n",
       " False,\n",
       " False,\n",
       " False,\n",
       " False,\n",
       " False,\n",
       " False,\n",
       " False,\n",
       " False,\n",
       " False,\n",
       " True,\n",
       " False,\n",
       " True,\n",
       " False,\n",
       " False,\n",
       " True,\n",
       " False,\n",
       " False,\n",
       " False,\n",
       " False,\n",
       " False,\n",
       " False,\n",
       " False,\n",
       " False,\n",
       " False,\n",
       " False,\n",
       " True,\n",
       " False,\n",
       " True,\n",
       " False,\n",
       " False,\n",
       " False,\n",
       " False,\n",
       " True,\n",
       " True,\n",
       " False,\n",
       " False,\n",
       " False,\n",
       " False,\n",
       " False,\n",
       " False,\n",
       " False,\n",
       " True,\n",
       " False,\n",
       " False,\n",
       " True,\n",
       " False,\n",
       " False,\n",
       " False,\n",
       " False,\n",
       " True,\n",
       " False,\n",
       " False,\n",
       " False,\n",
       " False,\n",
       " False,\n",
       " False,\n",
       " False,\n",
       " True,\n",
       " False,\n",
       " False,\n",
       " False,\n",
       " False,\n",
       " False,\n",
       " True,\n",
       " True,\n",
       " False,\n",
       " False,\n",
       " False,\n",
       " False,\n",
       " False,\n",
       " False,\n",
       " False,\n",
       " False,\n",
       " False,\n",
       " False,\n",
       " False,\n",
       " False,\n",
       " False,\n",
       " False,\n",
       " True,\n",
       " False,\n",
       " False,\n",
       " False,\n",
       " False]"
      ]
     },
     "execution_count": 246,
     "metadata": {},
     "output_type": "execute_result"
    }
   ],
   "source": [
    "[\n",
    "    datum['nearest_bugtrap_geom'].intersects(datum['area_geom'])\n",
    "    for area_name, datum in winnipeg_areas.iterrows()    \n",
    "]"
   ]
  },
  {
   "cell_type": "code",
   "execution_count": 225,
   "metadata": {},
   "outputs": [
    {
     "data": {
      "text/html": [
       "<div>\n",
       "<style scoped>\n",
       "    .dataframe tbody tr th:only-of-type {\n",
       "        vertical-align: middle;\n",
       "    }\n",
       "\n",
       "    .dataframe tbody tr th {\n",
       "        vertical-align: top;\n",
       "    }\n",
       "\n",
       "    .dataframe thead th {\n",
       "        text-align: right;\n",
       "    }\n",
       "</style>\n",
       "<table border=\"1\" class=\"dataframe\">\n",
       "  <thead>\n",
       "    <tr style=\"text-align: right;\">\n",
       "      <th></th>\n",
       "      <th>newgeom</th>\n",
       "      <th>closest_trap</th>\n",
       "      <th>distance_trap</th>\n",
       "    </tr>\n",
       "    <tr>\n",
       "      <th>name</th>\n",
       "      <th></th>\n",
       "      <th></th>\n",
       "      <th></th>\n",
       "    </tr>\n",
       "  </thead>\n",
       "  <tbody>\n",
       "    <tr>\n",
       "      <th>Seven Oaks</th>\n",
       "      <td>POLYGON ((-97.11021888431701 49.925633193803, ...</td>\n",
       "      <td>north_east_2</td>\n",
       "      <td>0.007526</td>\n",
       "    </tr>\n",
       "    <tr>\n",
       "      <th>Parker</th>\n",
       "      <td>POLYGON ((-97.17615035641499 49.850537882086, ...</td>\n",
       "      <td>south_west_4</td>\n",
       "      <td>0.019379</td>\n",
       "    </tr>\n",
       "    <tr>\n",
       "      <th>The Maples</th>\n",
       "      <td>POLYGON ((-97.163398354858 49.941591371416, -9...</td>\n",
       "      <td>north_west_5</td>\n",
       "      <td>0.011644</td>\n",
       "    </tr>\n",
       "    <tr>\n",
       "      <th>Luxton</th>\n",
       "      <td>POLYGON ((-97.116047777972 49.920325228662, -9...</td>\n",
       "      <td>north_east_2</td>\n",
       "      <td>0.016175</td>\n",
       "    </tr>\n",
       "    <tr>\n",
       "      <th>Talbot-Grey</th>\n",
       "      <td>POLYGON ((-97.101068054847 49.904738664792, -9...</td>\n",
       "      <td>north_east_4</td>\n",
       "      <td>0.000000</td>\n",
       "    </tr>\n",
       "    <tr>\n",
       "      <th>North St. Boniface</th>\n",
       "      <td>POLYGON ((-97.127307057463 49.891225692997, -9...</td>\n",
       "      <td>north_east_4</td>\n",
       "      <td>0.011900</td>\n",
       "    </tr>\n",
       "    <tr>\n",
       "      <th>Pulberry</th>\n",
       "      <td>POLYGON ((-97.131878001327 49.835917500306, -9...</td>\n",
       "      <td>south_east_4</td>\n",
       "      <td>0.000000</td>\n",
       "    </tr>\n",
       "    <tr>\n",
       "      <th>Worthington</th>\n",
       "      <td>POLYGON ((-97.092873006377 49.838256562904, -9...</td>\n",
       "      <td>south_east_5</td>\n",
       "      <td>0.006952</td>\n",
       "    </tr>\n",
       "    <tr>\n",
       "      <th>Bridgwater Lakes</th>\n",
       "      <td>POLYGON ((-97.191591789505 49.809367059093, -9...</td>\n",
       "      <td>south_west_5</td>\n",
       "      <td>0.020292</td>\n",
       "    </tr>\n",
       "    <tr>\n",
       "      <th>Eaglemere</th>\n",
       "      <td>POLYGON ((-97.05907775269699 49.910441686964, ...</td>\n",
       "      <td>north_east_3</td>\n",
       "      <td>0.003701</td>\n",
       "    </tr>\n",
       "    <tr>\n",
       "      <th>Norwood East</th>\n",
       "      <td>POLYGON ((-97.11712108269199 49.874534779785, ...</td>\n",
       "      <td>south_east_1</td>\n",
       "      <td>0.004205</td>\n",
       "    </tr>\n",
       "    <tr>\n",
       "      <th>Dufferin</th>\n",
       "      <td>POLYGON ((-97.143245896591 49.911778569633, -9...</td>\n",
       "      <td>north_west_5</td>\n",
       "      <td>0.009778</td>\n",
       "    </tr>\n",
       "    <tr>\n",
       "      <th>West Broadway</th>\n",
       "      <td>POLYGON ((-97.152310478762 49.882771456306, -9...</td>\n",
       "      <td>south_west_4</td>\n",
       "      <td>0.024629</td>\n",
       "    </tr>\n",
       "    <tr>\n",
       "      <th>Mission Gardens</th>\n",
       "      <td>POLYGON ((-97.033721786166 49.885897651266, -9...</td>\n",
       "      <td>north_east_5</td>\n",
       "      <td>0.002923</td>\n",
       "    </tr>\n",
       "    <tr>\n",
       "      <th>Tissot</th>\n",
       "      <td>POLYGON ((-97.10967106099299 49.895306040992, ...</td>\n",
       "      <td>north_east_4</td>\n",
       "      <td>0.014755</td>\n",
       "    </tr>\n",
       "    <tr>\n",
       "      <th>William Whyte</th>\n",
       "      <td>POLYGON ((-97.156473706483 49.919356944379, -9...</td>\n",
       "      <td>north_west_5</td>\n",
       "      <td>0.018561</td>\n",
       "    </tr>\n",
       "    <tr>\n",
       "      <th>Victoria West</th>\n",
       "      <td>POLYGON ((-97.002568893776 49.895068770108, -9...</td>\n",
       "      <td>north_east_5</td>\n",
       "      <td>0.002829</td>\n",
       "    </tr>\n",
       "    <tr>\n",
       "      <th>J. B. Mitchell</th>\n",
       "      <td>POLYGON ((-97.19552399179599 49.863739495727, ...</td>\n",
       "      <td>south_west_4</td>\n",
       "      <td>0.012166</td>\n",
       "    </tr>\n",
       "    <tr>\n",
       "      <th>Centennial</th>\n",
       "      <td>POLYGON ((-97.138505963276 49.903431088141, -9...</td>\n",
       "      <td>south_east_1</td>\n",
       "      <td>0.028914</td>\n",
       "    </tr>\n",
       "    <tr>\n",
       "      <th>Turnbull Drive</th>\n",
       "      <td>POLYGON ((-97.138342737597 49.7440467414, -97....</td>\n",
       "      <td>south_west_7</td>\n",
       "      <td>0.031986</td>\n",
       "    </tr>\n",
       "    <tr>\n",
       "      <th>Munroe East</th>\n",
       "      <td>POLYGON ((-97.089334555493 49.914885671784, -9...</td>\n",
       "      <td>north_east_4</td>\n",
       "      <td>0.004896</td>\n",
       "    </tr>\n",
       "    <tr>\n",
       "      <th>St. George</th>\n",
       "      <td>POLYGON ((-97.097784473508 49.846858159335, -9...</td>\n",
       "      <td>south_east_2</td>\n",
       "      <td>0.003387</td>\n",
       "    </tr>\n",
       "    <tr>\n",
       "      <th>Chalmers</th>\n",
       "      <td>POLYGON ((-97.101068054847 49.904738664792, -9...</td>\n",
       "      <td>north_east_4</td>\n",
       "      <td>0.003442</td>\n",
       "    </tr>\n",
       "    <tr>\n",
       "      <th>Southboine</th>\n",
       "      <td>POLYGON ((-97.290723662847 49.861961522526, -9...</td>\n",
       "      <td>south_west_2</td>\n",
       "      <td>0.017160</td>\n",
       "    </tr>\n",
       "    <tr>\n",
       "      <th>Regent</th>\n",
       "      <td>POLYGON ((-97.068952361125 49.89834490483, -97...</td>\n",
       "      <td>north_east_5</td>\n",
       "      <td>0.003196</td>\n",
       "    </tr>\n",
       "    <tr>\n",
       "      <th>Kildonan Park</th>\n",
       "      <td>POLYGON ((-97.10079920096 49.940004983585, -97...</td>\n",
       "      <td>north_east_2</td>\n",
       "      <td>0.007180</td>\n",
       "    </tr>\n",
       "    <tr>\n",
       "      <th>St. Boniface Industrial Park</th>\n",
       "      <td>POLYGON ((-97.026970301717 49.878400328945, -9...</td>\n",
       "      <td>north_east_5</td>\n",
       "      <td>0.010560</td>\n",
       "    </tr>\n",
       "    <tr>\n",
       "      <th>Maple Grove Park</th>\n",
       "      <td>POLYGON ((-97.115160198661 49.793877932908, -9...</td>\n",
       "      <td>south_west_6</td>\n",
       "      <td>0.012005</td>\n",
       "    </tr>\n",
       "    <tr>\n",
       "      <th>Riverbend</th>\n",
       "      <td>POLYGON ((-97.10315741206099 49.951824900879, ...</td>\n",
       "      <td>north_west_7</td>\n",
       "      <td>0.014129</td>\n",
       "    </tr>\n",
       "    <tr>\n",
       "      <th>The Mint</th>\n",
       "      <td>POLYGON ((-97.05493122935501 49.847267317728, ...</td>\n",
       "      <td>south_east_3</td>\n",
       "      <td>0.006769</td>\n",
       "    </tr>\n",
       "    <tr>\n",
       "      <th>...</th>\n",
       "      <td>...</td>\n",
       "      <td>...</td>\n",
       "      <td>...</td>\n",
       "    </tr>\n",
       "    <tr>\n",
       "      <th>Tuxedo</th>\n",
       "      <td>POLYGON ((-97.215643987341 49.866564773908, -9...</td>\n",
       "      <td>south_west_3</td>\n",
       "      <td>0.005045</td>\n",
       "    </tr>\n",
       "    <tr>\n",
       "      <th>Perrault</th>\n",
       "      <td>POLYGON ((-97.151931915012 49.740593439128, -9...</td>\n",
       "      <td>south_west_7</td>\n",
       "      <td>0.029944</td>\n",
       "    </tr>\n",
       "    <tr>\n",
       "      <th>Crescentwood</th>\n",
       "      <td>POLYGON ((-97.17211322636101 49.864547694556, ...</td>\n",
       "      <td>south_west_4</td>\n",
       "      <td>0.010000</td>\n",
       "    </tr>\n",
       "    <tr>\n",
       "      <th>Grassie</th>\n",
       "      <td>POLYGON ((-97.056771713432 49.910579695567, -9...</td>\n",
       "      <td>north_east_6</td>\n",
       "      <td>0.000000</td>\n",
       "    </tr>\n",
       "    <tr>\n",
       "      <th>Kirkfield</th>\n",
       "      <td>POLYGON ((-97.290184947702 49.865309405537, -9...</td>\n",
       "      <td>south_west_2</td>\n",
       "      <td>0.008462</td>\n",
       "    </tr>\n",
       "    <tr>\n",
       "      <th>Ridgewood South</th>\n",
       "      <td>POLYGON ((-97.251996806508 49.843431693151, -9...</td>\n",
       "      <td>south_west_2</td>\n",
       "      <td>0.007076</td>\n",
       "    </tr>\n",
       "    <tr>\n",
       "      <th>Betsworth</th>\n",
       "      <td>POLYGON ((-97.31247304763301 49.849763383213, ...</td>\n",
       "      <td>south_west_2</td>\n",
       "      <td>0.018123</td>\n",
       "    </tr>\n",
       "    <tr>\n",
       "      <th>Birchwood</th>\n",
       "      <td>POLYGON ((-97.265795446685 49.871958846692, -9...</td>\n",
       "      <td>south_west_3</td>\n",
       "      <td>0.005662</td>\n",
       "    </tr>\n",
       "    <tr>\n",
       "      <th>Parc La Salle</th>\n",
       "      <td>POLYGON ((-97.165715264516 49.768725899097, -9...</td>\n",
       "      <td>south_west_7</td>\n",
       "      <td>0.017381</td>\n",
       "    </tr>\n",
       "    <tr>\n",
       "      <th>Kildare-Redonda</th>\n",
       "      <td>POLYGON ((-96.979877696917 49.908162874298, -9...</td>\n",
       "      <td>north_east_7</td>\n",
       "      <td>0.000000</td>\n",
       "    </tr>\n",
       "    <tr>\n",
       "      <th>Island Lakes</th>\n",
       "      <td>POLYGON ((-97.05798234673399 49.826602316084, ...</td>\n",
       "      <td>south_east_6</td>\n",
       "      <td>0.000000</td>\n",
       "    </tr>\n",
       "    <tr>\n",
       "      <th>Mission Industrial</th>\n",
       "      <td>POLYGON ((-97.105921417354 49.892294337851, -9...</td>\n",
       "      <td>north_east_4</td>\n",
       "      <td>0.007657</td>\n",
       "    </tr>\n",
       "    <tr>\n",
       "      <th>Fraipont</th>\n",
       "      <td>POLYGON ((-97.055453812926 49.826672620834, -9...</td>\n",
       "      <td>south_east_6</td>\n",
       "      <td>0.000275</td>\n",
       "    </tr>\n",
       "    <tr>\n",
       "      <th>Munroe West</th>\n",
       "      <td>POLYGON ((-97.10402032552101 49.927580021395, ...</td>\n",
       "      <td>north_east_2</td>\n",
       "      <td>0.008463</td>\n",
       "    </tr>\n",
       "    <tr>\n",
       "      <th>Sir John Franklin</th>\n",
       "      <td>POLYGON ((-97.194364483526 49.87836246683, -97...</td>\n",
       "      <td>south_west_4</td>\n",
       "      <td>0.010612</td>\n",
       "    </tr>\n",
       "    <tr>\n",
       "      <th>Airport</th>\n",
       "      <td>POLYGON ((-97.225301063275 49.916443566823, -9...</td>\n",
       "      <td>north_west_2</td>\n",
       "      <td>0.006092</td>\n",
       "    </tr>\n",
       "    <tr>\n",
       "      <th>Grant Park</th>\n",
       "      <td>POLYGON ((-97.15243111687199 49.854180389544, ...</td>\n",
       "      <td>south_west_4</td>\n",
       "      <td>0.015610</td>\n",
       "    </tr>\n",
       "    <tr>\n",
       "      <th>Wilkes South</th>\n",
       "      <td>POLYGON ((-97.32838934473099 49.808964465485, ...</td>\n",
       "      <td>south_west_1</td>\n",
       "      <td>0.006601</td>\n",
       "    </tr>\n",
       "    <tr>\n",
       "      <th>Woodhaven</th>\n",
       "      <td>POLYGON ((-97.27905728449799 49.879475332512, ...</td>\n",
       "      <td>south_west_2</td>\n",
       "      <td>0.017166</td>\n",
       "    </tr>\n",
       "    <tr>\n",
       "      <th>Kildonan Crossing</th>\n",
       "      <td>POLYGON ((-97.06287834405801 49.911708191418, ...</td>\n",
       "      <td>north_east_3</td>\n",
       "      <td>0.013961</td>\n",
       "    </tr>\n",
       "    <tr>\n",
       "      <th>Roblin Park</th>\n",
       "      <td>POLYGON ((-97.293548836311 49.850580477049, -9...</td>\n",
       "      <td>south_west_2</td>\n",
       "      <td>0.011325</td>\n",
       "    </tr>\n",
       "    <tr>\n",
       "      <th>Murray Industrial Park</th>\n",
       "      <td>POLYGON ((-97.254674801683 49.898868571724, -9...</td>\n",
       "      <td>north_west_2</td>\n",
       "      <td>0.021149</td>\n",
       "    </tr>\n",
       "    <tr>\n",
       "      <th>Westdale</th>\n",
       "      <td>POLYGON ((-97.312756424965 49.84701814981, -97...</td>\n",
       "      <td>rural_hh</td>\n",
       "      <td>0.014677</td>\n",
       "    </tr>\n",
       "    <tr>\n",
       "      <th>Dakota Crossing</th>\n",
       "      <td>POLYGON ((-97.088102805099 49.801465979519, -9...</td>\n",
       "      <td>south_east_5</td>\n",
       "      <td>0.005802</td>\n",
       "    </tr>\n",
       "    <tr>\n",
       "      <th>Royalwood</th>\n",
       "      <td>POLYGON ((-97.081638503142 49.8277278676, -97....</td>\n",
       "      <td>south_east_6</td>\n",
       "      <td>0.007818</td>\n",
       "    </tr>\n",
       "    <tr>\n",
       "      <th>Assiniboine Park</th>\n",
       "      <td>POLYGON ((-97.25059062743399 49.858471170362, ...</td>\n",
       "      <td>south_west_3</td>\n",
       "      <td>0.000000</td>\n",
       "    </tr>\n",
       "    <tr>\n",
       "      <th>Sage Creek</th>\n",
       "      <td>POLYGON ((-97.027007493517 49.840896133013, -9...</td>\n",
       "      <td>south_east_6</td>\n",
       "      <td>0.010925</td>\n",
       "    </tr>\n",
       "    <tr>\n",
       "      <th>St. Norbert</th>\n",
       "      <td>POLYGON ((-97.160669613388 49.774482457651, -9...</td>\n",
       "      <td>south_west_7</td>\n",
       "      <td>0.019159</td>\n",
       "    </tr>\n",
       "    <tr>\n",
       "      <th>South River Heights</th>\n",
       "      <td>POLYGON ((-97.176131694197 49.850755421066, -9...</td>\n",
       "      <td>south_west_4</td>\n",
       "      <td>0.012467</td>\n",
       "    </tr>\n",
       "    <tr>\n",
       "      <th>Mcleod Industrial</th>\n",
       "      <td>POLYGON ((-97.071008132814 49.929370604903, -9...</td>\n",
       "      <td>north_east_3</td>\n",
       "      <td>0.005385</td>\n",
       "    </tr>\n",
       "  </tbody>\n",
       "</table>\n",
       "<p>237 rows × 3 columns</p>\n",
       "</div>"
      ],
      "text/plain": [
       "                                                                        newgeom  \\\n",
       "name                                                                              \n",
       "Seven Oaks                    POLYGON ((-97.11021888431701 49.925633193803, ...   \n",
       "Parker                        POLYGON ((-97.17615035641499 49.850537882086, ...   \n",
       "The Maples                    POLYGON ((-97.163398354858 49.941591371416, -9...   \n",
       "Luxton                        POLYGON ((-97.116047777972 49.920325228662, -9...   \n",
       "Talbot-Grey                   POLYGON ((-97.101068054847 49.904738664792, -9...   \n",
       "North St. Boniface            POLYGON ((-97.127307057463 49.891225692997, -9...   \n",
       "Pulberry                      POLYGON ((-97.131878001327 49.835917500306, -9...   \n",
       "Worthington                   POLYGON ((-97.092873006377 49.838256562904, -9...   \n",
       "Bridgwater Lakes              POLYGON ((-97.191591789505 49.809367059093, -9...   \n",
       "Eaglemere                     POLYGON ((-97.05907775269699 49.910441686964, ...   \n",
       "Norwood East                  POLYGON ((-97.11712108269199 49.874534779785, ...   \n",
       "Dufferin                      POLYGON ((-97.143245896591 49.911778569633, -9...   \n",
       "West Broadway                 POLYGON ((-97.152310478762 49.882771456306, -9...   \n",
       "Mission Gardens               POLYGON ((-97.033721786166 49.885897651266, -9...   \n",
       "Tissot                        POLYGON ((-97.10967106099299 49.895306040992, ...   \n",
       "William Whyte                 POLYGON ((-97.156473706483 49.919356944379, -9...   \n",
       "Victoria West                 POLYGON ((-97.002568893776 49.895068770108, -9...   \n",
       "J. B. Mitchell                POLYGON ((-97.19552399179599 49.863739495727, ...   \n",
       "Centennial                    POLYGON ((-97.138505963276 49.903431088141, -9...   \n",
       "Turnbull Drive                POLYGON ((-97.138342737597 49.7440467414, -97....   \n",
       "Munroe East                   POLYGON ((-97.089334555493 49.914885671784, -9...   \n",
       "St. George                    POLYGON ((-97.097784473508 49.846858159335, -9...   \n",
       "Chalmers                      POLYGON ((-97.101068054847 49.904738664792, -9...   \n",
       "Southboine                    POLYGON ((-97.290723662847 49.861961522526, -9...   \n",
       "Regent                        POLYGON ((-97.068952361125 49.89834490483, -97...   \n",
       "Kildonan Park                 POLYGON ((-97.10079920096 49.940004983585, -97...   \n",
       "St. Boniface Industrial Park  POLYGON ((-97.026970301717 49.878400328945, -9...   \n",
       "Maple Grove Park              POLYGON ((-97.115160198661 49.793877932908, -9...   \n",
       "Riverbend                     POLYGON ((-97.10315741206099 49.951824900879, ...   \n",
       "The Mint                      POLYGON ((-97.05493122935501 49.847267317728, ...   \n",
       "...                                                                         ...   \n",
       "Tuxedo                        POLYGON ((-97.215643987341 49.866564773908, -9...   \n",
       "Perrault                      POLYGON ((-97.151931915012 49.740593439128, -9...   \n",
       "Crescentwood                  POLYGON ((-97.17211322636101 49.864547694556, ...   \n",
       "Grassie                       POLYGON ((-97.056771713432 49.910579695567, -9...   \n",
       "Kirkfield                     POLYGON ((-97.290184947702 49.865309405537, -9...   \n",
       "Ridgewood South               POLYGON ((-97.251996806508 49.843431693151, -9...   \n",
       "Betsworth                     POLYGON ((-97.31247304763301 49.849763383213, ...   \n",
       "Birchwood                     POLYGON ((-97.265795446685 49.871958846692, -9...   \n",
       "Parc La Salle                 POLYGON ((-97.165715264516 49.768725899097, -9...   \n",
       "Kildare-Redonda               POLYGON ((-96.979877696917 49.908162874298, -9...   \n",
       "Island Lakes                  POLYGON ((-97.05798234673399 49.826602316084, ...   \n",
       "Mission Industrial            POLYGON ((-97.105921417354 49.892294337851, -9...   \n",
       "Fraipont                      POLYGON ((-97.055453812926 49.826672620834, -9...   \n",
       "Munroe West                   POLYGON ((-97.10402032552101 49.927580021395, ...   \n",
       "Sir John Franklin             POLYGON ((-97.194364483526 49.87836246683, -97...   \n",
       "Airport                       POLYGON ((-97.225301063275 49.916443566823, -9...   \n",
       "Grant Park                    POLYGON ((-97.15243111687199 49.854180389544, ...   \n",
       "Wilkes South                  POLYGON ((-97.32838934473099 49.808964465485, ...   \n",
       "Woodhaven                     POLYGON ((-97.27905728449799 49.879475332512, ...   \n",
       "Kildonan Crossing             POLYGON ((-97.06287834405801 49.911708191418, ...   \n",
       "Roblin Park                   POLYGON ((-97.293548836311 49.850580477049, -9...   \n",
       "Murray Industrial Park        POLYGON ((-97.254674801683 49.898868571724, -9...   \n",
       "Westdale                      POLYGON ((-97.312756424965 49.84701814981, -97...   \n",
       "Dakota Crossing               POLYGON ((-97.088102805099 49.801465979519, -9...   \n",
       "Royalwood                     POLYGON ((-97.081638503142 49.8277278676, -97....   \n",
       "Assiniboine Park              POLYGON ((-97.25059062743399 49.858471170362, ...   \n",
       "Sage Creek                    POLYGON ((-97.027007493517 49.840896133013, -9...   \n",
       "St. Norbert                   POLYGON ((-97.160669613388 49.774482457651, -9...   \n",
       "South River Heights           POLYGON ((-97.176131694197 49.850755421066, -9...   \n",
       "Mcleod Industrial             POLYGON ((-97.071008132814 49.929370604903, -9...   \n",
       "\n",
       "                              closest_trap  distance_trap  \n",
       "name                                                       \n",
       "Seven Oaks                    north_east_2       0.007526  \n",
       "Parker                        south_west_4       0.019379  \n",
       "The Maples                    north_west_5       0.011644  \n",
       "Luxton                        north_east_2       0.016175  \n",
       "Talbot-Grey                   north_east_4       0.000000  \n",
       "North St. Boniface            north_east_4       0.011900  \n",
       "Pulberry                      south_east_4       0.000000  \n",
       "Worthington                   south_east_5       0.006952  \n",
       "Bridgwater Lakes              south_west_5       0.020292  \n",
       "Eaglemere                     north_east_3       0.003701  \n",
       "Norwood East                  south_east_1       0.004205  \n",
       "Dufferin                      north_west_5       0.009778  \n",
       "West Broadway                 south_west_4       0.024629  \n",
       "Mission Gardens               north_east_5       0.002923  \n",
       "Tissot                        north_east_4       0.014755  \n",
       "William Whyte                 north_west_5       0.018561  \n",
       "Victoria West                 north_east_5       0.002829  \n",
       "J. B. Mitchell                south_west_4       0.012166  \n",
       "Centennial                    south_east_1       0.028914  \n",
       "Turnbull Drive                south_west_7       0.031986  \n",
       "Munroe East                   north_east_4       0.004896  \n",
       "St. George                    south_east_2       0.003387  \n",
       "Chalmers                      north_east_4       0.003442  \n",
       "Southboine                    south_west_2       0.017160  \n",
       "Regent                        north_east_5       0.003196  \n",
       "Kildonan Park                 north_east_2       0.007180  \n",
       "St. Boniface Industrial Park  north_east_5       0.010560  \n",
       "Maple Grove Park              south_west_6       0.012005  \n",
       "Riverbend                     north_west_7       0.014129  \n",
       "The Mint                      south_east_3       0.006769  \n",
       "...                                    ...            ...  \n",
       "Tuxedo                        south_west_3       0.005045  \n",
       "Perrault                      south_west_7       0.029944  \n",
       "Crescentwood                  south_west_4       0.010000  \n",
       "Grassie                       north_east_6       0.000000  \n",
       "Kirkfield                     south_west_2       0.008462  \n",
       "Ridgewood South               south_west_2       0.007076  \n",
       "Betsworth                     south_west_2       0.018123  \n",
       "Birchwood                     south_west_3       0.005662  \n",
       "Parc La Salle                 south_west_7       0.017381  \n",
       "Kildare-Redonda               north_east_7       0.000000  \n",
       "Island Lakes                  south_east_6       0.000000  \n",
       "Mission Industrial            north_east_4       0.007657  \n",
       "Fraipont                      south_east_6       0.000275  \n",
       "Munroe West                   north_east_2       0.008463  \n",
       "Sir John Franklin             south_west_4       0.010612  \n",
       "Airport                       north_west_2       0.006092  \n",
       "Grant Park                    south_west_4       0.015610  \n",
       "Wilkes South                  south_west_1       0.006601  \n",
       "Woodhaven                     south_west_2       0.017166  \n",
       "Kildonan Crossing             north_east_3       0.013961  \n",
       "Roblin Park                   south_west_2       0.011325  \n",
       "Murray Industrial Park        north_west_2       0.021149  \n",
       "Westdale                          rural_hh       0.014677  \n",
       "Dakota Crossing               south_east_5       0.005802  \n",
       "Royalwood                     south_east_6       0.007818  \n",
       "Assiniboine Park              south_west_3       0.000000  \n",
       "Sage Creek                    south_east_6       0.010925  \n",
       "St. Norbert                   south_west_7       0.019159  \n",
       "South River Heights           south_west_4       0.012467  \n",
       "Mcleod Industrial             north_east_3       0.005385  \n",
       "\n",
       "[237 rows x 3 columns]"
      ]
     },
     "execution_count": 225,
     "metadata": {},
     "output_type": "execute_result"
    }
   ],
   "source": [
    "winnipeg_areas"
   ]
  },
  {
   "cell_type": "code",
   "execution_count": 219,
   "metadata": {},
   "outputs": [
    {
     "data": {
      "text/html": [
       "<div>\n",
       "<style scoped>\n",
       "    .dataframe tbody tr th:only-of-type {\n",
       "        vertical-align: middle;\n",
       "    }\n",
       "\n",
       "    .dataframe tbody tr th {\n",
       "        vertical-align: top;\n",
       "    }\n",
       "\n",
       "    .dataframe thead th {\n",
       "        text-align: right;\n",
       "    }\n",
       "</style>\n",
       "<table border=\"1\" class=\"dataframe\">\n",
       "  <thead>\n",
       "    <tr style=\"text-align: right;\">\n",
       "      <th></th>\n",
       "      <th>newgeom</th>\n",
       "      <th>closest_trap</th>\n",
       "    </tr>\n",
       "    <tr>\n",
       "      <th>name</th>\n",
       "      <th></th>\n",
       "      <th></th>\n",
       "    </tr>\n",
       "  </thead>\n",
       "  <tbody>\n",
       "    <tr>\n",
       "      <th>Seven Oaks</th>\n",
       "      <td>POLYGON ((-97.11021888431701 49.925633193803, ...</td>\n",
       "      <td>north_east_2</td>\n",
       "    </tr>\n",
       "    <tr>\n",
       "      <th>Parker</th>\n",
       "      <td>POLYGON ((-97.17615035641499 49.850537882086, ...</td>\n",
       "      <td>south_west_4</td>\n",
       "    </tr>\n",
       "    <tr>\n",
       "      <th>The Maples</th>\n",
       "      <td>POLYGON ((-97.163398354858 49.941591371416, -9...</td>\n",
       "      <td>north_west_5</td>\n",
       "    </tr>\n",
       "    <tr>\n",
       "      <th>Luxton</th>\n",
       "      <td>POLYGON ((-97.116047777972 49.920325228662, -9...</td>\n",
       "      <td>north_east_2</td>\n",
       "    </tr>\n",
       "    <tr>\n",
       "      <th>Talbot-Grey</th>\n",
       "      <td>POLYGON ((-97.101068054847 49.904738664792, -9...</td>\n",
       "      <td>north_east_4</td>\n",
       "    </tr>\n",
       "    <tr>\n",
       "      <th>North St. Boniface</th>\n",
       "      <td>POLYGON ((-97.127307057463 49.891225692997, -9...</td>\n",
       "      <td>north_east_4</td>\n",
       "    </tr>\n",
       "    <tr>\n",
       "      <th>Pulberry</th>\n",
       "      <td>POLYGON ((-97.131878001327 49.835917500306, -9...</td>\n",
       "      <td>south_east_4</td>\n",
       "    </tr>\n",
       "    <tr>\n",
       "      <th>Worthington</th>\n",
       "      <td>POLYGON ((-97.092873006377 49.838256562904, -9...</td>\n",
       "      <td>south_east_5</td>\n",
       "    </tr>\n",
       "    <tr>\n",
       "      <th>Bridgwater Lakes</th>\n",
       "      <td>POLYGON ((-97.191591789505 49.809367059093, -9...</td>\n",
       "      <td>south_west_5</td>\n",
       "    </tr>\n",
       "    <tr>\n",
       "      <th>Eaglemere</th>\n",
       "      <td>POLYGON ((-97.05907775269699 49.910441686964, ...</td>\n",
       "      <td>north_east_3</td>\n",
       "    </tr>\n",
       "    <tr>\n",
       "      <th>Norwood East</th>\n",
       "      <td>POLYGON ((-97.11712108269199 49.874534779785, ...</td>\n",
       "      <td>south_east_1</td>\n",
       "    </tr>\n",
       "    <tr>\n",
       "      <th>Dufferin</th>\n",
       "      <td>POLYGON ((-97.143245896591 49.911778569633, -9...</td>\n",
       "      <td>north_west_5</td>\n",
       "    </tr>\n",
       "    <tr>\n",
       "      <th>West Broadway</th>\n",
       "      <td>POLYGON ((-97.152310478762 49.882771456306, -9...</td>\n",
       "      <td>south_west_4</td>\n",
       "    </tr>\n",
       "    <tr>\n",
       "      <th>Mission Gardens</th>\n",
       "      <td>POLYGON ((-97.033721786166 49.885897651266, -9...</td>\n",
       "      <td>north_east_5</td>\n",
       "    </tr>\n",
       "    <tr>\n",
       "      <th>Tissot</th>\n",
       "      <td>POLYGON ((-97.10967106099299 49.895306040992, ...</td>\n",
       "      <td>north_east_4</td>\n",
       "    </tr>\n",
       "    <tr>\n",
       "      <th>William Whyte</th>\n",
       "      <td>POLYGON ((-97.156473706483 49.919356944379, -9...</td>\n",
       "      <td>north_west_5</td>\n",
       "    </tr>\n",
       "    <tr>\n",
       "      <th>Victoria West</th>\n",
       "      <td>POLYGON ((-97.002568893776 49.895068770108, -9...</td>\n",
       "      <td>north_east_5</td>\n",
       "    </tr>\n",
       "    <tr>\n",
       "      <th>J. B. Mitchell</th>\n",
       "      <td>POLYGON ((-97.19552399179599 49.863739495727, ...</td>\n",
       "      <td>south_west_4</td>\n",
       "    </tr>\n",
       "    <tr>\n",
       "      <th>Centennial</th>\n",
       "      <td>POLYGON ((-97.138505963276 49.903431088141, -9...</td>\n",
       "      <td>south_east_1</td>\n",
       "    </tr>\n",
       "    <tr>\n",
       "      <th>Turnbull Drive</th>\n",
       "      <td>POLYGON ((-97.138342737597 49.7440467414, -97....</td>\n",
       "      <td>south_west_7</td>\n",
       "    </tr>\n",
       "    <tr>\n",
       "      <th>Munroe East</th>\n",
       "      <td>POLYGON ((-97.089334555493 49.914885671784, -9...</td>\n",
       "      <td>north_east_4</td>\n",
       "    </tr>\n",
       "    <tr>\n",
       "      <th>St. George</th>\n",
       "      <td>POLYGON ((-97.097784473508 49.846858159335, -9...</td>\n",
       "      <td>south_east_2</td>\n",
       "    </tr>\n",
       "    <tr>\n",
       "      <th>Chalmers</th>\n",
       "      <td>POLYGON ((-97.101068054847 49.904738664792, -9...</td>\n",
       "      <td>north_east_4</td>\n",
       "    </tr>\n",
       "    <tr>\n",
       "      <th>Southboine</th>\n",
       "      <td>POLYGON ((-97.290723662847 49.861961522526, -9...</td>\n",
       "      <td>south_west_2</td>\n",
       "    </tr>\n",
       "    <tr>\n",
       "      <th>Regent</th>\n",
       "      <td>POLYGON ((-97.068952361125 49.89834490483, -97...</td>\n",
       "      <td>north_east_5</td>\n",
       "    </tr>\n",
       "    <tr>\n",
       "      <th>Kildonan Park</th>\n",
       "      <td>POLYGON ((-97.10079920096 49.940004983585, -97...</td>\n",
       "      <td>north_east_2</td>\n",
       "    </tr>\n",
       "    <tr>\n",
       "      <th>St. Boniface Industrial Park</th>\n",
       "      <td>POLYGON ((-97.026970301717 49.878400328945, -9...</td>\n",
       "      <td>north_east_5</td>\n",
       "    </tr>\n",
       "    <tr>\n",
       "      <th>Maple Grove Park</th>\n",
       "      <td>POLYGON ((-97.115160198661 49.793877932908, -9...</td>\n",
       "      <td>south_west_6</td>\n",
       "    </tr>\n",
       "    <tr>\n",
       "      <th>Riverbend</th>\n",
       "      <td>POLYGON ((-97.10315741206099 49.951824900879, ...</td>\n",
       "      <td>north_west_7</td>\n",
       "    </tr>\n",
       "    <tr>\n",
       "      <th>The Mint</th>\n",
       "      <td>POLYGON ((-97.05493122935501 49.847267317728, ...</td>\n",
       "      <td>south_east_3</td>\n",
       "    </tr>\n",
       "    <tr>\n",
       "      <th>...</th>\n",
       "      <td>...</td>\n",
       "      <td>...</td>\n",
       "    </tr>\n",
       "    <tr>\n",
       "      <th>Tuxedo</th>\n",
       "      <td>POLYGON ((-97.215643987341 49.866564773908, -9...</td>\n",
       "      <td>south_west_3</td>\n",
       "    </tr>\n",
       "    <tr>\n",
       "      <th>Perrault</th>\n",
       "      <td>POLYGON ((-97.151931915012 49.740593439128, -9...</td>\n",
       "      <td>south_west_7</td>\n",
       "    </tr>\n",
       "    <tr>\n",
       "      <th>Crescentwood</th>\n",
       "      <td>POLYGON ((-97.17211322636101 49.864547694556, ...</td>\n",
       "      <td>south_west_4</td>\n",
       "    </tr>\n",
       "    <tr>\n",
       "      <th>Grassie</th>\n",
       "      <td>POLYGON ((-97.056771713432 49.910579695567, -9...</td>\n",
       "      <td>north_east_6</td>\n",
       "    </tr>\n",
       "    <tr>\n",
       "      <th>Kirkfield</th>\n",
       "      <td>POLYGON ((-97.290184947702 49.865309405537, -9...</td>\n",
       "      <td>south_west_2</td>\n",
       "    </tr>\n",
       "    <tr>\n",
       "      <th>Ridgewood South</th>\n",
       "      <td>POLYGON ((-97.251996806508 49.843431693151, -9...</td>\n",
       "      <td>south_west_2</td>\n",
       "    </tr>\n",
       "    <tr>\n",
       "      <th>Betsworth</th>\n",
       "      <td>POLYGON ((-97.31247304763301 49.849763383213, ...</td>\n",
       "      <td>south_west_2</td>\n",
       "    </tr>\n",
       "    <tr>\n",
       "      <th>Birchwood</th>\n",
       "      <td>POLYGON ((-97.265795446685 49.871958846692, -9...</td>\n",
       "      <td>south_west_3</td>\n",
       "    </tr>\n",
       "    <tr>\n",
       "      <th>Parc La Salle</th>\n",
       "      <td>POLYGON ((-97.165715264516 49.768725899097, -9...</td>\n",
       "      <td>south_west_7</td>\n",
       "    </tr>\n",
       "    <tr>\n",
       "      <th>Kildare-Redonda</th>\n",
       "      <td>POLYGON ((-96.979877696917 49.908162874298, -9...</td>\n",
       "      <td>north_east_7</td>\n",
       "    </tr>\n",
       "    <tr>\n",
       "      <th>Island Lakes</th>\n",
       "      <td>POLYGON ((-97.05798234673399 49.826602316084, ...</td>\n",
       "      <td>south_east_6</td>\n",
       "    </tr>\n",
       "    <tr>\n",
       "      <th>Mission Industrial</th>\n",
       "      <td>POLYGON ((-97.105921417354 49.892294337851, -9...</td>\n",
       "      <td>north_east_4</td>\n",
       "    </tr>\n",
       "    <tr>\n",
       "      <th>Fraipont</th>\n",
       "      <td>POLYGON ((-97.055453812926 49.826672620834, -9...</td>\n",
       "      <td>south_east_6</td>\n",
       "    </tr>\n",
       "    <tr>\n",
       "      <th>Munroe West</th>\n",
       "      <td>POLYGON ((-97.10402032552101 49.927580021395, ...</td>\n",
       "      <td>north_east_2</td>\n",
       "    </tr>\n",
       "    <tr>\n",
       "      <th>Sir John Franklin</th>\n",
       "      <td>POLYGON ((-97.194364483526 49.87836246683, -97...</td>\n",
       "      <td>south_west_4</td>\n",
       "    </tr>\n",
       "    <tr>\n",
       "      <th>Airport</th>\n",
       "      <td>POLYGON ((-97.225301063275 49.916443566823, -9...</td>\n",
       "      <td>north_west_2</td>\n",
       "    </tr>\n",
       "    <tr>\n",
       "      <th>Grant Park</th>\n",
       "      <td>POLYGON ((-97.15243111687199 49.854180389544, ...</td>\n",
       "      <td>south_west_4</td>\n",
       "    </tr>\n",
       "    <tr>\n",
       "      <th>Wilkes South</th>\n",
       "      <td>POLYGON ((-97.32838934473099 49.808964465485, ...</td>\n",
       "      <td>south_west_1</td>\n",
       "    </tr>\n",
       "    <tr>\n",
       "      <th>Woodhaven</th>\n",
       "      <td>POLYGON ((-97.27905728449799 49.879475332512, ...</td>\n",
       "      <td>south_west_2</td>\n",
       "    </tr>\n",
       "    <tr>\n",
       "      <th>Kildonan Crossing</th>\n",
       "      <td>POLYGON ((-97.06287834405801 49.911708191418, ...</td>\n",
       "      <td>north_east_3</td>\n",
       "    </tr>\n",
       "    <tr>\n",
       "      <th>Roblin Park</th>\n",
       "      <td>POLYGON ((-97.293548836311 49.850580477049, -9...</td>\n",
       "      <td>south_west_2</td>\n",
       "    </tr>\n",
       "    <tr>\n",
       "      <th>Murray Industrial Park</th>\n",
       "      <td>POLYGON ((-97.254674801683 49.898868571724, -9...</td>\n",
       "      <td>north_west_2</td>\n",
       "    </tr>\n",
       "    <tr>\n",
       "      <th>Westdale</th>\n",
       "      <td>POLYGON ((-97.312756424965 49.84701814981, -97...</td>\n",
       "      <td>rural_hh</td>\n",
       "    </tr>\n",
       "    <tr>\n",
       "      <th>Dakota Crossing</th>\n",
       "      <td>POLYGON ((-97.088102805099 49.801465979519, -9...</td>\n",
       "      <td>south_east_5</td>\n",
       "    </tr>\n",
       "    <tr>\n",
       "      <th>Royalwood</th>\n",
       "      <td>POLYGON ((-97.081638503142 49.8277278676, -97....</td>\n",
       "      <td>south_east_6</td>\n",
       "    </tr>\n",
       "    <tr>\n",
       "      <th>Assiniboine Park</th>\n",
       "      <td>POLYGON ((-97.25059062743399 49.858471170362, ...</td>\n",
       "      <td>south_west_3</td>\n",
       "    </tr>\n",
       "    <tr>\n",
       "      <th>Sage Creek</th>\n",
       "      <td>POLYGON ((-97.027007493517 49.840896133013, -9...</td>\n",
       "      <td>south_east_6</td>\n",
       "    </tr>\n",
       "    <tr>\n",
       "      <th>St. Norbert</th>\n",
       "      <td>POLYGON ((-97.160669613388 49.774482457651, -9...</td>\n",
       "      <td>south_west_7</td>\n",
       "    </tr>\n",
       "    <tr>\n",
       "      <th>South River Heights</th>\n",
       "      <td>POLYGON ((-97.176131694197 49.850755421066, -9...</td>\n",
       "      <td>south_west_4</td>\n",
       "    </tr>\n",
       "    <tr>\n",
       "      <th>Mcleod Industrial</th>\n",
       "      <td>POLYGON ((-97.071008132814 49.929370604903, -9...</td>\n",
       "      <td>north_east_3</td>\n",
       "    </tr>\n",
       "  </tbody>\n",
       "</table>\n",
       "<p>237 rows × 2 columns</p>\n",
       "</div>"
      ],
      "text/plain": [
       "                                                                        newgeom  \\\n",
       "name                                                                              \n",
       "Seven Oaks                    POLYGON ((-97.11021888431701 49.925633193803, ...   \n",
       "Parker                        POLYGON ((-97.17615035641499 49.850537882086, ...   \n",
       "The Maples                    POLYGON ((-97.163398354858 49.941591371416, -9...   \n",
       "Luxton                        POLYGON ((-97.116047777972 49.920325228662, -9...   \n",
       "Talbot-Grey                   POLYGON ((-97.101068054847 49.904738664792, -9...   \n",
       "North St. Boniface            POLYGON ((-97.127307057463 49.891225692997, -9...   \n",
       "Pulberry                      POLYGON ((-97.131878001327 49.835917500306, -9...   \n",
       "Worthington                   POLYGON ((-97.092873006377 49.838256562904, -9...   \n",
       "Bridgwater Lakes              POLYGON ((-97.191591789505 49.809367059093, -9...   \n",
       "Eaglemere                     POLYGON ((-97.05907775269699 49.910441686964, ...   \n",
       "Norwood East                  POLYGON ((-97.11712108269199 49.874534779785, ...   \n",
       "Dufferin                      POLYGON ((-97.143245896591 49.911778569633, -9...   \n",
       "West Broadway                 POLYGON ((-97.152310478762 49.882771456306, -9...   \n",
       "Mission Gardens               POLYGON ((-97.033721786166 49.885897651266, -9...   \n",
       "Tissot                        POLYGON ((-97.10967106099299 49.895306040992, ...   \n",
       "William Whyte                 POLYGON ((-97.156473706483 49.919356944379, -9...   \n",
       "Victoria West                 POLYGON ((-97.002568893776 49.895068770108, -9...   \n",
       "J. B. Mitchell                POLYGON ((-97.19552399179599 49.863739495727, ...   \n",
       "Centennial                    POLYGON ((-97.138505963276 49.903431088141, -9...   \n",
       "Turnbull Drive                POLYGON ((-97.138342737597 49.7440467414, -97....   \n",
       "Munroe East                   POLYGON ((-97.089334555493 49.914885671784, -9...   \n",
       "St. George                    POLYGON ((-97.097784473508 49.846858159335, -9...   \n",
       "Chalmers                      POLYGON ((-97.101068054847 49.904738664792, -9...   \n",
       "Southboine                    POLYGON ((-97.290723662847 49.861961522526, -9...   \n",
       "Regent                        POLYGON ((-97.068952361125 49.89834490483, -97...   \n",
       "Kildonan Park                 POLYGON ((-97.10079920096 49.940004983585, -97...   \n",
       "St. Boniface Industrial Park  POLYGON ((-97.026970301717 49.878400328945, -9...   \n",
       "Maple Grove Park              POLYGON ((-97.115160198661 49.793877932908, -9...   \n",
       "Riverbend                     POLYGON ((-97.10315741206099 49.951824900879, ...   \n",
       "The Mint                      POLYGON ((-97.05493122935501 49.847267317728, ...   \n",
       "...                                                                         ...   \n",
       "Tuxedo                        POLYGON ((-97.215643987341 49.866564773908, -9...   \n",
       "Perrault                      POLYGON ((-97.151931915012 49.740593439128, -9...   \n",
       "Crescentwood                  POLYGON ((-97.17211322636101 49.864547694556, ...   \n",
       "Grassie                       POLYGON ((-97.056771713432 49.910579695567, -9...   \n",
       "Kirkfield                     POLYGON ((-97.290184947702 49.865309405537, -9...   \n",
       "Ridgewood South               POLYGON ((-97.251996806508 49.843431693151, -9...   \n",
       "Betsworth                     POLYGON ((-97.31247304763301 49.849763383213, ...   \n",
       "Birchwood                     POLYGON ((-97.265795446685 49.871958846692, -9...   \n",
       "Parc La Salle                 POLYGON ((-97.165715264516 49.768725899097, -9...   \n",
       "Kildare-Redonda               POLYGON ((-96.979877696917 49.908162874298, -9...   \n",
       "Island Lakes                  POLYGON ((-97.05798234673399 49.826602316084, ...   \n",
       "Mission Industrial            POLYGON ((-97.105921417354 49.892294337851, -9...   \n",
       "Fraipont                      POLYGON ((-97.055453812926 49.826672620834, -9...   \n",
       "Munroe West                   POLYGON ((-97.10402032552101 49.927580021395, ...   \n",
       "Sir John Franklin             POLYGON ((-97.194364483526 49.87836246683, -97...   \n",
       "Airport                       POLYGON ((-97.225301063275 49.916443566823, -9...   \n",
       "Grant Park                    POLYGON ((-97.15243111687199 49.854180389544, ...   \n",
       "Wilkes South                  POLYGON ((-97.32838934473099 49.808964465485, ...   \n",
       "Woodhaven                     POLYGON ((-97.27905728449799 49.879475332512, ...   \n",
       "Kildonan Crossing             POLYGON ((-97.06287834405801 49.911708191418, ...   \n",
       "Roblin Park                   POLYGON ((-97.293548836311 49.850580477049, -9...   \n",
       "Murray Industrial Park        POLYGON ((-97.254674801683 49.898868571724, -9...   \n",
       "Westdale                      POLYGON ((-97.312756424965 49.84701814981, -97...   \n",
       "Dakota Crossing               POLYGON ((-97.088102805099 49.801465979519, -9...   \n",
       "Royalwood                     POLYGON ((-97.081638503142 49.8277278676, -97....   \n",
       "Assiniboine Park              POLYGON ((-97.25059062743399 49.858471170362, ...   \n",
       "Sage Creek                    POLYGON ((-97.027007493517 49.840896133013, -9...   \n",
       "St. Norbert                   POLYGON ((-97.160669613388 49.774482457651, -9...   \n",
       "South River Heights           POLYGON ((-97.176131694197 49.850755421066, -9...   \n",
       "Mcleod Industrial             POLYGON ((-97.071008132814 49.929370604903, -9...   \n",
       "\n",
       "                              closest_trap  \n",
       "name                                        \n",
       "Seven Oaks                    north_east_2  \n",
       "Parker                        south_west_4  \n",
       "The Maples                    north_west_5  \n",
       "Luxton                        north_east_2  \n",
       "Talbot-Grey                   north_east_4  \n",
       "North St. Boniface            north_east_4  \n",
       "Pulberry                      south_east_4  \n",
       "Worthington                   south_east_5  \n",
       "Bridgwater Lakes              south_west_5  \n",
       "Eaglemere                     north_east_3  \n",
       "Norwood East                  south_east_1  \n",
       "Dufferin                      north_west_5  \n",
       "West Broadway                 south_west_4  \n",
       "Mission Gardens               north_east_5  \n",
       "Tissot                        north_east_4  \n",
       "William Whyte                 north_west_5  \n",
       "Victoria West                 north_east_5  \n",
       "J. B. Mitchell                south_west_4  \n",
       "Centennial                    south_east_1  \n",
       "Turnbull Drive                south_west_7  \n",
       "Munroe East                   north_east_4  \n",
       "St. George                    south_east_2  \n",
       "Chalmers                      north_east_4  \n",
       "Southboine                    south_west_2  \n",
       "Regent                        north_east_5  \n",
       "Kildonan Park                 north_east_2  \n",
       "St. Boniface Industrial Park  north_east_5  \n",
       "Maple Grove Park              south_west_6  \n",
       "Riverbend                     north_west_7  \n",
       "The Mint                      south_east_3  \n",
       "...                                    ...  \n",
       "Tuxedo                        south_west_3  \n",
       "Perrault                      south_west_7  \n",
       "Crescentwood                  south_west_4  \n",
       "Grassie                       north_east_6  \n",
       "Kirkfield                     south_west_2  \n",
       "Ridgewood South               south_west_2  \n",
       "Betsworth                     south_west_2  \n",
       "Birchwood                     south_west_3  \n",
       "Parc La Salle                 south_west_7  \n",
       "Kildare-Redonda               north_east_7  \n",
       "Island Lakes                  south_east_6  \n",
       "Mission Industrial            north_east_4  \n",
       "Fraipont                      south_east_6  \n",
       "Munroe West                   north_east_2  \n",
       "Sir John Franklin             south_west_4  \n",
       "Airport                       north_west_2  \n",
       "Grant Park                    south_west_4  \n",
       "Wilkes South                  south_west_1  \n",
       "Woodhaven                     south_west_2  \n",
       "Kildonan Crossing             north_east_3  \n",
       "Roblin Park                   south_west_2  \n",
       "Murray Industrial Park        north_west_2  \n",
       "Westdale                          rural_hh  \n",
       "Dakota Crossing               south_east_5  \n",
       "Royalwood                     south_east_6  \n",
       "Assiniboine Park              south_west_3  \n",
       "Sage Creek                    south_east_6  \n",
       "St. Norbert                   south_west_7  \n",
       "South River Heights           south_west_4  \n",
       "Mcleod Industrial             north_east_3  \n",
       "\n",
       "[237 rows x 2 columns]"
      ]
     },
     "execution_count": 219,
     "metadata": {},
     "output_type": "execute_result"
    }
   ],
   "source": [
    "winnipeg_areas"
   ]
  },
  {
   "cell_type": "code",
   "execution_count": 206,
   "metadata": {},
   "outputs": [
    {
     "name": "stderr",
     "output_type": "stream",
     "text": [
      "/home/ruxi/miniconda3/envs/winnipeg/lib/python3.6/site-packages/pandas/core/frame.py:4933: FutureWarning: 'argmin' is deprecated. Use 'idxmin' instead. The behavior of 'argmin' will be corrected to return the positional minimum in the future. Use 'series.values.argmin' to get the position of the minimum now.\n",
      "  labels=labels)\n"
     ]
    },
    {
     "data": {
      "text/plain": [
       "Agassiz                       south_west_6\n",
       "Airport                       north_west_2\n",
       "Alpine Place                  south_east_2\n",
       "Amber Trails                  north_west_6\n",
       "Archwood                      south_east_2\n",
       "Armstrong Point               south_west_4\n",
       "Assiniboia Downs                  rural_ii\n",
       "Assiniboine Park              south_west_3\n",
       "Beaumont                      south_west_5\n",
       "Betsworth                     south_west_2\n",
       "Birchwood                     south_west_3\n",
       "Booth                         south_west_3\n",
       "Bridgwater Centre             south_west_7\n",
       "Bridgwater Forest             south_west_5\n",
       "Bridgwater Lakes              south_west_5\n",
       "Bridgwater Trails             south_west_7\n",
       "Broadway-Assiniboine          south_east_1\n",
       "Brockville                    south_west_4\n",
       "Brooklands                    north_west_4\n",
       "Bruce Park                    north_west_2\n",
       "Buchanan                      north_west_1\n",
       "Buffalo                       south_west_5\n",
       "Burrows Central               north_west_5\n",
       "Burrows-Keewatin              north_west_5\n",
       "Canterbury Park               north_east_7\n",
       "Centennial                    south_east_1\n",
       "Central Park                  south_east_1\n",
       "Central River Heights         south_west_4\n",
       "Central St. Boniface          south_east_1\n",
       "Chalmers                      north_east_4\n",
       "                                  ...     \n",
       "University                    south_west_6\n",
       "Valhalla                      north_east_1\n",
       "Valley Gardens                north_east_3\n",
       "Varennes                      south_east_2\n",
       "Varsity View                  south_west_3\n",
       "Vialoux                       south_west_3\n",
       "Victoria Crescent             south_east_4\n",
       "Victoria West                 north_east_5\n",
       "Vista                         south_east_5\n",
       "Waverley Heights              south_west_5\n",
       "Waverley West B               south_west_7\n",
       "Wellington Crescent           south_west_4\n",
       "West Alexander                north_west_5\n",
       "West Broadway                 south_west_4\n",
       "West Fort Garry Industrial    south_west_5\n",
       "West Kildonan Industrial      north_west_7\n",
       "West Perimeter South          south_west_1\n",
       "West Wolseley                 north_west_3\n",
       "Westdale                          rural_hh\n",
       "Weston                        north_west_4\n",
       "Weston Shops                  north_west_5\n",
       "Westwood                      north_west_1\n",
       "Whyte Ridge                   south_west_5\n",
       "Wildwood                      south_east_2\n",
       "Wilkes South                  south_west_1\n",
       "William Whyte                 north_west_5\n",
       "Windsor Park                  south_east_3\n",
       "Wolseley                      north_west_3\n",
       "Woodhaven                     south_west_2\n",
       "Worthington                   south_east_5\n",
       "Length: 237, dtype: object"
      ]
     },
     "execution_count": 206,
     "metadata": {},
     "output_type": "execute_result"
    }
   ],
   "source": [
    "df.apply(pd.Series.argmin)"
   ]
  },
  {
   "cell_type": "markdown",
   "metadata": {},
   "source": [
    "## visualize maps"
   ]
  },
  {
   "cell_type": "code",
   "execution_count": 190,
   "metadata": {
    "ExecuteTime": {
     "end_time": "2018-03-04T03:42:00.646485Z",
     "start_time": "2018-03-04T03:42:00.367593Z"
    }
   },
   "outputs": [],
   "source": [
    "import folium"
   ]
  },
  {
   "cell_type": "code",
   "execution_count": 20,
   "metadata": {
    "ExecuteTime": {
     "end_time": "2018-03-04T03:42:00.654741Z",
     "start_time": "2018-03-04T03:42:00.648484Z"
    }
   },
   "outputs": [
    {
     "data": {
      "text/plain": [
       "[49.951867, -97.059306]"
      ]
     },
     "execution_count": 20,
     "metadata": {},
     "output_type": "execute_result"
    }
   ],
   "source": [
    "gps = [x['coord'] for x in buglocations2gps.values()]\n",
    "gps[0]"
   ]
  },
  {
   "cell_type": "markdown",
   "metadata": {},
   "source": [
    "# other stuff"
   ]
  },
  {
   "cell_type": "code",
   "execution_count": 47,
   "metadata": {
    "ExecuteTime": {
     "end_time": "2018-03-04T01:53:27.738078Z",
     "start_time": "2018-03-04T01:53:27.731815Z"
    }
   },
   "outputs": [
    {
     "data": {
      "image/svg+xml": [
       "<svg xmlns=\"http://www.w3.org/2000/svg\" xmlns:xlink=\"http://www.w3.org/1999/xlink\" width=\"100.0\" height=\"100.0\" viewBox=\"-97.12373986818272 49.924750860448285 0.023823000577451126 0.01989629296243578\" preserveAspectRatio=\"xMinYMin meet\"><g transform=\"matrix(1,0,0,-1,0,99.86939801385901)\"><path fill-rule=\"evenodd\" fill=\"#66cc99\" stroke=\"#555555\" stroke-width=\"0.00047646001154902254\" opacity=\"0.6\" d=\"M -97.110218884317,49.925633193803 L -97.110013115236,49.926312157644 L -97.109899223467,49.92719918447 L -97.109891037485,49.928006598639 L -97.109960763006,49.928524798105 L -97.110222083791,49.92934473874 L -97.110623989414,49.930298268692 L -97.111044483471,49.93137526533 L -97.1111731246,49.931814249814 L -97.111431919211,49.933252296923 L -97.111402047666,49.93401636541 L -97.111259499652,49.934807646831 L -97.111058254325,49.935350479077 L -97.110776982104,49.935914083849 L -97.110514492299,49.936273493022 L -97.109972455172,49.9368758378 L -97.109401629662,49.937339440106 L -97.108742518282,49.93775860793 L -97.107984644103,49.938125035258 L -97.107285672508,49.938412245503 L -97.105222325204,49.938967648151 L -97.104209605964,49.939220664015 L -97.102038882801,49.939666194386 L -97.10079920096,49.940004983585 L -97.102198054456,49.940457113731 L -97.103056628352,49.940734253919 L -97.103020108568,49.940743384677 L -97.112371361058,49.943764820056 L -97.113405671579,49.942340501737 L -97.116744551494,49.937742174516 L -97.121042229667,49.932852446195 L -97.122857534828,49.929638289388 L -97.122605005221,49.929556864966 L -97.122415140437,49.929495674034 L -97.12222527645,49.929434482896 L -97.119173739749,49.928450937511 L -97.1194646758,49.928049075954 L -97.117322908765,49.927358446282 L -97.117144837334,49.927791453212 L -97.112968421714,49.926448323439 L -97.112949722481,49.926512320245 L -97.112816315215,49.926469479847 L -97.112282886859,49.926297534013 L -97.112236541376,49.926282595204 L -97.111212865878,49.925952611899 L -97.110218884317,49.925633193803 z\" /></g></svg>"
      ],
      "text/plain": [
       "<shapely.geometry.polygon.Polygon at 0x7f178dbc0e48>"
      ]
     },
     "execution_count": 47,
     "metadata": {},
     "output_type": "execute_result"
    }
   ],
   "source": [
    "neighbourhoods.newgeom[0]"
   ]
  },
  {
   "cell_type": "code",
   "execution_count": 51,
   "metadata": {
    "ExecuteTime": {
     "end_time": "2018-03-04T01:54:25.388182Z",
     "start_time": "2018-03-04T01:54:25.382327Z"
    }
   },
   "outputs": [
    {
     "data": {
      "text/plain": [
       "False"
      ]
     },
     "execution_count": 51,
     "metadata": {},
     "output_type": "execute_result"
    }
   ],
   "source": [
    "testhood = neighbourhoods.newgeom[0]\n",
    "testhood.intersects(bugs.newgeom[0])"
   ]
  },
  {
   "cell_type": "code",
   "execution_count": 62,
   "metadata": {
    "ExecuteTime": {
     "end_time": "2018-03-04T01:57:32.256030Z",
     "start_time": "2018-03-04T01:57:32.249619Z"
    }
   },
   "outputs": [
    {
     "data": {
      "text/plain": [
       "array(['north_east_1', 'north_east_2', 'north_east_3', 'north_east_4',\n",
       "       'north_east_5', 'north_east_6', 'north_east_7', 'north_west_1',\n",
       "       'north_west_2', 'north_west_3', 'north_west_4', 'north_west_5',\n",
       "       'north_west_6', 'north_west_7', 'rural_aa', 'rural_bb', 'rural_cc',\n",
       "       'rural_dd', 'rural_ee', 'rural_ff', 'rural_gg', 'rural_hh',\n",
       "       'rural_ii', 'south_east_1', 'south_east_2', 'south_east_3',\n",
       "       'south_east_4', 'south_east_5', 'south_east_6', 'south_east_7',\n",
       "       'south_west_1', 'south_west_2', 'south_west_3', 'south_west_4',\n",
       "       'south_west_5', 'south_west_6', 'south_west_7'], dtype=object)"
      ]
     },
     "execution_count": 62,
     "metadata": {},
     "output_type": "execute_result"
    }
   ],
   "source": [
    "bugs.location.unique()"
   ]
  },
  {
   "cell_type": "code",
   "execution_count": 68,
   "metadata": {
    "ExecuteTime": {
     "end_time": "2018-03-04T01:58:35.881290Z",
     "start_time": "2018-03-04T01:58:35.858009Z"
    }
   },
   "outputs": [
    {
     "name": "stdout",
     "output_type": "stream",
     "text": [
      "(37, 5)\n"
     ]
    },
    {
     "data": {
      "text/html": [
       "<div>\n",
       "<style scoped>\n",
       "    .dataframe tbody tr th:only-of-type {\n",
       "        vertical-align: middle;\n",
       "    }\n",
       "\n",
       "    .dataframe tbody tr th {\n",
       "        vertical-align: top;\n",
       "    }\n",
       "\n",
       "    .dataframe thead th {\n",
       "        text-align: right;\n",
       "    }\n",
       "</style>\n",
       "<table border=\"1\" class=\"dataframe\">\n",
       "  <thead>\n",
       "    <tr style=\"text-align: right;\">\n",
       "      <th></th>\n",
       "      <th>count_date</th>\n",
       "      <th>trap_days</th>\n",
       "      <th>location</th>\n",
       "      <th>bugcount</th>\n",
       "      <th>newgeom</th>\n",
       "    </tr>\n",
       "  </thead>\n",
       "  <tbody>\n",
       "    <tr>\n",
       "      <th>0</th>\n",
       "      <td>2015-05-04T00:00:00</td>\n",
       "      <td>3</td>\n",
       "      <td>north_east_1</td>\n",
       "      <td>0</td>\n",
       "      <td>POINT (-97.05930600000001 49.951867)</td>\n",
       "    </tr>\n",
       "    <tr>\n",
       "      <th>249</th>\n",
       "      <td>2015-05-04T00:00:00</td>\n",
       "      <td>3</td>\n",
       "      <td>north_east_2</td>\n",
       "      <td>2</td>\n",
       "      <td>POINT (-97.096341 49.933941)</td>\n",
       "    </tr>\n",
       "    <tr>\n",
       "      <th>498</th>\n",
       "      <td>2015-05-04T00:00:00</td>\n",
       "      <td>3</td>\n",
       "      <td>north_east_3</td>\n",
       "      <td>2</td>\n",
       "      <td>POINT (-97.05633 49.924809)</td>\n",
       "    </tr>\n",
       "    <tr>\n",
       "      <th>747</th>\n",
       "      <td>2015-05-04T00:00:00</td>\n",
       "      <td>3</td>\n",
       "      <td>north_east_4</td>\n",
       "      <td>0</td>\n",
       "      <td>POINT (-97.094797 49.906175)</td>\n",
       "    </tr>\n",
       "    <tr>\n",
       "      <th>996</th>\n",
       "      <td>2015-05-04T00:00:00</td>\n",
       "      <td>3</td>\n",
       "      <td>north_east_5</td>\n",
       "      <td>3</td>\n",
       "      <td>POINT (-97.022426 49.892358)</td>\n",
       "    </tr>\n",
       "  </tbody>\n",
       "</table>\n",
       "</div>"
      ],
      "text/plain": [
       "              count_date trap_days      location bugcount  \\\n",
       "0    2015-05-04T00:00:00         3  north_east_1        0   \n",
       "249  2015-05-04T00:00:00         3  north_east_2        2   \n",
       "498  2015-05-04T00:00:00         3  north_east_3        2   \n",
       "747  2015-05-04T00:00:00         3  north_east_4        0   \n",
       "996  2015-05-04T00:00:00         3  north_east_5        3   \n",
       "\n",
       "                                  newgeom  \n",
       "0    POINT (-97.05930600000001 49.951867)  \n",
       "249          POINT (-97.096341 49.933941)  \n",
       "498           POINT (-97.05633 49.924809)  \n",
       "747          POINT (-97.094797 49.906175)  \n",
       "996          POINT (-97.022426 49.892358)  "
      ]
     },
     "execution_count": 68,
     "metadata": {},
     "output_type": "execute_result"
    }
   ],
   "source": [
    "bugsubset = bugs[bugs.count_date == bugs.count_date[0]]\n",
    "print(bugsubset.shape)\n",
    "bugsubset.head()"
   ]
  },
  {
   "cell_type": "code",
   "execution_count": 77,
   "metadata": {
    "ExecuteTime": {
     "end_time": "2018-03-04T01:59:44.704380Z",
     "start_time": "2018-03-04T01:59:44.687442Z"
    }
   },
   "outputs": [
    {
     "data": {
      "text/html": [
       "<div>\n",
       "<style scoped>\n",
       "    .dataframe tbody tr th:only-of-type {\n",
       "        vertical-align: middle;\n",
       "    }\n",
       "\n",
       "    .dataframe tbody tr th {\n",
       "        vertical-align: top;\n",
       "    }\n",
       "\n",
       "    .dataframe thead th {\n",
       "        text-align: right;\n",
       "    }\n",
       "</style>\n",
       "<table border=\"1\" class=\"dataframe\">\n",
       "  <thead>\n",
       "    <tr style=\"text-align: right;\">\n",
       "      <th></th>\n",
       "      <th>newgeom</th>\n",
       "    </tr>\n",
       "    <tr>\n",
       "      <th>location</th>\n",
       "      <th></th>\n",
       "    </tr>\n",
       "  </thead>\n",
       "  <tbody>\n",
       "    <tr>\n",
       "      <th>north_east_1</th>\n",
       "      <td>POINT (-97.05930600000001 49.951867)</td>\n",
       "    </tr>\n",
       "    <tr>\n",
       "      <th>north_east_2</th>\n",
       "      <td>POINT (-97.096341 49.933941)</td>\n",
       "    </tr>\n",
       "    <tr>\n",
       "      <th>north_east_3</th>\n",
       "      <td>POINT (-97.05633 49.924809)</td>\n",
       "    </tr>\n",
       "    <tr>\n",
       "      <th>north_east_4</th>\n",
       "      <td>POINT (-97.094797 49.906175)</td>\n",
       "    </tr>\n",
       "    <tr>\n",
       "      <th>north_east_5</th>\n",
       "      <td>POINT (-97.022426 49.892358)</td>\n",
       "    </tr>\n",
       "  </tbody>\n",
       "</table>\n",
       "</div>"
      ],
      "text/plain": [
       "                                           newgeom\n",
       "location                                          \n",
       "north_east_1  POINT (-97.05930600000001 49.951867)\n",
       "north_east_2          POINT (-97.096341 49.933941)\n",
       "north_east_3           POINT (-97.05633 49.924809)\n",
       "north_east_4          POINT (-97.094797 49.906175)\n",
       "north_east_5          POINT (-97.022426 49.892358)"
      ]
     },
     "execution_count": 77,
     "metadata": {},
     "output_type": "execute_result"
    }
   ],
   "source": [
    "bugloc = bugsubset[['location','newgeom']].set_index('location')\n",
    "bugloc.head()"
   ]
  },
  {
   "cell_type": "code",
   "execution_count": 96,
   "metadata": {
    "ExecuteTime": {
     "end_time": "2018-03-04T02:06:05.635616Z",
     "start_time": "2018-03-04T02:06:05.613318Z"
    },
    "scrolled": false
   },
   "outputs": [
    {
     "data": {
      "text/html": [
       "<div>\n",
       "<style scoped>\n",
       "    .dataframe tbody tr th:only-of-type {\n",
       "        vertical-align: middle;\n",
       "    }\n",
       "\n",
       "    .dataframe tbody tr th {\n",
       "        vertical-align: top;\n",
       "    }\n",
       "\n",
       "    .dataframe thead th {\n",
       "        text-align: right;\n",
       "    }\n",
       "</style>\n",
       "<table border=\"1\" class=\"dataframe\">\n",
       "  <thead>\n",
       "    <tr style=\"text-align: right;\">\n",
       "      <th></th>\n",
       "      <th>name</th>\n",
       "      <th>the_geom</th>\n",
       "      <th>newgeom</th>\n",
       "    </tr>\n",
       "    <tr>\n",
       "      <th>id</th>\n",
       "      <th></th>\n",
       "      <th></th>\n",
       "      <th></th>\n",
       "    </tr>\n",
       "  </thead>\n",
       "  <tbody>\n",
       "    <tr>\n",
       "      <th>696</th>\n",
       "      <td>Seven Oaks</td>\n",
       "      <td>{'type': 'MultiPolygon', 'coordinates': [[[[-9...</td>\n",
       "      <td>POLYGON ((-97.11021888431701 49.925633193803, ...</td>\n",
       "    </tr>\n",
       "    <tr>\n",
       "      <th>178</th>\n",
       "      <td>Parker</td>\n",
       "      <td>{'type': 'MultiPolygon', 'coordinates': [[[[-9...</td>\n",
       "      <td>POLYGON ((-97.17615035641499 49.850537882086, ...</td>\n",
       "    </tr>\n",
       "    <tr>\n",
       "      <th>630</th>\n",
       "      <td>The Maples</td>\n",
       "      <td>{'type': 'MultiPolygon', 'coordinates': [[[[-9...</td>\n",
       "      <td>POLYGON ((-97.163398354858 49.941591371416, -9...</td>\n",
       "    </tr>\n",
       "    <tr>\n",
       "      <th>702</th>\n",
       "      <td>Luxton</td>\n",
       "      <td>{'type': 'MultiPolygon', 'coordinates': [[[[-9...</td>\n",
       "      <td>POLYGON ((-97.116047777972 49.920325228662, -9...</td>\n",
       "    </tr>\n",
       "    <tr>\n",
       "      <th>1012</th>\n",
       "      <td>Talbot-Grey</td>\n",
       "      <td>{'type': 'MultiPolygon', 'coordinates': [[[[-9...</td>\n",
       "      <td>POLYGON ((-97.101068054847 49.904738664792, -9...</td>\n",
       "    </tr>\n",
       "  </tbody>\n",
       "</table>\n",
       "</div>"
      ],
      "text/plain": [
       "             name                                           the_geom  \\\n",
       "id                                                                     \n",
       "696    Seven Oaks  {'type': 'MultiPolygon', 'coordinates': [[[[-9...   \n",
       "178        Parker  {'type': 'MultiPolygon', 'coordinates': [[[[-9...   \n",
       "630    The Maples  {'type': 'MultiPolygon', 'coordinates': [[[[-9...   \n",
       "702        Luxton  {'type': 'MultiPolygon', 'coordinates': [[[[-9...   \n",
       "1012  Talbot-Grey  {'type': 'MultiPolygon', 'coordinates': [[[[-9...   \n",
       "\n",
       "                                                newgeom  \n",
       "id                                                       \n",
       "696   POLYGON ((-97.11021888431701 49.925633193803, ...  \n",
       "178   POLYGON ((-97.17615035641499 49.850537882086, ...  \n",
       "630   POLYGON ((-97.163398354858 49.941591371416, -9...  \n",
       "702   POLYGON ((-97.116047777972 49.920325228662, -9...  \n",
       "1012  POLYGON ((-97.101068054847 49.904738664792, -9...  "
      ]
     },
     "execution_count": 96,
     "metadata": {},
     "output_type": "execute_result"
    }
   ],
   "source": [
    "df = neighbourhoods.set_index('id')\n",
    "df.head()"
   ]
  },
  {
   "cell_type": "code",
   "execution_count": 32,
   "metadata": {
    "ExecuteTime": {
     "end_time": "2018-03-04T03:47:04.614445Z",
     "start_time": "2018-03-04T03:47:04.500691Z"
    }
   },
   "outputs": [],
   "source": [
    "hood = neighbourhoods.set_index('id').to_dict(orient='record')\n",
    "bugloc = bugsubset[['location','newgeom']].set_index('location')\n",
    "bugloc.head()\n",
    "result = {}\n",
    "for datum in hood:\n",
    "    name, the_geom, newgeom = datum.values()\n",
    "    hoodloc = the_geom['coordinates']\n",
    "    hoodgeom = shapely.geometry.Polygon(hoodloc[0][0])\n",
    "    dump = [k for k,v in bugloc.to_dict()['newgeom'].items() if hoodgeom.intersects(v)]\n",
    "    #distance = GeoSeries.distance\n",
    "    if dump != []:\n",
    "        result[name] = dump\n"
   ]
  },
  {
   "cell_type": "code",
   "execution_count": 33,
   "metadata": {
    "ExecuteTime": {
     "end_time": "2018-03-04T03:47:06.324505Z",
     "start_time": "2018-03-04T03:47:06.316483Z"
    }
   },
   "outputs": [
    {
     "data": {
      "text/plain": [
       "{'Assiniboia Downs': ['rural_ii'],\n",
       " 'Assiniboine Park': ['south_west_3'],\n",
       " 'Brooklands': ['north_west_4'],\n",
       " 'Chevrier': ['south_west_5', 'south_west_7'],\n",
       " 'Crestview': ['north_west_1'],\n",
       " 'Deer Lodge': ['north_west_2'],\n",
       " 'Eric Coy': ['south_west_2'],\n",
       " 'Grassie': ['north_east_6'],\n",
       " 'Island Lakes': ['south_east_6'],\n",
       " 'Kildare-Redonda': ['north_east_7'],\n",
       " 'Meadowood': ['south_east_5'],\n",
       " 'Minto': ['north_west_3'],\n",
       " 'North River Heights': ['south_west_4'],\n",
       " 'Norwood West': ['south_east_1'],\n",
       " 'Pulberry': ['south_east_4'],\n",
       " 'River East': ['north_east_1'],\n",
       " 'River Park South': ['south_east_7'],\n",
       " 'Rosser-Old Kildonan': ['north_west_6'],\n",
       " 'Rossmere-A': ['north_east_2'],\n",
       " 'Shaughnessy Park': ['north_west_5'],\n",
       " 'Springfield South': ['north_east_3'],\n",
       " 'St. Vital Perimeter South': ['rural_ff'],\n",
       " 'Talbot-Grey': ['north_east_4'],\n",
       " 'Templeton-Sinclair': ['north_west_7'],\n",
       " 'Transcona Yards': ['north_east_5'],\n",
       " 'University': ['south_west_6'],\n",
       " 'Varennes': ['south_east_2'],\n",
       " 'West Perimeter South': ['south_west_1'],\n",
       " 'Windsor Park': ['south_east_3']}"
      ]
     },
     "execution_count": 33,
     "metadata": {},
     "output_type": "execute_result"
    }
   ],
   "source": [
    "result"
   ]
  },
  {
   "cell_type": "code",
   "execution_count": 183,
   "metadata": {
    "ExecuteTime": {
     "end_time": "2018-03-04T02:39:18.837356Z",
     "start_time": "2018-03-04T02:39:18.712623Z"
    }
   },
   "outputs": [],
   "source": [
    "hood = df.to_dict(orient='record')\n",
    "result = {}\n",
    "for datum in hood:\n",
    "    name, the_geom, newgeom = datum.values()\n",
    "    hoodloc = the_geom['coordinates']\n",
    "    hoodgeom = shapely.geometry.Polygon(hoodloc[0][0])\n",
    "    dump = {k:v for k,v in bugloc.to_dict()['newgeom'].items() if hoodgeom.intersects(v)}\n",
    "    #distance = GeoSeries.distance\n",
    "    if dump != {}:\n",
    "        result[name] = dump\n"
   ]
  },
  {
   "cell_type": "code",
   "execution_count": 186,
   "metadata": {
    "ExecuteTime": {
     "end_time": "2018-03-04T02:39:38.926182Z",
     "start_time": "2018-03-04T02:39:38.921039Z"
    }
   },
   "outputs": [
    {
     "data": {
      "text/plain": [
       "37"
      ]
     },
     "execution_count": 186,
     "metadata": {},
     "output_type": "execute_result"
    }
   ],
   "source": [
    "len(bugloc)"
   ]
  },
  {
   "cell_type": "code",
   "execution_count": 206,
   "metadata": {
    "ExecuteTime": {
     "end_time": "2018-03-04T02:43:18.155519Z",
     "start_time": "2018-03-04T02:43:18.147230Z"
    }
   },
   "outputs": [
    {
     "data": {
      "text/plain": [
       "0    POLYGON ((-97.071008132814 49.929370604903, -9...\n",
       "1    POLYGON ((-97.071008132814 49.929370604903, -9...\n",
       "2    POLYGON ((-97.071008132814 49.929370604903, -9...\n",
       "3    POLYGON ((-97.071008132814 49.929370604903, -9...\n",
       "4    POLYGON ((-97.071008132814 49.929370604903, -9...\n",
       "dtype: object"
      ]
     },
     "execution_count": 206,
     "metadata": {},
     "output_type": "execute_result"
    }
   ],
   "source": [
    "hoodgeom_series = GeoSeries([hoodgeom for x in range(0, len(bugloc))])\n",
    "hoodgeom_series.head()"
   ]
  },
  {
   "cell_type": "code",
   "execution_count": 215,
   "metadata": {
    "ExecuteTime": {
     "end_time": "2018-03-04T02:46:55.200328Z",
     "start_time": "2018-03-04T02:46:55.195545Z"
    }
   },
   "outputs": [
    {
     "data": {
      "text/plain": [
       "(37,)"
      ]
     },
     "execution_count": 215,
     "metadata": {},
     "output_type": "execute_result"
    }
   ],
   "source": [
    "hoodgeom_series.shape"
   ]
  },
  {
   "cell_type": "code",
   "execution_count": 217,
   "metadata": {
    "ExecuteTime": {
     "end_time": "2018-03-04T02:47:04.901318Z",
     "start_time": "2018-03-04T02:47:04.894168Z"
    }
   },
   "outputs": [
    {
     "data": {
      "text/plain": [
       "count_date                     2015-05-15T00:00:00\n",
       "trap_days                                        2\n",
       "location                              north_east_1\n",
       "bugcount                                         1\n",
       "newgeom       POINT (-97.05930600000001 49.951867)\n",
       "Name: 5, dtype: object"
      ]
     },
     "execution_count": 217,
     "metadata": {},
     "output_type": "execute_result"
    }
   ],
   "source": [
    "bugs.iloc[5]"
   ]
  },
  {
   "cell_type": "code",
   "execution_count": 218,
   "metadata": {
    "ExecuteTime": {
     "end_time": "2018-03-04T02:48:23.683154Z",
     "start_time": "2018-03-04T02:48:23.673734Z"
    }
   },
   "outputs": [
    {
     "data": {
      "text/plain": [
       "location\n",
       "north_east_1    POINT (-97.05930600000001 49.951867)\n",
       "north_east_2            POINT (-97.096341 49.933941)\n",
       "north_east_3             POINT (-97.05633 49.924809)\n",
       "north_east_4            POINT (-97.094797 49.906175)\n",
       "north_east_5            POINT (-97.022426 49.892358)\n",
       "Name: newgeom, dtype: object"
      ]
     },
     "execution_count": 218,
     "metadata": {},
     "output_type": "execute_result"
    }
   ],
   "source": [
    "bugloc_series = bugloc['newgeom']\n",
    "bugloc_series.head()\n"
   ]
  },
  {
   "cell_type": "code",
   "execution_count": 220,
   "metadata": {
    "ExecuteTime": {
     "end_time": "2018-03-04T02:48:44.210742Z",
     "start_time": "2018-03-04T02:48:44.203277Z"
    }
   },
   "outputs": [
    {
     "data": {
      "image/svg+xml": [
       "<svg xmlns=\"http://www.w3.org/2000/svg\" xmlns:xlink=\"http://www.w3.org/1999/xlink\" width=\"100.0\" height=\"100.0\" viewBox=\"-98.059306 48.951867 2.0 2.0\" preserveAspectRatio=\"xMinYMin meet\"><g transform=\"matrix(1,0,0,-1,0,99.903734)\"><circle cx=\"-97.059306\" cy=\"49.951867\" r=\"0.06\" stroke=\"#555555\" stroke-width=\"0.02\" fill=\"#66cc99\" opacity=\"0.6\" /></g></svg>"
      ],
      "text/plain": [
       "<shapely.geometry.point.Point at 0x7f17746235c0>"
      ]
     },
     "execution_count": 220,
     "metadata": {},
     "output_type": "execute_result"
    }
   ],
   "source": [
    "bugloc_series['north_east_1']"
   ]
  },
  {
   "cell_type": "code",
   "execution_count": 213,
   "metadata": {
    "ExecuteTime": {
     "end_time": "2018-03-04T02:44:48.991167Z",
     "start_time": "2018-03-04T02:44:48.980745Z"
    }
   },
   "outputs": [
    {
     "data": {
      "text/plain": [
       "location\n",
       "north_east_1    POLYGON ((-97.071008132814 49.929370604903, -9...\n",
       "north_east_2    POLYGON ((-97.071008132814 49.929370604903, -9...\n",
       "north_east_3    POLYGON ((-97.071008132814 49.929370604903, -9...\n",
       "north_east_4    POLYGON ((-97.071008132814 49.929370604903, -9...\n",
       "north_east_5    POLYGON ((-97.071008132814 49.929370604903, -9...\n",
       "dtype: object"
      ]
     },
     "execution_count": 213,
     "metadata": {},
     "output_type": "execute_result"
    }
   ],
   "source": [
    "temp_hoodgeom_series = GeoSeries([hoodgeom for x in range(0, len(bugloc))], index = bugloc_series.index)\n",
    "temp_hoodgeom_series.head()"
   ]
  },
  {
   "cell_type": "code",
   "execution_count": 214,
   "metadata": {
    "ExecuteTime": {
     "end_time": "2018-03-04T02:44:55.214065Z",
     "start_time": "2018-03-04T02:44:55.205465Z"
    }
   },
   "outputs": [
    {
     "data": {
      "text/plain": [
       "location\n",
       "north_east_1    0.016572\n",
       "north_east_2    0.025742\n",
       "north_east_3    0.005385\n",
       "north_east_4    0.033226\n",
       "north_east_5    0.049609\n",
       "north_east_6    0.016128\n",
       "north_east_7    0.075568\n",
       "north_west_1    0.240681\n",
       "north_west_2    0.173538\n",
       "north_west_3    0.128757\n",
       "north_west_4    0.131806\n",
       "north_west_5    0.099467\n",
       "north_west_6    0.089433\n",
       "north_west_7    0.058642\n",
       "rural_aa        0.181514\n",
       "rural_bb        0.142491\n",
       "rural_cc        0.061496\n",
       "rural_dd        0.069780\n",
       "rural_ee        0.103360\n",
       "rural_ff        0.126502\n",
       "rural_gg        0.306202\n",
       "rural_hh        0.277623\n",
       "rural_ii        0.273520\n",
       "south_east_1    0.402220\n",
       "south_east_2    0.082242\n",
       "south_east_3    0.067132\n",
       "south_east_4    0.122343\n",
       "south_east_5    0.103824\n",
       "south_east_6    0.098959\n",
       "south_east_7    0.126030\n",
       "south_west_1    0.278735\n",
       "south_west_2    0.218176\n",
       "south_west_3    0.182378\n",
       "south_west_4    0.128607\n",
       "south_west_5    0.146275\n",
       "south_west_6    0.140901\n",
       "south_west_7    0.142775\n",
       "dtype: float64"
      ]
     },
     "execution_count": 214,
     "metadata": {},
     "output_type": "execute_result"
    }
   ],
   "source": [
    "GeoSeries.distance(bugloc_series, hoodgeom_series)"
   ]
  },
  {
   "cell_type": "code",
   "execution_count": 181,
   "metadata": {
    "ExecuteTime": {
     "end_time": "2018-03-04T02:37:33.656877Z",
     "start_time": "2018-03-04T02:37:33.583575Z"
    },
    "scrolled": false
   },
   "outputs": [
    {
     "data": {
      "text/plain": [
       "0       0.043155\n",
       "1       0.134963\n",
       "2       0.100383\n",
       "3       0.057274\n",
       "4       0.050027\n",
       "5       0.067987\n",
       "6       0.125571\n",
       "7       0.111837\n",
       "8       0.194437\n",
       "9       0.025912\n",
       "10      0.083309\n",
       "11      0.090592\n",
       "12      0.111136\n",
       "13      0.056674\n",
       "14      0.072437\n",
       "15      0.079613\n",
       "16      0.063291\n",
       "17      0.162240\n",
       "18      0.092837\n",
       "19      0.209310\n",
       "20      0.039239\n",
       "21      0.106377\n",
       "22      0.047638\n",
       "23      0.247477\n",
       "24      0.049767\n",
       "25      0.037765\n",
       "26      0.066041\n",
       "27      0.167527\n",
       "28      0.025783\n",
       "29      0.095835\n",
       "          ...   \n",
       "9183         NaN\n",
       "9184         NaN\n",
       "9185         NaN\n",
       "9186         NaN\n",
       "9187         NaN\n",
       "9188         NaN\n",
       "9189         NaN\n",
       "9190         NaN\n",
       "9191         NaN\n",
       "9192         NaN\n",
       "9193         NaN\n",
       "9194         NaN\n",
       "9195         NaN\n",
       "9196         NaN\n",
       "9197         NaN\n",
       "9198         NaN\n",
       "9199         NaN\n",
       "9200         NaN\n",
       "9201         NaN\n",
       "9202         NaN\n",
       "9203         NaN\n",
       "9204         NaN\n",
       "9205         NaN\n",
       "9206         NaN\n",
       "9207         NaN\n",
       "9208         NaN\n",
       "9209         NaN\n",
       "9210         NaN\n",
       "9211         NaN\n",
       "9212         NaN\n",
       "Length: 9213, dtype: float64"
      ]
     },
     "execution_count": 181,
     "metadata": {},
     "output_type": "execute_result"
    }
   ],
   "source": [
    "GeoSeries.distance(bugs.newgeom, neighbourhoods.newgeom)"
   ]
  },
  {
   "cell_type": "code",
   "execution_count": 157,
   "metadata": {
    "ExecuteTime": {
     "end_time": "2018-03-04T02:23:58.846124Z",
     "start_time": "2018-03-04T02:23:58.842081Z"
    },
    "scrolled": false
   },
   "outputs": [
    {
     "data": {
      "text/plain": [
       "<function geopandas.base.GeoPandasBase.distance>"
      ]
     },
     "execution_count": 157,
     "metadata": {},
     "output_type": "execute_result"
    }
   ],
   "source": [
    "GeoSeries.distance"
   ]
  },
  {
   "cell_type": "code",
   "execution_count": 158,
   "metadata": {
    "ExecuteTime": {
     "end_time": "2018-03-04T02:24:24.887719Z",
     "start_time": "2018-03-04T02:24:24.882259Z"
    }
   },
   "outputs": [
    {
     "data": {
      "image/svg+xml": [
       "<svg xmlns=\"http://www.w3.org/2000/svg\" xmlns:xlink=\"http://www.w3.org/1999/xlink\" width=\"100.0\" height=\"100.0\" viewBox=\"-97.07176448351753 49.92560916150848 0.02042146899505326 0.010857058679036413\" preserveAspectRatio=\"xMinYMin meet\"><g transform=\"matrix(1,0,0,-1,0,99.862075381696)\"><path fill-rule=\"evenodd\" fill=\"#66cc99\" stroke=\"#555555\" stroke-width=\"0.0004084293799010652\" opacity=\"0.6\" d=\"M -97.071008132814,49.929370604903 L -97.061978037902,49.926365512212 L -97.059358366453,49.929646470629 L -97.052099365226,49.932114247383 L -97.052329448663,49.932190856964 L -97.062644119052,49.935595491879 L -97.062798686409,49.93564650044 L -97.062989585604,49.935709869484 L -97.063080098318,49.935638243655 L -97.071008132814,49.929370604903 z\" /></g></svg>"
      ],
      "text/plain": [
       "<shapely.geometry.polygon.Polygon at 0x7f176be94128>"
      ]
     },
     "execution_count": 158,
     "metadata": {},
     "output_type": "execute_result"
    }
   ],
   "source": [
    "hoodgeom"
   ]
  },
  {
   "cell_type": "code",
   "execution_count": 170,
   "metadata": {
    "ExecuteTime": {
     "end_time": "2018-03-04T02:30:47.826850Z",
     "start_time": "2018-03-04T02:30:47.823727Z"
    }
   },
   "outputs": [],
   "source": [
    "bugeom = bugloc.to_dict()['newgeom']['north_east_1']"
   ]
  },
  {
   "cell_type": "code",
   "execution_count": 172,
   "metadata": {
    "ExecuteTime": {
     "end_time": "2018-03-04T02:31:02.662445Z",
     "start_time": "2018-03-04T02:31:02.658807Z"
    }
   },
   "outputs": [
    {
     "name": "stdout",
     "output_type": "stream",
     "text": [
      "POINT (-97.05930600000001 49.951867)\n"
     ]
    }
   ],
   "source": [
    "print(bugeom)"
   ]
  },
  {
   "cell_type": "code",
   "execution_count": 173,
   "metadata": {
    "ExecuteTime": {
     "end_time": "2018-03-04T02:31:07.632436Z",
     "start_time": "2018-03-04T02:31:07.628281Z"
    }
   },
   "outputs": [
    {
     "name": "stdout",
     "output_type": "stream",
     "text": [
      "POLYGON ((-97.071008132814 49.929370604903, -97.06197803790199 49.926365512212, -97.059358366453 49.929646470629, -97.052099365226 49.932114247383, -97.052329448663 49.932190856964, -97.062644119052 49.935595491879, -97.062798686409 49.93564650044, -97.062989585604 49.935709869484, -97.063080098318 49.935638243655, -97.071008132814 49.929370604903))\n"
     ]
    }
   ],
   "source": [
    "print(hoodgeom)"
   ]
  },
  {
   "cell_type": "code",
   "execution_count": 175,
   "metadata": {
    "ExecuteTime": {
     "end_time": "2018-03-04T02:31:25.802193Z",
     "start_time": "2018-03-04T02:31:25.786956Z"
    }
   },
   "outputs": [
    {
     "ename": "AttributeError",
     "evalue": "'Polygon' object has no attribute 'geometry'",
     "output_type": "error",
     "traceback": [
      "\u001b[0;31m---------------------------------------------------------------------------\u001b[0m",
      "\u001b[0;31mAttributeError\u001b[0m                            Traceback (most recent call last)",
      "\u001b[0;32m<ipython-input-175-3ba822d0a2a8>\u001b[0m in \u001b[0;36m<module>\u001b[0;34m()\u001b[0m\n\u001b[0;32m----> 1\u001b[0;31m \u001b[0mGeoSeries\u001b[0m\u001b[0;34m.\u001b[0m\u001b[0mdistance\u001b[0m\u001b[0;34m(\u001b[0m \u001b[0mhoodgeom\u001b[0m\u001b[0;34m,\u001b[0m \u001b[0mbugeom\u001b[0m\u001b[0;34m)\u001b[0m\u001b[0;34m\u001b[0m\u001b[0m\n\u001b[0m",
      "\u001b[0;32m~/anaconda3/envs/winnipeg/lib/python3.6/site-packages/geopandas/base.py\u001b[0m in \u001b[0;36mdistance\u001b[0;34m(self, other)\u001b[0m\n\u001b[1;32m    243\u001b[0m     \u001b[0;32mdef\u001b[0m \u001b[0mdistance\u001b[0m\u001b[0;34m(\u001b[0m\u001b[0mself\u001b[0m\u001b[0;34m,\u001b[0m \u001b[0mother\u001b[0m\u001b[0;34m)\u001b[0m\u001b[0;34m:\u001b[0m\u001b[0;34m\u001b[0m\u001b[0m\n\u001b[1;32m    244\u001b[0m         \u001b[0;34m\"\"\"Return distance of each geometry to *other*\"\"\"\u001b[0m\u001b[0;34m\u001b[0m\u001b[0m\n\u001b[0;32m--> 245\u001b[0;31m         \u001b[0;32mreturn\u001b[0m \u001b[0m_series_op\u001b[0m\u001b[0;34m(\u001b[0m\u001b[0mself\u001b[0m\u001b[0;34m,\u001b[0m \u001b[0mother\u001b[0m\u001b[0;34m,\u001b[0m \u001b[0;34m'distance'\u001b[0m\u001b[0;34m)\u001b[0m\u001b[0;34m\u001b[0m\u001b[0m\n\u001b[0m\u001b[1;32m    246\u001b[0m \u001b[0;34m\u001b[0m\u001b[0m\n\u001b[1;32m    247\u001b[0m     \u001b[0;31m#\u001b[0m\u001b[0;34m\u001b[0m\u001b[0;34m\u001b[0m\u001b[0m\n",
      "\u001b[0;32m~/anaconda3/envs/winnipeg/lib/python3.6/site-packages/geopandas/base.py\u001b[0m in \u001b[0;36m_series_op\u001b[0;34m(this, other, op, **kwargs)\u001b[0m\n\u001b[1;32m     52\u001b[0m     \u001b[0;32melse\u001b[0m\u001b[0;34m:\u001b[0m\u001b[0;34m\u001b[0m\u001b[0m\n\u001b[1;32m     53\u001b[0m         return Series([getattr(s, op)(other, **kwargs) if s else null_val\n\u001b[0;32m---> 54\u001b[0;31m                       for s in this.geometry], index=this.index)\n\u001b[0m\u001b[1;32m     55\u001b[0m \u001b[0;34m\u001b[0m\u001b[0m\n\u001b[1;32m     56\u001b[0m \u001b[0;34m\u001b[0m\u001b[0m\n",
      "\u001b[0;31mAttributeError\u001b[0m: 'Polygon' object has no attribute 'geometry'"
     ]
    }
   ],
   "source": [
    "GeoSeries.distance( hoodgeom, bugeom)"
   ]
  },
  {
   "cell_type": "code",
   "execution_count": 150,
   "metadata": {
    "ExecuteTime": {
     "end_time": "2018-03-04T02:19:42.395952Z",
     "start_time": "2018-03-04T02:19:42.385307Z"
    }
   },
   "outputs": [
    {
     "data": {
      "text/plain": [
       "{'north_east_1': <shapely.geometry.point.Point at 0x7f17746235c0>,\n",
       " 'north_east_2': <shapely.geometry.point.Point at 0x7f1774946be0>,\n",
       " 'north_east_3': <shapely.geometry.point.Point at 0x7f177484c358>,\n",
       " 'north_east_4': <shapely.geometry.point.Point at 0x7f1774788a90>,\n",
       " 'north_east_5': <shapely.geometry.point.Point at 0x7f177466e208>,\n",
       " 'north_east_6': <shapely.geometry.point.Point at 0x7f177469f940>,\n",
       " 'north_east_7': <shapely.geometry.point.Point at 0x7f17746150b8>,\n",
       " 'north_west_1': <shapely.geometry.point.Point at 0x7f17745447f0>,\n",
       " 'north_west_2': <shapely.geometry.point.Point at 0x7f1774466f28>,\n",
       " 'north_west_3': <shapely.geometry.point.Point at 0x7f17743e86a0>,\n",
       " 'north_west_4': <shapely.geometry.point.Point at 0x7f177440cdd8>,\n",
       " 'north_west_5': <shapely.geometry.point.Point at 0x7f177434b550>,\n",
       " 'north_west_6': <shapely.geometry.point.Point at 0x7f17749b0c88>,\n",
       " 'north_west_7': <shapely.geometry.point.Point at 0x7f1774b41048>,\n",
       " 'rural_aa': <shapely.geometry.point.Point at 0x7f1774d159b0>,\n",
       " 'rural_bb': <shapely.geometry.point.Point at 0x7f177430be10>,\n",
       " 'rural_cc': <shapely.geometry.point.Point at 0x7f177431a588>,\n",
       " 'rural_dd': <shapely.geometry.point.Point at 0x7f1774f3acc0>,\n",
       " 'rural_ee': <shapely.geometry.point.Point at 0x7f1774f49438>,\n",
       " 'rural_ff': <shapely.geometry.point.Point at 0x7f1774f53b70>,\n",
       " 'rural_gg': <shapely.geometry.point.Point at 0x7f1774f622e8>,\n",
       " 'rural_hh': <shapely.geometry.point.Point at 0x7f1774f6ca20>,\n",
       " 'rural_ii': <shapely.geometry.point.Point at 0x7f1774efb198>,\n",
       " 'south_east_1': <shapely.geometry.point.Point at 0x7f1774f058d0>,\n",
       " 'south_east_2': <shapely.geometry.point.Point at 0x7f1774f14048>,\n",
       " 'south_east_3': <shapely.geometry.point.Point at 0x7f1774f1e780>,\n",
       " 'south_east_4': <shapely.geometry.point.Point at 0x7f1774f29eb8>,\n",
       " 'south_east_5': <shapely.geometry.point.Point at 0x7f1774f37630>,\n",
       " 'south_east_6': <shapely.geometry.point.Point at 0x7f1774ec2d68>,\n",
       " 'south_east_7': <shapely.geometry.point.Point at 0x7f1774ed04e0>,\n",
       " 'south_west_1': <shapely.geometry.point.Point at 0x7f1774edbc18>,\n",
       " 'south_west_2': <shapely.geometry.point.Point at 0x7f1774ee9390>,\n",
       " 'south_west_3': <shapely.geometry.point.Point at 0x7f1774ef4ac8>,\n",
       " 'south_west_4': <shapely.geometry.point.Point at 0x7f1774e82240>,\n",
       " 'south_west_5': <shapely.geometry.point.Point at 0x7f1774e8d978>,\n",
       " 'south_west_6': <shapely.geometry.point.Point at 0x7f1774e9b0f0>,\n",
       " 'south_west_7': <shapely.geometry.point.Point at 0x7f1774ea6828>}"
      ]
     },
     "execution_count": 150,
     "metadata": {},
     "output_type": "execute_result"
    }
   ],
   "source": [
    "bugloc.to_dict()['newgeom']"
   ]
  },
  {
   "cell_type": "code",
   "execution_count": 153,
   "metadata": {
    "ExecuteTime": {
     "end_time": "2018-03-04T02:20:04.889663Z",
     "start_time": "2018-03-04T02:20:04.881395Z"
    }
   },
   "outputs": [
    {
     "data": {
      "text/plain": [
       "{}"
      ]
     },
     "execution_count": 153,
     "metadata": {},
     "output_type": "execute_result"
    }
   ],
   "source": [
    "{k:v for k,v in bugloc.to_dict()['newgeom'].items() if hoodgeom.intersects(v)\n",
    "}"
   ]
  },
  {
   "cell_type": "code",
   "execution_count": 143,
   "metadata": {
    "ExecuteTime": {
     "end_time": "2018-03-04T02:18:32.855318Z",
     "start_time": "2018-03-04T02:18:32.850012Z"
    }
   },
   "outputs": [
    {
     "data": {
      "text/plain": [
       "False"
      ]
     },
     "execution_count": 143,
     "metadata": {},
     "output_type": "execute_result"
    }
   ],
   "source": [
    "hoodgeom.intersects(bugloc.newgeom[0])"
   ]
  },
  {
   "cell_type": "code",
   "execution_count": 141,
   "metadata": {
    "ExecuteTime": {
     "end_time": "2018-03-04T02:18:22.684597Z",
     "start_time": "2018-03-04T02:18:22.677949Z"
    }
   },
   "outputs": [
    {
     "data": {
      "image/svg+xml": [
       "<svg xmlns=\"http://www.w3.org/2000/svg\" xmlns:xlink=\"http://www.w3.org/1999/xlink\" width=\"100.0\" height=\"100.0\" viewBox=\"-98.059306 48.951867 2.0 2.0\" preserveAspectRatio=\"xMinYMin meet\"><g transform=\"matrix(1,0,0,-1,0,99.903734)\"><circle cx=\"-97.059306\" cy=\"49.951867\" r=\"0.06\" stroke=\"#555555\" stroke-width=\"0.02\" fill=\"#66cc99\" opacity=\"0.6\" /></g></svg>"
      ],
      "text/plain": [
       "<shapely.geometry.point.Point at 0x7f17746235c0>"
      ]
     },
     "execution_count": 141,
     "metadata": {},
     "output_type": "execute_result"
    }
   ],
   "source": [
    "bugloc.newgeom[0]"
   ]
  },
  {
   "cell_type": "code",
   "execution_count": 124,
   "metadata": {
    "ExecuteTime": {
     "end_time": "2018-03-04T02:15:03.189622Z",
     "start_time": "2018-03-04T02:15:03.186717Z"
    }
   },
   "outputs": [],
   "source": [
    "from geopandas import GeoSeries"
   ]
  },
  {
   "cell_type": "code",
   "execution_count": null,
   "metadata": {},
   "outputs": [],
   "source": []
  },
  {
   "cell_type": "code",
   "execution_count": 49,
   "metadata": {
    "ExecuteTime": {
     "end_time": "2018-03-04T01:53:56.240242Z",
     "start_time": "2018-03-04T01:53:56.233044Z"
    }
   },
   "outputs": [
    {
     "data": {
      "text/plain": [
       "False"
      ]
     },
     "execution_count": 49,
     "metadata": {},
     "output_type": "execute_result"
    }
   ],
   "source": [
    "testhood.intersects(bugs.newgeom[0])"
   ]
  },
  {
   "cell_type": "code",
   "execution_count": 46,
   "metadata": {
    "ExecuteTime": {
     "end_time": "2018-03-04T01:51:51.087801Z",
     "start_time": "2018-03-04T01:51:51.078082Z"
    }
   },
   "outputs": [
    {
     "ename": "TypeError",
     "evalue": "argument of type 'Polygon' is not iterable",
     "output_type": "error",
     "traceback": [
      "\u001b[0;31m---------------------------------------------------------------------------\u001b[0m",
      "\u001b[0;31mTypeError\u001b[0m                                 Traceback (most recent call last)",
      "\u001b[0;32m<ipython-input-46-4ba8a7fe2b08>\u001b[0m in \u001b[0;36m<module>\u001b[0;34m()\u001b[0m\n\u001b[0;32m----> 1\u001b[0;31m \u001b[0mbugs\u001b[0m\u001b[0;34m.\u001b[0m\u001b[0mnewgeom\u001b[0m\u001b[0;34m[\u001b[0m\u001b[0;36m0\u001b[0m\u001b[0;34m]\u001b[0m \u001b[0;32min\u001b[0m \u001b[0mneighbourhoods\u001b[0m\u001b[0;34m.\u001b[0m\u001b[0mnewgeom\u001b[0m\u001b[0;34m[\u001b[0m\u001b[0;36m0\u001b[0m\u001b[0;34m]\u001b[0m\u001b[0;34m\u001b[0m\u001b[0m\n\u001b[0m",
      "\u001b[0;31mTypeError\u001b[0m: argument of type 'Polygon' is not iterable"
     ]
    }
   ],
   "source": [
    "bugs.newgeom[0] in neighbourhoods.newgeom[0]"
   ]
  },
  {
   "cell_type": "code",
   "execution_count": 14,
   "metadata": {
    "ExecuteTime": {
     "end_time": "2018-03-04T01:38:52.114364Z",
     "start_time": "2018-03-04T01:38:52.086509Z"
    }
   },
   "outputs": [
    {
     "ename": "KeyError",
     "evalue": "'Point'",
     "output_type": "error",
     "traceback": [
      "\u001b[0;31m---------------------------------------------------------------------------\u001b[0m",
      "\u001b[0;31mKeyError\u001b[0m                                  Traceback (most recent call last)",
      "\u001b[0;32m<ipython-input-14-1e5fb85260df>\u001b[0m in \u001b[0;36m<module>\u001b[0;34m()\u001b[0m\n\u001b[1;32m     15\u001b[0m \u001b[0;34m\u001b[0m\u001b[0m\n\u001b[1;32m     16\u001b[0m \u001b[0;34m\u001b[0m\u001b[0m\n\u001b[0;32m---> 17\u001b[0;31m \u001b[0mtransform_geometry_json_to_object\u001b[0m\u001b[0;34m(\u001b[0m\u001b[0mbikes\u001b[0m\u001b[0;34m.\u001b[0m\u001b[0mthe_geom\u001b[0m\u001b[0;34m)\u001b[0m\u001b[0;34m\u001b[0m\u001b[0m\n\u001b[0m",
      "\u001b[0;32m<ipython-input-14-1e5fb85260df>\u001b[0m in \u001b[0;36mtransform_geometry_json_to_object\u001b[0;34m(the_geom, geom_type, coord_varname)\u001b[0m\n\u001b[1;32m      6\u001b[0m     \u001b[0mresult\u001b[0m \u001b[0;34m=\u001b[0m \u001b[0;34m[\u001b[0m\u001b[0;34m]\u001b[0m\u001b[0;34m\u001b[0m\u001b[0m\n\u001b[1;32m      7\u001b[0m     \u001b[0;32mfor\u001b[0m \u001b[0mdatum\u001b[0m \u001b[0;32min\u001b[0m \u001b[0mthe_geom\u001b[0m\u001b[0;34m:\u001b[0m\u001b[0;34m\u001b[0m\u001b[0m\n\u001b[0;32m----> 8\u001b[0;31m         \u001b[0mgeom_type\u001b[0m    \u001b[0;34m=\u001b[0m \u001b[0mdatum\u001b[0m\u001b[0;34m[\u001b[0m\u001b[0mgeom_type\u001b[0m\u001b[0;34m]\u001b[0m\u001b[0;34m\u001b[0m\u001b[0m\n\u001b[0m\u001b[1;32m      9\u001b[0m \u001b[0;31m#         coord_values = datum[coord_varname]\u001b[0m\u001b[0;34m\u001b[0m\u001b[0;34m\u001b[0m\u001b[0m\n\u001b[1;32m     10\u001b[0m \u001b[0;31m#         if geom_type == 'MultiPolygon':\u001b[0m\u001b[0;34m\u001b[0m\u001b[0;34m\u001b[0m\u001b[0m\n",
      "\u001b[0;31mKeyError\u001b[0m: 'Point'"
     ]
    }
   ],
   "source": [
    "import shapely.geometry\n",
    "def transform_geometry_json_to_object(the_geom, \n",
    "                                      geom_type = \"type\",\n",
    "                                      coord_varname = 'coordinates'\n",
    "                                     ):\n",
    "    result = []\n",
    "    for datum in the_geom:\n",
    "        geom_type    = datum[geom_type]\n",
    "#         coord_values = datum[coord_varname]\n",
    "#         if geom_type == 'MultiPolygon':\n",
    "#             geom_type = 'Polygon'\n",
    "#         geomfxn = getattr(shapely.geometry, geom_type)\n",
    "#         output = geomfxn(coord_values)\n",
    "#         result.append(output)\n",
    "\n",
    "\n",
    "transform_geometry_json_to_object(bikes.the_geom)"
   ]
  }
 ],
 "metadata": {
  "hide_input": false,
  "kernelspec": {
   "display_name": "Python 3",
   "language": "python",
   "name": "python3"
  },
  "language_info": {
   "codemirror_mode": {
    "name": "ipython",
    "version": 3
   },
   "file_extension": ".py",
   "mimetype": "text/x-python",
   "name": "python",
   "nbconvert_exporter": "python",
   "pygments_lexer": "ipython3",
   "version": "3.6.4"
  },
  "latex_envs": {
   "LaTeX_envs_menu_present": true,
   "bibliofile": "biblio.bib",
   "cite_by": "apalike",
   "current_citInitial": 1,
   "eqLabelWithNumbers": true,
   "eqNumInitial": 1,
   "labels_anchors": false,
   "latex_user_defs": false,
   "report_style_numbering": false,
   "user_envs_cfg": false
  },
  "toc": {
   "nav_menu": {
    "height": "12px",
    "width": "252px"
   },
   "number_sections": true,
   "sideBar": true,
   "skip_h1_title": false,
   "title_cell": "Table of Contents",
   "title_sidebar": "Contents",
   "toc_cell": false,
   "toc_position": {},
   "toc_section_display": "block",
   "toc_window_display": false
  }
 },
 "nbformat": 4,
 "nbformat_minor": 2
}
