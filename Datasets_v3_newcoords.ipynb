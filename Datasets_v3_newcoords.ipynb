{
 "cells": [
  {
   "cell_type": "code",
   "execution_count": 1,
   "metadata": {
    "ExecuteTime": {
     "end_time": "2018-03-04T03:38:50.463682Z",
     "start_time": "2018-03-04T03:38:50.458976Z"
    }
   },
   "outputs": [],
   "source": [
    "#!pip install sodapy"
   ]
  },
  {
   "cell_type": "markdown",
   "metadata": {},
   "source": [
    "# Datasets"
   ]
  },
  {
   "cell_type": "code",
   "execution_count": 2,
   "metadata": {
    "ExecuteTime": {
     "end_time": "2018-03-04T03:38:52.247810Z",
     "start_time": "2018-03-04T03:38:51.639876Z"
    }
   },
   "outputs": [],
   "source": [
    "import pandas as pd\n",
    "from sodapy import Socrata"
   ]
  },
  {
   "cell_type": "markdown",
   "metadata": {
    "ExecuteTime": {
     "end_time": "2018-03-03T23:14:10.650069Z",
     "start_time": "2018-03-03T23:14:10.639163Z"
    }
   },
   "source": [
    "- neighbourhood\n",
    "- bugs\n",
    "- bikes"
   ]
  },
  {
   "cell_type": "markdown",
   "metadata": {},
   "source": [
    "## neighbourhoods"
   ]
  },
  {
   "cell_type": "code",
   "execution_count": 3,
   "metadata": {
    "ExecuteTime": {
     "end_time": "2018-03-04T03:38:59.956930Z",
     "start_time": "2018-03-04T03:38:58.913496Z"
    }
   },
   "outputs": [
    {
     "name": "stderr",
     "output_type": "stream",
     "text": [
      "WARNING:root:Requests made without an app_token will be subject to strict throttling limits.\n"
     ]
    },
    {
     "data": {
      "text/html": [
       "<div>\n",
       "<style scoped>\n",
       "    .dataframe tbody tr th:only-of-type {\n",
       "        vertical-align: middle;\n",
       "    }\n",
       "\n",
       "    .dataframe tbody tr th {\n",
       "        vertical-align: top;\n",
       "    }\n",
       "\n",
       "    .dataframe thead th {\n",
       "        text-align: right;\n",
       "    }\n",
       "</style>\n",
       "<table border=\"1\" class=\"dataframe\">\n",
       "  <thead>\n",
       "    <tr style=\"text-align: right;\">\n",
       "      <th></th>\n",
       "      <th>id</th>\n",
       "      <th>name</th>\n",
       "      <th>the_geom</th>\n",
       "      <th>newgeom</th>\n",
       "    </tr>\n",
       "  </thead>\n",
       "  <tbody>\n",
       "    <tr>\n",
       "      <th>0</th>\n",
       "      <td>696</td>\n",
       "      <td>Seven Oaks</td>\n",
       "      <td>{'type': 'MultiPolygon', 'coordinates': [[[[-9...</td>\n",
       "      <td>POLYGON ((-97.11021888431701 49.925633193803, ...</td>\n",
       "    </tr>\n",
       "    <tr>\n",
       "      <th>1</th>\n",
       "      <td>178</td>\n",
       "      <td>Parker</td>\n",
       "      <td>{'type': 'MultiPolygon', 'coordinates': [[[[-9...</td>\n",
       "      <td>POLYGON ((-97.17615035641499 49.850537882086, ...</td>\n",
       "    </tr>\n",
       "    <tr>\n",
       "      <th>2</th>\n",
       "      <td>630</td>\n",
       "      <td>The Maples</td>\n",
       "      <td>{'type': 'MultiPolygon', 'coordinates': [[[[-9...</td>\n",
       "      <td>POLYGON ((-97.163398354858 49.941591371416, -9...</td>\n",
       "    </tr>\n",
       "    <tr>\n",
       "      <th>3</th>\n",
       "      <td>702</td>\n",
       "      <td>Luxton</td>\n",
       "      <td>{'type': 'MultiPolygon', 'coordinates': [[[[-9...</td>\n",
       "      <td>POLYGON ((-97.116047777972 49.920325228662, -9...</td>\n",
       "    </tr>\n",
       "    <tr>\n",
       "      <th>4</th>\n",
       "      <td>1012</td>\n",
       "      <td>Talbot-Grey</td>\n",
       "      <td>{'type': 'MultiPolygon', 'coordinates': [[[[-9...</td>\n",
       "      <td>POLYGON ((-97.101068054847 49.904738664792, -9...</td>\n",
       "    </tr>\n",
       "  </tbody>\n",
       "</table>\n",
       "</div>"
      ],
      "text/plain": [
       "     id         name                                           the_geom  \\\n",
       "0   696   Seven Oaks  {'type': 'MultiPolygon', 'coordinates': [[[[-9...   \n",
       "1   178       Parker  {'type': 'MultiPolygon', 'coordinates': [[[[-9...   \n",
       "2   630   The Maples  {'type': 'MultiPolygon', 'coordinates': [[[[-9...   \n",
       "3   702       Luxton  {'type': 'MultiPolygon', 'coordinates': [[[[-9...   \n",
       "4  1012  Talbot-Grey  {'type': 'MultiPolygon', 'coordinates': [[[[-9...   \n",
       "\n",
       "                                             newgeom  \n",
       "0  POLYGON ((-97.11021888431701 49.925633193803, ...  \n",
       "1  POLYGON ((-97.17615035641499 49.850537882086, ...  \n",
       "2  POLYGON ((-97.163398354858 49.941591371416, -9...  \n",
       "3  POLYGON ((-97.116047777972 49.920325228662, -9...  \n",
       "4  POLYGON ((-97.101068054847 49.904738664792, -9...  "
      ]
     },
     "execution_count": 3,
     "metadata": {},
     "output_type": "execute_result"
    }
   ],
   "source": [
    "import shapely.geometry\n",
    "from geopandas import GeoDataFrame\n",
    "client = Socrata(\"data.winnipeg.ca\", None)\n",
    "neighbourhoods_id = \"xaux-29zr\"\n",
    "neighbourhoods = client.get(neighbourhoods_id, limit=2000)\n",
    "neighbourhoods = GeoDataFrame(neighbourhoods)\n",
    "newgeom = [shapely.geometry.Polygon(x['coordinates'][0][0]) for x in neighbourhoods.the_geom]\n",
    "neighbourhoods['newgeom'] = newgeom\n",
    "neighbourhoods = neighbourhoods.set_geometry('newgeom')\n",
    "neighbourhoods.head()\n"
   ]
  },
  {
   "cell_type": "code",
   "execution_count": 4,
   "metadata": {
    "ExecuteTime": {
     "end_time": "2018-03-04T03:39:00.498044Z",
     "start_time": "2018-03-04T03:38:59.960042Z"
    }
   },
   "outputs": [
    {
     "data": {
      "text/plain": [
       "<matplotlib.axes._subplots.AxesSubplot at 0x7faa463d29e8>"
      ]
     },
     "execution_count": 4,
     "metadata": {},
     "output_type": "execute_result"
    }
   ],
   "source": [
    "neighbourhoods.plot()"
   ]
  },
  {
   "cell_type": "markdown",
   "metadata": {},
   "source": [
    "## bikes"
   ]
  },
  {
   "cell_type": "code",
   "execution_count": 5,
   "metadata": {
    "ExecuteTime": {
     "end_time": "2018-03-04T03:39:02.356422Z",
     "start_time": "2018-03-04T03:39:01.578552Z"
    }
   },
   "outputs": [
    {
     "name": "stderr",
     "output_type": "stream",
     "text": [
      "WARNING:root:Requests made without an app_token will be subject to strict throttling limits.\n"
     ]
    },
    {
     "data": {
      "text/html": [
       "<div>\n",
       "<style scoped>\n",
       "    .dataframe tbody tr th:only-of-type {\n",
       "        vertical-align: middle;\n",
       "    }\n",
       "\n",
       "    .dataframe tbody tr th {\n",
       "        vertical-align: top;\n",
       "    }\n",
       "\n",
       "    .dataframe thead th {\n",
       "        text-align: right;\n",
       "    }\n",
       "</style>\n",
       "<table border=\"1\" class=\"dataframe\">\n",
       "  <thead>\n",
       "    <tr style=\"text-align: right;\">\n",
       "      <th></th>\n",
       "      <th>0</th>\n",
       "      <th>1</th>\n",
       "      <th>2</th>\n",
       "    </tr>\n",
       "  </thead>\n",
       "  <tbody>\n",
       "    <tr>\n",
       "      <th>asset_class</th>\n",
       "      <td>STAND-ALONE PLAY COMPONENT</td>\n",
       "      <td>SEATING</td>\n",
       "      <td>SEATING</td>\n",
       "    </tr>\n",
       "    <tr>\n",
       "      <th>asset_id</th>\n",
       "      <td>46292</td>\n",
       "      <td>47525</td>\n",
       "      <td>24478</td>\n",
       "    </tr>\n",
       "    <tr>\n",
       "      <th>asset_size</th>\n",
       "      <td>N/A</td>\n",
       "      <td>N/A</td>\n",
       "      <td>N/A</td>\n",
       "    </tr>\n",
       "    <tr>\n",
       "      <th>asset_type</th>\n",
       "      <td>N/A</td>\n",
       "      <td>BENCH</td>\n",
       "      <td>BENCH</td>\n",
       "    </tr>\n",
       "    <tr>\n",
       "      <th>geom_type</th>\n",
       "      <td>POINT</td>\n",
       "      <td>POINT</td>\n",
       "      <td>POINT</td>\n",
       "    </tr>\n",
       "    <tr>\n",
       "      <th>park_id</th>\n",
       "      <td>1137</td>\n",
       "      <td>266</td>\n",
       "      <td>1179</td>\n",
       "    </tr>\n",
       "    <tr>\n",
       "      <th>park_name</th>\n",
       "      <td>Frontenac Park</td>\n",
       "      <td>Muriel Street Park</td>\n",
       "      <td>Aberdeen Adventure Playground</td>\n",
       "    </tr>\n",
       "    <tr>\n",
       "      <th>prim_field</th>\n",
       "      <td>N/A</td>\n",
       "      <td>N/A</td>\n",
       "      <td>N/A</td>\n",
       "    </tr>\n",
       "    <tr>\n",
       "      <th>the_geom</th>\n",
       "      <td>{'type': 'Point', 'coordinates': [-97.08174796...</td>\n",
       "      <td>{'type': 'Point', 'coordinates': [-97.29729904...</td>\n",
       "      <td>{'type': 'Point', 'coordinates': [-97.12915711...</td>\n",
       "    </tr>\n",
       "  </tbody>\n",
       "</table>\n",
       "</div>"
      ],
      "text/plain": [
       "                                                             0  \\\n",
       "asset_class                         STAND-ALONE PLAY COMPONENT   \n",
       "asset_id                                                 46292   \n",
       "asset_size                                                 N/A   \n",
       "asset_type                                                 N/A   \n",
       "geom_type                                                POINT   \n",
       "park_id                                                   1137   \n",
       "park_name                                       Frontenac Park   \n",
       "prim_field                                                 N/A   \n",
       "the_geom     {'type': 'Point', 'coordinates': [-97.08174796...   \n",
       "\n",
       "                                                             1  \\\n",
       "asset_class                                            SEATING   \n",
       "asset_id                                                 47525   \n",
       "asset_size                                                 N/A   \n",
       "asset_type                                               BENCH   \n",
       "geom_type                                                POINT   \n",
       "park_id                                                    266   \n",
       "park_name                                   Muriel Street Park   \n",
       "prim_field                                                 N/A   \n",
       "the_geom     {'type': 'Point', 'coordinates': [-97.29729904...   \n",
       "\n",
       "                                                             2  \n",
       "asset_class                                            SEATING  \n",
       "asset_id                                                 24478  \n",
       "asset_size                                                 N/A  \n",
       "asset_type                                               BENCH  \n",
       "geom_type                                                POINT  \n",
       "park_id                                                   1179  \n",
       "park_name                        Aberdeen Adventure Playground  \n",
       "prim_field                                                 N/A  \n",
       "the_geom     {'type': 'Point', 'coordinates': [-97.12915711...  "
      ]
     },
     "execution_count": 5,
     "metadata": {},
     "output_type": "execute_result"
    }
   ],
   "source": [
    "client = Socrata(\"data.winnipeg.ca\", None)\n",
    "bikes = client.get(\"9t9k-ya8b\", limit=10000)\n",
    "bikes = pd.DataFrame(bikes)\n",
    "bikes.head(3).T"
   ]
  },
  {
   "cell_type": "code",
   "execution_count": 6,
   "metadata": {
    "ExecuteTime": {
     "end_time": "2018-03-04T03:39:03.078471Z",
     "start_time": "2018-03-04T03:39:02.393814Z"
    }
   },
   "outputs": [
    {
     "data": {
      "text/plain": [
       "<matplotlib.axes._subplots.AxesSubplot at 0x7faa3e62d6a0>"
      ]
     },
     "execution_count": 6,
     "metadata": {},
     "output_type": "execute_result"
    },
    {
     "data": {
      "image/png": "[encoded data removed]",
      "text/plain": [
       "<matplotlib.figure.Figure at 0x7faa3e62d048>"
      ]
     },
     "metadata": {},
     "output_type": "display_data"
    }
   ],
   "source": [
    "from shapely.geometry import Point\n",
    "\n",
    "newgeom = [Point(x['coordinates']) for x in bikes.the_geom]\n",
    "bikes['newgeom'] = newgeom\n",
    "bikes = bikes.set_geometry('newgeom')\n",
    "bikes.plot()"
   ]
  },
  {
   "cell_type": "markdown",
   "metadata": {
    "ExecuteTime": {
     "end_time": "2018-03-04T00:09:15.829402Z",
     "start_time": "2018-03-04T00:09:15.822434Z"
    }
   },
   "source": [
    "## bugs"
   ]
  },
  {
   "cell_type": "code",
   "execution_count": 7,
   "metadata": {
    "ExecuteTime": {
     "end_time": "2018-03-04T03:39:04.660963Z",
     "start_time": "2018-03-04T03:39:04.184340Z"
    }
   },
   "outputs": [
    {
     "name": "stderr",
     "output_type": "stream",
     "text": [
      "WARNING:root:Requests made without an app_token will be subject to strict throttling limits.\n"
     ]
    },
    {
     "name": "stdout",
     "output_type": "stream",
     "text": [
      "number of locations 37\n"
     ]
    },
    {
     "data": {
      "text/html": [
       "<div>\n",
       "<style scoped>\n",
       "    .dataframe tbody tr th:only-of-type {\n",
       "        vertical-align: middle;\n",
       "    }\n",
       "\n",
       "    .dataframe tbody tr th {\n",
       "        vertical-align: top;\n",
       "    }\n",
       "\n",
       "    .dataframe thead th {\n",
       "        text-align: right;\n",
       "    }\n",
       "</style>\n",
       "<table border=\"1\" class=\"dataframe\">\n",
       "  <thead>\n",
       "    <tr style=\"text-align: right;\">\n",
       "      <th></th>\n",
       "      <th>count_date</th>\n",
       "      <th>trap_days</th>\n",
       "      <th>location</th>\n",
       "      <th>bugcount</th>\n",
       "    </tr>\n",
       "  </thead>\n",
       "  <tbody>\n",
       "    <tr>\n",
       "      <th>0</th>\n",
       "      <td>2015-05-04T00:00:00</td>\n",
       "      <td>3</td>\n",
       "      <td>north_east_1</td>\n",
       "      <td>0</td>\n",
       "    </tr>\n",
       "    <tr>\n",
       "      <th>1</th>\n",
       "      <td>2015-05-06T00:00:00</td>\n",
       "      <td>2</td>\n",
       "      <td>north_east_1</td>\n",
       "      <td>2</td>\n",
       "    </tr>\n",
       "    <tr>\n",
       "      <th>2</th>\n",
       "      <td>2015-05-08T00:00:00</td>\n",
       "      <td>2</td>\n",
       "      <td>north_east_1</td>\n",
       "      <td>0</td>\n",
       "    </tr>\n",
       "    <tr>\n",
       "      <th>3</th>\n",
       "      <td>2015-05-11T00:00:00</td>\n",
       "      <td>3</td>\n",
       "      <td>north_east_1</td>\n",
       "      <td>0</td>\n",
       "    </tr>\n",
       "    <tr>\n",
       "      <th>4</th>\n",
       "      <td>2015-05-13T00:00:00</td>\n",
       "      <td>2</td>\n",
       "      <td>north_east_1</td>\n",
       "      <td>1</td>\n",
       "    </tr>\n",
       "  </tbody>\n",
       "</table>\n",
       "</div>"
      ],
      "text/plain": [
       "            count_date trap_days      location bugcount\n",
       "0  2015-05-04T00:00:00         3  north_east_1        0\n",
       "1  2015-05-06T00:00:00         2  north_east_1        2\n",
       "2  2015-05-08T00:00:00         2  north_east_1        0\n",
       "3  2015-05-11T00:00:00         3  north_east_1        0\n",
       "4  2015-05-13T00:00:00         2  north_east_1        1"
      ]
     },
     "execution_count": 7,
     "metadata": {},
     "output_type": "execute_result"
    }
   ],
   "source": [
    "import pandas as pd\n",
    "from geopandas import GeoDataFrame\n",
    "client = Socrata(\"data.winnipeg.ca\", None)\n",
    "bugs = client.get(\"du7c-8488\", limit=2000)\n",
    "bugs = GeoDataFrame(bugs)\n",
    "\n",
    "# wrangling\n",
    "idvars = ['count_date', 'trap_days']\n",
    "location_only = [x for x in bugs.columns if \"average\" not in x]\n",
    "location_only = [x for x in location_only if x not in idvars]\n",
    "print(f\"number of locations {len(location_only)}\")\n",
    "\n",
    "# make wide to long \n",
    "bugs = pd.melt(bugs[location_only + idvars], id_vars = idvars, var_name = 'location', value_name = 'bugcount')\n",
    "bugs = GeoDataFrame(bugs)\n",
    "bugs.head()"
   ]
  },
  {
   "cell_type": "markdown",
   "metadata": {
    "ExecuteTime": {
     "end_time": "2018-03-04T00:26:30.046265Z",
     "start_time": "2018-03-04T00:26:29.999755Z"
    }
   },
   "source": [
    "buglocations2gps = \\\n",
    "{\"north_east_1\": {\"coord\": [49.951867, -97.059306]}\n",
    ",\"north_east_2\": {\"coord\": [49.933941, -97.096341]}\n",
    ",\"north_east_3\": {\"coord\": [49.924809, -97.056330]}\n",
    ",\"north_east_4\": {\"coord\": [49.906175, -97.094797]}\n",
    ",\"north_east_5\": {\"coord\": [49.892358, -97.022426]}\n",
    ",\"north_east_6\": {\"coord\": [49.918257, -97.043848]}\n",
    ",\"north_east_7\": {\"coord\": [49.904900, -96.981602]}\n",
    ",\"north_west_1\": {\"coord\": [49.890104, -97.308464]}\n",
    ",\"north_west_2\": {\"coord\": [49.882624, -97.238131]}\n",
    ",\"north_west_3\": {\"coord\": [49.888943, -97.193254]}\n",
    ",\"north_west_4\": {\"coord\": [49.920877, -97.202540]}\n",
    ",\"north_west_5\": {\"coord\": [49.931627, -97.170450]}\n",
    ",\"north_west_6\": {\"coord\": [49.975104, -97.147863]}\n",
    ",\"north_west_7\": {\"coord\": [49.948876, -97.126311]}\n",
    ",\"rural_aa\": {\"coord\": [49.981128, -97.244987]}\n",
    ",\"rural_bb\": {\"coord\": [49.999793, -97.194880]}\n",
    ",\"rural_cc\": {\"coord\": [49.991068, -97.089770]}\n",
    ",\"rural_dd\": {\"coord\": [49.990523, -97.013920]}\n",
    ",\"rural_ee\": {\"coord\": [49.852485, -96.986202]}\n",
    ",\"rural_ff\": {\"coord\": [49.800355, -97.073122]}\n",
    ",\"rural_gg\": {\"coord\": [49.782835, -97.339871]}\n",
    ",\"rural_hh\": {\"coord\": [49.854707, -97.338403]}\n",
    ",\"rural_ii\": {\"coord\": [49.890188, -97.341707]}\n",
    ",\"south_east_1\": {\"coord\": [49.52426, 97.07156]}\n",
    ",\"south_east_2\": {\"coord\": [49.856801, -97.109705]}\n",
    ",\"south_east_3\": {\"coord\": [49.859405, -97.066774]}\n",
    ",\"south_east_4\": {\"coord\": [49.824369, -97.133797]}\n",
    ",\"south_east_5\": {\"coord\": [49.829048, -97.098352]}\n",
    ",\"south_east_6\": {\"coord\": [49.827414, -97.060787]}\n",
    ",\"south_east_7\": {\"coord\": [49.806356, -97.100467]}\n",
    ",\"south_west_1\": {\"coord\": [49.832983, -97.332547]}\n",
    ",\"south_west_2\": {\"coord\": [49.852445, -97.275173]}\n",
    ",\"south_west_3\": {\"coord\": [49.868974, -97.243095]}\n",
    ",\"south_west_4\": {\"coord\": [49.868834, -97.184476]}\n",
    ",\"south_west_5\": {\"coord\": [49.818122, -97.165982]}\n",
    " }"
   ]
  },
  {
   "cell_type": "code",
   "execution_count": 8,
   "metadata": {
    "ExecuteTime": {
     "end_time": "2018-03-04T03:55:30.655053Z",
     "start_time": "2018-03-04T03:55:30.596739Z"
    }
   },
   "outputs": [],
   "source": [
    "buglocations2gps = \\\n",
    "{\"north_east_1\": {\"coord\": [49.951867, -97.059306]}\n",
    ",\"north_east_2\": {\"coord\": [49.933941, -97.096341]}\n",
    ",\"north_east_3\": {\"coord\": [49.924809, -97.056330]}\n",
    ",\"north_east_4\": {\"coord\": [49.906175, -97.094797]}\n",
    ",\"north_east_5\": {\"coord\": [49.892358, -97.022426]}\n",
    ",\"north_east_6\": {\"coord\": [49.918257, -97.043848]}\n",
    ",\"north_east_7\": {\"coord\": [49.904900, -96.981602]}\n",
    ",\"north_west_1\": {\"coord\": [49.890104, -97.308464]}\n",
    ",\"north_west_2\": {\"coord\": [49.882624, -97.238131]}\n",
    ",\"north_west_3\": {\"coord\": [49.888943, -97.193254]}\n",
    ",\"north_west_4\": {\"coord\": [49.920877, -97.202540]}\n",
    ",\"north_west_5\": {\"coord\": [49.931627, -97.170450]}\n",
    ",\"north_west_6\": {\"coord\": [49.975104, -97.147863]}\n",
    ",\"north_west_7\": {\"coord\": [49.948876, -97.126311]}\n",
    ",\"rural_aa\": {\"coord\": [49.981128, -97.244987]}\n",
    ",\"rural_bb\": {\"coord\": [49.999793, -97.194880]}\n",
    ",\"rural_cc\": {\"coord\": [49.991068, -97.089770]}\n",
    ",\"rural_dd\": {\"coord\": [49.990523, -97.013920]}\n",
    ",\"rural_ee\": {\"coord\": [49.852485, -96.986202]}\n",
    ",\"rural_ff\": {\"coord\": [49.800355, -97.073122]}\n",
    ",\"rural_gg\": {\"coord\": [49.782835, -97.339871]}\n",
    ",\"rural_hh\": {\"coord\": [49.854707, -97.338403]}\n",
    ",\"rural_ii\": {\"coord\": [49.890188, -97.341707]}\n",
    ",\"south_east_1\": {\"coord\": [49.874801, -97.127406]}\n",
    ",\"south_east_2\": {\"coord\": [49.856801, -97.109705]}\n",
    ",\"south_east_3\": {\"coord\": [49.859405, -97.066774]}\n",
    ",\"south_east_4\": {\"coord\": [49.824369, -97.133797]}\n",
    ",\"south_east_5\": {\"coord\": [49.829048, -97.098352]}\n",
    ",\"south_east_6\": {\"coord\": [49.827414, -97.060787]}\n",
    ",\"south_east_7\": {\"coord\": [49.806356, -97.100467]}\n",
    ",\"south_west_1\": {\"coord\": [49.832983, -97.332547]}\n",
    ",\"south_west_2\": {\"coord\": [49.852445, -97.275173]}\n",
    ",\"south_west_3\": {\"coord\": [49.868974, -97.243095]}\n",
    ",\"south_west_4\": {\"coord\": [49.868834, -97.184476]}\n",
    ",\"south_west_5\": {\"coord\": [49.823724, -97.177251]}\n",
    ",\"south_west_6\": {\"coord\": [49.805538, -97.138229]}\n",
    ",\"south_west_7\": {\"coord\": [49.781820, -97.178710]}\n",
    " }"
   ]
  },
  {
   "cell_type": "code",
   "execution_count": 9,
   "metadata": {
    "ExecuteTime": {
     "end_time": "2018-03-04T03:55:31.659800Z",
     "start_time": "2018-03-04T03:55:31.533635Z"
    }
   },
   "outputs": [
    {
     "data": {
      "text/html": [
       "<div>\n",
       "<style scoped>\n",
       "    .dataframe tbody tr th:only-of-type {\n",
       "        vertical-align: middle;\n",
       "    }\n",
       "\n",
       "    .dataframe tbody tr th {\n",
       "        vertical-align: top;\n",
       "    }\n",
       "\n",
       "    .dataframe thead th {\n",
       "        text-align: right;\n",
       "    }\n",
       "</style>\n",
       "<table border=\"1\" class=\"dataframe\">\n",
       "  <thead>\n",
       "    <tr style=\"text-align: right;\">\n",
       "      <th></th>\n",
       "      <th>count_date</th>\n",
       "      <th>trap_days</th>\n",
       "      <th>location</th>\n",
       "      <th>bugcount</th>\n",
       "      <th>newgeom</th>\n",
       "    </tr>\n",
       "  </thead>\n",
       "  <tbody>\n",
       "    <tr>\n",
       "      <th>0</th>\n",
       "      <td>2015-05-04T00:00:00</td>\n",
       "      <td>3</td>\n",
       "      <td>north_east_1</td>\n",
       "      <td>0</td>\n",
       "      <td>POINT (-97.05930600000001 49.951867)</td>\n",
       "    </tr>\n",
       "    <tr>\n",
       "      <th>1</th>\n",
       "      <td>2015-05-06T00:00:00</td>\n",
       "      <td>2</td>\n",
       "      <td>north_east_1</td>\n",
       "      <td>2</td>\n",
       "      <td>POINT (-97.05930600000001 49.951867)</td>\n",
       "    </tr>\n",
       "    <tr>\n",
       "      <th>2</th>\n",
       "      <td>2015-05-08T00:00:00</td>\n",
       "      <td>2</td>\n",
       "      <td>north_east_1</td>\n",
       "      <td>0</td>\n",
       "      <td>POINT (-97.05930600000001 49.951867)</td>\n",
       "    </tr>\n",
       "    <tr>\n",
       "      <th>3</th>\n",
       "      <td>2015-05-11T00:00:00</td>\n",
       "      <td>3</td>\n",
       "      <td>north_east_1</td>\n",
       "      <td>0</td>\n",
       "      <td>POINT (-97.05930600000001 49.951867)</td>\n",
       "    </tr>\n",
       "    <tr>\n",
       "      <th>4</th>\n",
       "      <td>2015-05-13T00:00:00</td>\n",
       "      <td>2</td>\n",
       "      <td>north_east_1</td>\n",
       "      <td>1</td>\n",
       "      <td>POINT (-97.05930600000001 49.951867)</td>\n",
       "    </tr>\n",
       "  </tbody>\n",
       "</table>\n",
       "</div>"
      ],
      "text/plain": [
       "            count_date trap_days      location bugcount  \\\n",
       "0  2015-05-04T00:00:00         3  north_east_1        0   \n",
       "1  2015-05-06T00:00:00         2  north_east_1        2   \n",
       "2  2015-05-08T00:00:00         2  north_east_1        0   \n",
       "3  2015-05-11T00:00:00         3  north_east_1        0   \n",
       "4  2015-05-13T00:00:00         2  north_east_1        1   \n",
       "\n",
       "                                newgeom  \n",
       "0  POINT (-97.05930600000001 49.951867)  \n",
       "1  POINT (-97.05930600000001 49.951867)  \n",
       "2  POINT (-97.05930600000001 49.951867)  \n",
       "3  POINT (-97.05930600000001 49.951867)  \n",
       "4  POINT (-97.05930600000001 49.951867)  "
      ]
     },
     "execution_count": 9,
     "metadata": {},
     "output_type": "execute_result"
    }
   ],
   "source": [
    "temp = bugs.location.map(buglocations2gps)\n",
    "newgeom = [shapely.geometry.Point(x['coord'][1], x['coord'][0]) for x in temp]\n",
    "bugs = GeoDataFrame(bugs)\n",
    "bugs['newgeom'] = newgeom\n",
    "bugs = bugs.set_geometry('newgeom')\n",
    "bugs.head()"
   ]
  },
  {
   "cell_type": "code",
   "execution_count": 10,
   "metadata": {
    "ExecuteTime": {
     "end_time": "2018-03-04T03:55:33.458890Z",
     "start_time": "2018-03-04T03:55:32.867664Z"
    }
   },
   "outputs": [
    {
     "data": {
      "text/plain": [
       "<matplotlib.axes._subplots.AxesSubplot at 0x7faa3ec935f8>"
      ]
     },
     "execution_count": 10,
     "metadata": {},
     "output_type": "execute_result"
    },
    {
     "data": {
      "image/png": "[encoded data removed]",
      "text/plain": [
       "<matplotlib.figure.Figure at 0x7faa3ec93898>"
      ]
     },
     "metadata": {},
     "output_type": "display_data"
    }
   ],
   "source": [
    "bugs.plot()"
   ]
  },
  {
   "cell_type": "markdown",
   "metadata": {},
   "source": [
    "### map bugtrap to winnipeg neighbourhoods"
   ]
  },
  {
   "cell_type": "code",
   "execution_count": 11,
   "metadata": {
    "ExecuteTime": {
     "end_time": "2018-03-04T03:55:34.955026Z",
     "start_time": "2018-03-04T03:55:34.925980Z"
    }
   },
   "outputs": [
    {
     "name": "stdout",
     "output_type": "stream",
     "text": [
      "(37, 5)\n"
     ]
    },
    {
     "data": {
      "text/html": [
       "<div>\n",
       "<style scoped>\n",
       "    .dataframe tbody tr th:only-of-type {\n",
       "        vertical-align: middle;\n",
       "    }\n",
       "\n",
       "    .dataframe tbody tr th {\n",
       "        vertical-align: top;\n",
       "    }\n",
       "\n",
       "    .dataframe thead th {\n",
       "        text-align: right;\n",
       "    }\n",
       "</style>\n",
       "<table border=\"1\" class=\"dataframe\">\n",
       "  <thead>\n",
       "    <tr style=\"text-align: right;\">\n",
       "      <th></th>\n",
       "      <th>count_date</th>\n",
       "      <th>trap_days</th>\n",
       "      <th>location</th>\n",
       "      <th>bugcount</th>\n",
       "      <th>newgeom</th>\n",
       "    </tr>\n",
       "  </thead>\n",
       "  <tbody>\n",
       "    <tr>\n",
       "      <th>0</th>\n",
       "      <td>2015-05-04T00:00:00</td>\n",
       "      <td>3</td>\n",
       "      <td>north_east_1</td>\n",
       "      <td>0</td>\n",
       "      <td>POINT (-97.05930600000001 49.951867)</td>\n",
       "    </tr>\n",
       "  </tbody>\n",
       "</table>\n",
       "</div>"
      ],
      "text/plain": [
       "            count_date trap_days      location bugcount  \\\n",
       "0  2015-05-04T00:00:00         3  north_east_1        0   \n",
       "\n",
       "                                newgeom  \n",
       "0  POINT (-97.05930600000001 49.951867)  "
      ]
     },
     "execution_count": 11,
     "metadata": {},
     "output_type": "execute_result"
    }
   ],
   "source": [
    "bugsubset = bugs[bugs.count_date == bugs.count_date[0]]\n",
    "print(bugsubset.shape)\n",
    "bugsubset.head(1)"
   ]
  },
  {
   "cell_type": "code",
   "execution_count": 129,
   "metadata": {
    "ExecuteTime": {
     "end_time": "2018-03-04T03:55:51.633301Z",
     "start_time": "2018-03-04T03:55:51.493068Z"
    }
   },
   "outputs": [],
   "source": [
    "hood = neighbourhoods.set_index('id').to_dict(orient='record')\n",
    "bugloc = bugsubset[['location','newgeom']].set_index('location')\n",
    "bugloc = bugloc['newgeom'] \n",
    "bugloc.head()\n",
    "trap_in_neighbourhoods = {}\n",
    "for datum in hood:\n",
    "    name, the_geom, newgeom = datum.values()\n",
    "    hoodloc = the_geom['coordinates']\n",
    "    hoodgeom = shapely.geometry.Polygon(hoodloc[0][0])\n",
    "    dump = [k for k,v in bugloc.to_dict().items() if hoodgeom.intersects(v)]\n",
    "    #distance = GeoSeries.distance\n",
    "    if dump != []:\n",
    "        if len(dump) == 1:\n",
    "            trap_in_neighbourhoods[name] = dump[0]\n"
   ]
  },
  {
   "cell_type": "code",
   "execution_count": 130,
   "metadata": {},
   "outputs": [],
   "source": [
    "map_bugtraps_to_neighbourhoods = \\\n",
    "{v:k for k,v in trap_in_neighbourhoods.items()}"
   ]
  },
  {
   "cell_type": "code",
   "execution_count": 131,
   "metadata": {
    "ExecuteTime": {
     "end_time": "2018-03-04T03:57:10.412751Z",
     "start_time": "2018-03-04T03:57:10.409143Z"
    }
   },
   "outputs": [
    {
     "data": {
      "text/plain": [
       "{'north_east_1': 'River East',\n",
       " 'north_east_2': 'Rossmere-A',\n",
       " 'north_east_3': 'Springfield South',\n",
       " 'north_east_4': 'Talbot-Grey',\n",
       " 'north_east_5': 'Transcona Yards',\n",
       " 'north_east_6': 'Grassie',\n",
       " 'north_east_7': 'Kildare-Redonda',\n",
       " 'north_west_1': 'Crestview',\n",
       " 'north_west_2': 'Deer Lodge',\n",
       " 'north_west_3': 'Minto',\n",
       " 'north_west_4': 'Brooklands',\n",
       " 'north_west_5': 'Shaughnessy Park',\n",
       " 'north_west_6': 'Rosser-Old Kildonan',\n",
       " 'north_west_7': 'Templeton-Sinclair',\n",
       " 'rural_ff': 'St. Vital Perimeter South',\n",
       " 'rural_ii': 'Assiniboia Downs',\n",
       " 'south_east_1': 'Norwood West',\n",
       " 'south_east_2': 'Varennes',\n",
       " 'south_east_3': 'Windsor Park',\n",
       " 'south_east_4': 'Pulberry',\n",
       " 'south_east_5': 'Meadowood',\n",
       " 'south_east_6': 'Island Lakes',\n",
       " 'south_east_7': 'River Park South',\n",
       " 'south_west_1': 'West Perimeter South',\n",
       " 'south_west_2': 'Eric Coy',\n",
       " 'south_west_3': 'Assiniboine Park',\n",
       " 'south_west_4': 'North River Heights',\n",
       " 'south_west_5': 'Chevrier',\n",
       " 'south_west_6': 'University',\n",
       " 'south_west_7': 'South Pointe'}"
      ]
     },
     "execution_count": 131,
     "metadata": {},
     "output_type": "execute_result"
    }
   ],
   "source": [
    "map_bugtraps_to_neighbourhoods"
   ]
  },
  {
   "cell_type": "code",
   "execution_count": 132,
   "metadata": {},
   "outputs": [
    {
     "data": {
      "text/html": [
       "<div>\n",
       "<style scoped>\n",
       "    .dataframe tbody tr th:only-of-type {\n",
       "        vertical-align: middle;\n",
       "    }\n",
       "\n",
       "    .dataframe tbody tr th {\n",
       "        vertical-align: top;\n",
       "    }\n",
       "\n",
       "    .dataframe thead th {\n",
       "        text-align: right;\n",
       "    }\n",
       "</style>\n",
       "<table border=\"1\" class=\"dataframe\">\n",
       "  <thead>\n",
       "    <tr style=\"text-align: right;\">\n",
       "      <th></th>\n",
       "      <th>0</th>\n",
       "      <th>1</th>\n",
       "      <th>2</th>\n",
       "    </tr>\n",
       "  </thead>\n",
       "  <tbody>\n",
       "    <tr>\n",
       "      <th>count_date</th>\n",
       "      <td>2015-05-04T00:00:00</td>\n",
       "      <td>2015-05-06T00:00:00</td>\n",
       "      <td>2015-05-08T00:00:00</td>\n",
       "    </tr>\n",
       "    <tr>\n",
       "      <th>trap_days</th>\n",
       "      <td>3</td>\n",
       "      <td>2</td>\n",
       "      <td>2</td>\n",
       "    </tr>\n",
       "    <tr>\n",
       "      <th>location</th>\n",
       "      <td>north_east_1</td>\n",
       "      <td>north_east_1</td>\n",
       "      <td>north_east_1</td>\n",
       "    </tr>\n",
       "    <tr>\n",
       "      <th>bugcount</th>\n",
       "      <td>0</td>\n",
       "      <td>2</td>\n",
       "      <td>0</td>\n",
       "    </tr>\n",
       "    <tr>\n",
       "      <th>newgeom</th>\n",
       "      <td>POINT (-97.05930600000001 49.951867)</td>\n",
       "      <td>POINT (-97.05930600000001 49.951867)</td>\n",
       "      <td>POINT (-97.05930600000001 49.951867)</td>\n",
       "    </tr>\n",
       "    <tr>\n",
       "      <th>neighbourhood</th>\n",
       "      <td>River East</td>\n",
       "      <td>River East</td>\n",
       "      <td>River East</td>\n",
       "    </tr>\n",
       "  </tbody>\n",
       "</table>\n",
       "</div>"
      ],
      "text/plain": [
       "                                                  0  \\\n",
       "count_date                      2015-05-04T00:00:00   \n",
       "trap_days                                         3   \n",
       "location                               north_east_1   \n",
       "bugcount                                          0   \n",
       "newgeom        POINT (-97.05930600000001 49.951867)   \n",
       "neighbourhood                            River East   \n",
       "\n",
       "                                                  1  \\\n",
       "count_date                      2015-05-06T00:00:00   \n",
       "trap_days                                         2   \n",
       "location                               north_east_1   \n",
       "bugcount                                          2   \n",
       "newgeom        POINT (-97.05930600000001 49.951867)   \n",
       "neighbourhood                            River East   \n",
       "\n",
       "                                                  2  \n",
       "count_date                      2015-05-08T00:00:00  \n",
       "trap_days                                         2  \n",
       "location                               north_east_1  \n",
       "bugcount                                          0  \n",
       "newgeom        POINT (-97.05930600000001 49.951867)  \n",
       "neighbourhood                            River East  "
      ]
     },
     "execution_count": 132,
     "metadata": {},
     "output_type": "execute_result"
    }
   ],
   "source": [
    "bugs['neighbourhood'] = bugs.location.map(map_bugtraps_to_neighbourhoods)\n",
    "bugtrap = bugs\n",
    "bugtrap.head(3).T"
   ]
  },
  {
   "cell_type": "markdown",
   "metadata": {},
   "source": [
    "### neighbourhood with distance to each trap"
   ]
  },
  {
   "cell_type": "code",
   "execution_count": 133,
   "metadata": {},
   "outputs": [],
   "source": [
    "def flatten(listoflist):\n",
    "    oldlist = listoflist\n",
    "    while type(oldlist) == list:\n",
    "        newlist = list(itertools.chain(*oldlist))\n",
    "        if len(newlist) == 1:\n",
    "            oldlist = newlist\n",
    "        else:\n",
    "            return newlist"
   ]
  },
  {
   "cell_type": "code",
   "execution_count": 134,
   "metadata": {},
   "outputs": [
    {
     "data": {
      "text/plain": [
       "(237,)"
      ]
     },
     "execution_count": 134,
     "metadata": {},
     "output_type": "execute_result"
    }
   ],
   "source": [
    "neighbourhoods.newgeom.shape"
   ]
  },
  {
   "cell_type": "code",
   "execution_count": 146,
   "metadata": {},
   "outputs": [
    {
     "name": "stdout",
     "output_type": "stream",
     "text": [
      "(237,)\n"
     ]
    },
    {
     "data": {
      "text/plain": [
       "name\n",
       "Seven Oaks     POLYGON ((-97.11021888431701 49.925633193803, ...\n",
       "Parker         POLYGON ((-97.17615035641499 49.850537882086, ...\n",
       "The Maples     POLYGON ((-97.163398354858 49.941591371416, -9...\n",
       "Luxton         POLYGON ((-97.116047777972 49.920325228662, -9...\n",
       "Talbot-Grey    POLYGON ((-97.101068054847 49.904738664792, -9...\n",
       "Name: newgeom, dtype: object"
      ]
     },
     "execution_count": 146,
     "metadata": {},
     "output_type": "execute_result"
    }
   ],
   "source": [
    "neighbourhoods_geom_series = neighbourhoods.set_index('name')['newgeom']\n",
    "print(neighbourhoods_geom_series.shape)\n",
    "neighbourhoods_geom_series.head()"
   ]
  },
  {
   "cell_type": "code",
   "execution_count": 139,
   "metadata": {},
   "outputs": [
    {
     "name": "stdout",
     "output_type": "stream",
     "text": [
      "(37,)\n"
     ]
    },
    {
     "data": {
      "text/plain": [
       "location\n",
       "north_east_1    POINT (-97.05930600000001 49.951867)\n",
       "north_east_2            POINT (-97.096341 49.933941)\n",
       "north_east_3             POINT (-97.05633 49.924809)\n",
       "north_east_4            POINT (-97.094797 49.906175)\n",
       "north_east_5            POINT (-97.022426 49.892358)\n",
       "Name: newgeom, dtype: object"
      ]
     },
     "execution_count": 139,
     "metadata": {},
     "output_type": "execute_result"
    }
   ],
   "source": [
    "print(bugloc.shape)\n",
    "bugloc.head()"
   ]
  },
  {
   "cell_type": "code",
   "execution_count": 155,
   "metadata": {},
   "outputs": [
    {
     "data": {
      "text/plain": [
       "('Seven Oaks', <shapely.geometry.polygon.Polygon at 0x7faa7e70a320>)"
      ]
     },
     "execution_count": 155,
     "metadata": {},
     "output_type": "execute_result"
    }
   ],
   "source": [
    "[x for x in neighbourhoods_geom_series.items()][0]"
   ]
  },
  {
   "cell_type": "code",
   "execution_count": 176,
   "metadata": {},
   "outputs": [],
   "source": [
    "import geopandas\n",
    "from geopandas import GeoSeries"
   ]
  },
  {
   "cell_type": "code",
   "execution_count": 178,
   "metadata": {},
   "outputs": [
    {
     "data": {
      "text/plain": [
       "location\n",
       "north_east_1    POLYGON ((-97.11021888431701 49.925633193803, ...\n",
       "north_east_2    POLYGON ((-97.11021888431701 49.925633193803, ...\n",
       "north_east_3    POLYGON ((-97.11021888431701 49.925633193803, ...\n",
       "north_east_4    POLYGON ((-97.11021888431701 49.925633193803, ...\n",
       "north_east_5    POLYGON ((-97.11021888431701 49.925633193803, ...\n",
       "north_east_6    POLYGON ((-97.11021888431701 49.925633193803, ...\n",
       "north_east_7    POLYGON ((-97.11021888431701 49.925633193803, ...\n",
       "north_west_1    POLYGON ((-97.11021888431701 49.925633193803, ...\n",
       "north_west_2    POLYGON ((-97.11021888431701 49.925633193803, ...\n",
       "north_west_3    POLYGON ((-97.11021888431701 49.925633193803, ...\n",
       "north_west_4    POLYGON ((-97.11021888431701 49.925633193803, ...\n",
       "north_west_5    POLYGON ((-97.11021888431701 49.925633193803, ...\n",
       "north_west_6    POLYGON ((-97.11021888431701 49.925633193803, ...\n",
       "north_west_7    POLYGON ((-97.11021888431701 49.925633193803, ...\n",
       "rural_aa        POLYGON ((-97.11021888431701 49.925633193803, ...\n",
       "rural_bb        POLYGON ((-97.11021888431701 49.925633193803, ...\n",
       "rural_cc        POLYGON ((-97.11021888431701 49.925633193803, ...\n",
       "rural_dd        POLYGON ((-97.11021888431701 49.925633193803, ...\n",
       "rural_ee        POLYGON ((-97.11021888431701 49.925633193803, ...\n",
       "rural_ff        POLYGON ((-97.11021888431701 49.925633193803, ...\n",
       "rural_gg        POLYGON ((-97.11021888431701 49.925633193803, ...\n",
       "rural_hh        POLYGON ((-97.11021888431701 49.925633193803, ...\n",
       "rural_ii        POLYGON ((-97.11021888431701 49.925633193803, ...\n",
       "south_east_1    POLYGON ((-97.11021888431701 49.925633193803, ...\n",
       "south_east_2    POLYGON ((-97.11021888431701 49.925633193803, ...\n",
       "south_east_3    POLYGON ((-97.11021888431701 49.925633193803, ...\n",
       "south_east_4    POLYGON ((-97.11021888431701 49.925633193803, ...\n",
       "south_east_5    POLYGON ((-97.11021888431701 49.925633193803, ...\n",
       "south_east_6    POLYGON ((-97.11021888431701 49.925633193803, ...\n",
       "south_east_7    POLYGON ((-97.11021888431701 49.925633193803, ...\n",
       "south_west_1    POLYGON ((-97.11021888431701 49.925633193803, ...\n",
       "south_west_2    POLYGON ((-97.11021888431701 49.925633193803, ...\n",
       "south_west_3    POLYGON ((-97.11021888431701 49.925633193803, ...\n",
       "south_west_4    POLYGON ((-97.11021888431701 49.925633193803, ...\n",
       "south_west_5    POLYGON ((-97.11021888431701 49.925633193803, ...\n",
       "south_west_6    POLYGON ((-97.11021888431701 49.925633193803, ...\n",
       "south_west_7    POLYGON ((-97.11021888431701 49.925633193803, ...\n",
       "dtype: object"
      ]
     },
     "execution_count": 178,
     "metadata": {},
     "output_type": "execute_result"
    }
   ],
   "source": [
    "GeoSeries([neighbourhoods_geom_series[0]], index= bugloc.index)"
   ]
  },
  {
   "cell_type": "code",
   "execution_count": 182,
   "metadata": {},
   "outputs": [
    {
     "data": {
      "text/plain": [
       "location\n",
       "north_east_1    0.043155\n",
       "north_east_2    0.007526\n",
       "north_east_3    0.046994\n",
       "north_east_4    0.024829\n",
       "north_east_5    0.091720\n",
       "north_east_6    0.060962\n",
       "north_east_7    0.124259\n",
       "north_west_1    0.189770\n",
       "north_west_2    0.124492\n",
       "north_west_3    0.081313\n",
       "north_west_4    0.080163\n",
       "north_west_5    0.047634\n",
       "north_west_6    0.047348\n",
       "north_west_7    0.014283\n",
       "rural_aa        0.132540\n",
       "rural_bb        0.099653\n",
       "rural_cc        0.051961\n",
       "rural_dd        0.100499\n",
       "rural_ee        0.143982\n",
       "rural_ff        0.130655\n",
       "rural_gg        0.262004\n",
       "rural_hh        0.228198\n",
       "rural_ii        0.222377\n",
       "south_east_1    0.053516\n",
       "south_east_2    0.068834\n",
       "south_east_3    0.079206\n",
       "south_east_4    0.103973\n",
       "south_east_5    0.097311\n",
       "south_east_6    0.109957\n",
       "south_east_7    0.119675\n",
       "south_west_1    0.230894\n",
       "south_west_2    0.170759\n",
       "south_west_3    0.134674\n",
       "south_west_4    0.086568\n",
       "south_west_5    0.119065\n",
       "south_west_6    0.123318\n",
       "south_west_7    0.157775\n",
       "dtype: float64"
      ]
     },
     "execution_count": 182,
     "metadata": {},
     "output_type": "execute_result"
    }
   ],
   "source": [
    "GeoSeries.distance(bugloc, \n",
    "                   GeoSeries([neighbourhoods_geom_series[0]], index= bugloc.index)\n",
    "                  )"
   ]
  },
  {
   "cell_type": "code",
   "execution_count": 183,
   "metadata": {},
   "outputs": [
    {
     "data": {
      "image/svg+xml": [
       "<svg xmlns=\"http://www.w3.org/2000/svg\" xmlns:xlink=\"http://www.w3.org/1999/xlink\" width=\"100.0\" height=\"100.0\" viewBox=\"-97.12373986818272 49.924750860448285 0.023823000577451126 0.01989629296243578\" preserveAspectRatio=\"xMinYMin meet\"><g transform=\"matrix(1,0,0,-1,0,99.86939801385901)\"><path fill-rule=\"evenodd\" fill=\"#66cc99\" stroke=\"#555555\" stroke-width=\"0.00047646001154902254\" opacity=\"0.6\" d=\"M -97.110218884317,49.925633193803 L -97.110013115236,49.926312157644 L -97.109899223467,49.92719918447 L -97.109891037485,49.928006598639 L -97.109960763006,49.928524798105 L -97.110222083791,49.92934473874 L -97.110623989414,49.930298268692 L -97.111044483471,49.93137526533 L -97.1111731246,49.931814249814 L -97.111431919211,49.933252296923 L -97.111402047666,49.93401636541 L -97.111259499652,49.934807646831 L -97.111058254325,49.935350479077 L -97.110776982104,49.935914083849 L -97.110514492299,49.936273493022 L -97.109972455172,49.9368758378 L -97.109401629662,49.937339440106 L -97.108742518282,49.93775860793 L -97.107984644103,49.938125035258 L -97.107285672508,49.938412245503 L -97.105222325204,49.938967648151 L -97.104209605964,49.939220664015 L -97.102038882801,49.939666194386 L -97.10079920096,49.940004983585 L -97.102198054456,49.940457113731 L -97.103056628352,49.940734253919 L -97.103020108568,49.940743384677 L -97.112371361058,49.943764820056 L -97.113405671579,49.942340501737 L -97.116744551494,49.937742174516 L -97.121042229667,49.932852446195 L -97.122857534828,49.929638289388 L -97.122605005221,49.929556864966 L -97.122415140437,49.929495674034 L -97.12222527645,49.929434482896 L -97.119173739749,49.928450937511 L -97.1194646758,49.928049075954 L -97.117322908765,49.927358446282 L -97.117144837334,49.927791453212 L -97.112968421714,49.926448323439 L -97.112949722481,49.926512320245 L -97.112816315215,49.926469479847 L -97.112282886859,49.926297534013 L -97.112236541376,49.926282595204 L -97.111212865878,49.925952611899 L -97.110218884317,49.925633193803 z\" /></g></svg>"
      ],
      "text/plain": [
       "<shapely.geometry.polygon.Polygon at 0x7faa7e70a320>"
      ]
     },
     "execution_count": 183,
     "metadata": {},
     "output_type": "execute_result"
    }
   ],
   "source": [
    "area_geom"
   ]
  },
  {
   "cell_type": "code",
   "execution_count": 184,
   "metadata": {},
   "outputs": [],
   "source": [
    "from geopandas import GeoSeries\n",
    "result = {}\n",
    "for area_name, area_geom in neighbourhoods_geom_series.items():\n",
    "    output = GeoSeries.distance(bugloc, \n",
    "                   GeoSeries([area_geom], index= bugloc.index)\n",
    "                  )\n",
    "    result[area_name] = output\n",
    "    "
   ]
  },
  {
   "cell_type": "code",
   "execution_count": 202,
   "metadata": {},
   "outputs": [],
   "source": [
    "distance_matrix_between_neighbourhood_and_bugtraps = \\\n",
    "pd.DataFrame(result)"
   ]
  },
  {
   "cell_type": "code",
   "execution_count": 203,
   "metadata": {},
   "outputs": [
    {
     "data": {
      "text/html": [
       "<div>\n",
       "<style scoped>\n",
       "    .dataframe tbody tr th:only-of-type {\n",
       "        vertical-align: middle;\n",
       "    }\n",
       "\n",
       "    .dataframe tbody tr th {\n",
       "        vertical-align: top;\n",
       "    }\n",
       "\n",
       "    .dataframe thead th {\n",
       "        text-align: right;\n",
       "    }\n",
       "</style>\n",
       "<table border=\"1\" class=\"dataframe\">\n",
       "  <thead>\n",
       "    <tr style=\"text-align: right;\">\n",
       "      <th></th>\n",
       "      <th>Agassiz</th>\n",
       "      <th>Airport</th>\n",
       "      <th>Alpine Place</th>\n",
       "      <th>Amber Trails</th>\n",
       "      <th>Archwood</th>\n",
       "    </tr>\n",
       "    <tr>\n",
       "      <th>location</th>\n",
       "      <th></th>\n",
       "      <th></th>\n",
       "      <th></th>\n",
       "      <th></th>\n",
       "      <th></th>\n",
       "    </tr>\n",
       "  </thead>\n",
       "  <tbody>\n",
       "    <tr>\n",
       "      <th>north_east_1</th>\n",
       "      <td>0.154652</td>\n",
       "      <td>0.157004</td>\n",
       "      <td>0.100539</td>\n",
       "      <td>0.101878</td>\n",
       "      <td>0.080319</td>\n",
       "    </tr>\n",
       "    <tr>\n",
       "      <th>north_east_2</th>\n",
       "      <td>0.121501</td>\n",
       "      <td>0.116964</td>\n",
       "      <td>0.076125</td>\n",
       "      <td>0.068894</td>\n",
       "      <td>0.052075</td>\n",
       "    </tr>\n",
       "    <tr>\n",
       "      <th>north_east_3</th>\n",
       "      <td>0.134564</td>\n",
       "      <td>0.155522</td>\n",
       "      <td>0.077276</td>\n",
       "      <td>0.109726</td>\n",
       "      <td>0.060350</td>\n",
       "    </tr>\n",
       "    <tr>\n",
       "      <th>north_east_4</th>\n",
       "      <td>0.097174</td>\n",
       "      <td>0.116791</td>\n",
       "      <td>0.048351</td>\n",
       "      <td>0.083888</td>\n",
       "      <td>0.024578</td>\n",
       "    </tr>\n",
       "    <tr>\n",
       "      <th>north_east_5</th>\n",
       "      <td>0.139302</td>\n",
       "      <td>0.189944</td>\n",
       "      <td>0.080246</td>\n",
       "      <td>0.153212</td>\n",
       "      <td>0.073227</td>\n",
       "    </tr>\n",
       "  </tbody>\n",
       "</table>\n",
       "</div>"
      ],
      "text/plain": [
       "               Agassiz   Airport  Alpine Place  Amber Trails  Archwood\n",
       "location                                                              \n",
       "north_east_1  0.154652  0.157004      0.100539      0.101878  0.080319\n",
       "north_east_2  0.121501  0.116964      0.076125      0.068894  0.052075\n",
       "north_east_3  0.134564  0.155522      0.077276      0.109726  0.060350\n",
       "north_east_4  0.097174  0.116791      0.048351      0.083888  0.024578\n",
       "north_east_5  0.139302  0.189944      0.080246      0.153212  0.073227"
      ]
     },
     "execution_count": 203,
     "metadata": {},
     "output_type": "execute_result"
    }
   ],
   "source": [
    "distance_matrix_between_neighbourhood_and_bugtraps.head().T.head().T"
   ]
  },
  {
   "cell_type": "code",
   "execution_count": 207,
   "metadata": {},
   "outputs": [],
   "source": [
    "df = distance_matrix_between_neighbourhood_and_bugtraps"
   ]
  },
  {
   "cell_type": "code",
   "execution_count": 217,
   "metadata": {},
   "outputs": [],
   "source": [
    "winnipeg_areas = pd.DataFrame(neighbourhoods.set_index('name')['newgeom'])"
   ]
  },
  {
   "cell_type": "code",
   "execution_count": 298,
   "metadata": {},
   "outputs": [
    {
     "data": {
      "text/html": [
       "<div>\n",
       "<style scoped>\n",
       "    .dataframe tbody tr th:only-of-type {\n",
       "        vertical-align: middle;\n",
       "    }\n",
       "\n",
       "    .dataframe tbody tr th {\n",
       "        vertical-align: top;\n",
       "    }\n",
       "\n",
       "    .dataframe thead th {\n",
       "        text-align: right;\n",
       "    }\n",
       "</style>\n",
       "<table border=\"1\" class=\"dataframe\">\n",
       "  <thead>\n",
       "    <tr style=\"text-align: right;\">\n",
       "      <th>area_name</th>\n",
       "      <th>Seven Oaks</th>\n",
       "    </tr>\n",
       "  </thead>\n",
       "  <tbody>\n",
       "    <tr>\n",
       "      <th>area_geom</th>\n",
       "      <td>POLYGON ((-97.11021888431701 49.925633193803, ...</td>\n",
       "    </tr>\n",
       "    <tr>\n",
       "      <th>nearest_bugtrap</th>\n",
       "      <td>north_east_2</td>\n",
       "    </tr>\n",
       "    <tr>\n",
       "      <th>nearest_bugtrap_geom</th>\n",
       "      <td>POINT (-97.096341 49.933941)</td>\n",
       "    </tr>\n",
       "    <tr>\n",
       "      <th>nearest_bugtrap_distance</th>\n",
       "      <td>0.00752645</td>\n",
       "    </tr>\n",
       "    <tr>\n",
       "      <th>area_intersects_bugtrap</th>\n",
       "      <td>False</td>\n",
       "    </tr>\n",
       "  </tbody>\n",
       "</table>\n",
       "</div>"
      ],
      "text/plain": [
       "area_name                                                        Seven Oaks\n",
       "area_geom                 POLYGON ((-97.11021888431701 49.925633193803, ...\n",
       "nearest_bugtrap                                                north_east_2\n",
       "nearest_bugtrap_geom                           POINT (-97.096341 49.933941)\n",
       "nearest_bugtrap_distance                                         0.00752645\n",
       "area_intersects_bugtrap                                               False"
      ]
     },
     "execution_count": 298,
     "metadata": {},
     "output_type": "execute_result"
    }
   ],
   "source": [
    "import numpy as np\n",
    "import pandas as pd\n",
    "winnipeg_areas = pd.DataFrame(neighbourhoods.set_index('name')['newgeom'])\n",
    "winnipeg_areas.index.name = 'area_name'\n",
    "winnipeg_areas = winnipeg_areas.rename(columns = {'newgeom':'area_geom'})\n",
    "df = distance_matrix_between_neighbourhood_and_bugtraps\n",
    "winnipeg_areas['nearest_bugtrap'] = df.apply(pd.Series.idxmin)\n",
    "winnipeg_areas['nearest_bugtrap_geom'] \\\n",
    "= winnipeg_areas['nearest_bugtrap'].map(bugloc)\n",
    "winnipeg_areas['nearest_bugtrap_distance'] = df.apply(np.min)\n",
    "winnipeg_areas['area_intersects_bugtrap'] =\\\n",
    "[\n",
    "    datum['nearest_bugtrap_geom'].intersects(datum['area_geom'])\n",
    "    for area_name, datum in winnipeg_areas.iterrows()    \n",
    "]\n",
    "\n",
    "# make sure everything is a geo-related pdseries\n",
    "winnipeg_areas = winnipeg_areas.apply(lambda x: GeoSeries(x))\n",
    "winnipeg_areas = GeoDataFrame(winnipeg_areas)\n",
    "winnipeg_areas.head(1).T"
   ]
  },
  {
   "cell_type": "code",
   "execution_count": 300,
   "metadata": {},
   "outputs": [
    {
     "data": {
      "text/plain": [
       "array(['STAND-ALONE PLAY COMPONENT', 'SEATING', 'SWING SET',\n",
       "       'PLAY STRUCTURE', 'BICYCLE RACK', 'MONUMENT', 'BBQ', 'SHELTER',\n",
       "       'TOBOGGAN RUN', 'FITNESS EQUIPMENT'], dtype=object)"
      ]
     },
     "execution_count": 300,
     "metadata": {},
     "output_type": "execute_result"
    }
   ],
   "source": [
    "bikes.asset_class.unique()"
   ]
  },
  {
   "cell_type": "markdown",
   "metadata": {},
   "source": [
    "## visualize maps"
   ]
  },
  {
   "cell_type": "code",
   "execution_count": 284,
   "metadata": {
    "ExecuteTime": {
     "end_time": "2018-03-04T03:42:00.646485Z",
     "start_time": "2018-03-04T03:42:00.367593Z"
    }
   },
   "outputs": [],
   "source": [
    "import folium"
   ]
  },
  {
   "cell_type": "code",
   "execution_count": 258,
   "metadata": {},
   "outputs": [],
   "source": [
    "wpg_xy = [49.8951, -97.1384] # center of winnipeg via wikipedia"
   ]
  },
  {
   "cell_type": "code",
   "execution_count": 267,
   "metadata": {},
   "outputs": [
    {
     "data": {
      "text/plain": [
       "<folium.features.GeoJson at 0x7faa367dd358>"
      ]
     },
     "execution_count": 267,
     "metadata": {},
     "output_type": "execute_result"
    }
   ],
   "source": [
    "folium.features.GeoJson(winnipeg_areas.area_geom.to_dict())"
   ]
  },
  {
   "cell_type": "code",
   "execution_count": 297,
   "metadata": {},
   "outputs": [
    {
     "data": {
      "image/png": "[encoded data removed]",
      "text/plain": [
       "<matplotlib.figure.Figure at 0x7faa366670b8>"
      ]
     },
     "metadata": {},
     "output_type": "display_data"
    }
   ],
   "source": [
    "ax = winnipeg_areas.set_geometry('nearest_bugtrap_geom').plot()"
   ]
  },
  {
   "cell_type": "code",
   "execution_count": 296,
   "metadata": {},
   "outputs": [
    {
     "ename": "AttributeError",
     "evalue": "No geometry data set yet (expected in column 'geometry'.",
     "output_type": "error",
     "traceback": [
      "\u001b[0;31m---------------------------------------------------------------------------\u001b[0m",
      "\u001b[0;31mAttributeError\u001b[0m                            Traceback (most recent call last)",
      "\u001b[0;32m<ipython-input-296-a5b254db8bb9>\u001b[0m in \u001b[0;36m<module>\u001b[0;34m()\u001b[0m\n\u001b[0;32m----> 1\u001b[0;31m \u001b[0mwinnipeg_areas\u001b[0m\u001b[0;34m.\u001b[0m\u001b[0mto_crs\u001b[0m\u001b[0;34m(\u001b[0m\u001b[0;34m)\u001b[0m\u001b[0;34m\u001b[0m\u001b[0m\n\u001b[0m",
      "\u001b[0;32m~/miniconda3/envs/winnipeg/lib/python3.6/site-packages/geopandas/geodataframe.py\u001b[0m in \u001b[0;36mto_crs\u001b[0;34m(self, crs, epsg, inplace)\u001b[0m\n\u001b[1;32m    384\u001b[0m         \u001b[0;32melse\u001b[0m\u001b[0;34m:\u001b[0m\u001b[0;34m\u001b[0m\u001b[0m\n\u001b[1;32m    385\u001b[0m             \u001b[0mdf\u001b[0m \u001b[0;34m=\u001b[0m \u001b[0mself\u001b[0m\u001b[0;34m.\u001b[0m\u001b[0mcopy\u001b[0m\u001b[0;34m(\u001b[0m\u001b[0;34m)\u001b[0m\u001b[0;34m\u001b[0m\u001b[0m\n\u001b[0;32m--> 386\u001b[0;31m         \u001b[0mgeom\u001b[0m \u001b[0;34m=\u001b[0m \u001b[0mdf\u001b[0m\u001b[0;34m.\u001b[0m\u001b[0mgeometry\u001b[0m\u001b[0;34m.\u001b[0m\u001b[0mto_crs\u001b[0m\u001b[0;34m(\u001b[0m\u001b[0mcrs\u001b[0m\u001b[0;34m=\u001b[0m\u001b[0mcrs\u001b[0m\u001b[0;34m,\u001b[0m \u001b[0mepsg\u001b[0m\u001b[0;34m=\u001b[0m\u001b[0mepsg\u001b[0m\u001b[0;34m)\u001b[0m\u001b[0;34m\u001b[0m\u001b[0m\n\u001b[0m\u001b[1;32m    387\u001b[0m         \u001b[0mdf\u001b[0m\u001b[0;34m.\u001b[0m\u001b[0mgeometry\u001b[0m \u001b[0;34m=\u001b[0m \u001b[0mgeom\u001b[0m\u001b[0;34m\u001b[0m\u001b[0m\n\u001b[1;32m    388\u001b[0m         \u001b[0mdf\u001b[0m\u001b[0;34m.\u001b[0m\u001b[0mcrs\u001b[0m \u001b[0;34m=\u001b[0m \u001b[0mgeom\u001b[0m\u001b[0;34m.\u001b[0m\u001b[0mcrs\u001b[0m\u001b[0;34m\u001b[0m\u001b[0m\n",
      "\u001b[0;32m~/miniconda3/envs/winnipeg/lib/python3.6/site-packages/pandas/core/generic.py\u001b[0m in \u001b[0;36m__getattr__\u001b[0;34m(self, name)\u001b[0m\n\u001b[1;32m   3612\u001b[0m             \u001b[0;32mif\u001b[0m \u001b[0mname\u001b[0m \u001b[0;32min\u001b[0m \u001b[0mself\u001b[0m\u001b[0;34m.\u001b[0m\u001b[0m_info_axis\u001b[0m\u001b[0;34m:\u001b[0m\u001b[0;34m\u001b[0m\u001b[0m\n\u001b[1;32m   3613\u001b[0m                 \u001b[0;32mreturn\u001b[0m \u001b[0mself\u001b[0m\u001b[0;34m[\u001b[0m\u001b[0mname\u001b[0m\u001b[0;34m]\u001b[0m\u001b[0;34m\u001b[0m\u001b[0m\n\u001b[0;32m-> 3614\u001b[0;31m             \u001b[0;32mreturn\u001b[0m \u001b[0mobject\u001b[0m\u001b[0;34m.\u001b[0m\u001b[0m__getattribute__\u001b[0m\u001b[0;34m(\u001b[0m\u001b[0mself\u001b[0m\u001b[0;34m,\u001b[0m \u001b[0mname\u001b[0m\u001b[0;34m)\u001b[0m\u001b[0;34m\u001b[0m\u001b[0m\n\u001b[0m\u001b[1;32m   3615\u001b[0m \u001b[0;34m\u001b[0m\u001b[0m\n\u001b[1;32m   3616\u001b[0m     \u001b[0;32mdef\u001b[0m \u001b[0m__setattr__\u001b[0m\u001b[0;34m(\u001b[0m\u001b[0mself\u001b[0m\u001b[0;34m,\u001b[0m \u001b[0mname\u001b[0m\u001b[0;34m,\u001b[0m \u001b[0mvalue\u001b[0m\u001b[0;34m)\u001b[0m\u001b[0;34m:\u001b[0m\u001b[0;34m\u001b[0m\u001b[0m\n",
      "\u001b[0;32m~/miniconda3/envs/winnipeg/lib/python3.6/site-packages/geopandas/geodataframe.py\u001b[0m in \u001b[0;36m_get_geometry\u001b[0;34m(self)\u001b[0m\n\u001b[1;32m     67\u001b[0m         \u001b[0;32mif\u001b[0m \u001b[0mself\u001b[0m\u001b[0;34m.\u001b[0m\u001b[0m_geometry_column_name\u001b[0m \u001b[0;32mnot\u001b[0m \u001b[0;32min\u001b[0m \u001b[0mself\u001b[0m\u001b[0;34m:\u001b[0m\u001b[0;34m\u001b[0m\u001b[0m\n\u001b[1;32m     68\u001b[0m             raise AttributeError(\"No geometry data set yet (expected in\"\n\u001b[0;32m---> 69\u001b[0;31m                                  \" column '%s'.\" % self._geometry_column_name)\n\u001b[0m\u001b[1;32m     70\u001b[0m         \u001b[0;32mreturn\u001b[0m \u001b[0mself\u001b[0m\u001b[0;34m[\u001b[0m\u001b[0mself\u001b[0m\u001b[0;34m.\u001b[0m\u001b[0m_geometry_column_name\u001b[0m\u001b[0;34m]\u001b[0m\u001b[0;34m\u001b[0m\u001b[0m\n\u001b[1;32m     71\u001b[0m \u001b[0;34m\u001b[0m\u001b[0m\n",
      "\u001b[0;31mAttributeError\u001b[0m: No geometry data set yet (expected in column 'geometry'."
     ]
    }
   ],
   "source": [
    "winnipeg_areas.to_crs()"
   ]
  },
  {
   "cell_type": "code",
   "execution_count": 271,
   "metadata": {},
   "outputs": [
    {
     "ename": "AttributeError",
     "evalue": "'Series' object has no attribute 'to_crs'",
     "output_type": "error",
     "traceback": [
      "\u001b[0;31m---------------------------------------------------------------------------\u001b[0m",
      "\u001b[0;31mAttributeError\u001b[0m                            Traceback (most recent call last)",
      "\u001b[0;32m<ipython-input-271-ad19a2840baa>\u001b[0m in \u001b[0;36m<module>\u001b[0;34m()\u001b[0m\n\u001b[0;32m----> 1\u001b[0;31m \u001b[0mwinnipeg_areas\u001b[0m\u001b[0;34m.\u001b[0m\u001b[0marea_geom\u001b[0m\u001b[0;34m.\u001b[0m\u001b[0mto_crs\u001b[0m\u001b[0;34m(\u001b[0m\u001b[0mepsg\u001b[0m\u001b[0;34m=\u001b[0m\u001b[0;34m'4326'\u001b[0m\u001b[0;34m)\u001b[0m\u001b[0;34m\u001b[0m\u001b[0m\n\u001b[0m",
      "\u001b[0;32m~/miniconda3/envs/winnipeg/lib/python3.6/site-packages/pandas/core/generic.py\u001b[0m in \u001b[0;36m__getattr__\u001b[0;34m(self, name)\u001b[0m\n\u001b[1;32m   3612\u001b[0m             \u001b[0;32mif\u001b[0m \u001b[0mname\u001b[0m \u001b[0;32min\u001b[0m \u001b[0mself\u001b[0m\u001b[0;34m.\u001b[0m\u001b[0m_info_axis\u001b[0m\u001b[0;34m:\u001b[0m\u001b[0;34m\u001b[0m\u001b[0m\n\u001b[1;32m   3613\u001b[0m                 \u001b[0;32mreturn\u001b[0m \u001b[0mself\u001b[0m\u001b[0;34m[\u001b[0m\u001b[0mname\u001b[0m\u001b[0;34m]\u001b[0m\u001b[0;34m\u001b[0m\u001b[0m\n\u001b[0;32m-> 3614\u001b[0;31m             \u001b[0;32mreturn\u001b[0m \u001b[0mobject\u001b[0m\u001b[0;34m.\u001b[0m\u001b[0m__getattribute__\u001b[0m\u001b[0;34m(\u001b[0m\u001b[0mself\u001b[0m\u001b[0;34m,\u001b[0m \u001b[0mname\u001b[0m\u001b[0;34m)\u001b[0m\u001b[0;34m\u001b[0m\u001b[0m\n\u001b[0m\u001b[1;32m   3615\u001b[0m \u001b[0;34m\u001b[0m\u001b[0m\n\u001b[1;32m   3616\u001b[0m     \u001b[0;32mdef\u001b[0m \u001b[0m__setattr__\u001b[0m\u001b[0;34m(\u001b[0m\u001b[0mself\u001b[0m\u001b[0;34m,\u001b[0m \u001b[0mname\u001b[0m\u001b[0;34m,\u001b[0m \u001b[0mvalue\u001b[0m\u001b[0;34m)\u001b[0m\u001b[0;34m:\u001b[0m\u001b[0;34m\u001b[0m\u001b[0m\n",
      "\u001b[0;31mAttributeError\u001b[0m: 'Series' object has no attribute 'to_crs'"
     ]
    }
   ],
   "source": [
    "GeoDataFrame(winnipeg_areas).area_geom"
   ]
  },
  {
   "cell_type": "code",
   "execution_count": 266,
   "metadata": {},
   "outputs": [
    {
     "name": "stderr",
     "output_type": "stream",
     "text": [
      "/home/ruxi/miniconda3/envs/winnipeg/lib/python3.6/site-packages/ipykernel_launcher.py:3: FutureWarning: Method `add_children` is deprecated. Please use `add_child` instead.\n",
      "  This is separate from the ipykernel package so we can avoid doing imports until\n"
     ]
    },
    {
     "ename": "TypeError",
     "evalue": "Object of type 'Polygon' is not JSON serializable",
     "output_type": "error",
     "traceback": [
      "\u001b[0;31m---------------------------------------------------------------------------\u001b[0m",
      "\u001b[0;31mTypeError\u001b[0m                                 Traceback (most recent call last)",
      "\u001b[0;32m~/miniconda3/envs/winnipeg/lib/python3.6/site-packages/IPython/core/formatters.py\u001b[0m in \u001b[0;36m__call__\u001b[0;34m(self, obj)\u001b[0m\n\u001b[1;32m    343\u001b[0m             \u001b[0mmethod\u001b[0m \u001b[0;34m=\u001b[0m \u001b[0mget_real_method\u001b[0m\u001b[0;34m(\u001b[0m\u001b[0mobj\u001b[0m\u001b[0;34m,\u001b[0m \u001b[0mself\u001b[0m\u001b[0;34m.\u001b[0m\u001b[0mprint_method\u001b[0m\u001b[0;34m)\u001b[0m\u001b[0;34m\u001b[0m\u001b[0m\n\u001b[1;32m    344\u001b[0m             \u001b[0;32mif\u001b[0m \u001b[0mmethod\u001b[0m \u001b[0;32mis\u001b[0m \u001b[0;32mnot\u001b[0m \u001b[0;32mNone\u001b[0m\u001b[0;34m:\u001b[0m\u001b[0;34m\u001b[0m\u001b[0m\n\u001b[0;32m--> 345\u001b[0;31m                 \u001b[0;32mreturn\u001b[0m \u001b[0mmethod\u001b[0m\u001b[0;34m(\u001b[0m\u001b[0;34m)\u001b[0m\u001b[0;34m\u001b[0m\u001b[0m\n\u001b[0m\u001b[1;32m    346\u001b[0m             \u001b[0;32mreturn\u001b[0m \u001b[0;32mNone\u001b[0m\u001b[0;34m\u001b[0m\u001b[0m\n\u001b[1;32m    347\u001b[0m         \u001b[0;32melse\u001b[0m\u001b[0;34m:\u001b[0m\u001b[0;34m\u001b[0m\u001b[0m\n",
      "\u001b[0;32m~/miniconda3/envs/winnipeg/lib/python3.6/site-packages/folium/map.py\u001b[0m in \u001b[0;36m_repr_html_\u001b[0;34m(self, **kwargs)\u001b[0m\n\u001b[1;32m    249\u001b[0m             \u001b[0mself\u001b[0m\u001b[0;34m.\u001b[0m\u001b[0m_parent\u001b[0m \u001b[0;34m=\u001b[0m \u001b[0;32mNone\u001b[0m\u001b[0;34m\u001b[0m\u001b[0m\n\u001b[1;32m    250\u001b[0m         \u001b[0;32melse\u001b[0m\u001b[0;34m:\u001b[0m\u001b[0;34m\u001b[0m\u001b[0m\n\u001b[0;32m--> 251\u001b[0;31m             \u001b[0mout\u001b[0m \u001b[0;34m=\u001b[0m \u001b[0mself\u001b[0m\u001b[0;34m.\u001b[0m\u001b[0m_parent\u001b[0m\u001b[0;34m.\u001b[0m\u001b[0m_repr_html_\u001b[0m\u001b[0;34m(\u001b[0m\u001b[0;34m**\u001b[0m\u001b[0mkwargs\u001b[0m\u001b[0;34m)\u001b[0m\u001b[0;34m\u001b[0m\u001b[0m\n\u001b[0m\u001b[1;32m    252\u001b[0m         \u001b[0;32mreturn\u001b[0m \u001b[0mout\u001b[0m\u001b[0;34m\u001b[0m\u001b[0m\n\u001b[1;32m    253\u001b[0m \u001b[0;34m\u001b[0m\u001b[0m\n",
      "\u001b[0;32m~/miniconda3/envs/winnipeg/lib/python3.6/site-packages/branca/element.py\u001b[0m in \u001b[0;36m_repr_html_\u001b[0;34m(self, **kwargs)\u001b[0m\n\u001b[1;32m    309\u001b[0m \u001b[0;34m\u001b[0m\u001b[0m\n\u001b[1;32m    310\u001b[0m         \"\"\"\n\u001b[0;32m--> 311\u001b[0;31m         \u001b[0mhtml\u001b[0m \u001b[0;34m=\u001b[0m \u001b[0mself\u001b[0m\u001b[0;34m.\u001b[0m\u001b[0mrender\u001b[0m\u001b[0;34m(\u001b[0m\u001b[0;34m**\u001b[0m\u001b[0mkwargs\u001b[0m\u001b[0;34m)\u001b[0m\u001b[0;34m\u001b[0m\u001b[0m\n\u001b[0m\u001b[1;32m    312\u001b[0m         \u001b[0mhtml\u001b[0m \u001b[0;34m=\u001b[0m \u001b[0;34m\"data:text/html;charset=utf-8;base64,\"\u001b[0m \u001b[0;34m+\u001b[0m \u001b[0mbase64\u001b[0m\u001b[0;34m.\u001b[0m\u001b[0mb64encode\u001b[0m\u001b[0;34m(\u001b[0m\u001b[0mhtml\u001b[0m\u001b[0;34m.\u001b[0m\u001b[0mencode\u001b[0m\u001b[0;34m(\u001b[0m\u001b[0;34m'utf8'\u001b[0m\u001b[0;34m)\u001b[0m\u001b[0;34m)\u001b[0m\u001b[0;34m.\u001b[0m\u001b[0mdecode\u001b[0m\u001b[0;34m(\u001b[0m\u001b[0;34m'utf8'\u001b[0m\u001b[0;34m)\u001b[0m  \u001b[0;31m# noqa\u001b[0m\u001b[0;34m\u001b[0m\u001b[0m\n\u001b[1;32m    313\u001b[0m \u001b[0;34m\u001b[0m\u001b[0m\n",
      "\u001b[0;32m~/miniconda3/envs/winnipeg/lib/python3.6/site-packages/branca/element.py\u001b[0m in \u001b[0;36mrender\u001b[0;34m(self, **kwargs)\u001b[0m\n\u001b[1;32m    299\u001b[0m         \u001b[0;34m\"\"\"Renders the HTML representation of the element.\"\"\"\u001b[0m\u001b[0;34m\u001b[0m\u001b[0m\n\u001b[1;32m    300\u001b[0m         \u001b[0;32mfor\u001b[0m \u001b[0mname\u001b[0m\u001b[0;34m,\u001b[0m \u001b[0mchild\u001b[0m \u001b[0;32min\u001b[0m \u001b[0mself\u001b[0m\u001b[0;34m.\u001b[0m\u001b[0m_children\u001b[0m\u001b[0;34m.\u001b[0m\u001b[0mitems\u001b[0m\u001b[0;34m(\u001b[0m\u001b[0;34m)\u001b[0m\u001b[0;34m:\u001b[0m\u001b[0;34m\u001b[0m\u001b[0m\n\u001b[0;32m--> 301\u001b[0;31m             \u001b[0mchild\u001b[0m\u001b[0;34m.\u001b[0m\u001b[0mrender\u001b[0m\u001b[0;34m(\u001b[0m\u001b[0;34m**\u001b[0m\u001b[0mkwargs\u001b[0m\u001b[0;34m)\u001b[0m\u001b[0;34m\u001b[0m\u001b[0m\n\u001b[0m\u001b[1;32m    302\u001b[0m         \u001b[0;32mreturn\u001b[0m \u001b[0mself\u001b[0m\u001b[0;34m.\u001b[0m\u001b[0m_template\u001b[0m\u001b[0;34m.\u001b[0m\u001b[0mrender\u001b[0m\u001b[0;34m(\u001b[0m\u001b[0mthis\u001b[0m\u001b[0;34m=\u001b[0m\u001b[0mself\u001b[0m\u001b[0;34m,\u001b[0m \u001b[0mkwargs\u001b[0m\u001b[0;34m=\u001b[0m\u001b[0mkwargs\u001b[0m\u001b[0;34m)\u001b[0m\u001b[0;34m\u001b[0m\u001b[0m\n\u001b[1;32m    303\u001b[0m \u001b[0;34m\u001b[0m\u001b[0m\n",
      "\u001b[0;32m~/miniconda3/envs/winnipeg/lib/python3.6/site-packages/folium/map.py\u001b[0m in \u001b[0;36mrender\u001b[0;34m(self, **kwargs)\u001b[0m\n\u001b[1;32m    336\u001b[0m             '</style>'), name='map_style')\n\u001b[1;32m    337\u001b[0m \u001b[0;34m\u001b[0m\u001b[0m\n\u001b[0;32m--> 338\u001b[0;31m         \u001b[0msuper\u001b[0m\u001b[0;34m(\u001b[0m\u001b[0mLegacyMap\u001b[0m\u001b[0;34m,\u001b[0m \u001b[0mself\u001b[0m\u001b[0;34m)\u001b[0m\u001b[0;34m.\u001b[0m\u001b[0mrender\u001b[0m\u001b[0;34m(\u001b[0m\u001b[0;34m**\u001b[0m\u001b[0mkwargs\u001b[0m\u001b[0;34m)\u001b[0m\u001b[0;34m\u001b[0m\u001b[0m\n\u001b[0m\u001b[1;32m    339\u001b[0m \u001b[0;34m\u001b[0m\u001b[0m\n\u001b[1;32m    340\u001b[0m \u001b[0;34m\u001b[0m\u001b[0m\n",
      "\u001b[0;32m~/miniconda3/envs/winnipeg/lib/python3.6/site-packages/branca/element.py\u001b[0m in \u001b[0;36mrender\u001b[0;34m(self, **kwargs)\u001b[0m\n\u001b[1;32m    615\u001b[0m \u001b[0;34m\u001b[0m\u001b[0m\n\u001b[1;32m    616\u001b[0m         \u001b[0;32mfor\u001b[0m \u001b[0mname\u001b[0m\u001b[0;34m,\u001b[0m \u001b[0melement\u001b[0m \u001b[0;32min\u001b[0m \u001b[0mself\u001b[0m\u001b[0;34m.\u001b[0m\u001b[0m_children\u001b[0m\u001b[0;34m.\u001b[0m\u001b[0mitems\u001b[0m\u001b[0;34m(\u001b[0m\u001b[0;34m)\u001b[0m\u001b[0;34m:\u001b[0m\u001b[0;34m\u001b[0m\u001b[0m\n\u001b[0;32m--> 617\u001b[0;31m             \u001b[0melement\u001b[0m\u001b[0;34m.\u001b[0m\u001b[0mrender\u001b[0m\u001b[0;34m(\u001b[0m\u001b[0;34m**\u001b[0m\u001b[0mkwargs\u001b[0m\u001b[0;34m)\u001b[0m\u001b[0;34m\u001b[0m\u001b[0m\n\u001b[0m",
      "\u001b[0;32m~/miniconda3/envs/winnipeg/lib/python3.6/site-packages/branca/element.py\u001b[0m in \u001b[0;36mrender\u001b[0;34m(self, **kwargs)\u001b[0m\n\u001b[1;32m    611\u001b[0m         \u001b[0mscript\u001b[0m \u001b[0;34m=\u001b[0m \u001b[0mself\u001b[0m\u001b[0;34m.\u001b[0m\u001b[0m_template\u001b[0m\u001b[0;34m.\u001b[0m\u001b[0mmodule\u001b[0m\u001b[0;34m.\u001b[0m\u001b[0m__dict__\u001b[0m\u001b[0;34m.\u001b[0m\u001b[0mget\u001b[0m\u001b[0;34m(\u001b[0m\u001b[0;34m'script'\u001b[0m\u001b[0;34m,\u001b[0m \u001b[0;32mNone\u001b[0m\u001b[0;34m)\u001b[0m\u001b[0;34m\u001b[0m\u001b[0m\n\u001b[1;32m    612\u001b[0m         \u001b[0;32mif\u001b[0m \u001b[0mscript\u001b[0m \u001b[0;32mis\u001b[0m \u001b[0;32mnot\u001b[0m \u001b[0;32mNone\u001b[0m\u001b[0;34m:\u001b[0m\u001b[0;34m\u001b[0m\u001b[0m\n\u001b[0;32m--> 613\u001b[0;31m             figure.script.add_child(Element(script(self, kwargs)),\n\u001b[0m\u001b[1;32m    614\u001b[0m                                     name=self.get_name())\n\u001b[1;32m    615\u001b[0m \u001b[0;34m\u001b[0m\u001b[0m\n",
      "\u001b[0;32m~/miniconda3/envs/winnipeg/lib/python3.6/site-packages/jinja2/runtime.py\u001b[0m in \u001b[0;36m__call__\u001b[0;34m(self, *args, **kwargs)\u001b[0m\n\u001b[1;32m    573\u001b[0m                             (self.name, len(self.arguments)))\n\u001b[1;32m    574\u001b[0m \u001b[0;34m\u001b[0m\u001b[0m\n\u001b[0;32m--> 575\u001b[0;31m         \u001b[0;32mreturn\u001b[0m \u001b[0mself\u001b[0m\u001b[0;34m.\u001b[0m\u001b[0m_invoke\u001b[0m\u001b[0;34m(\u001b[0m\u001b[0marguments\u001b[0m\u001b[0;34m,\u001b[0m \u001b[0mautoescape\u001b[0m\u001b[0;34m)\u001b[0m\u001b[0;34m\u001b[0m\u001b[0m\n\u001b[0m\u001b[1;32m    576\u001b[0m \u001b[0;34m\u001b[0m\u001b[0m\n\u001b[1;32m    577\u001b[0m     \u001b[0;32mdef\u001b[0m \u001b[0m_invoke\u001b[0m\u001b[0;34m(\u001b[0m\u001b[0mself\u001b[0m\u001b[0;34m,\u001b[0m \u001b[0marguments\u001b[0m\u001b[0;34m,\u001b[0m \u001b[0mautoescape\u001b[0m\u001b[0;34m)\u001b[0m\u001b[0;34m:\u001b[0m\u001b[0;34m\u001b[0m\u001b[0m\n",
      "\u001b[0;32m~/miniconda3/envs/winnipeg/lib/python3.6/site-packages/jinja2/asyncsupport.py\u001b[0m in \u001b[0;36m_invoke\u001b[0;34m(self, arguments, autoescape)\u001b[0m\n\u001b[1;32m    108\u001b[0m     \u001b[0;32mdef\u001b[0m \u001b[0m_invoke\u001b[0m\u001b[0;34m(\u001b[0m\u001b[0mself\u001b[0m\u001b[0;34m,\u001b[0m \u001b[0marguments\u001b[0m\u001b[0;34m,\u001b[0m \u001b[0mautoescape\u001b[0m\u001b[0;34m)\u001b[0m\u001b[0;34m:\u001b[0m\u001b[0;34m\u001b[0m\u001b[0m\n\u001b[1;32m    109\u001b[0m         \u001b[0;32mif\u001b[0m \u001b[0;32mnot\u001b[0m \u001b[0mself\u001b[0m\u001b[0;34m.\u001b[0m\u001b[0m_environment\u001b[0m\u001b[0;34m.\u001b[0m\u001b[0mis_async\u001b[0m\u001b[0;34m:\u001b[0m\u001b[0;34m\u001b[0m\u001b[0m\n\u001b[0;32m--> 110\u001b[0;31m             \u001b[0;32mreturn\u001b[0m \u001b[0moriginal_invoke\u001b[0m\u001b[0;34m(\u001b[0m\u001b[0mself\u001b[0m\u001b[0;34m,\u001b[0m \u001b[0marguments\u001b[0m\u001b[0;34m,\u001b[0m \u001b[0mautoescape\u001b[0m\u001b[0;34m)\u001b[0m\u001b[0;34m\u001b[0m\u001b[0m\n\u001b[0m\u001b[1;32m    111\u001b[0m         \u001b[0;32mreturn\u001b[0m \u001b[0masync_invoke\u001b[0m\u001b[0;34m(\u001b[0m\u001b[0mself\u001b[0m\u001b[0;34m,\u001b[0m \u001b[0marguments\u001b[0m\u001b[0;34m,\u001b[0m \u001b[0mautoescape\u001b[0m\u001b[0;34m)\u001b[0m\u001b[0;34m\u001b[0m\u001b[0m\n\u001b[1;32m    112\u001b[0m     \u001b[0;32mreturn\u001b[0m \u001b[0mupdate_wrapper\u001b[0m\u001b[0;34m(\u001b[0m\u001b[0m_invoke\u001b[0m\u001b[0;34m,\u001b[0m \u001b[0moriginal_invoke\u001b[0m\u001b[0;34m)\u001b[0m\u001b[0;34m\u001b[0m\u001b[0m\n",
      "\u001b[0;32m~/miniconda3/envs/winnipeg/lib/python3.6/site-packages/jinja2/runtime.py\u001b[0m in \u001b[0;36m_invoke\u001b[0;34m(self, arguments, autoescape)\u001b[0m\n\u001b[1;32m    577\u001b[0m     \u001b[0;32mdef\u001b[0m \u001b[0m_invoke\u001b[0m\u001b[0;34m(\u001b[0m\u001b[0mself\u001b[0m\u001b[0;34m,\u001b[0m \u001b[0marguments\u001b[0m\u001b[0;34m,\u001b[0m \u001b[0mautoescape\u001b[0m\u001b[0;34m)\u001b[0m\u001b[0;34m:\u001b[0m\u001b[0;34m\u001b[0m\u001b[0m\n\u001b[1;32m    578\u001b[0m         \u001b[0;34m\"\"\"This method is being swapped out by the async implementation.\"\"\"\u001b[0m\u001b[0;34m\u001b[0m\u001b[0m\n\u001b[0;32m--> 579\u001b[0;31m         \u001b[0mrv\u001b[0m \u001b[0;34m=\u001b[0m \u001b[0mself\u001b[0m\u001b[0;34m.\u001b[0m\u001b[0m_func\u001b[0m\u001b[0;34m(\u001b[0m\u001b[0;34m*\u001b[0m\u001b[0marguments\u001b[0m\u001b[0;34m)\u001b[0m\u001b[0;34m\u001b[0m\u001b[0m\n\u001b[0m\u001b[1;32m    580\u001b[0m         \u001b[0;32mif\u001b[0m \u001b[0mautoescape\u001b[0m\u001b[0;34m:\u001b[0m\u001b[0;34m\u001b[0m\u001b[0m\n\u001b[1;32m    581\u001b[0m             \u001b[0mrv\u001b[0m \u001b[0;34m=\u001b[0m \u001b[0mMarkup\u001b[0m\u001b[0;34m(\u001b[0m\u001b[0mrv\u001b[0m\u001b[0;34m)\u001b[0m\u001b[0;34m\u001b[0m\u001b[0m\n",
      "\u001b[0;32m<template>\u001b[0m in \u001b[0;36mmacro\u001b[0;34m(l_1_this, l_1_kwargs)\u001b[0m\n",
      "\u001b[0;32m~/miniconda3/envs/winnipeg/lib/python3.6/site-packages/jinja2/runtime.py\u001b[0m in \u001b[0;36mcall\u001b[0;34m(_Context__self, _Context__obj, *args, **kwargs)\u001b[0m\n\u001b[1;32m    260\u001b[0m                 \u001b[0margs\u001b[0m \u001b[0;34m=\u001b[0m \u001b[0;34m(\u001b[0m\u001b[0m__self\u001b[0m\u001b[0;34m.\u001b[0m\u001b[0menvironment\u001b[0m\u001b[0;34m,\u001b[0m\u001b[0;34m)\u001b[0m \u001b[0;34m+\u001b[0m \u001b[0margs\u001b[0m\u001b[0;34m\u001b[0m\u001b[0m\n\u001b[1;32m    261\u001b[0m         \u001b[0;32mtry\u001b[0m\u001b[0;34m:\u001b[0m\u001b[0;34m\u001b[0m\u001b[0m\n\u001b[0;32m--> 262\u001b[0;31m             \u001b[0;32mreturn\u001b[0m \u001b[0m__obj\u001b[0m\u001b[0;34m(\u001b[0m\u001b[0;34m*\u001b[0m\u001b[0margs\u001b[0m\u001b[0;34m,\u001b[0m \u001b[0;34m**\u001b[0m\u001b[0mkwargs\u001b[0m\u001b[0;34m)\u001b[0m\u001b[0;34m\u001b[0m\u001b[0m\n\u001b[0m\u001b[1;32m    263\u001b[0m         \u001b[0;32mexcept\u001b[0m \u001b[0mStopIteration\u001b[0m\u001b[0;34m:\u001b[0m\u001b[0;34m\u001b[0m\u001b[0m\n\u001b[1;32m    264\u001b[0m             return __self.environment.undefined('value was undefined because '\n",
      "\u001b[0;32m~/miniconda3/envs/winnipeg/lib/python3.6/site-packages/folium/features.py\u001b[0m in \u001b[0;36mstyle_data\u001b[0;34m(self)\u001b[0m\n\u001b[1;32m    565\u001b[0m             \u001b[0mfeature\u001b[0m\u001b[0;34m.\u001b[0m\u001b[0msetdefault\u001b[0m\u001b[0;34m(\u001b[0m\u001b[0;34m'properties'\u001b[0m\u001b[0;34m,\u001b[0m \u001b[0;34m{\u001b[0m\u001b[0;34m}\u001b[0m\u001b[0;34m)\u001b[0m\u001b[0;34m.\u001b[0m\u001b[0msetdefault\u001b[0m\u001b[0;34m(\u001b[0m\u001b[0;34m'style'\u001b[0m\u001b[0;34m,\u001b[0m \u001b[0;34m{\u001b[0m\u001b[0;34m}\u001b[0m\u001b[0;34m)\u001b[0m\u001b[0;34m.\u001b[0m\u001b[0mupdate\u001b[0m\u001b[0;34m(\u001b[0m\u001b[0mself\u001b[0m\u001b[0;34m.\u001b[0m\u001b[0mstyle_function\u001b[0m\u001b[0;34m(\u001b[0m\u001b[0mfeature\u001b[0m\u001b[0;34m)\u001b[0m\u001b[0;34m)\u001b[0m  \u001b[0;31m# noqa\u001b[0m\u001b[0;34m\u001b[0m\u001b[0m\n\u001b[1;32m    566\u001b[0m             \u001b[0mfeature\u001b[0m\u001b[0;34m.\u001b[0m\u001b[0msetdefault\u001b[0m\u001b[0;34m(\u001b[0m\u001b[0;34m'properties'\u001b[0m\u001b[0;34m,\u001b[0m \u001b[0;34m{\u001b[0m\u001b[0;34m}\u001b[0m\u001b[0;34m)\u001b[0m\u001b[0;34m.\u001b[0m\u001b[0msetdefault\u001b[0m\u001b[0;34m(\u001b[0m\u001b[0;34m'highlight'\u001b[0m\u001b[0;34m,\u001b[0m \u001b[0;34m{\u001b[0m\u001b[0;34m}\u001b[0m\u001b[0;34m)\u001b[0m\u001b[0;34m.\u001b[0m\u001b[0mupdate\u001b[0m\u001b[0;34m(\u001b[0m\u001b[0mself\u001b[0m\u001b[0;34m.\u001b[0m\u001b[0mhighlight_function\u001b[0m\u001b[0;34m(\u001b[0m\u001b[0mfeature\u001b[0m\u001b[0;34m)\u001b[0m\u001b[0;34m)\u001b[0m  \u001b[0;31m# noqa\u001b[0m\u001b[0;34m\u001b[0m\u001b[0m\n\u001b[0;32m--> 567\u001b[0;31m         \u001b[0;32mreturn\u001b[0m \u001b[0mjson\u001b[0m\u001b[0;34m.\u001b[0m\u001b[0mdumps\u001b[0m\u001b[0;34m(\u001b[0m\u001b[0mself\u001b[0m\u001b[0;34m.\u001b[0m\u001b[0mdata\u001b[0m\u001b[0;34m,\u001b[0m \u001b[0msort_keys\u001b[0m\u001b[0;34m=\u001b[0m\u001b[0;32mTrue\u001b[0m\u001b[0;34m)\u001b[0m\u001b[0;34m\u001b[0m\u001b[0m\n\u001b[0m\u001b[1;32m    568\u001b[0m \u001b[0;34m\u001b[0m\u001b[0m\n\u001b[1;32m    569\u001b[0m     \u001b[0;32mdef\u001b[0m \u001b[0m_get_self_bounds\u001b[0m\u001b[0;34m(\u001b[0m\u001b[0mself\u001b[0m\u001b[0;34m)\u001b[0m\u001b[0;34m:\u001b[0m\u001b[0;34m\u001b[0m\u001b[0m\n",
      "\u001b[0;32m~/miniconda3/envs/winnipeg/lib/python3.6/json/__init__.py\u001b[0m in \u001b[0;36mdumps\u001b[0;34m(obj, skipkeys, ensure_ascii, check_circular, allow_nan, cls, indent, separators, default, sort_keys, **kw)\u001b[0m\n\u001b[1;32m    236\u001b[0m         \u001b[0mcheck_circular\u001b[0m\u001b[0;34m=\u001b[0m\u001b[0mcheck_circular\u001b[0m\u001b[0;34m,\u001b[0m \u001b[0mallow_nan\u001b[0m\u001b[0;34m=\u001b[0m\u001b[0mallow_nan\u001b[0m\u001b[0;34m,\u001b[0m \u001b[0mindent\u001b[0m\u001b[0;34m=\u001b[0m\u001b[0mindent\u001b[0m\u001b[0;34m,\u001b[0m\u001b[0;34m\u001b[0m\u001b[0m\n\u001b[1;32m    237\u001b[0m         \u001b[0mseparators\u001b[0m\u001b[0;34m=\u001b[0m\u001b[0mseparators\u001b[0m\u001b[0;34m,\u001b[0m \u001b[0mdefault\u001b[0m\u001b[0;34m=\u001b[0m\u001b[0mdefault\u001b[0m\u001b[0;34m,\u001b[0m \u001b[0msort_keys\u001b[0m\u001b[0;34m=\u001b[0m\u001b[0msort_keys\u001b[0m\u001b[0;34m,\u001b[0m\u001b[0;34m\u001b[0m\u001b[0m\n\u001b[0;32m--> 238\u001b[0;31m         **kw).encode(obj)\n\u001b[0m\u001b[1;32m    239\u001b[0m \u001b[0;34m\u001b[0m\u001b[0m\n\u001b[1;32m    240\u001b[0m \u001b[0;34m\u001b[0m\u001b[0m\n",
      "\u001b[0;32m~/miniconda3/envs/winnipeg/lib/python3.6/json/encoder.py\u001b[0m in \u001b[0;36mencode\u001b[0;34m(self, o)\u001b[0m\n\u001b[1;32m    197\u001b[0m         \u001b[0;31m# exceptions aren't as detailed.  The list call should be roughly\u001b[0m\u001b[0;34m\u001b[0m\u001b[0;34m\u001b[0m\u001b[0m\n\u001b[1;32m    198\u001b[0m         \u001b[0;31m# equivalent to the PySequence_Fast that ''.join() would do.\u001b[0m\u001b[0;34m\u001b[0m\u001b[0;34m\u001b[0m\u001b[0m\n\u001b[0;32m--> 199\u001b[0;31m         \u001b[0mchunks\u001b[0m \u001b[0;34m=\u001b[0m \u001b[0mself\u001b[0m\u001b[0;34m.\u001b[0m\u001b[0miterencode\u001b[0m\u001b[0;34m(\u001b[0m\u001b[0mo\u001b[0m\u001b[0;34m,\u001b[0m \u001b[0m_one_shot\u001b[0m\u001b[0;34m=\u001b[0m\u001b[0;32mTrue\u001b[0m\u001b[0;34m)\u001b[0m\u001b[0;34m\u001b[0m\u001b[0m\n\u001b[0m\u001b[1;32m    200\u001b[0m         \u001b[0;32mif\u001b[0m \u001b[0;32mnot\u001b[0m \u001b[0misinstance\u001b[0m\u001b[0;34m(\u001b[0m\u001b[0mchunks\u001b[0m\u001b[0;34m,\u001b[0m \u001b[0;34m(\u001b[0m\u001b[0mlist\u001b[0m\u001b[0;34m,\u001b[0m \u001b[0mtuple\u001b[0m\u001b[0;34m)\u001b[0m\u001b[0;34m)\u001b[0m\u001b[0;34m:\u001b[0m\u001b[0;34m\u001b[0m\u001b[0m\n\u001b[1;32m    201\u001b[0m             \u001b[0mchunks\u001b[0m \u001b[0;34m=\u001b[0m \u001b[0mlist\u001b[0m\u001b[0;34m(\u001b[0m\u001b[0mchunks\u001b[0m\u001b[0;34m)\u001b[0m\u001b[0;34m\u001b[0m\u001b[0m\n",
      "\u001b[0;32m~/miniconda3/envs/winnipeg/lib/python3.6/json/encoder.py\u001b[0m in \u001b[0;36miterencode\u001b[0;34m(self, o, _one_shot)\u001b[0m\n\u001b[1;32m    255\u001b[0m                 \u001b[0mself\u001b[0m\u001b[0;34m.\u001b[0m\u001b[0mkey_separator\u001b[0m\u001b[0;34m,\u001b[0m \u001b[0mself\u001b[0m\u001b[0;34m.\u001b[0m\u001b[0mitem_separator\u001b[0m\u001b[0;34m,\u001b[0m \u001b[0mself\u001b[0m\u001b[0;34m.\u001b[0m\u001b[0msort_keys\u001b[0m\u001b[0;34m,\u001b[0m\u001b[0;34m\u001b[0m\u001b[0m\n\u001b[1;32m    256\u001b[0m                 self.skipkeys, _one_shot)\n\u001b[0;32m--> 257\u001b[0;31m         \u001b[0;32mreturn\u001b[0m \u001b[0m_iterencode\u001b[0m\u001b[0;34m(\u001b[0m\u001b[0mo\u001b[0m\u001b[0;34m,\u001b[0m \u001b[0;36m0\u001b[0m\u001b[0;34m)\u001b[0m\u001b[0;34m\u001b[0m\u001b[0m\n\u001b[0m\u001b[1;32m    258\u001b[0m \u001b[0;34m\u001b[0m\u001b[0m\n\u001b[1;32m    259\u001b[0m def _make_iterencode(markers, _default, _encoder, _indent, _floatstr,\n",
      "\u001b[0;32m~/miniconda3/envs/winnipeg/lib/python3.6/json/encoder.py\u001b[0m in \u001b[0;36mdefault\u001b[0;34m(self, o)\u001b[0m\n\u001b[1;32m    178\u001b[0m         \"\"\"\n\u001b[1;32m    179\u001b[0m         raise TypeError(\"Object of type '%s' is not JSON serializable\" %\n\u001b[0;32m--> 180\u001b[0;31m                         o.__class__.__name__)\n\u001b[0m\u001b[1;32m    181\u001b[0m \u001b[0;34m\u001b[0m\u001b[0m\n\u001b[1;32m    182\u001b[0m     \u001b[0;32mdef\u001b[0m \u001b[0mencode\u001b[0m\u001b[0;34m(\u001b[0m\u001b[0mself\u001b[0m\u001b[0;34m,\u001b[0m \u001b[0mo\u001b[0m\u001b[0;34m)\u001b[0m\u001b[0;34m:\u001b[0m\u001b[0;34m\u001b[0m\u001b[0m\n",
      "\u001b[0;31mTypeError\u001b[0m: Object of type 'Polygon' is not JSON serializable"
     ]
    },
    {
     "data": {
      "text/plain": [
       "<folium.folium.Map at 0x7faa3675da90>"
      ]
     },
     "execution_count": 266,
     "metadata": {},
     "output_type": "execute_result"
    }
   ],
   "source": [
    "mapwpg = folium.Map(wpg_xy)\n",
    "mapwpg.add_children(\n",
    "  \n",
    "                   )\n",
    "mapwpg"
   ]
  },
  {
   "cell_type": "code",
   "execution_count": null,
   "metadata": {},
   "outputs": [],
   "source": [
    "folium.Map()"
   ]
  }
 ],
 "metadata": {
  "hide_input": false,
  "kernelspec": {
   "display_name": "Python 3",
   "language": "python",
   "name": "python3"
  },
  "language_info": {
   "codemirror_mode": {
    "name": "ipython",
    "version": 3
   },
   "file_extension": ".py",
   "mimetype": "text/x-python",
   "name": "python",
   "nbconvert_exporter": "python",
   "pygments_lexer": "ipython3",
   "version": "3.6.4"
  },
  "latex_envs": {
   "LaTeX_envs_menu_present": true,
   "bibliofile": "biblio.bib",
   "cite_by": "apalike",
   "current_citInitial": 1,
   "eqLabelWithNumbers": true,
   "eqNumInitial": 1,
   "labels_anchors": false,
   "latex_user_defs": false,
   "report_style_numbering": false,
   "user_envs_cfg": false
  },
  "toc": {
   "nav_menu": {
    "height": "12px",
    "width": "252px"
   },
   "number_sections": true,
   "sideBar": true,
   "skip_h1_title": false,
   "title_cell": "Table of Contents",
   "title_sidebar": "Contents",
   "toc_cell": false,
   "toc_position": {},
   "toc_section_display": "block",
   "toc_window_display": false
  }
 },
 "nbformat": 4,
 "nbformat_minor": 2
}
