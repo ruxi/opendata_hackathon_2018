{
 "cells": [
  {
   "cell_type": "markdown",
   "metadata": {},
   "source": [
    "- https://data.winnipeg.ca/Recreation/Pool-Facility-Usage/j4s8-s9ap\n",
    "    \n",
    "    "
   ]
  },
  {
   "cell_type": "code",
   "execution_count": 1,
   "metadata": {
    "ExecuteTime": {
     "end_time": "2018-03-04T01:38:45.178686Z",
     "start_time": "2018-03-04T01:38:45.174626Z"
    }
   },
   "outputs": [],
   "source": [
    "#!pip install sodapy"
   ]
  },
  {
   "cell_type": "markdown",
   "metadata": {},
   "source": [
    "# Datasets"
   ]
  },
  {
   "cell_type": "code",
   "execution_count": 2,
   "metadata": {
    "ExecuteTime": {
     "end_time": "2018-03-04T01:38:46.317548Z",
     "start_time": "2018-03-04T01:38:45.882854Z"
    }
   },
   "outputs": [],
   "source": [
    "import pandas as pd\n",
    "from sodapy import Socrata"
   ]
  },
  {
   "cell_type": "markdown",
   "metadata": {
    "ExecuteTime": {
     "end_time": "2018-03-03T23:14:10.650069Z",
     "start_time": "2018-03-03T23:14:10.639163Z"
    }
   },
   "source": [
    "- neighbourhood\n",
    "- mosquitoes\n",
    "- bikes"
   ]
  },
  {
   "cell_type": "markdown",
   "metadata": {},
   "source": [
    "## neighbourhoods"
   ]
  },
  {
   "cell_type": "code",
   "execution_count": 3,
   "metadata": {
    "ExecuteTime": {
     "end_time": "2018-03-04T01:38:47.893736Z",
     "start_time": "2018-03-04T01:38:46.577569Z"
    }
   },
   "outputs": [
    {
     "name": "stderr",
     "output_type": "stream",
     "text": [
      "WARNING:root:Requests made without an app_token will be subject to strict throttling limits.\n"
     ]
    },
    {
     "data": {
      "text/html": [
       "<div>\n",
       "<style scoped>\n",
       "    .dataframe tbody tr th:only-of-type {\n",
       "        vertical-align: middle;\n",
       "    }\n",
       "\n",
       "    .dataframe tbody tr th {\n",
       "        vertical-align: top;\n",
       "    }\n",
       "\n",
       "    .dataframe thead th {\n",
       "        text-align: right;\n",
       "    }\n",
       "</style>\n",
       "<table border=\"1\" class=\"dataframe\">\n",
       "  <thead>\n",
       "    <tr style=\"text-align: right;\">\n",
       "      <th></th>\n",
       "      <th>id</th>\n",
       "      <th>name</th>\n",
       "      <th>the_geom</th>\n",
       "      <th>newgeom</th>\n",
       "    </tr>\n",
       "  </thead>\n",
       "  <tbody>\n",
       "    <tr>\n",
       "      <th>0</th>\n",
       "      <td>696</td>\n",
       "      <td>Seven Oaks</td>\n",
       "      <td>{'type': 'MultiPolygon', 'coordinates': [[[[-9...</td>\n",
       "      <td>POLYGON ((-97.11021888431701 49.925633193803, ...</td>\n",
       "    </tr>\n",
       "    <tr>\n",
       "      <th>1</th>\n",
       "      <td>178</td>\n",
       "      <td>Parker</td>\n",
       "      <td>{'type': 'MultiPolygon', 'coordinates': [[[[-9...</td>\n",
       "      <td>POLYGON ((-97.17615035641499 49.850537882086, ...</td>\n",
       "    </tr>\n",
       "    <tr>\n",
       "      <th>2</th>\n",
       "      <td>630</td>\n",
       "      <td>The Maples</td>\n",
       "      <td>{'type': 'MultiPolygon', 'coordinates': [[[[-9...</td>\n",
       "      <td>POLYGON ((-97.163398354858 49.941591371416, -9...</td>\n",
       "    </tr>\n",
       "    <tr>\n",
       "      <th>3</th>\n",
       "      <td>702</td>\n",
       "      <td>Luxton</td>\n",
       "      <td>{'type': 'MultiPolygon', 'coordinates': [[[[-9...</td>\n",
       "      <td>POLYGON ((-97.116047777972 49.920325228662, -9...</td>\n",
       "    </tr>\n",
       "    <tr>\n",
       "      <th>4</th>\n",
       "      <td>1012</td>\n",
       "      <td>Talbot-Grey</td>\n",
       "      <td>{'type': 'MultiPolygon', 'coordinates': [[[[-9...</td>\n",
       "      <td>POLYGON ((-97.101068054847 49.904738664792, -9...</td>\n",
       "    </tr>\n",
       "  </tbody>\n",
       "</table>\n",
       "</div>"
      ],
      "text/plain": [
       "     id         name                                           the_geom  \\\n",
       "0   696   Seven Oaks  {'type': 'MultiPolygon', 'coordinates': [[[[-9...   \n",
       "1   178       Parker  {'type': 'MultiPolygon', 'coordinates': [[[[-9...   \n",
       "2   630   The Maples  {'type': 'MultiPolygon', 'coordinates': [[[[-9...   \n",
       "3   702       Luxton  {'type': 'MultiPolygon', 'coordinates': [[[[-9...   \n",
       "4  1012  Talbot-Grey  {'type': 'MultiPolygon', 'coordinates': [[[[-9...   \n",
       "\n",
       "                                             newgeom  \n",
       "0  POLYGON ((-97.11021888431701 49.925633193803, ...  \n",
       "1  POLYGON ((-97.17615035641499 49.850537882086, ...  \n",
       "2  POLYGON ((-97.163398354858 49.941591371416, -9...  \n",
       "3  POLYGON ((-97.116047777972 49.920325228662, -9...  \n",
       "4  POLYGON ((-97.101068054847 49.904738664792, -9...  "
      ]
     },
     "execution_count": 3,
     "metadata": {},
     "output_type": "execute_result"
    }
   ],
   "source": [
    "import shapely.geometry\n",
    "from geopandas import GeoDataFrame\n",
    "client = Socrata(\"data.winnipeg.ca\", None)\n",
    "neighbourhoods_id = \"xaux-29zr\"\n",
    "neighbourhoods = client.get(neighbourhoods_id, limit=2000)\n",
    "neighbourhoods = GeoDataFrame(neighbourhoods)\n",
    "newgeom = [shapely.geometry.Polygon(x['coordinates'][0][0]) for x in neighbourhoods.the_geom]\n",
    "neighbourhoods['newgeom'] = newgeom\n",
    "neighbourhoods = neighbourhoods.set_geometry('newgeom')\n",
    "neighbourhoods.head()\n"
   ]
  },
  {
   "cell_type": "code",
   "execution_count": 4,
   "metadata": {
    "ExecuteTime": {
     "end_time": "2018-03-04T01:38:48.285008Z",
     "start_time": "2018-03-04T01:38:47.895956Z"
    }
   },
   "outputs": [
    {
     "data": {
      "text/plain": [
       "<matplotlib.axes._subplots.AxesSubplot at 0x7f177d835c50>"
      ]
     },
     "execution_count": 4,
     "metadata": {},
     "output_type": "execute_result"
    }
   ],
   "source": [
    "neighbourhoods.plot()"
   ]
  },
  {
   "cell_type": "markdown",
   "metadata": {},
   "source": [
    "## bikes"
   ]
  },
  {
   "cell_type": "code",
   "execution_count": 5,
   "metadata": {
    "ExecuteTime": {
     "end_time": "2018-03-04T01:38:49.253107Z",
     "start_time": "2018-03-04T01:38:48.287340Z"
    }
   },
   "outputs": [
    {
     "name": "stderr",
     "output_type": "stream",
     "text": [
      "WARNING:root:Requests made without an app_token will be subject to strict throttling limits.\n"
     ]
    },
    {
     "data": {
      "text/html": [
       "<div>\n",
       "<style scoped>\n",
       "    .dataframe tbody tr th:only-of-type {\n",
       "        vertical-align: middle;\n",
       "    }\n",
       "\n",
       "    .dataframe tbody tr th {\n",
       "        vertical-align: top;\n",
       "    }\n",
       "\n",
       "    .dataframe thead th {\n",
       "        text-align: right;\n",
       "    }\n",
       "</style>\n",
       "<table border=\"1\" class=\"dataframe\">\n",
       "  <thead>\n",
       "    <tr style=\"text-align: right;\">\n",
       "      <th></th>\n",
       "      <th>0</th>\n",
       "      <th>1</th>\n",
       "      <th>2</th>\n",
       "    </tr>\n",
       "  </thead>\n",
       "  <tbody>\n",
       "    <tr>\n",
       "      <th>asset_class</th>\n",
       "      <td>STAND-ALONE PLAY COMPONENT</td>\n",
       "      <td>SEATING</td>\n",
       "      <td>SEATING</td>\n",
       "    </tr>\n",
       "    <tr>\n",
       "      <th>asset_id</th>\n",
       "      <td>46292</td>\n",
       "      <td>47525</td>\n",
       "      <td>24478</td>\n",
       "    </tr>\n",
       "    <tr>\n",
       "      <th>asset_size</th>\n",
       "      <td>N/A</td>\n",
       "      <td>N/A</td>\n",
       "      <td>N/A</td>\n",
       "    </tr>\n",
       "    <tr>\n",
       "      <th>asset_type</th>\n",
       "      <td>N/A</td>\n",
       "      <td>BENCH</td>\n",
       "      <td>BENCH</td>\n",
       "    </tr>\n",
       "    <tr>\n",
       "      <th>geom_type</th>\n",
       "      <td>POINT</td>\n",
       "      <td>POINT</td>\n",
       "      <td>POINT</td>\n",
       "    </tr>\n",
       "    <tr>\n",
       "      <th>park_id</th>\n",
       "      <td>1137</td>\n",
       "      <td>266</td>\n",
       "      <td>1179</td>\n",
       "    </tr>\n",
       "    <tr>\n",
       "      <th>park_name</th>\n",
       "      <td>Frontenac Park</td>\n",
       "      <td>Muriel Street Park</td>\n",
       "      <td>Aberdeen Adventure Playground</td>\n",
       "    </tr>\n",
       "    <tr>\n",
       "      <th>prim_field</th>\n",
       "      <td>N/A</td>\n",
       "      <td>N/A</td>\n",
       "      <td>N/A</td>\n",
       "    </tr>\n",
       "    <tr>\n",
       "      <th>the_geom</th>\n",
       "      <td>{'type': 'Point', 'coordinates': [-97.08174796...</td>\n",
       "      <td>{'type': 'Point', 'coordinates': [-97.29729904...</td>\n",
       "      <td>{'type': 'Point', 'coordinates': [-97.12915711...</td>\n",
       "    </tr>\n",
       "  </tbody>\n",
       "</table>\n",
       "</div>"
      ],
      "text/plain": [
       "                                                             0  \\\n",
       "asset_class                         STAND-ALONE PLAY COMPONENT   \n",
       "asset_id                                                 46292   \n",
       "asset_size                                                 N/A   \n",
       "asset_type                                                 N/A   \n",
       "geom_type                                                POINT   \n",
       "park_id                                                   1137   \n",
       "park_name                                       Frontenac Park   \n",
       "prim_field                                                 N/A   \n",
       "the_geom     {'type': 'Point', 'coordinates': [-97.08174796...   \n",
       "\n",
       "                                                             1  \\\n",
       "asset_class                                            SEATING   \n",
       "asset_id                                                 47525   \n",
       "asset_size                                                 N/A   \n",
       "asset_type                                               BENCH   \n",
       "geom_type                                                POINT   \n",
       "park_id                                                    266   \n",
       "park_name                                   Muriel Street Park   \n",
       "prim_field                                                 N/A   \n",
       "the_geom     {'type': 'Point', 'coordinates': [-97.29729904...   \n",
       "\n",
       "                                                             2  \n",
       "asset_class                                            SEATING  \n",
       "asset_id                                                 24478  \n",
       "asset_size                                                 N/A  \n",
       "asset_type                                               BENCH  \n",
       "geom_type                                                POINT  \n",
       "park_id                                                   1179  \n",
       "park_name                        Aberdeen Adventure Playground  \n",
       "prim_field                                                 N/A  \n",
       "the_geom     {'type': 'Point', 'coordinates': [-97.12915711...  "
      ]
     },
     "execution_count": 5,
     "metadata": {},
     "output_type": "execute_result"
    }
   ],
   "source": [
    "client = Socrata(\"data.winnipeg.ca\", None)\n",
    "bikes = client.get(\"9t9k-ya8b\", limit=10000)\n",
    "bikes = pd.DataFrame(bikes)\n",
    "bikes.head(3).T"
   ]
  },
  {
   "cell_type": "code",
   "execution_count": 6,
   "metadata": {
    "ExecuteTime": {
     "end_time": "2018-03-04T01:38:49.952619Z",
     "start_time": "2018-03-04T01:38:49.255219Z"
    }
   },
   "outputs": [
    {
     "data": {
      "text/plain": [
       "<matplotlib.axes._subplots.AxesSubplot at 0x7f17746c1940>"
      ]
     },
     "execution_count": 6,
     "metadata": {},
     "output_type": "execute_result"
    },
    {
     "data": {
      "image/png": "[encoded data removed]",
      "text/plain": [
       "<matplotlib.figure.Figure at 0x7f17746c12e8>"
      ]
     },
     "metadata": {},
     "output_type": "display_data"
    }
   ],
   "source": [
    "from shapely.geometry import Point\n",
    "\n",
    "newgeom = [Point(x['coordinates']) for x in bikes.the_geom]\n",
    "bikes['newgeom'] = newgeom\n",
    "bikes = bikes.set_geometry('newgeom')\n",
    "bikes.plot()"
   ]
  },
  {
   "cell_type": "markdown",
   "metadata": {
    "ExecuteTime": {
     "end_time": "2018-03-04T00:09:15.829402Z",
     "start_time": "2018-03-04T00:09:15.822434Z"
    }
   },
   "source": [
    "## bugs"
   ]
  },
  {
   "cell_type": "code",
   "execution_count": 7,
   "metadata": {
    "ExecuteTime": {
     "end_time": "2018-03-04T01:38:50.354604Z",
     "start_time": "2018-03-04T01:38:49.954638Z"
    }
   },
   "outputs": [
    {
     "name": "stderr",
     "output_type": "stream",
     "text": [
      "WARNING:root:Requests made without an app_token will be subject to strict throttling limits.\n"
     ]
    },
    {
     "name": "stdout",
     "output_type": "stream",
     "text": [
      "number of locations 37\n"
     ]
    },
    {
     "data": {
      "text/html": [
       "<div>\n",
       "<style scoped>\n",
       "    .dataframe tbody tr th:only-of-type {\n",
       "        vertical-align: middle;\n",
       "    }\n",
       "\n",
       "    .dataframe tbody tr th {\n",
       "        vertical-align: top;\n",
       "    }\n",
       "\n",
       "    .dataframe thead th {\n",
       "        text-align: right;\n",
       "    }\n",
       "</style>\n",
       "<table border=\"1\" class=\"dataframe\">\n",
       "  <thead>\n",
       "    <tr style=\"text-align: right;\">\n",
       "      <th></th>\n",
       "      <th>count_date</th>\n",
       "      <th>trap_days</th>\n",
       "      <th>location</th>\n",
       "      <th>bugcount</th>\n",
       "    </tr>\n",
       "  </thead>\n",
       "  <tbody>\n",
       "    <tr>\n",
       "      <th>0</th>\n",
       "      <td>2015-05-04T00:00:00</td>\n",
       "      <td>3</td>\n",
       "      <td>north_east_1</td>\n",
       "      <td>0</td>\n",
       "    </tr>\n",
       "    <tr>\n",
       "      <th>1</th>\n",
       "      <td>2015-05-06T00:00:00</td>\n",
       "      <td>2</td>\n",
       "      <td>north_east_1</td>\n",
       "      <td>2</td>\n",
       "    </tr>\n",
       "    <tr>\n",
       "      <th>2</th>\n",
       "      <td>2015-05-08T00:00:00</td>\n",
       "      <td>2</td>\n",
       "      <td>north_east_1</td>\n",
       "      <td>0</td>\n",
       "    </tr>\n",
       "    <tr>\n",
       "      <th>3</th>\n",
       "      <td>2015-05-11T00:00:00</td>\n",
       "      <td>3</td>\n",
       "      <td>north_east_1</td>\n",
       "      <td>0</td>\n",
       "    </tr>\n",
       "    <tr>\n",
       "      <th>4</th>\n",
       "      <td>2015-05-13T00:00:00</td>\n",
       "      <td>2</td>\n",
       "      <td>north_east_1</td>\n",
       "      <td>1</td>\n",
       "    </tr>\n",
       "  </tbody>\n",
       "</table>\n",
       "</div>"
      ],
      "text/plain": [
       "            count_date trap_days      location bugcount\n",
       "0  2015-05-04T00:00:00         3  north_east_1        0\n",
       "1  2015-05-06T00:00:00         2  north_east_1        2\n",
       "2  2015-05-08T00:00:00         2  north_east_1        0\n",
       "3  2015-05-11T00:00:00         3  north_east_1        0\n",
       "4  2015-05-13T00:00:00         2  north_east_1        1"
      ]
     },
     "execution_count": 7,
     "metadata": {},
     "output_type": "execute_result"
    }
   ],
   "source": [
    "import pandas as pd\n",
    "from geopandas import GeoDataFrame\n",
    "client = Socrata(\"data.winnipeg.ca\", None)\n",
    "bugs = client.get(\"du7c-8488\", limit=2000)\n",
    "bugs = GeoDataFrame(bugs)\n",
    "\n",
    "# wrangling\n",
    "idvars = ['count_date', 'trap_days']\n",
    "location_only = [x for x in bugs.columns if \"average\" not in x]\n",
    "location_only = [x for x in location_only if x not in idvars]\n",
    "print(f\"number of locations {len(location_only)}\")\n",
    "\n",
    "# make wide to long \n",
    "bugs = pd.melt(bugs[location_only + idvars], id_vars = idvars, var_name = 'location', value_name = 'bugcount')\n",
    "bugs = GeoDataFrame(bugs)\n",
    "bugs.head()"
   ]
  },
  {
   "cell_type": "markdown",
   "metadata": {
    "ExecuteTime": {
     "end_time": "2018-03-04T00:26:30.046265Z",
     "start_time": "2018-03-04T00:26:29.999755Z"
    }
   },
   "source": [
    "buglocations2gps = \\\n",
    "{\"north_east_1\": {\"coord\": [49.951867, -97.059306]}\n",
    ",\"north_east_2\": {\"coord\": [49.933941, -97.096341]}\n",
    ",\"north_east_3\": {\"coord\": [49.924809, -97.056330]}\n",
    ",\"north_east_4\": {\"coord\": [49.906175, -97.094797]}\n",
    ",\"north_east_5\": {\"coord\": [49.892358, -97.022426]}\n",
    ",\"north_east_6\": {\"coord\": [49.918257, -97.043848]}\n",
    ",\"north_east_7\": {\"coord\": [49.904900, -96.981602]}\n",
    ",\"north_west_1\": {\"coord\": [49.890104, -97.308464]}\n",
    ",\"north_west_2\": {\"coord\": [49.882624, -97.238131]}\n",
    ",\"north_west_3\": {\"coord\": [49.888943, -97.193254]}\n",
    ",\"north_west_4\": {\"coord\": [49.920877, -97.202540]}\n",
    ",\"north_west_5\": {\"coord\": [49.931627, -97.170450]}\n",
    ",\"north_west_6\": {\"coord\": [49.975104, -97.147863]}\n",
    ",\"north_west_7\": {\"coord\": [49.948876, -97.126311]}\n",
    ",\"rural_aa\": {\"coord\": [49.981128, -97.244987]}\n",
    ",\"rural_bb\": {\"coord\": [49.999793, -97.194880]}\n",
    ",\"rural_cc\": {\"coord\": [49.991068, -97.089770]}\n",
    ",\"rural_dd\": {\"coord\": [49.990523, -97.013920]}\n",
    ",\"rural_ee\": {\"coord\": [49.852485, -96.986202]}\n",
    ",\"rural_ff\": {\"coord\": [49.800355, -97.073122]}\n",
    ",\"rural_gg\": {\"coord\": [49.782835, -97.339871]}\n",
    ",\"rural_hh\": {\"coord\": [49.854707, -97.338403]}\n",
    ",\"rural_ii\": {\"coord\": [49.890188, -97.341707]}\n",
    ",\"south_east_1\": {\"coord\": [49.52426, 97.07156]}\n",
    ",\"south_east_2\": {\"coord\": [49.856801, -97.109705]}\n",
    ",\"south_east_3\": {\"coord\": [49.859405, -97.066774]}\n",
    ",\"south_east_4\": {\"coord\": [49.824369, -97.133797]}\n",
    ",\"south_east_5\": {\"coord\": [49.829048, -97.098352]}\n",
    ",\"south_east_6\": {\"coord\": [49.827414, -97.060787]}\n",
    ",\"south_east_7\": {\"coord\": [49.806356, -97.100467]}\n",
    ",\"south_west_1\": {\"coord\": [49.832983, -97.332547]}\n",
    ",\"south_west_2\": {\"coord\": [49.852445, -97.275173]}\n",
    ",\"south_west_3\": {\"coord\": [49.868974, -97.243095]}\n",
    ",\"south_west_4\": {\"coord\": [49.868834, -97.184476]}\n",
    ",\"south_west_5\": {\"coord\": [49.818122, -97.165982]}\n",
    " }"
   ]
  },
  {
   "cell_type": "code",
   "execution_count": 8,
   "metadata": {
    "ExecuteTime": {
     "end_time": "2018-03-04T01:38:50.409741Z",
     "start_time": "2018-03-04T01:38:50.356880Z"
    }
   },
   "outputs": [],
   "source": [
    "buglocations2gps = \\\n",
    "{\"north_east_1\": {\"coord\": [49.951867, -97.059306]}\n",
    ",\"north_east_2\": {\"coord\": [49.933941, -97.096341]}\n",
    ",\"north_east_3\": {\"coord\": [49.924809, -97.056330]}\n",
    ",\"north_east_4\": {\"coord\": [49.906175, -97.094797]}\n",
    ",\"north_east_5\": {\"coord\": [49.892358, -97.022426]}\n",
    ",\"north_east_6\": {\"coord\": [49.918257, -97.043848]}\n",
    ",\"north_east_7\": {\"coord\": [49.904900, -96.981602]}\n",
    ",\"north_west_1\": {\"coord\": [49.890104, -97.308464]}\n",
    ",\"north_west_2\": {\"coord\": [49.882624, -97.238131]}\n",
    ",\"north_west_3\": {\"coord\": [49.888943, -97.193254]}\n",
    ",\"north_west_4\": {\"coord\": [49.920877, -97.202540]}\n",
    ",\"north_west_5\": {\"coord\": [49.931627, -97.170450]}\n",
    ",\"north_west_6\": {\"coord\": [49.975104, -97.147863]}\n",
    ",\"north_west_7\": {\"coord\": [49.948876, -97.126311]}\n",
    ",\"rural_aa\": {\"coord\": [49.981128, -97.244987]}\n",
    ",\"rural_bb\": {\"coord\": [49.999793, -97.194880]}\n",
    ",\"rural_cc\": {\"coord\": [49.991068, -97.089770]}\n",
    ",\"rural_dd\": {\"coord\": [49.990523, -97.013920]}\n",
    ",\"rural_ee\": {\"coord\": [49.852485, -96.986202]}\n",
    ",\"rural_ff\": {\"coord\": [49.800355, -97.073122]}\n",
    ",\"rural_gg\": {\"coord\": [49.782835, -97.339871]}\n",
    ",\"rural_hh\": {\"coord\": [49.854707, -97.338403]}\n",
    ",\"rural_ii\": {\"coord\": [49.890188, -97.341707]}\n",
    ",\"south_east_1\": {\"coord\": [49.52426, -97.07156]}\n",
    ",\"south_east_2\": {\"coord\": [49.856801, -97.109705]}\n",
    ",\"south_east_3\": {\"coord\": [49.859405, -97.066774]}\n",
    ",\"south_east_4\": {\"coord\": [49.824369, -97.133797]}\n",
    ",\"south_east_5\": {\"coord\": [49.829048, -97.098352]}\n",
    ",\"south_east_6\": {\"coord\": [49.827414, -97.060787]}\n",
    ",\"south_east_7\": {\"coord\": [49.806356, -97.100467]}\n",
    ",\"south_west_1\": {\"coord\": [49.832983, -97.332547]}\n",
    ",\"south_west_2\": {\"coord\": [49.852445, -97.275173]}\n",
    ",\"south_west_3\": {\"coord\": [49.868974, -97.243095]}\n",
    ",\"south_west_4\": {\"coord\": [49.868834, -97.184476]}\n",
    ",\"south_west_5\": {\"coord\": [49.818122, -97.165982]}\n",
    ",\"south_west_6\": {\"coord\": [49.805538, -97.138229]}\n",
    ",\"south_west_7\": {\"coord\": [49.827168, -97.170704]}\n",
    " }"
   ]
  },
  {
   "cell_type": "code",
   "execution_count": 9,
   "metadata": {
    "ExecuteTime": {
     "end_time": "2018-03-04T01:38:50.591272Z",
     "start_time": "2018-03-04T01:38:50.411846Z"
    }
   },
   "outputs": [
    {
     "data": {
      "text/html": [
       "<div>\n",
       "<style scoped>\n",
       "    .dataframe tbody tr th:only-of-type {\n",
       "        vertical-align: middle;\n",
       "    }\n",
       "\n",
       "    .dataframe tbody tr th {\n",
       "        vertical-align: top;\n",
       "    }\n",
       "\n",
       "    .dataframe thead th {\n",
       "        text-align: right;\n",
       "    }\n",
       "</style>\n",
       "<table border=\"1\" class=\"dataframe\">\n",
       "  <thead>\n",
       "    <tr style=\"text-align: right;\">\n",
       "      <th></th>\n",
       "      <th>count_date</th>\n",
       "      <th>trap_days</th>\n",
       "      <th>location</th>\n",
       "      <th>bugcount</th>\n",
       "      <th>newgeom</th>\n",
       "    </tr>\n",
       "  </thead>\n",
       "  <tbody>\n",
       "    <tr>\n",
       "      <th>0</th>\n",
       "      <td>2015-05-04T00:00:00</td>\n",
       "      <td>3</td>\n",
       "      <td>north_east_1</td>\n",
       "      <td>0</td>\n",
       "      <td>POINT (-97.05930600000001 49.951867)</td>\n",
       "    </tr>\n",
       "    <tr>\n",
       "      <th>1</th>\n",
       "      <td>2015-05-06T00:00:00</td>\n",
       "      <td>2</td>\n",
       "      <td>north_east_1</td>\n",
       "      <td>2</td>\n",
       "      <td>POINT (-97.05930600000001 49.951867)</td>\n",
       "    </tr>\n",
       "    <tr>\n",
       "      <th>2</th>\n",
       "      <td>2015-05-08T00:00:00</td>\n",
       "      <td>2</td>\n",
       "      <td>north_east_1</td>\n",
       "      <td>0</td>\n",
       "      <td>POINT (-97.05930600000001 49.951867)</td>\n",
       "    </tr>\n",
       "    <tr>\n",
       "      <th>3</th>\n",
       "      <td>2015-05-11T00:00:00</td>\n",
       "      <td>3</td>\n",
       "      <td>north_east_1</td>\n",
       "      <td>0</td>\n",
       "      <td>POINT (-97.05930600000001 49.951867)</td>\n",
       "    </tr>\n",
       "    <tr>\n",
       "      <th>4</th>\n",
       "      <td>2015-05-13T00:00:00</td>\n",
       "      <td>2</td>\n",
       "      <td>north_east_1</td>\n",
       "      <td>1</td>\n",
       "      <td>POINT (-97.05930600000001 49.951867)</td>\n",
       "    </tr>\n",
       "  </tbody>\n",
       "</table>\n",
       "</div>"
      ],
      "text/plain": [
       "            count_date trap_days      location bugcount  \\\n",
       "0  2015-05-04T00:00:00         3  north_east_1        0   \n",
       "1  2015-05-06T00:00:00         2  north_east_1        2   \n",
       "2  2015-05-08T00:00:00         2  north_east_1        0   \n",
       "3  2015-05-11T00:00:00         3  north_east_1        0   \n",
       "4  2015-05-13T00:00:00         2  north_east_1        1   \n",
       "\n",
       "                                newgeom  \n",
       "0  POINT (-97.05930600000001 49.951867)  \n",
       "1  POINT (-97.05930600000001 49.951867)  \n",
       "2  POINT (-97.05930600000001 49.951867)  \n",
       "3  POINT (-97.05930600000001 49.951867)  \n",
       "4  POINT (-97.05930600000001 49.951867)  "
      ]
     },
     "execution_count": 9,
     "metadata": {},
     "output_type": "execute_result"
    }
   ],
   "source": [
    "temp = bugs.location.map(buglocations2gps)\n",
    "newgeom = [shapely.geometry.Point(x['coord'][1], x['coord'][0]) for x in temp]\n",
    "bugs = GeoDataFrame(bugs)\n",
    "bugs['newgeom'] = newgeom\n",
    "bugs = bugs.set_geometry('newgeom')\n",
    "bugs.head()"
   ]
  },
  {
   "cell_type": "code",
   "execution_count": 10,
   "metadata": {
    "ExecuteTime": {
     "end_time": "2018-03-04T01:38:51.275724Z",
     "start_time": "2018-03-04T01:38:50.593436Z"
    }
   },
   "outputs": [
    {
     "data": {
      "text/plain": [
       "<matplotlib.axes._subplots.AxesSubplot at 0x7f177438dc50>"
      ]
     },
     "execution_count": 10,
     "metadata": {},
     "output_type": "execute_result"
    },
    {
     "data": {
      "image/png": "[encoded data removed]",
      "text/plain": [
       "<matplotlib.figure.Figure at 0x7f1774a26ba8>"
      ]
     },
     "metadata": {},
     "output_type": "display_data"
    }
   ],
   "source": [
    "bugs.plot()"
   ]
  },
  {
   "cell_type": "code",
   "execution_count": 11,
   "metadata": {
    "ExecuteTime": {
     "end_time": "2018-03-04T01:38:51.284531Z",
     "start_time": "2018-03-04T01:38:51.278001Z"
    }
   },
   "outputs": [],
   "source": [
    "subset = bugs[bugs.count_date == bugs.count_date[0]]"
   ]
  },
  {
   "cell_type": "code",
   "execution_count": 12,
   "metadata": {
    "ExecuteTime": {
     "end_time": "2018-03-04T01:38:51.478280Z",
     "start_time": "2018-03-04T01:38:51.292008Z"
    }
   },
   "outputs": [
    {
     "data": {
      "text/plain": [
       "<matplotlib.axes._subplots.AxesSubplot at 0x7f1774e75128>"
      ]
     },
     "execution_count": 12,
     "metadata": {},
     "output_type": "execute_result"
    },
    {
     "data": {
      "image/png": "[encoded data removed]",
      "text/plain": [
       "<matplotlib.figure.Figure at 0x7f1774eb46d8>"
      ]
     },
     "metadata": {},
     "output_type": "display_data"
    }
   ],
   "source": [
    "subset.plot()"
   ]
  },
  {
   "cell_type": "markdown",
   "metadata": {
    "ExecuteTime": {
     "end_time": "2018-03-04T01:14:50.680748Z",
     "start_time": "2018-03-04T01:14:50.611558Z"
    }
   },
   "source": [
    "# merge"
   ]
  },
  {
   "cell_type": "code",
   "execution_count": 16,
   "metadata": {
    "ExecuteTime": {
     "end_time": "2018-03-04T01:39:16.567571Z",
     "start_time": "2018-03-04T01:39:15.548359Z"
    }
   },
   "outputs": [
    {
     "name": "stdout",
     "output_type": "stream",
     "text": [
      "Collecting fol\n",
      "\u001b[31m  Could not find a version that satisfies the requirement fol (from versions: )\u001b[0m\n",
      "\u001b[31mNo matching distribution found for fol\u001b[0m\n"
     ]
    }
   ],
   "source": [
    "!pip install fol ium"
   ]
  },
  {
   "cell_type": "code",
   "execution_count": 19,
   "metadata": {
    "ExecuteTime": {
     "end_time": "2018-03-04T01:39:35.512961Z",
     "start_time": "2018-03-04T01:39:35.509919Z"
    }
   },
   "outputs": [],
   "source": [
    "import folium"
   ]
  },
  {
   "cell_type": "code",
   "execution_count": 39,
   "metadata": {
    "ExecuteTime": {
     "end_time": "2018-03-04T01:43:17.198928Z",
     "start_time": "2018-03-04T01:43:17.193249Z"
    }
   },
   "outputs": [
    {
     "data": {
      "text/plain": [
       "[49.951867, -97.059306]"
      ]
     },
     "execution_count": 39,
     "metadata": {},
     "output_type": "execute_result"
    }
   ],
   "source": [
    "gps = [x['coord'] for x in buglocations2gps.values()]\n",
    "gps[0]"
   ]
  },
  {
   "cell_type": "code",
   "execution_count": null,
   "metadata": {},
   "outputs": [],
   "source": [
    "folium.Map()"
   ]
  },
  {
   "cell_type": "code",
   "execution_count": 41,
   "metadata": {
    "ExecuteTime": {
     "end_time": "2018-03-04T01:44:21.454173Z",
     "start_time": "2018-03-04T01:44:21.360055Z"
    }
   },
   "outputs": [
    {
     "data": {
      "text/html": [
       "<div style=\"width:100%;\"><div style=\"position:relative;width:100%;height:0;padding-bottom:60%;\"><iframe src=\"data:text/html;charset=utf-8;base64,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\" style=\"position:absolute;width:100%;height:100%;left:0;top:0;border:none !important;\" allowfullscreen webkitallowfullscreen mozallowfullscreen></iframe></div></div>"
      ],
      "text/plain": [
       "<folium.folium.Map at 0x7f17734e99e8>"
      ]
     },
     "execution_count": 41,
     "metadata": {},
     "output_type": "execute_result"
    }
   ],
   "source": [
    "folium.Map(gps[0], zoom_start=11)"
   ]
  },
  {
   "cell_type": "markdown",
   "metadata": {},
   "source": [
    "# other stuff"
   ]
  },
  {
   "cell_type": "code",
   "execution_count": 47,
   "metadata": {
    "ExecuteTime": {
     "end_time": "2018-03-04T01:53:27.738078Z",
     "start_time": "2018-03-04T01:53:27.731815Z"
    }
   },
   "outputs": [
    {
     "data": {
      "image/svg+xml": [
       "<svg xmlns=\"http://www.w3.org/2000/svg\" xmlns:xlink=\"http://www.w3.org/1999/xlink\" width=\"100.0\" height=\"100.0\" viewBox=\"-97.12373986818272 49.924750860448285 0.023823000577451126 0.01989629296243578\" preserveAspectRatio=\"xMinYMin meet\"><g transform=\"matrix(1,0,0,-1,0,99.86939801385901)\"><path fill-rule=\"evenodd\" fill=\"#66cc99\" stroke=\"#555555\" stroke-width=\"0.00047646001154902254\" opacity=\"0.6\" d=\"M -97.110218884317,49.925633193803 L -97.110013115236,49.926312157644 L -97.109899223467,49.92719918447 L -97.109891037485,49.928006598639 L -97.109960763006,49.928524798105 L -97.110222083791,49.92934473874 L -97.110623989414,49.930298268692 L -97.111044483471,49.93137526533 L -97.1111731246,49.931814249814 L -97.111431919211,49.933252296923 L -97.111402047666,49.93401636541 L -97.111259499652,49.934807646831 L -97.111058254325,49.935350479077 L -97.110776982104,49.935914083849 L -97.110514492299,49.936273493022 L -97.109972455172,49.9368758378 L -97.109401629662,49.937339440106 L -97.108742518282,49.93775860793 L -97.107984644103,49.938125035258 L -97.107285672508,49.938412245503 L -97.105222325204,49.938967648151 L -97.104209605964,49.939220664015 L -97.102038882801,49.939666194386 L -97.10079920096,49.940004983585 L -97.102198054456,49.940457113731 L -97.103056628352,49.940734253919 L -97.103020108568,49.940743384677 L -97.112371361058,49.943764820056 L -97.113405671579,49.942340501737 L -97.116744551494,49.937742174516 L -97.121042229667,49.932852446195 L -97.122857534828,49.929638289388 L -97.122605005221,49.929556864966 L -97.122415140437,49.929495674034 L -97.12222527645,49.929434482896 L -97.119173739749,49.928450937511 L -97.1194646758,49.928049075954 L -97.117322908765,49.927358446282 L -97.117144837334,49.927791453212 L -97.112968421714,49.926448323439 L -97.112949722481,49.926512320245 L -97.112816315215,49.926469479847 L -97.112282886859,49.926297534013 L -97.112236541376,49.926282595204 L -97.111212865878,49.925952611899 L -97.110218884317,49.925633193803 z\" /></g></svg>"
      ],
      "text/plain": [
       "<shapely.geometry.polygon.Polygon at 0x7f178dbc0e48>"
      ]
     },
     "execution_count": 47,
     "metadata": {},
     "output_type": "execute_result"
    }
   ],
   "source": [
    "neighbourhoods.newgeom[0]"
   ]
  },
  {
   "cell_type": "code",
   "execution_count": 51,
   "metadata": {
    "ExecuteTime": {
     "end_time": "2018-03-04T01:54:25.388182Z",
     "start_time": "2018-03-04T01:54:25.382327Z"
    }
   },
   "outputs": [
    {
     "data": {
      "text/plain": [
       "False"
      ]
     },
     "execution_count": 51,
     "metadata": {},
     "output_type": "execute_result"
    }
   ],
   "source": [
    "testhood = neighbourhoods.newgeom[0]\n",
    "testhood.intersects(bugs.newgeom[0])"
   ]
  },
  {
   "cell_type": "code",
   "execution_count": 62,
   "metadata": {
    "ExecuteTime": {
     "end_time": "2018-03-04T01:57:32.256030Z",
     "start_time": "2018-03-04T01:57:32.249619Z"
    }
   },
   "outputs": [
    {
     "data": {
      "text/plain": [
       "array(['north_east_1', 'north_east_2', 'north_east_3', 'north_east_4',\n",
       "       'north_east_5', 'north_east_6', 'north_east_7', 'north_west_1',\n",
       "       'north_west_2', 'north_west_3', 'north_west_4', 'north_west_5',\n",
       "       'north_west_6', 'north_west_7', 'rural_aa', 'rural_bb', 'rural_cc',\n",
       "       'rural_dd', 'rural_ee', 'rural_ff', 'rural_gg', 'rural_hh',\n",
       "       'rural_ii', 'south_east_1', 'south_east_2', 'south_east_3',\n",
       "       'south_east_4', 'south_east_5', 'south_east_6', 'south_east_7',\n",
       "       'south_west_1', 'south_west_2', 'south_west_3', 'south_west_4',\n",
       "       'south_west_5', 'south_west_6', 'south_west_7'], dtype=object)"
      ]
     },
     "execution_count": 62,
     "metadata": {},
     "output_type": "execute_result"
    }
   ],
   "source": [
    "bugs.location.unique()"
   ]
  },
  {
   "cell_type": "code",
   "execution_count": 68,
   "metadata": {
    "ExecuteTime": {
     "end_time": "2018-03-04T01:58:35.881290Z",
     "start_time": "2018-03-04T01:58:35.858009Z"
    }
   },
   "outputs": [
    {
     "name": "stdout",
     "output_type": "stream",
     "text": [
      "(37, 5)\n"
     ]
    },
    {
     "data": {
      "text/html": [
       "<div>\n",
       "<style scoped>\n",
       "    .dataframe tbody tr th:only-of-type {\n",
       "        vertical-align: middle;\n",
       "    }\n",
       "\n",
       "    .dataframe tbody tr th {\n",
       "        vertical-align: top;\n",
       "    }\n",
       "\n",
       "    .dataframe thead th {\n",
       "        text-align: right;\n",
       "    }\n",
       "</style>\n",
       "<table border=\"1\" class=\"dataframe\">\n",
       "  <thead>\n",
       "    <tr style=\"text-align: right;\">\n",
       "      <th></th>\n",
       "      <th>count_date</th>\n",
       "      <th>trap_days</th>\n",
       "      <th>location</th>\n",
       "      <th>bugcount</th>\n",
       "      <th>newgeom</th>\n",
       "    </tr>\n",
       "  </thead>\n",
       "  <tbody>\n",
       "    <tr>\n",
       "      <th>0</th>\n",
       "      <td>2015-05-04T00:00:00</td>\n",
       "      <td>3</td>\n",
       "      <td>north_east_1</td>\n",
       "      <td>0</td>\n",
       "      <td>POINT (-97.05930600000001 49.951867)</td>\n",
       "    </tr>\n",
       "    <tr>\n",
       "      <th>249</th>\n",
       "      <td>2015-05-04T00:00:00</td>\n",
       "      <td>3</td>\n",
       "      <td>north_east_2</td>\n",
       "      <td>2</td>\n",
       "      <td>POINT (-97.096341 49.933941)</td>\n",
       "    </tr>\n",
       "    <tr>\n",
       "      <th>498</th>\n",
       "      <td>2015-05-04T00:00:00</td>\n",
       "      <td>3</td>\n",
       "      <td>north_east_3</td>\n",
       "      <td>2</td>\n",
       "      <td>POINT (-97.05633 49.924809)</td>\n",
       "    </tr>\n",
       "    <tr>\n",
       "      <th>747</th>\n",
       "      <td>2015-05-04T00:00:00</td>\n",
       "      <td>3</td>\n",
       "      <td>north_east_4</td>\n",
       "      <td>0</td>\n",
       "      <td>POINT (-97.094797 49.906175)</td>\n",
       "    </tr>\n",
       "    <tr>\n",
       "      <th>996</th>\n",
       "      <td>2015-05-04T00:00:00</td>\n",
       "      <td>3</td>\n",
       "      <td>north_east_5</td>\n",
       "      <td>3</td>\n",
       "      <td>POINT (-97.022426 49.892358)</td>\n",
       "    </tr>\n",
       "  </tbody>\n",
       "</table>\n",
       "</div>"
      ],
      "text/plain": [
       "              count_date trap_days      location bugcount  \\\n",
       "0    2015-05-04T00:00:00         3  north_east_1        0   \n",
       "249  2015-05-04T00:00:00         3  north_east_2        2   \n",
       "498  2015-05-04T00:00:00         3  north_east_3        2   \n",
       "747  2015-05-04T00:00:00         3  north_east_4        0   \n",
       "996  2015-05-04T00:00:00         3  north_east_5        3   \n",
       "\n",
       "                                  newgeom  \n",
       "0    POINT (-97.05930600000001 49.951867)  \n",
       "249          POINT (-97.096341 49.933941)  \n",
       "498           POINT (-97.05633 49.924809)  \n",
       "747          POINT (-97.094797 49.906175)  \n",
       "996          POINT (-97.022426 49.892358)  "
      ]
     },
     "execution_count": 68,
     "metadata": {},
     "output_type": "execute_result"
    }
   ],
   "source": [
    "bugsubset = bugs[bugs.count_date == bugs.count_date[0]]\n",
    "print(bugsubset.shape)\n",
    "bugsubset.head()"
   ]
  },
  {
   "cell_type": "code",
   "execution_count": 77,
   "metadata": {
    "ExecuteTime": {
     "end_time": "2018-03-04T01:59:44.704380Z",
     "start_time": "2018-03-04T01:59:44.687442Z"
    }
   },
   "outputs": [
    {
     "data": {
      "text/html": [
       "<div>\n",
       "<style scoped>\n",
       "    .dataframe tbody tr th:only-of-type {\n",
       "        vertical-align: middle;\n",
       "    }\n",
       "\n",
       "    .dataframe tbody tr th {\n",
       "        vertical-align: top;\n",
       "    }\n",
       "\n",
       "    .dataframe thead th {\n",
       "        text-align: right;\n",
       "    }\n",
       "</style>\n",
       "<table border=\"1\" class=\"dataframe\">\n",
       "  <thead>\n",
       "    <tr style=\"text-align: right;\">\n",
       "      <th></th>\n",
       "      <th>newgeom</th>\n",
       "    </tr>\n",
       "    <tr>\n",
       "      <th>location</th>\n",
       "      <th></th>\n",
       "    </tr>\n",
       "  </thead>\n",
       "  <tbody>\n",
       "    <tr>\n",
       "      <th>north_east_1</th>\n",
       "      <td>POINT (-97.05930600000001 49.951867)</td>\n",
       "    </tr>\n",
       "    <tr>\n",
       "      <th>north_east_2</th>\n",
       "      <td>POINT (-97.096341 49.933941)</td>\n",
       "    </tr>\n",
       "    <tr>\n",
       "      <th>north_east_3</th>\n",
       "      <td>POINT (-97.05633 49.924809)</td>\n",
       "    </tr>\n",
       "    <tr>\n",
       "      <th>north_east_4</th>\n",
       "      <td>POINT (-97.094797 49.906175)</td>\n",
       "    </tr>\n",
       "    <tr>\n",
       "      <th>north_east_5</th>\n",
       "      <td>POINT (-97.022426 49.892358)</td>\n",
       "    </tr>\n",
       "  </tbody>\n",
       "</table>\n",
       "</div>"
      ],
      "text/plain": [
       "                                           newgeom\n",
       "location                                          \n",
       "north_east_1  POINT (-97.05930600000001 49.951867)\n",
       "north_east_2          POINT (-97.096341 49.933941)\n",
       "north_east_3           POINT (-97.05633 49.924809)\n",
       "north_east_4          POINT (-97.094797 49.906175)\n",
       "north_east_5          POINT (-97.022426 49.892358)"
      ]
     },
     "execution_count": 77,
     "metadata": {},
     "output_type": "execute_result"
    }
   ],
   "source": [
    "bugloc = bugsubset[['location','newgeom']].set_index('location')\n",
    "bugloc.head()"
   ]
  },
  {
   "cell_type": "code",
   "execution_count": 96,
   "metadata": {
    "ExecuteTime": {
     "end_time": "2018-03-04T02:06:05.635616Z",
     "start_time": "2018-03-04T02:06:05.613318Z"
    },
    "scrolled": false
   },
   "outputs": [
    {
     "data": {
      "text/html": [
       "<div>\n",
       "<style scoped>\n",
       "    .dataframe tbody tr th:only-of-type {\n",
       "        vertical-align: middle;\n",
       "    }\n",
       "\n",
       "    .dataframe tbody tr th {\n",
       "        vertical-align: top;\n",
       "    }\n",
       "\n",
       "    .dataframe thead th {\n",
       "        text-align: right;\n",
       "    }\n",
       "</style>\n",
       "<table border=\"1\" class=\"dataframe\">\n",
       "  <thead>\n",
       "    <tr style=\"text-align: right;\">\n",
       "      <th></th>\n",
       "      <th>name</th>\n",
       "      <th>the_geom</th>\n",
       "      <th>newgeom</th>\n",
       "    </tr>\n",
       "    <tr>\n",
       "      <th>id</th>\n",
       "      <th></th>\n",
       "      <th></th>\n",
       "      <th></th>\n",
       "    </tr>\n",
       "  </thead>\n",
       "  <tbody>\n",
       "    <tr>\n",
       "      <th>696</th>\n",
       "      <td>Seven Oaks</td>\n",
       "      <td>{'type': 'MultiPolygon', 'coordinates': [[[[-9...</td>\n",
       "      <td>POLYGON ((-97.11021888431701 49.925633193803, ...</td>\n",
       "    </tr>\n",
       "    <tr>\n",
       "      <th>178</th>\n",
       "      <td>Parker</td>\n",
       "      <td>{'type': 'MultiPolygon', 'coordinates': [[[[-9...</td>\n",
       "      <td>POLYGON ((-97.17615035641499 49.850537882086, ...</td>\n",
       "    </tr>\n",
       "    <tr>\n",
       "      <th>630</th>\n",
       "      <td>The Maples</td>\n",
       "      <td>{'type': 'MultiPolygon', 'coordinates': [[[[-9...</td>\n",
       "      <td>POLYGON ((-97.163398354858 49.941591371416, -9...</td>\n",
       "    </tr>\n",
       "    <tr>\n",
       "      <th>702</th>\n",
       "      <td>Luxton</td>\n",
       "      <td>{'type': 'MultiPolygon', 'coordinates': [[[[-9...</td>\n",
       "      <td>POLYGON ((-97.116047777972 49.920325228662, -9...</td>\n",
       "    </tr>\n",
       "    <tr>\n",
       "      <th>1012</th>\n",
       "      <td>Talbot-Grey</td>\n",
       "      <td>{'type': 'MultiPolygon', 'coordinates': [[[[-9...</td>\n",
       "      <td>POLYGON ((-97.101068054847 49.904738664792, -9...</td>\n",
       "    </tr>\n",
       "  </tbody>\n",
       "</table>\n",
       "</div>"
      ],
      "text/plain": [
       "             name                                           the_geom  \\\n",
       "id                                                                     \n",
       "696    Seven Oaks  {'type': 'MultiPolygon', 'coordinates': [[[[-9...   \n",
       "178        Parker  {'type': 'MultiPolygon', 'coordinates': [[[[-9...   \n",
       "630    The Maples  {'type': 'MultiPolygon', 'coordinates': [[[[-9...   \n",
       "702        Luxton  {'type': 'MultiPolygon', 'coordinates': [[[[-9...   \n",
       "1012  Talbot-Grey  {'type': 'MultiPolygon', 'coordinates': [[[[-9...   \n",
       "\n",
       "                                                newgeom  \n",
       "id                                                       \n",
       "696   POLYGON ((-97.11021888431701 49.925633193803, ...  \n",
       "178   POLYGON ((-97.17615035641499 49.850537882086, ...  \n",
       "630   POLYGON ((-97.163398354858 49.941591371416, -9...  \n",
       "702   POLYGON ((-97.116047777972 49.920325228662, -9...  \n",
       "1012  POLYGON ((-97.101068054847 49.904738664792, -9...  "
      ]
     },
     "execution_count": 96,
     "metadata": {},
     "output_type": "execute_result"
    }
   ],
   "source": [
    "df = neighbourhoods.set_index('id')\n",
    "df.head()"
   ]
  },
  {
   "cell_type": "code",
   "execution_count": 182,
   "metadata": {
    "ExecuteTime": {
     "end_time": "2018-03-04T02:38:56.646909Z",
     "start_time": "2018-03-04T02:38:56.549658Z"
    }
   },
   "outputs": [],
   "source": [
    "hood = df.to_dict(orient='record')\n",
    "result = {}\n",
    "for datum in hood:\n",
    "    name, the_geom, newgeom = datum.values()\n",
    "    hoodloc = the_geom['coordinates']\n",
    "    hoodgeom = shapely.geometry.Polygon(hoodloc[0][0])\n",
    "    dump = {k:v for k,v in bugloc.to_dict()['newgeom'].items() if hoodgeom.intersects(v)}\n",
    "    #distance = GeoSeries.distance\n",
    "    if dump != {}:\n",
    "        result[name] = dump\n"
   ]
  },
  {
   "cell_type": "code",
   "execution_count": 183,
   "metadata": {
    "ExecuteTime": {
     "end_time": "2018-03-04T02:39:18.837356Z",
     "start_time": "2018-03-04T02:39:18.712623Z"
    }
   },
   "outputs": [],
   "source": [
    "hood = df.to_dict(orient='record')\n",
    "result = {}\n",
    "for datum in hood:\n",
    "    name, the_geom, newgeom = datum.values()\n",
    "    hoodloc = the_geom['coordinates']\n",
    "    hoodgeom = shapely.geometry.Polygon(hoodloc[0][0])\n",
    "    dump = {k:v for k,v in bugloc.to_dict()['newgeom'].items() if hoodgeom.intersects(v)}\n",
    "    #distance = GeoSeries.distance\n",
    "    if dump != {}:\n",
    "        result[name] = dump\n"
   ]
  },
  {
   "cell_type": "code",
   "execution_count": 186,
   "metadata": {
    "ExecuteTime": {
     "end_time": "2018-03-04T02:39:38.926182Z",
     "start_time": "2018-03-04T02:39:38.921039Z"
    }
   },
   "outputs": [
    {
     "data": {
      "text/plain": [
       "37"
      ]
     },
     "execution_count": 186,
     "metadata": {},
     "output_type": "execute_result"
    }
   ],
   "source": [
    "len(bugloc)"
   ]
  },
  {
   "cell_type": "code",
   "execution_count": 206,
   "metadata": {
    "ExecuteTime": {
     "end_time": "2018-03-04T02:43:18.155519Z",
     "start_time": "2018-03-04T02:43:18.147230Z"
    }
   },
   "outputs": [
    {
     "data": {
      "text/plain": [
       "0    POLYGON ((-97.071008132814 49.929370604903, -9...\n",
       "1    POLYGON ((-97.071008132814 49.929370604903, -9...\n",
       "2    POLYGON ((-97.071008132814 49.929370604903, -9...\n",
       "3    POLYGON ((-97.071008132814 49.929370604903, -9...\n",
       "4    POLYGON ((-97.071008132814 49.929370604903, -9...\n",
       "dtype: object"
      ]
     },
     "execution_count": 206,
     "metadata": {},
     "output_type": "execute_result"
    }
   ],
   "source": [
    "hoodgeom_series = GeoSeries([hoodgeom for x in range(0, len(bugloc))])\n",
    "hoodgeom_series.head()"
   ]
  },
  {
   "cell_type": "code",
   "execution_count": 207,
   "metadata": {
    "ExecuteTime": {
     "end_time": "2018-03-04T02:43:23.904121Z",
     "start_time": "2018-03-04T02:43:23.897192Z"
    }
   },
   "outputs": [
    {
     "data": {
      "text/plain": [
       "(37,)"
      ]
     },
     "execution_count": 207,
     "metadata": {},
     "output_type": "execute_result"
    }
   ],
   "source": [
    "hoodgeom_series.shape"
   ]
  },
  {
   "cell_type": "code",
   "execution_count": 211,
   "metadata": {
    "ExecuteTime": {
     "end_time": "2018-03-04T02:44:10.345250Z",
     "start_time": "2018-03-04T02:44:10.338933Z"
    }
   },
   "outputs": [
    {
     "data": {
      "text/plain": [
       "location\n",
       "north_east_1    POINT (-97.05930600000001 49.951867)\n",
       "north_east_2            POINT (-97.096341 49.933941)\n",
       "north_east_3             POINT (-97.05633 49.924809)\n",
       "north_east_4            POINT (-97.094797 49.906175)\n",
       "north_east_5            POINT (-97.022426 49.892358)\n",
       "Name: newgeom, dtype: object"
      ]
     },
     "execution_count": 211,
     "metadata": {},
     "output_type": "execute_result"
    }
   ],
   "source": [
    "bugloc_series = bugloc['newgeom']\n",
    "bugloc_series.head()\n"
   ]
  },
  {
   "cell_type": "code",
   "execution_count": 212,
   "metadata": {
    "ExecuteTime": {
     "end_time": "2018-03-04T02:44:26.568969Z",
     "start_time": "2018-03-04T02:44:26.560317Z"
    }
   },
   "outputs": [
    {
     "data": {
      "text/plain": [
       "location\n",
       "north_east_1    POLYGON ((-97.071008132814 49.929370604903, -9...\n",
       "north_east_2    POLYGON ((-97.071008132814 49.929370604903, -9...\n",
       "north_east_3    POLYGON ((-97.071008132814 49.929370604903, -9...\n",
       "north_east_4    POLYGON ((-97.071008132814 49.929370604903, -9...\n",
       "north_east_5    POLYGON ((-97.071008132814 49.929370604903, -9...\n",
       "dtype: object"
      ]
     },
     "execution_count": 212,
     "metadata": {},
     "output_type": "execute_result"
    }
   ],
   "source": [
    "constanhoodgeom_series = GeoSeries([hoodgeom for x in range(0, len(bugloc))], index = bugloc_series.index)\n",
    "hoodgeom_series.head()"
   ]
  },
  {
   "cell_type": "code",
   "execution_count": 209,
   "metadata": {
    "ExecuteTime": {
     "end_time": "2018-03-04T02:43:33.674832Z",
     "start_time": "2018-03-04T02:43:33.670110Z"
    }
   },
   "outputs": [
    {
     "data": {
      "text/plain": [
       "(37,)"
      ]
     },
     "execution_count": 209,
     "metadata": {},
     "output_type": "execute_result"
    }
   ],
   "source": [
    "bugloc_series.shape"
   ]
  },
  {
   "cell_type": "code",
   "execution_count": 210,
   "metadata": {
    "ExecuteTime": {
     "end_time": "2018-03-04T02:43:54.557471Z",
     "start_time": "2018-03-04T02:43:54.542027Z"
    }
   },
   "outputs": [
    {
     "data": {
      "text/plain": [
       "north_east_1   NaN\n",
       "north_east_2   NaN\n",
       "north_east_3   NaN\n",
       "north_east_4   NaN\n",
       "north_east_5   NaN\n",
       "north_east_6   NaN\n",
       "north_east_7   NaN\n",
       "north_west_1   NaN\n",
       "north_west_2   NaN\n",
       "north_west_3   NaN\n",
       "north_west_4   NaN\n",
       "north_west_5   NaN\n",
       "north_west_6   NaN\n",
       "north_west_7   NaN\n",
       "rural_aa       NaN\n",
       "rural_bb       NaN\n",
       "rural_cc       NaN\n",
       "rural_dd       NaN\n",
       "rural_ee       NaN\n",
       "rural_ff       NaN\n",
       "rural_gg       NaN\n",
       "rural_hh       NaN\n",
       "rural_ii       NaN\n",
       "south_east_1   NaN\n",
       "south_east_2   NaN\n",
       "south_east_3   NaN\n",
       "south_east_4   NaN\n",
       "south_east_5   NaN\n",
       "south_east_6   NaN\n",
       "south_east_7   NaN\n",
       "                ..\n",
       "7              NaN\n",
       "8              NaN\n",
       "9              NaN\n",
       "10             NaN\n",
       "11             NaN\n",
       "12             NaN\n",
       "13             NaN\n",
       "14             NaN\n",
       "15             NaN\n",
       "16             NaN\n",
       "17             NaN\n",
       "18             NaN\n",
       "19             NaN\n",
       "20             NaN\n",
       "21             NaN\n",
       "22             NaN\n",
       "23             NaN\n",
       "24             NaN\n",
       "25             NaN\n",
       "26             NaN\n",
       "27             NaN\n",
       "28             NaN\n",
       "29             NaN\n",
       "30             NaN\n",
       "31             NaN\n",
       "32             NaN\n",
       "33             NaN\n",
       "34             NaN\n",
       "35             NaN\n",
       "36             NaN\n",
       "Length: 74, dtype: float64"
      ]
     },
     "execution_count": 210,
     "metadata": {},
     "output_type": "execute_result"
    }
   ],
   "source": [
    "GeoSeries.distance(bugloc_series, hoodgeom_series)"
   ]
  },
  {
   "cell_type": "code",
   "execution_count": 181,
   "metadata": {
    "ExecuteTime": {
     "end_time": "2018-03-04T02:37:33.656877Z",
     "start_time": "2018-03-04T02:37:33.583575Z"
    },
    "scrolled": false
   },
   "outputs": [
    {
     "data": {
      "text/plain": [
       "0       0.043155\n",
       "1       0.134963\n",
       "2       0.100383\n",
       "3       0.057274\n",
       "4       0.050027\n",
       "5       0.067987\n",
       "6       0.125571\n",
       "7       0.111837\n",
       "8       0.194437\n",
       "9       0.025912\n",
       "10      0.083309\n",
       "11      0.090592\n",
       "12      0.111136\n",
       "13      0.056674\n",
       "14      0.072437\n",
       "15      0.079613\n",
       "16      0.063291\n",
       "17      0.162240\n",
       "18      0.092837\n",
       "19      0.209310\n",
       "20      0.039239\n",
       "21      0.106377\n",
       "22      0.047638\n",
       "23      0.247477\n",
       "24      0.049767\n",
       "25      0.037765\n",
       "26      0.066041\n",
       "27      0.167527\n",
       "28      0.025783\n",
       "29      0.095835\n",
       "          ...   \n",
       "9183         NaN\n",
       "9184         NaN\n",
       "9185         NaN\n",
       "9186         NaN\n",
       "9187         NaN\n",
       "9188         NaN\n",
       "9189         NaN\n",
       "9190         NaN\n",
       "9191         NaN\n",
       "9192         NaN\n",
       "9193         NaN\n",
       "9194         NaN\n",
       "9195         NaN\n",
       "9196         NaN\n",
       "9197         NaN\n",
       "9198         NaN\n",
       "9199         NaN\n",
       "9200         NaN\n",
       "9201         NaN\n",
       "9202         NaN\n",
       "9203         NaN\n",
       "9204         NaN\n",
       "9205         NaN\n",
       "9206         NaN\n",
       "9207         NaN\n",
       "9208         NaN\n",
       "9209         NaN\n",
       "9210         NaN\n",
       "9211         NaN\n",
       "9212         NaN\n",
       "Length: 9213, dtype: float64"
      ]
     },
     "execution_count": 181,
     "metadata": {},
     "output_type": "execute_result"
    }
   ],
   "source": [
    "GeoSeries.distance(bugs.newgeom, neighbourhoods.newgeom)"
   ]
  },
  {
   "cell_type": "code",
   "execution_count": 157,
   "metadata": {
    "ExecuteTime": {
     "end_time": "2018-03-04T02:23:58.846124Z",
     "start_time": "2018-03-04T02:23:58.842081Z"
    },
    "scrolled": false
   },
   "outputs": [
    {
     "data": {
      "text/plain": [
       "<function geopandas.base.GeoPandasBase.distance>"
      ]
     },
     "execution_count": 157,
     "metadata": {},
     "output_type": "execute_result"
    }
   ],
   "source": [
    "GeoSeries.distance"
   ]
  },
  {
   "cell_type": "code",
   "execution_count": 158,
   "metadata": {
    "ExecuteTime": {
     "end_time": "2018-03-04T02:24:24.887719Z",
     "start_time": "2018-03-04T02:24:24.882259Z"
    }
   },
   "outputs": [
    {
     "data": {
      "image/svg+xml": [
       "<svg xmlns=\"http://www.w3.org/2000/svg\" xmlns:xlink=\"http://www.w3.org/1999/xlink\" width=\"100.0\" height=\"100.0\" viewBox=\"-97.07176448351753 49.92560916150848 0.02042146899505326 0.010857058679036413\" preserveAspectRatio=\"xMinYMin meet\"><g transform=\"matrix(1,0,0,-1,0,99.862075381696)\"><path fill-rule=\"evenodd\" fill=\"#66cc99\" stroke=\"#555555\" stroke-width=\"0.0004084293799010652\" opacity=\"0.6\" d=\"M -97.071008132814,49.929370604903 L -97.061978037902,49.926365512212 L -97.059358366453,49.929646470629 L -97.052099365226,49.932114247383 L -97.052329448663,49.932190856964 L -97.062644119052,49.935595491879 L -97.062798686409,49.93564650044 L -97.062989585604,49.935709869484 L -97.063080098318,49.935638243655 L -97.071008132814,49.929370604903 z\" /></g></svg>"
      ],
      "text/plain": [
       "<shapely.geometry.polygon.Polygon at 0x7f176be94128>"
      ]
     },
     "execution_count": 158,
     "metadata": {},
     "output_type": "execute_result"
    }
   ],
   "source": [
    "hoodgeom"
   ]
  },
  {
   "cell_type": "code",
   "execution_count": 170,
   "metadata": {
    "ExecuteTime": {
     "end_time": "2018-03-04T02:30:47.826850Z",
     "start_time": "2018-03-04T02:30:47.823727Z"
    }
   },
   "outputs": [],
   "source": [
    "bugeom = bugloc.to_dict()['newgeom']['north_east_1']"
   ]
  },
  {
   "cell_type": "code",
   "execution_count": 172,
   "metadata": {
    "ExecuteTime": {
     "end_time": "2018-03-04T02:31:02.662445Z",
     "start_time": "2018-03-04T02:31:02.658807Z"
    }
   },
   "outputs": [
    {
     "name": "stdout",
     "output_type": "stream",
     "text": [
      "POINT (-97.05930600000001 49.951867)\n"
     ]
    }
   ],
   "source": [
    "print(bugeom)"
   ]
  },
  {
   "cell_type": "code",
   "execution_count": 173,
   "metadata": {
    "ExecuteTime": {
     "end_time": "2018-03-04T02:31:07.632436Z",
     "start_time": "2018-03-04T02:31:07.628281Z"
    }
   },
   "outputs": [
    {
     "name": "stdout",
     "output_type": "stream",
     "text": [
      "POLYGON ((-97.071008132814 49.929370604903, -97.06197803790199 49.926365512212, -97.059358366453 49.929646470629, -97.052099365226 49.932114247383, -97.052329448663 49.932190856964, -97.062644119052 49.935595491879, -97.062798686409 49.93564650044, -97.062989585604 49.935709869484, -97.063080098318 49.935638243655, -97.071008132814 49.929370604903))\n"
     ]
    }
   ],
   "source": [
    "print(hoodgeom)"
   ]
  },
  {
   "cell_type": "code",
   "execution_count": 175,
   "metadata": {
    "ExecuteTime": {
     "end_time": "2018-03-04T02:31:25.802193Z",
     "start_time": "2018-03-04T02:31:25.786956Z"
    }
   },
   "outputs": [
    {
     "ename": "AttributeError",
     "evalue": "'Polygon' object has no attribute 'geometry'",
     "output_type": "error",
     "traceback": [
      "\u001b[0;31m---------------------------------------------------------------------------\u001b[0m",
      "\u001b[0;31mAttributeError\u001b[0m                            Traceback (most recent call last)",
      "\u001b[0;32m<ipython-input-175-3ba822d0a2a8>\u001b[0m in \u001b[0;36m<module>\u001b[0;34m()\u001b[0m\n\u001b[0;32m----> 1\u001b[0;31m \u001b[0mGeoSeries\u001b[0m\u001b[0;34m.\u001b[0m\u001b[0mdistance\u001b[0m\u001b[0;34m(\u001b[0m \u001b[0mhoodgeom\u001b[0m\u001b[0;34m,\u001b[0m \u001b[0mbugeom\u001b[0m\u001b[0;34m)\u001b[0m\u001b[0;34m\u001b[0m\u001b[0m\n\u001b[0m",
      "\u001b[0;32m~/anaconda3/envs/winnipeg/lib/python3.6/site-packages/geopandas/base.py\u001b[0m in \u001b[0;36mdistance\u001b[0;34m(self, other)\u001b[0m\n\u001b[1;32m    243\u001b[0m     \u001b[0;32mdef\u001b[0m \u001b[0mdistance\u001b[0m\u001b[0;34m(\u001b[0m\u001b[0mself\u001b[0m\u001b[0;34m,\u001b[0m \u001b[0mother\u001b[0m\u001b[0;34m)\u001b[0m\u001b[0;34m:\u001b[0m\u001b[0;34m\u001b[0m\u001b[0m\n\u001b[1;32m    244\u001b[0m         \u001b[0;34m\"\"\"Return distance of each geometry to *other*\"\"\"\u001b[0m\u001b[0;34m\u001b[0m\u001b[0m\n\u001b[0;32m--> 245\u001b[0;31m         \u001b[0;32mreturn\u001b[0m \u001b[0m_series_op\u001b[0m\u001b[0;34m(\u001b[0m\u001b[0mself\u001b[0m\u001b[0;34m,\u001b[0m \u001b[0mother\u001b[0m\u001b[0;34m,\u001b[0m \u001b[0;34m'distance'\u001b[0m\u001b[0;34m)\u001b[0m\u001b[0;34m\u001b[0m\u001b[0m\n\u001b[0m\u001b[1;32m    246\u001b[0m \u001b[0;34m\u001b[0m\u001b[0m\n\u001b[1;32m    247\u001b[0m     \u001b[0;31m#\u001b[0m\u001b[0;34m\u001b[0m\u001b[0;34m\u001b[0m\u001b[0m\n",
      "\u001b[0;32m~/anaconda3/envs/winnipeg/lib/python3.6/site-packages/geopandas/base.py\u001b[0m in \u001b[0;36m_series_op\u001b[0;34m(this, other, op, **kwargs)\u001b[0m\n\u001b[1;32m     52\u001b[0m     \u001b[0;32melse\u001b[0m\u001b[0;34m:\u001b[0m\u001b[0;34m\u001b[0m\u001b[0m\n\u001b[1;32m     53\u001b[0m         return Series([getattr(s, op)(other, **kwargs) if s else null_val\n\u001b[0;32m---> 54\u001b[0;31m                       for s in this.geometry], index=this.index)\n\u001b[0m\u001b[1;32m     55\u001b[0m \u001b[0;34m\u001b[0m\u001b[0m\n\u001b[1;32m     56\u001b[0m \u001b[0;34m\u001b[0m\u001b[0m\n",
      "\u001b[0;31mAttributeError\u001b[0m: 'Polygon' object has no attribute 'geometry'"
     ]
    }
   ],
   "source": [
    "GeoSeries.distance( hoodgeom, bugeom)"
   ]
  },
  {
   "cell_type": "code",
   "execution_count": 150,
   "metadata": {
    "ExecuteTime": {
     "end_time": "2018-03-04T02:19:42.395952Z",
     "start_time": "2018-03-04T02:19:42.385307Z"
    }
   },
   "outputs": [
    {
     "data": {
      "text/plain": [
       "{'north_east_1': <shapely.geometry.point.Point at 0x7f17746235c0>,\n",
       " 'north_east_2': <shapely.geometry.point.Point at 0x7f1774946be0>,\n",
       " 'north_east_3': <shapely.geometry.point.Point at 0x7f177484c358>,\n",
       " 'north_east_4': <shapely.geometry.point.Point at 0x7f1774788a90>,\n",
       " 'north_east_5': <shapely.geometry.point.Point at 0x7f177466e208>,\n",
       " 'north_east_6': <shapely.geometry.point.Point at 0x7f177469f940>,\n",
       " 'north_east_7': <shapely.geometry.point.Point at 0x7f17746150b8>,\n",
       " 'north_west_1': <shapely.geometry.point.Point at 0x7f17745447f0>,\n",
       " 'north_west_2': <shapely.geometry.point.Point at 0x7f1774466f28>,\n",
       " 'north_west_3': <shapely.geometry.point.Point at 0x7f17743e86a0>,\n",
       " 'north_west_4': <shapely.geometry.point.Point at 0x7f177440cdd8>,\n",
       " 'north_west_5': <shapely.geometry.point.Point at 0x7f177434b550>,\n",
       " 'north_west_6': <shapely.geometry.point.Point at 0x7f17749b0c88>,\n",
       " 'north_west_7': <shapely.geometry.point.Point at 0x7f1774b41048>,\n",
       " 'rural_aa': <shapely.geometry.point.Point at 0x7f1774d159b0>,\n",
       " 'rural_bb': <shapely.geometry.point.Point at 0x7f177430be10>,\n",
       " 'rural_cc': <shapely.geometry.point.Point at 0x7f177431a588>,\n",
       " 'rural_dd': <shapely.geometry.point.Point at 0x7f1774f3acc0>,\n",
       " 'rural_ee': <shapely.geometry.point.Point at 0x7f1774f49438>,\n",
       " 'rural_ff': <shapely.geometry.point.Point at 0x7f1774f53b70>,\n",
       " 'rural_gg': <shapely.geometry.point.Point at 0x7f1774f622e8>,\n",
       " 'rural_hh': <shapely.geometry.point.Point at 0x7f1774f6ca20>,\n",
       " 'rural_ii': <shapely.geometry.point.Point at 0x7f1774efb198>,\n",
       " 'south_east_1': <shapely.geometry.point.Point at 0x7f1774f058d0>,\n",
       " 'south_east_2': <shapely.geometry.point.Point at 0x7f1774f14048>,\n",
       " 'south_east_3': <shapely.geometry.point.Point at 0x7f1774f1e780>,\n",
       " 'south_east_4': <shapely.geometry.point.Point at 0x7f1774f29eb8>,\n",
       " 'south_east_5': <shapely.geometry.point.Point at 0x7f1774f37630>,\n",
       " 'south_east_6': <shapely.geometry.point.Point at 0x7f1774ec2d68>,\n",
       " 'south_east_7': <shapely.geometry.point.Point at 0x7f1774ed04e0>,\n",
       " 'south_west_1': <shapely.geometry.point.Point at 0x7f1774edbc18>,\n",
       " 'south_west_2': <shapely.geometry.point.Point at 0x7f1774ee9390>,\n",
       " 'south_west_3': <shapely.geometry.point.Point at 0x7f1774ef4ac8>,\n",
       " 'south_west_4': <shapely.geometry.point.Point at 0x7f1774e82240>,\n",
       " 'south_west_5': <shapely.geometry.point.Point at 0x7f1774e8d978>,\n",
       " 'south_west_6': <shapely.geometry.point.Point at 0x7f1774e9b0f0>,\n",
       " 'south_west_7': <shapely.geometry.point.Point at 0x7f1774ea6828>}"
      ]
     },
     "execution_count": 150,
     "metadata": {},
     "output_type": "execute_result"
    }
   ],
   "source": [
    "bugloc.to_dict()['newgeom']"
   ]
  },
  {
   "cell_type": "code",
   "execution_count": 153,
   "metadata": {
    "ExecuteTime": {
     "end_time": "2018-03-04T02:20:04.889663Z",
     "start_time": "2018-03-04T02:20:04.881395Z"
    }
   },
   "outputs": [
    {
     "data": {
      "text/plain": [
       "{}"
      ]
     },
     "execution_count": 153,
     "metadata": {},
     "output_type": "execute_result"
    }
   ],
   "source": [
    "{k:v for k,v in bugloc.to_dict()['newgeom'].items() if hoodgeom.intersects(v)\n",
    "}"
   ]
  },
  {
   "cell_type": "code",
   "execution_count": 143,
   "metadata": {
    "ExecuteTime": {
     "end_time": "2018-03-04T02:18:32.855318Z",
     "start_time": "2018-03-04T02:18:32.850012Z"
    }
   },
   "outputs": [
    {
     "data": {
      "text/plain": [
       "False"
      ]
     },
     "execution_count": 143,
     "metadata": {},
     "output_type": "execute_result"
    }
   ],
   "source": [
    "hoodgeom.intersects(bugloc.newgeom[0])"
   ]
  },
  {
   "cell_type": "code",
   "execution_count": 141,
   "metadata": {
    "ExecuteTime": {
     "end_time": "2018-03-04T02:18:22.684597Z",
     "start_time": "2018-03-04T02:18:22.677949Z"
    }
   },
   "outputs": [
    {
     "data": {
      "image/svg+xml": [
       "<svg xmlns=\"http://www.w3.org/2000/svg\" xmlns:xlink=\"http://www.w3.org/1999/xlink\" width=\"100.0\" height=\"100.0\" viewBox=\"-98.059306 48.951867 2.0 2.0\" preserveAspectRatio=\"xMinYMin meet\"><g transform=\"matrix(1,0,0,-1,0,99.903734)\"><circle cx=\"-97.059306\" cy=\"49.951867\" r=\"0.06\" stroke=\"#555555\" stroke-width=\"0.02\" fill=\"#66cc99\" opacity=\"0.6\" /></g></svg>"
      ],
      "text/plain": [
       "<shapely.geometry.point.Point at 0x7f17746235c0>"
      ]
     },
     "execution_count": 141,
     "metadata": {},
     "output_type": "execute_result"
    }
   ],
   "source": [
    "bugloc.newgeom[0]"
   ]
  },
  {
   "cell_type": "code",
   "execution_count": 124,
   "metadata": {
    "ExecuteTime": {
     "end_time": "2018-03-04T02:15:03.189622Z",
     "start_time": "2018-03-04T02:15:03.186717Z"
    }
   },
   "outputs": [],
   "source": [
    "from geopandas import GeoSeries"
   ]
  },
  {
   "cell_type": "code",
   "execution_count": null,
   "metadata": {},
   "outputs": [],
   "source": []
  },
  {
   "cell_type": "code",
   "execution_count": 49,
   "metadata": {
    "ExecuteTime": {
     "end_time": "2018-03-04T01:53:56.240242Z",
     "start_time": "2018-03-04T01:53:56.233044Z"
    }
   },
   "outputs": [
    {
     "data": {
      "text/plain": [
       "False"
      ]
     },
     "execution_count": 49,
     "metadata": {},
     "output_type": "execute_result"
    }
   ],
   "source": [
    "testhood.intersects(bugs.newgeom[0])"
   ]
  },
  {
   "cell_type": "code",
   "execution_count": 46,
   "metadata": {
    "ExecuteTime": {
     "end_time": "2018-03-04T01:51:51.087801Z",
     "start_time": "2018-03-04T01:51:51.078082Z"
    }
   },
   "outputs": [
    {
     "ename": "TypeError",
     "evalue": "argument of type 'Polygon' is not iterable",
     "output_type": "error",
     "traceback": [
      "\u001b[0;31m---------------------------------------------------------------------------\u001b[0m",
      "\u001b[0;31mTypeError\u001b[0m                                 Traceback (most recent call last)",
      "\u001b[0;32m<ipython-input-46-4ba8a7fe2b08>\u001b[0m in \u001b[0;36m<module>\u001b[0;34m()\u001b[0m\n\u001b[0;32m----> 1\u001b[0;31m \u001b[0mbugs\u001b[0m\u001b[0;34m.\u001b[0m\u001b[0mnewgeom\u001b[0m\u001b[0;34m[\u001b[0m\u001b[0;36m0\u001b[0m\u001b[0;34m]\u001b[0m \u001b[0;32min\u001b[0m \u001b[0mneighbourhoods\u001b[0m\u001b[0;34m.\u001b[0m\u001b[0mnewgeom\u001b[0m\u001b[0;34m[\u001b[0m\u001b[0;36m0\u001b[0m\u001b[0;34m]\u001b[0m\u001b[0;34m\u001b[0m\u001b[0m\n\u001b[0m",
      "\u001b[0;31mTypeError\u001b[0m: argument of type 'Polygon' is not iterable"
     ]
    }
   ],
   "source": [
    "bugs.newgeom[0] in neighbourhoods.newgeom[0]"
   ]
  },
  {
   "cell_type": "code",
   "execution_count": 14,
   "metadata": {
    "ExecuteTime": {
     "end_time": "2018-03-04T01:38:52.114364Z",
     "start_time": "2018-03-04T01:38:52.086509Z"
    }
   },
   "outputs": [
    {
     "ename": "KeyError",
     "evalue": "'Point'",
     "output_type": "error",
     "traceback": [
      "\u001b[0;31m---------------------------------------------------------------------------\u001b[0m",
      "\u001b[0;31mKeyError\u001b[0m                                  Traceback (most recent call last)",
      "\u001b[0;32m<ipython-input-14-1e5fb85260df>\u001b[0m in \u001b[0;36m<module>\u001b[0;34m()\u001b[0m\n\u001b[1;32m     15\u001b[0m \u001b[0;34m\u001b[0m\u001b[0m\n\u001b[1;32m     16\u001b[0m \u001b[0;34m\u001b[0m\u001b[0m\n\u001b[0;32m---> 17\u001b[0;31m \u001b[0mtransform_geometry_json_to_object\u001b[0m\u001b[0;34m(\u001b[0m\u001b[0mbikes\u001b[0m\u001b[0;34m.\u001b[0m\u001b[0mthe_geom\u001b[0m\u001b[0;34m)\u001b[0m\u001b[0;34m\u001b[0m\u001b[0m\n\u001b[0m",
      "\u001b[0;32m<ipython-input-14-1e5fb85260df>\u001b[0m in \u001b[0;36mtransform_geometry_json_to_object\u001b[0;34m(the_geom, geom_type, coord_varname)\u001b[0m\n\u001b[1;32m      6\u001b[0m     \u001b[0mresult\u001b[0m \u001b[0;34m=\u001b[0m \u001b[0;34m[\u001b[0m\u001b[0;34m]\u001b[0m\u001b[0;34m\u001b[0m\u001b[0m\n\u001b[1;32m      7\u001b[0m     \u001b[0;32mfor\u001b[0m \u001b[0mdatum\u001b[0m \u001b[0;32min\u001b[0m \u001b[0mthe_geom\u001b[0m\u001b[0;34m:\u001b[0m\u001b[0;34m\u001b[0m\u001b[0m\n\u001b[0;32m----> 8\u001b[0;31m         \u001b[0mgeom_type\u001b[0m    \u001b[0;34m=\u001b[0m \u001b[0mdatum\u001b[0m\u001b[0;34m[\u001b[0m\u001b[0mgeom_type\u001b[0m\u001b[0;34m]\u001b[0m\u001b[0;34m\u001b[0m\u001b[0m\n\u001b[0m\u001b[1;32m      9\u001b[0m \u001b[0;31m#         coord_values = datum[coord_varname]\u001b[0m\u001b[0;34m\u001b[0m\u001b[0;34m\u001b[0m\u001b[0m\n\u001b[1;32m     10\u001b[0m \u001b[0;31m#         if geom_type == 'MultiPolygon':\u001b[0m\u001b[0;34m\u001b[0m\u001b[0;34m\u001b[0m\u001b[0m\n",
      "\u001b[0;31mKeyError\u001b[0m: 'Point'"
     ]
    }
   ],
   "source": [
    "import shapely.geometry\n",
    "def transform_geometry_json_to_object(the_geom, \n",
    "                                      geom_type = \"type\",\n",
    "                                      coord_varname = 'coordinates'\n",
    "                                     ):\n",
    "    result = []\n",
    "    for datum in the_geom:\n",
    "        geom_type    = datum[geom_type]\n",
    "#         coord_values = datum[coord_varname]\n",
    "#         if geom_type == 'MultiPolygon':\n",
    "#             geom_type = 'Polygon'\n",
    "#         geomfxn = getattr(shapely.geometry, geom_type)\n",
    "#         output = geomfxn(coord_values)\n",
    "#         result.append(output)\n",
    "\n",
    "\n",
    "transform_geometry_json_to_object(bikes.the_geom)"
   ]
  },
  {
   "cell_type": "markdown",
   "metadata": {},
   "source": [
    "## mosquitoes"
   ]
  },
  {
   "cell_type": "code",
   "execution_count": null,
   "metadata": {
    "ExecuteTime": {
     "end_time": "2018-03-03T23:16:08.160215Z",
     "start_time": "2018-03-03T23:16:07.735674Z"
    }
   },
   "outputs": [],
   "source": [
    "client = Socrata(\"data.winnipeg.ca\", None)\n",
    "bugs = client.get(\"du7c-8488\", limit=2000)"
   ]
  },
  {
   "cell_type": "code",
   "execution_count": null,
   "metadata": {
    "ExecuteTime": {
     "end_time": "2018-03-03T23:16:08.382937Z",
     "start_time": "2018-03-03T23:16:08.370472Z"
    }
   },
   "outputs": [],
   "source": [
    "bugsdf = pd.DataFrame(bugs)\n",
    "bugsdf.T\n",
    "idvars = ['count_date', 'trap_days']"
   ]
  },
  {
   "cell_type": "code",
   "execution_count": null,
   "metadata": {
    "ExecuteTime": {
     "end_time": "2018-03-03T23:16:09.010360Z",
     "start_time": "2018-03-03T23:16:09.003622Z"
    }
   },
   "outputs": [],
   "source": [
    "idvars = ['count_date', 'trap_days']\n",
    "location_only = [x for x in bugsdf.columns if \"average\" not in x]\n",
    "location_only = [x for x in location_only if x not in idvars]\n",
    "len(location_only)"
   ]
  },
  {
   "cell_type": "code",
   "execution_count": null,
   "metadata": {
    "ExecuteTime": {
     "end_time": "2018-03-03T22:49:05.686883Z",
     "start_time": "2018-03-03T22:49:05.277887Z"
    }
   },
   "outputs": [],
   "source": [
    "import pandas as pd\n",
    "from sodapy import Socrata"
   ]
  },
  {
   "cell_type": "code",
   "execution_count": null,
   "metadata": {
    "ExecuteTime": {
     "end_time": "2018-03-03T22:49:06.217582Z",
     "start_time": "2018-03-03T22:49:05.689848Z"
    }
   },
   "outputs": [],
   "source": [
    "client = Socrata(\"data.winnipeg.ca\", None)\n",
    "results = client.get(\"t2d2-j4v9\", limit=2000)\n"
   ]
  },
  {
   "cell_type": "code",
   "execution_count": null,
   "metadata": {
    "ExecuteTime": {
     "end_time": "2018-03-03T22:49:06.231800Z",
     "start_time": "2018-03-03T22:49:06.220507Z"
    }
   },
   "outputs": [],
   "source": [
    "df = pd.DataFrame.from_records(results)"
   ]
  },
  {
   "cell_type": "code",
   "execution_count": null,
   "metadata": {
    "ExecuteTime": {
     "end_time": "2018-03-03T22:49:06.249445Z",
     "start_time": "2018-03-03T22:49:06.234000Z"
    }
   },
   "outputs": [],
   "source": [
    "df.columns"
   ]
  },
  {
   "cell_type": "code",
   "execution_count": null,
   "metadata": {
    "ExecuteTime": {
     "end_time": "2018-03-03T22:49:06.273564Z",
     "start_time": "2018-03-03T22:49:06.251690Z"
    }
   },
   "outputs": [],
   "source": [
    "df.head().T"
   ]
  },
  {
   "cell_type": "code",
   "execution_count": null,
   "metadata": {
    "ExecuteTime": {
     "end_time": "2018-03-03T22:49:06.763449Z",
     "start_time": "2018-03-03T22:49:06.648087Z"
    }
   },
   "outputs": [],
   "source": [
    "!ls "
   ]
  },
  {
   "cell_type": "markdown",
   "metadata": {},
   "source": [
    "hello world"
   ]
  },
  {
   "cell_type": "code",
   "execution_count": null,
   "metadata": {
    "ExecuteTime": {
     "end_time": "2018-03-03T22:49:06.776469Z",
     "start_time": "2018-03-03T22:49:06.765589Z"
    }
   },
   "outputs": [],
   "source": [
    "bugcleaned = pd.melt(bugsdf[location_only + idvars], id_vars = idvars, var_name = 'location', value_name = 'bugcount')"
   ]
  },
  {
   "cell_type": "code",
   "execution_count": null,
   "metadata": {
    "ExecuteTime": {
     "end_time": "2018-03-03T22:49:07.235648Z",
     "start_time": "2018-03-03T22:49:06.779903Z"
    }
   },
   "outputs": [],
   "source": [
    "import seaborn as sns\n",
    "import matplotlib.pyplot as plt"
   ]
  },
  {
   "cell_type": "code",
   "execution_count": null,
   "metadata": {
    "ExecuteTime": {
     "end_time": "2018-03-03T22:13:32.163458Z",
     "start_time": "2018-03-03T22:13:32.060247Z"
    }
   },
   "outputs": [],
   "source": []
  },
  {
   "cell_type": "code",
   "execution_count": null,
   "metadata": {
    "ExecuteTime": {
     "end_time": "2018-03-03T22:49:07.511118Z",
     "start_time": "2018-03-03T22:49:07.238249Z"
    }
   },
   "outputs": [],
   "source": [
    "parkbikedata = \"9t9k-ya8b\"\n",
    "parkbikedf = client.get(\"9t9k-ya8b\", limit=2000)"
   ]
  },
  {
   "cell_type": "code",
   "execution_count": null,
   "metadata": {},
   "outputs": [],
   "source": []
  },
  {
   "cell_type": "code",
   "execution_count": null,
   "metadata": {
    "ExecuteTime": {
     "end_time": "2018-03-03T22:49:07.578104Z",
     "start_time": "2018-03-03T22:49:07.513702Z"
    }
   },
   "outputs": [],
   "source": [
    "pd.DataFrame(parkbikedf).T"
   ]
  },
  {
   "cell_type": "code",
   "execution_count": null,
   "metadata": {
    "ExecuteTime": {
     "end_time": "2018-03-03T22:49:07.590691Z",
     "start_time": "2018-03-03T22:49:07.582964Z"
    }
   },
   "outputs": [],
   "source": [
    "client = Socrata(\"data.winnipeg.ca\", None)"
   ]
  },
  {
   "cell_type": "code",
   "execution_count": null,
   "metadata": {
    "ExecuteTime": {
     "end_time": "2018-03-03T22:49:07.599202Z",
     "start_time": "2018-03-03T22:49:07.594577Z"
    }
   },
   "outputs": [],
   "source": [
    "bikeurl = \"https://data.winnipeg.ca/resource/9t9k-ya8b.json\""
   ]
  },
  {
   "cell_type": "code",
   "execution_count": null,
   "metadata": {},
   "outputs": [],
   "source": []
  },
  {
   "cell_type": "code",
   "execution_count": null,
   "metadata": {
    "ExecuteTime": {
     "end_time": "2018-03-03T22:49:07.974047Z",
     "start_time": "2018-03-03T22:49:07.602187Z"
    },
    "scrolled": true
   },
   "outputs": [],
   "source": [
    "client = Socrata(\"data.winnipeg.ca\", None)\n",
    "bikes = client.get(\"9t9k-ya8b\", limit=2000)\n"
   ]
  },
  {
   "cell_type": "markdown",
   "metadata": {},
   "source": [
    "neighbourhood map\n",
    "\n",
    "https://data.winnipeg.ca/resource/xaux-29zr.json"
   ]
  },
  {
   "cell_type": "code",
   "execution_count": null,
   "metadata": {
    "ExecuteTime": {
     "end_time": "2018-03-03T23:14:03.214043Z",
     "start_time": "2018-03-03T23:14:02.581978Z"
    }
   },
   "outputs": [],
   "source": [
    "import shapely.geometry\n",
    "from geopandas import GeoDataFrame\n",
    "client = Socrata(\"data.winnipeg.ca\", None)\n",
    "neighbourhoods = client.get(\"xaux-29zr\", limit=2000)\n",
    "neighbourhoods = GeoDataFrame(neighbourhoods)\n",
    "newgeom = [shapely.geometry.Polygon(x['coordinates'][0][0]) for x in neighbourhoods.the_geom]\n",
    "neighbourhoods['newgeom'] = newgeom\n",
    "neighbourhoods.head()\n"
   ]
  },
  {
   "cell_type": "code",
   "execution_count": null,
   "metadata": {},
   "outputs": [],
   "source": [
    "shapely.geometry.MultiPolygon"
   ]
  },
  {
   "cell_type": "code",
   "execution_count": null,
   "metadata": {
    "ExecuteTime": {
     "end_time": "2018-03-03T23:13:46.562762Z",
     "start_time": "2018-03-03T23:13:45.899726Z"
    }
   },
   "outputs": [],
   "source": [
    "import shapely.geometry\n",
    "from geopandas import GeoDataFrame\n",
    "client = Socrata(\"data.winnipeg.ca\", None)\n",
    "neighbourhoods = client.get(\"xaux-29zr\", limit=2000)\n",
    "\n",
    "neighbourhoods = GeoDataFrame(neighbourhoods)\n",
    "newgeom = [shapely.geometry.Polygon(x['coordinates'][0][0]) for x in neighbourhoods.the_geom]\n",
    "neighbourhoods['newgeom'] = newgeom\n",
    "neighbourhoods.head()\n",
    "#neighbourhoods = neighbourhoods.set_geometry('newgeom')"
   ]
  },
  {
   "cell_type": "code",
   "execution_count": null,
   "metadata": {},
   "outputs": [],
   "source": [
    "getattr(shapely.geometry, x['type'])"
   ]
  },
  {
   "cell_type": "code",
   "execution_count": null,
   "metadata": {},
   "outputs": [],
   "source": []
  },
  {
   "cell_type": "code",
   "execution_count": null,
   "metadata": {
    "ExecuteTime": {
     "end_time": "2018-03-03T22:49:08.626792Z",
     "start_time": "2018-03-03T22:49:08.621024Z"
    }
   },
   "outputs": [],
   "source": [
    "import shapely.geometry\n",
    "example = [x['coordinates'] for x in neighbourhoods.the_geom][0]"
   ]
  },
  {
   "cell_type": "code",
   "execution_count": null,
   "metadata": {
    "ExecuteTime": {
     "end_time": "2018-03-03T22:49:08.801674Z",
     "start_time": "2018-03-03T22:49:08.630416Z"
    }
   },
   "outputs": [],
   "source": [
    "newgeom = [Polygon(x['coordinates'][0][0]) for x in neighbourhoods.the_geom]"
   ]
  },
  {
   "cell_type": "code",
   "execution_count": null,
   "metadata": {
    "ExecuteTime": {
     "end_time": "2018-03-03T22:49:08.803306Z",
     "start_time": "2018-03-03T22:49:05.816Z"
    }
   },
   "outputs": [],
   "source": [
    "neighbourhoods['newgeom'] = newgeom\n",
    "neighbourhoods = neighbourhoods.set_geometry('newgeom')"
   ]
  },
  {
   "cell_type": "code",
   "execution_count": null,
   "metadata": {
    "ExecuteTime": {
     "end_time": "2018-03-03T22:49:08.805454Z",
     "start_time": "2018-03-03T22:49:05.820Z"
    }
   },
   "outputs": [],
   "source": [
    "neighbourhoods.plot()"
   ]
  },
  {
   "cell_type": "code",
   "execution_count": null,
   "metadata": {
    "ExecuteTime": {
     "end_time": "2018-03-03T22:49:08.807240Z",
     "start_time": "2018-03-03T22:49:05.829Z"
    }
   },
   "outputs": [],
   "source": [
    "neighbourhoods"
   ]
  },
  {
   "cell_type": "code",
   "execution_count": null,
   "metadata": {
    "ExecuteTime": {
     "end_time": "2018-03-03T22:49:08.809377Z",
     "start_time": "2018-03-03T22:49:05.833Z"
    }
   },
   "outputs": [],
   "source": [
    "neighbourhoods.the_geom[0].keys()"
   ]
  },
  {
   "cell_type": "code",
   "execution_count": null,
   "metadata": {
    "ExecuteTime": {
     "end_time": "2018-03-03T22:49:08.811461Z",
     "start_time": "2018-03-03T22:49:05.837Z"
    }
   },
   "outputs": [],
   "source": [
    "neighbourhoods.the_geom[0]['type']"
   ]
  },
  {
   "cell_type": "code",
   "execution_count": null,
   "metadata": {
    "ExecuteTime": {
     "end_time": "2018-03-03T22:49:08.813522Z",
     "start_time": "2018-03-03T22:49:05.841Z"
    }
   },
   "outputs": [],
   "source": [
    "example = neighbourhoods.the_geom[0]['coordinates']"
   ]
  },
  {
   "cell_type": "code",
   "execution_count": null,
   "metadata": {
    "ExecuteTime": {
     "end_time": "2018-03-03T22:49:08.815562Z",
     "start_time": "2018-03-03T22:49:05.845Z"
    }
   },
   "outputs": [],
   "source": [
    "example[0][0]"
   ]
  },
  {
   "cell_type": "code",
   "execution_count": null,
   "metadata": {
    "ExecuteTime": {
     "end_time": "2018-03-03T22:49:08.817605Z",
     "start_time": "2018-03-03T22:49:05.849Z"
    }
   },
   "outputs": [],
   "source": [
    "from shapely.geometry import Polygon\n",
    "Polygon(example[0][0])"
   ]
  },
  {
   "cell_type": "code",
   "execution_count": null,
   "metadata": {},
   "outputs": [],
   "source": []
  },
  {
   "cell_type": "code",
   "execution_count": null,
   "metadata": {},
   "outputs": [],
   "source": []
  },
  {
   "cell_type": "code",
   "execution_count": null,
   "metadata": {},
   "outputs": [],
   "source": []
  },
  {
   "cell_type": "code",
   "execution_count": null,
   "metadata": {
    "ExecuteTime": {
     "end_time": "2018-03-03T22:49:08.819621Z",
     "start_time": "2018-03-03T22:49:05.859Z"
    }
   },
   "outputs": [],
   "source": [
    "from shapely.geometry import MultiPolygon\n",
    "MultiPolygon(example)"
   ]
  },
  {
   "cell_type": "code",
   "execution_count": null,
   "metadata": {
    "ExecuteTime": {
     "end_time": "2018-03-03T22:49:08.821602Z",
     "start_time": "2018-03-03T22:49:05.864Z"
    }
   },
   "outputs": [],
   "source": [
    "set(new_geom)"
   ]
  },
  {
   "cell_type": "code",
   "execution_count": null,
   "metadata": {
    "ExecuteTime": {
     "end_time": "2018-03-03T22:49:08.823678Z",
     "start_time": "2018-03-03T22:49:05.868Z"
    }
   },
   "outputs": [],
   "source": [
    "gdf.DataFrame(neighbourhoods)"
   ]
  },
  {
   "cell_type": "code",
   "execution_count": null,
   "metadata": {},
   "outputs": [],
   "source": []
  },
  {
   "cell_type": "code",
   "execution_count": null,
   "metadata": {},
   "outputs": [],
   "source": []
  },
  {
   "cell_type": "code",
   "execution_count": null,
   "metadata": {},
   "outputs": [],
   "source": []
  },
  {
   "cell_type": "code",
   "execution_count": null,
   "metadata": {
    "ExecuteTime": {
     "end_time": "2018-03-03T22:49:08.826019Z",
     "start_time": "2018-03-03T22:49:05.877Z"
    }
   },
   "outputs": [],
   "source": [
    "import shapely.geometry"
   ]
  },
  {
   "cell_type": "code",
   "execution_count": null,
   "metadata": {
    "ExecuteTime": {
     "end_time": "2018-03-03T22:49:08.828181Z",
     "start_time": "2018-03-03T22:49:05.884Z"
    }
   },
   "outputs": [],
   "source": [
    "neipd.DataFrame(neighbourhoods)"
   ]
  },
  {
   "cell_type": "code",
   "execution_count": null,
   "metadata": {
    "ExecuteTime": {
     "end_time": "2018-03-03T22:49:08.830145Z",
     "start_time": "2018-03-03T22:49:05.894Z"
    }
   },
   "outputs": [],
   "source": [
    "bikes_df = pd.DataFrame(bikes)\n",
    "bikes_df.head()"
   ]
  },
  {
   "cell_type": "code",
   "execution_count": null,
   "metadata": {
    "ExecuteTime": {
     "end_time": "2018-03-03T22:49:08.832160Z",
     "start_time": "2018-03-03T22:49:05.898Z"
    }
   },
   "outputs": [],
   "source": [
    "testcoord = bikes_df.the_geom[0]\n",
    "testcoord"
   ]
  },
  {
   "cell_type": "code",
   "execution_count": null,
   "metadata": {
    "ExecuteTime": {
     "end_time": "2018-03-03T22:49:08.834299Z",
     "start_time": "2018-03-03T22:49:05.903Z"
    }
   },
   "outputs": [],
   "source": [
    "import ipyleaflet"
   ]
  },
  {
   "cell_type": "code",
   "execution_count": null,
   "metadata": {
    "ExecuteTime": {
     "end_time": "2018-03-03T22:49:08.836400Z",
     "start_time": "2018-03-03T22:49:05.908Z"
    }
   },
   "outputs": [],
   "source": [
    "!jupyter nbextension enable --py --sys-prefix ipyleaflet"
   ]
  },
  {
   "cell_type": "code",
   "execution_count": null,
   "metadata": {
    "ExecuteTime": {
     "end_time": "2018-03-03T22:49:08.838561Z",
     "start_time": "2018-03-03T22:49:05.913Z"
    }
   },
   "outputs": [],
   "source": [
    "from ipyleaflet import Map"
   ]
  },
  {
   "cell_type": "code",
   "execution_count": null,
   "metadata": {
    "ExecuteTime": {
     "end_time": "2018-03-03T22:49:08.840775Z",
     "start_time": "2018-03-03T22:49:05.920Z"
    }
   },
   "outputs": [],
   "source": [
    "Map(center = testcoord['coordinates'])"
   ]
  },
  {
   "cell_type": "code",
   "execution_count": null,
   "metadata": {
    "ExecuteTime": {
     "end_time": "2018-03-03T22:49:08.844480Z",
     "start_time": "2018-03-03T22:49:05.925Z"
    }
   },
   "outputs": [],
   "source": [
    "# for x in bugcleaned.location.unique():\n",
    "#     print(x)"
   ]
  },
  {
   "cell_type": "markdown",
   "metadata": {
    "ExecuteTime": {
     "end_time": "2018-03-03T21:15:44.002394Z",
     "start_time": "2018-03-03T21:15:43.996590Z"
    }
   },
   "source": [
    "https://docs.google.com/document/d/1xWBXAFSwtUGgZ3hQmzXE7ODnufQEWkji26vnsqfZzZ0/\n",
    "\n",
    "http://winnipeg.ca/publicworks/insectcontrol/mosquitoes/nuisanceschedule.stm\n"
   ]
  },
  {
   "cell_type": "code",
   "execution_count": null,
   "metadata": {
    "ExecuteTime": {
     "end_time": "2018-03-03T22:49:08.846467Z",
     "start_time": "2018-03-03T22:49:06.174Z"
    }
   },
   "outputs": [],
   "source": [
    "client = Socrata(\"data.winnipeg.ca\", None)\n",
    "mapdata = \"tug6-p73s\"\n",
    "mapdata = client.get(\"tug6-p73s\", limit=2000)\n",
    "mapdata"
   ]
  },
  {
   "cell_type": "markdown",
   "metadata": {},
   "source": [
    "North_east_1:  49.951867, -97.059306\n",
    "North_east_2: 49.933941, -97.096341\n",
    "North_east_3: 49.924809, -97.056330\n",
    "North_east_4: 49.906175, -97.094797\n",
    "North_east_5: 49.892358, -97.022426\n",
    "North_east_6: 49.918257, -97.043848\n",
    "North_east_7: 49.904900, -96.981602\n",
    "North_west_1: 49.890104, -97.308464\n",
    "North_west_2: 49.882624, -97.238131\n",
    "North_west_3: 49.888943, -97.193254\n",
    "North_west_4: 49.920877, -97.202540\n",
    "North_west_5: 49.931627, -97.170450\n",
    "North_west_6: 49.975104, -97.147863\n",
    "North_west_7: 49.948876, -97.126311\n",
    "Rural_aa: 49.981128, -97.244987\n",
    "Rural_bb: 49.999793, -97.194880\n",
    "Rural_cc: 49.991068, -97.089770\n",
    "Rural_dd: 49.990523, -97.013920\n",
    "Rural_ee: 49.852485, -96.986202\n",
    "Rural_ff: 49.800355, -97.073122\n",
    "Rural_gg: 49.782835, -97.339871\n",
    "Rural_hh: 49.854707, -97.338403 \n",
    "Rural_ii: 49.890188, -97.341707\n",
    "South_east_1: 49.5242.6, 97.07156\n",
    "South_east_2: 49.856801, -97.109705\n",
    "south_east_3:49.859405, -97.066774\n",
    "South_east_4: 49.824369, -97.133797\n",
    "South_east_5: 49.829048, -97.098352\n",
    "South_east_6: 49.827414, -97.060787\n",
    "South_east_7: 49.806356, -97.100467\n",
    "South_west_1: 49.832983, -97.332547\n",
    "South_west_2: 49.852445, -97.275173\n",
    "South_west_3: 49.868974, -97.243095\n",
    "South_west_4: 49.868834, -97.184476\n",
    "South_west_5: 49.818122, -97.165982\n",
    "South_west_6: 49.805538, -97.138229\n",
    "South_west_7: 49.827168, -97.170704\n"
   ]
  },
  {
   "cell_type": "code",
   "execution_count": null,
   "metadata": {
    "ExecuteTime": {
     "end_time": "2018-03-03T22:49:08.848332Z",
     "start_time": "2018-03-03T22:49:06.426Z"
    }
   },
   "outputs": [],
   "source": [
    "import geopandas"
   ]
  },
  {
   "cell_type": "code",
   "execution_count": null,
   "metadata": {
    "ExecuteTime": {
     "end_time": "2018-03-03T22:49:08.850142Z",
     "start_time": "2018-03-03T22:49:06.432Z"
    }
   },
   "outputs": [],
   "source": [
    "from geopandas import GeoDataFrame"
   ]
  },
  {
   "cell_type": "code",
   "execution_count": null,
   "metadata": {
    "ExecuteTime": {
     "end_time": "2018-03-03T22:49:08.851832Z",
     "start_time": "2018-03-03T22:49:06.437Z"
    }
   },
   "outputs": [],
   "source": [
    "from shapely.geometry import Point"
   ]
  },
  {
   "cell_type": "code",
   "execution_count": null,
   "metadata": {
    "ExecuteTime": {
     "end_time": "2018-03-03T22:49:08.853538Z",
     "start_time": "2018-03-03T22:49:06.443Z"
    }
   },
   "outputs": [],
   "source": [
    "mypoint = testcoord['coordinates']"
   ]
  },
  {
   "cell_type": "code",
   "execution_count": null,
   "metadata": {
    "ExecuteTime": {
     "end_time": "2018-03-03T22:49:08.855418Z",
     "start_time": "2018-03-03T22:49:06.449Z"
    }
   },
   "outputs": [],
   "source": [
    "GeoDataFrame() "
   ]
  },
  {
   "cell_type": "code",
   "execution_count": null,
   "metadata": {
    "ExecuteTime": {
     "end_time": "2018-03-03T22:49:08.857129Z",
     "start_time": "2018-03-03T22:49:06.454Z"
    }
   },
   "outputs": [],
   "source": [
    "from shapely.geometry import Point"
   ]
  },
  {
   "cell_type": "code",
   "execution_count": null,
   "metadata": {
    "ExecuteTime": {
     "end_time": "2018-03-03T22:49:08.859171Z",
     "start_time": "2018-03-03T22:49:06.463Z"
    }
   },
   "outputs": [],
   "source": [
    "geotypes = [x['type'] for x in bikes_df.the_geom]"
   ]
  },
  {
   "cell_type": "code",
   "execution_count": null,
   "metadata": {
    "ExecuteTime": {
     "end_time": "2018-03-03T22:49:08.860883Z",
     "start_time": "2018-03-03T22:49:06.469Z"
    }
   },
   "outputs": [],
   "source": [
    "set(geotypes)"
   ]
  },
  {
   "cell_type": "code",
   "execution_count": null,
   "metadata": {
    "ExecuteTime": {
     "end_time": "2018-03-03T22:49:08.862732Z",
     "start_time": "2018-03-03T22:49:06.476Z"
    }
   },
   "outputs": [],
   "source": [
    "Point()"
   ]
  },
  {
   "cell_type": "code",
   "execution_count": null,
   "metadata": {
    "ExecuteTime": {
     "end_time": "2018-03-03T22:49:08.864585Z",
     "start_time": "2018-03-03T22:49:06.481Z"
    }
   },
   "outputs": [],
   "source": [
    "newgeom = [Point(x['coordinates']) for x in bikes_df.the_geom]\n",
    "bikes_df['newgeom'] = newgeom"
   ]
  },
  {
   "cell_type": "code",
   "execution_count": null,
   "metadata": {
    "ExecuteTime": {
     "end_time": "2018-03-03T22:49:08.866612Z",
     "start_time": "2018-03-03T22:49:06.487Z"
    }
   },
   "outputs": [],
   "source": [
    "gdf = bikes_df\n",
    "gdf = gdf.set_geometry('newgeom')"
   ]
  },
  {
   "cell_type": "code",
   "execution_count": null,
   "metadata": {
    "ExecuteTime": {
     "end_time": "2018-03-03T22:49:08.868884Z",
     "start_time": "2018-03-03T22:49:06.492Z"
    }
   },
   "outputs": [],
   "source": [
    "gdf.head()"
   ]
  },
  {
   "cell_type": "code",
   "execution_count": null,
   "metadata": {
    "ExecuteTime": {
     "end_time": "2018-03-03T22:49:08.871074Z",
     "start_time": "2018-03-03T22:49:06.498Z"
    }
   },
   "outputs": [],
   "source": [
    "gdf.plot()"
   ]
  },
  {
   "cell_type": "code",
   "execution_count": null,
   "metadata": {},
   "outputs": [],
   "source": []
  },
  {
   "cell_type": "code",
   "execution_count": null,
   "metadata": {
    "ExecuteTime": {
     "end_time": "2018-03-03T22:49:08.873071Z",
     "start_time": "2018-03-03T22:49:06.505Z"
    }
   },
   "outputs": [],
   "source": [
    "gdf.set_geometry('newgeom')"
   ]
  },
  {
   "cell_type": "code",
   "execution_count": null,
   "metadata": {},
   "outputs": [],
   "source": []
  },
  {
   "cell_type": "code",
   "execution_count": null,
   "metadata": {},
   "outputs": [],
   "source": []
  },
  {
   "cell_type": "code",
   "execution_count": null,
   "metadata": {
    "ExecuteTime": {
     "end_time": "2018-03-03T22:49:08.875617Z",
     "start_time": "2018-03-03T22:49:06.514Z"
    }
   },
   "outputs": [],
   "source": [
    "bikes_df"
   ]
  },
  {
   "cell_type": "code",
   "execution_count": null,
   "metadata": {},
   "outputs": [],
   "source": []
  },
  {
   "cell_type": "code",
   "execution_count": null,
   "metadata": {},
   "outputs": [],
   "source": []
  },
  {
   "cell_type": "code",
   "execution_count": null,
   "metadata": {},
   "outputs": [],
   "source": []
  },
  {
   "cell_type": "code",
   "execution_count": null,
   "metadata": {},
   "outputs": [],
   "source": []
  },
  {
   "cell_type": "code",
   "execution_count": null,
   "metadata": {},
   "outputs": [],
   "source": []
  },
  {
   "cell_type": "code",
   "execution_count": null,
   "metadata": {
    "ExecuteTime": {
     "end_time": "2018-03-03T22:49:08.877718Z",
     "start_time": "2018-03-03T22:49:06.526Z"
    }
   },
   "outputs": [],
   "source": [
    "bikes_df"
   ]
  },
  {
   "cell_type": "code",
   "execution_count": null,
   "metadata": {
    "ExecuteTime": {
     "end_time": "2018-03-03T22:49:08.879847Z",
     "start_time": "2018-03-03T22:49:06.532Z"
    }
   },
   "outputs": [],
   "source": [
    "import geopandas as gpd"
   ]
  },
  {
   "cell_type": "code",
   "execution_count": null,
   "metadata": {
    "ExecuteTime": {
     "end_time": "2018-03-03T22:49:08.881866Z",
     "start_time": "2018-03-03T22:49:06.539Z"
    }
   },
   "outputs": [],
   "source": [
    "gdf = gpd.GeoDataFrame(bikes)"
   ]
  },
  {
   "cell_type": "code",
   "execution_count": null,
   "metadata": {
    "ExecuteTime": {
     "end_time": "2018-03-03T22:49:08.884023Z",
     "start_time": "2018-03-03T22:49:06.546Z"
    }
   },
   "outputs": [],
   "source": [
    "gdf.set_geometry('the_geom')"
   ]
  },
  {
   "cell_type": "code",
   "execution_count": null,
   "metadata": {},
   "outputs": [],
   "source": []
  },
  {
   "cell_type": "code",
   "execution_count": null,
   "metadata": {},
   "outputs": [],
   "source": []
  },
  {
   "cell_type": "code",
   "execution_count": null,
   "metadata": {},
   "outputs": [],
   "source": []
  }
 ],
 "metadata": {
  "hide_input": false,
  "kernelspec": {
   "display_name": "PythonPath (python)",
   "language": "python",
   "name": "python_ruxi"
  },
  "language_info": {
   "codemirror_mode": {
    "name": "ipython",
    "version": 3
   },
   "file_extension": ".py",
   "mimetype": "text/x-python",
   "name": "python",
   "nbconvert_exporter": "python",
   "pygments_lexer": "ipython3",
   "version": "3.6.4"
  },
  "latex_envs": {
   "LaTeX_envs_menu_present": true,
   "bibliofile": "biblio.bib",
   "cite_by": "apalike",
   "current_citInitial": 1,
   "eqLabelWithNumbers": true,
   "eqNumInitial": 1,
   "labels_anchors": false,
   "latex_user_defs": false,
   "report_style_numbering": false,
   "user_envs_cfg": false
  },
  "toc": {
   "colors": {
    "hover_highlight": "#DAA520",
    "running_highlight": "#FF0000",
    "selected_highlight": "#FFD700"
   },
   "moveMenuLeft": true,
   "nav_menu": {
    "height": "12px",
    "width": "252px"
   },
   "navigate_menu": true,
   "number_sections": true,
   "sideBar": true,
   "threshold": 4,
   "toc_cell": false,
   "toc_section_display": "block",
   "toc_window_display": false
  }
 },
 "nbformat": 4,
 "nbformat_minor": 2
}
