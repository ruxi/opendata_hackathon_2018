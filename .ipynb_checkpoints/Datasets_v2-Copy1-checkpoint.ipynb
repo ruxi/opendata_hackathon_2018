{
 "cells": [
  {
   "cell_type": "markdown",
   "metadata": {},
   "source": [
    "- https://data.winnipeg.ca/Recreation/Pool-Facility-Usage/j4s8-s9ap\n",
    "    \n",
    "    "
   ]
  },
  {
   "cell_type": "code",
   "execution_count": 1,
   "metadata": {
    "ExecuteTime": {
     "end_time": "2018-03-04T00:45:24.233102Z",
     "start_time": "2018-03-04T00:45:24.229244Z"
    }
   },
   "outputs": [],
   "source": [
    "#!pip install sodapy"
   ]
  },
  {
   "cell_type": "markdown",
   "metadata": {},
   "source": [
    "# Datasets"
   ]
  },
  {
   "cell_type": "code",
   "execution_count": 2,
   "metadata": {
    "ExecuteTime": {
     "end_time": "2018-03-04T00:45:25.550728Z",
     "start_time": "2018-03-04T00:45:25.187955Z"
    }
   },
   "outputs": [],
   "source": [
    "import pandas as pd\n",
    "from sodapy import Socrata"
   ]
  },
  {
   "cell_type": "markdown",
   "metadata": {
    "ExecuteTime": {
     "end_time": "2018-03-03T23:14:10.650069Z",
     "start_time": "2018-03-03T23:14:10.639163Z"
    }
   },
   "source": [
    "- neighbourhood\n",
    "- mosquitoes\n",
    "- bikes"
   ]
  },
  {
   "cell_type": "markdown",
   "metadata": {},
   "source": [
    "## neighbourhoods"
   ]
  },
  {
   "cell_type": "code",
   "execution_count": 27,
   "metadata": {
    "ExecuteTime": {
     "end_time": "2018-03-04T00:58:35.822758Z",
     "start_time": "2018-03-04T00:58:35.037524Z"
    }
   },
   "outputs": [
    {
     "name": "stderr",
     "output_type": "stream",
     "text": [
      "WARNING:root:Requests made without an app_token will be subject to strict throttling limits.\n"
     ]
    },
    {
     "data": {
      "text/html": [
       "<div>\n",
       "<style scoped>\n",
       "    .dataframe tbody tr th:only-of-type {\n",
       "        vertical-align: middle;\n",
       "    }\n",
       "\n",
       "    .dataframe tbody tr th {\n",
       "        vertical-align: top;\n",
       "    }\n",
       "\n",
       "    .dataframe thead th {\n",
       "        text-align: right;\n",
       "    }\n",
       "</style>\n",
       "<table border=\"1\" class=\"dataframe\">\n",
       "  <thead>\n",
       "    <tr style=\"text-align: right;\">\n",
       "      <th></th>\n",
       "      <th>id</th>\n",
       "      <th>name</th>\n",
       "      <th>the_geom</th>\n",
       "      <th>newgeom</th>\n",
       "    </tr>\n",
       "  </thead>\n",
       "  <tbody>\n",
       "    <tr>\n",
       "      <th>0</th>\n",
       "      <td>696</td>\n",
       "      <td>Seven Oaks</td>\n",
       "      <td>{'type': 'MultiPolygon', 'coordinates': [[[[-9...</td>\n",
       "      <td>POLYGON ((-97.11021888431701 49.925633193803, ...</td>\n",
       "    </tr>\n",
       "    <tr>\n",
       "      <th>1</th>\n",
       "      <td>178</td>\n",
       "      <td>Parker</td>\n",
       "      <td>{'type': 'MultiPolygon', 'coordinates': [[[[-9...</td>\n",
       "      <td>POLYGON ((-97.17615035641499 49.850537882086, ...</td>\n",
       "    </tr>\n",
       "    <tr>\n",
       "      <th>2</th>\n",
       "      <td>630</td>\n",
       "      <td>The Maples</td>\n",
       "      <td>{'type': 'MultiPolygon', 'coordinates': [[[[-9...</td>\n",
       "      <td>POLYGON ((-97.163398354858 49.941591371416, -9...</td>\n",
       "    </tr>\n",
       "    <tr>\n",
       "      <th>3</th>\n",
       "      <td>702</td>\n",
       "      <td>Luxton</td>\n",
       "      <td>{'type': 'MultiPolygon', 'coordinates': [[[[-9...</td>\n",
       "      <td>POLYGON ((-97.116047777972 49.920325228662, -9...</td>\n",
       "    </tr>\n",
       "    <tr>\n",
       "      <th>4</th>\n",
       "      <td>1012</td>\n",
       "      <td>Talbot-Grey</td>\n",
       "      <td>{'type': 'MultiPolygon', 'coordinates': [[[[-9...</td>\n",
       "      <td>POLYGON ((-97.101068054847 49.904738664792, -9...</td>\n",
       "    </tr>\n",
       "  </tbody>\n",
       "</table>\n",
       "</div>"
      ],
      "text/plain": [
       "     id         name                                           the_geom  \\\n",
       "0   696   Seven Oaks  {'type': 'MultiPolygon', 'coordinates': [[[[-9...   \n",
       "1   178       Parker  {'type': 'MultiPolygon', 'coordinates': [[[[-9...   \n",
       "2   630   The Maples  {'type': 'MultiPolygon', 'coordinates': [[[[-9...   \n",
       "3   702       Luxton  {'type': 'MultiPolygon', 'coordinates': [[[[-9...   \n",
       "4  1012  Talbot-Grey  {'type': 'MultiPolygon', 'coordinates': [[[[-9...   \n",
       "\n",
       "                                             newgeom  \n",
       "0  POLYGON ((-97.11021888431701 49.925633193803, ...  \n",
       "1  POLYGON ((-97.17615035641499 49.850537882086, ...  \n",
       "2  POLYGON ((-97.163398354858 49.941591371416, -9...  \n",
       "3  POLYGON ((-97.116047777972 49.920325228662, -9...  \n",
       "4  POLYGON ((-97.101068054847 49.904738664792, -9...  "
      ]
     },
     "execution_count": 27,
     "metadata": {},
     "output_type": "execute_result"
    }
   ],
   "source": [
    "import shapely.geometry\n",
    "from geopandas import GeoDataFrame\n",
    "client = Socrata(\"data.winnipeg.ca\", None)\n",
    "neighbourhoods_id = \"xaux-29zr\"\n",
    "neighbourhoods = client.get(neighbourhoods_id, limit=2000)\n",
    "neighbourhoods = GeoDataFrame(neighbourhoods)\n",
    "newgeom = [shapely.geometry.Polygon(x['coordinates'][0][0]) for x in neighbourhoods.the_geom]\n",
    "neighbourhoods['newgeom'] = newgeom\n",
    "neighbourhoods = neighbourhoods.set_geometry('newgeom')\n",
    "neighbourhoods.head()\n"
   ]
  },
  {
   "cell_type": "code",
   "execution_count": 5,
   "metadata": {
    "ExecuteTime": {
     "end_time": "2018-03-04T00:45:34.491197Z",
     "start_time": "2018-03-04T00:45:34.170958Z"
    }
   },
   "outputs": [
    {
     "data": {
      "text/plain": [
       "<matplotlib.axes._subplots.AxesSubplot at 0x7fd12e14fef0>"
      ]
     },
     "execution_count": 5,
     "metadata": {},
     "output_type": "execute_result"
    },
    {
     "data": {
      "image/png": "[encoded data removed]",
      "text/plain": [
       "<matplotlib.figure.Figure at 0x7fd12e1c22e8>"
      ]
     },
     "metadata": {},
     "output_type": "display_data"
    }
   ],
   "source": [
    "neighbourhoods.plot()"
   ]
  },
  {
   "cell_type": "markdown",
   "metadata": {},
   "source": [
    "## bikes"
   ]
  },
  {
   "cell_type": "code",
   "execution_count": 6,
   "metadata": {
    "ExecuteTime": {
     "end_time": "2018-03-04T00:45:38.124830Z",
     "start_time": "2018-03-04T00:45:37.550746Z"
    }
   },
   "outputs": [
    {
     "name": "stderr",
     "output_type": "stream",
     "text": [
      "WARNING:root:Requests made without an app_token will be subject to strict throttling limits.\n"
     ]
    },
    {
     "data": {
      "text/html": [
       "<div>\n",
       "<style scoped>\n",
       "    .dataframe tbody tr th:only-of-type {\n",
       "        vertical-align: middle;\n",
       "    }\n",
       "\n",
       "    .dataframe tbody tr th {\n",
       "        vertical-align: top;\n",
       "    }\n",
       "\n",
       "    .dataframe thead th {\n",
       "        text-align: right;\n",
       "    }\n",
       "</style>\n",
       "<table border=\"1\" class=\"dataframe\">\n",
       "  <thead>\n",
       "    <tr style=\"text-align: right;\">\n",
       "      <th></th>\n",
       "      <th>0</th>\n",
       "      <th>1</th>\n",
       "      <th>2</th>\n",
       "    </tr>\n",
       "  </thead>\n",
       "  <tbody>\n",
       "    <tr>\n",
       "      <th>asset_class</th>\n",
       "      <td>STAND-ALONE PLAY COMPONENT</td>\n",
       "      <td>SEATING</td>\n",
       "      <td>SEATING</td>\n",
       "    </tr>\n",
       "    <tr>\n",
       "      <th>asset_id</th>\n",
       "      <td>46292</td>\n",
       "      <td>47525</td>\n",
       "      <td>24478</td>\n",
       "    </tr>\n",
       "    <tr>\n",
       "      <th>asset_size</th>\n",
       "      <td>N/A</td>\n",
       "      <td>N/A</td>\n",
       "      <td>N/A</td>\n",
       "    </tr>\n",
       "    <tr>\n",
       "      <th>asset_type</th>\n",
       "      <td>N/A</td>\n",
       "      <td>BENCH</td>\n",
       "      <td>BENCH</td>\n",
       "    </tr>\n",
       "    <tr>\n",
       "      <th>geom_type</th>\n",
       "      <td>POINT</td>\n",
       "      <td>POINT</td>\n",
       "      <td>POINT</td>\n",
       "    </tr>\n",
       "    <tr>\n",
       "      <th>park_id</th>\n",
       "      <td>1137</td>\n",
       "      <td>266</td>\n",
       "      <td>1179</td>\n",
       "    </tr>\n",
       "    <tr>\n",
       "      <th>park_name</th>\n",
       "      <td>Frontenac Park</td>\n",
       "      <td>Muriel Street Park</td>\n",
       "      <td>Aberdeen Adventure Playground</td>\n",
       "    </tr>\n",
       "    <tr>\n",
       "      <th>prim_field</th>\n",
       "      <td>N/A</td>\n",
       "      <td>N/A</td>\n",
       "      <td>N/A</td>\n",
       "    </tr>\n",
       "    <tr>\n",
       "      <th>the_geom</th>\n",
       "      <td>{'type': 'Point', 'coordinates': [-97.08174796...</td>\n",
       "      <td>{'type': 'Point', 'coordinates': [-97.29729904...</td>\n",
       "      <td>{'type': 'Point', 'coordinates': [-97.12915711...</td>\n",
       "    </tr>\n",
       "  </tbody>\n",
       "</table>\n",
       "</div>"
      ],
      "text/plain": [
       "                                                             0  \\\n",
       "asset_class                         STAND-ALONE PLAY COMPONENT   \n",
       "asset_id                                                 46292   \n",
       "asset_size                                                 N/A   \n",
       "asset_type                                                 N/A   \n",
       "geom_type                                                POINT   \n",
       "park_id                                                   1137   \n",
       "park_name                                       Frontenac Park   \n",
       "prim_field                                                 N/A   \n",
       "the_geom     {'type': 'Point', 'coordinates': [-97.08174796...   \n",
       "\n",
       "                                                             1  \\\n",
       "asset_class                                            SEATING   \n",
       "asset_id                                                 47525   \n",
       "asset_size                                                 N/A   \n",
       "asset_type                                               BENCH   \n",
       "geom_type                                                POINT   \n",
       "park_id                                                    266   \n",
       "park_name                                   Muriel Street Park   \n",
       "prim_field                                                 N/A   \n",
       "the_geom     {'type': 'Point', 'coordinates': [-97.29729904...   \n",
       "\n",
       "                                                             2  \n",
       "asset_class                                            SEATING  \n",
       "asset_id                                                 24478  \n",
       "asset_size                                                 N/A  \n",
       "asset_type                                               BENCH  \n",
       "geom_type                                                POINT  \n",
       "park_id                                                   1179  \n",
       "park_name                        Aberdeen Adventure Playground  \n",
       "prim_field                                                 N/A  \n",
       "the_geom     {'type': 'Point', 'coordinates': [-97.12915711...  "
      ]
     },
     "execution_count": 6,
     "metadata": {},
     "output_type": "execute_result"
    }
   ],
   "source": [
    "client = Socrata(\"data.winnipeg.ca\", None)\n",
    "bikes = client.get(\"9t9k-ya8b\", limit=10000)\n",
    "bikes = pd.DataFrame(bikes)\n",
    "bikes.head(3).T"
   ]
  },
  {
   "cell_type": "code",
   "execution_count": 7,
   "metadata": {
    "ExecuteTime": {
     "end_time": "2018-03-04T00:45:39.484537Z",
     "start_time": "2018-03-04T00:45:38.823381Z"
    }
   },
   "outputs": [
    {
     "data": {
      "text/plain": [
       "<matplotlib.axes._subplots.AxesSubplot at 0x7fd12d6921d0>"
      ]
     },
     "execution_count": 7,
     "metadata": {},
     "output_type": "execute_result"
    },
    {
     "data": {
      "image/png": "[encoded data removed]",
      "text/plain": [
       "<matplotlib.figure.Figure at 0x7fd12d680b38>"
      ]
     },
     "metadata": {},
     "output_type": "display_data"
    }
   ],
   "source": [
    "from shapely.geometry import Point\n",
    "\n",
    "newgeom = [Point(x['coordinates']) for x in bikes.the_geom]\n",
    "bikes['newgeom'] = newgeom\n",
    "bikes = bikes.set_geometry('newgeom')\n",
    "bikes.plot()"
   ]
  },
  {
   "cell_type": "markdown",
   "metadata": {
    "ExecuteTime": {
     "end_time": "2018-03-04T00:09:15.829402Z",
     "start_time": "2018-03-04T00:09:15.822434Z"
    }
   },
   "source": [
    "## bugs"
   ]
  },
  {
   "cell_type": "code",
   "execution_count": 8,
   "metadata": {
    "ExecuteTime": {
     "end_time": "2018-03-04T00:46:16.773406Z",
     "start_time": "2018-03-04T00:46:16.208066Z"
    }
   },
   "outputs": [
    {
     "name": "stderr",
     "output_type": "stream",
     "text": [
      "WARNING:root:Requests made without an app_token will be subject to strict throttling limits.\n"
     ]
    },
    {
     "name": "stdout",
     "output_type": "stream",
     "text": [
      "number of locations 37\n"
     ]
    },
    {
     "data": {
      "text/html": [
       "<div>\n",
       "<style scoped>\n",
       "    .dataframe tbody tr th:only-of-type {\n",
       "        vertical-align: middle;\n",
       "    }\n",
       "\n",
       "    .dataframe tbody tr th {\n",
       "        vertical-align: top;\n",
       "    }\n",
       "\n",
       "    .dataframe thead th {\n",
       "        text-align: right;\n",
       "    }\n",
       "</style>\n",
       "<table border=\"1\" class=\"dataframe\">\n",
       "  <thead>\n",
       "    <tr style=\"text-align: right;\">\n",
       "      <th></th>\n",
       "      <th>count_date</th>\n",
       "      <th>trap_days</th>\n",
       "      <th>location</th>\n",
       "      <th>bugcount</th>\n",
       "    </tr>\n",
       "  </thead>\n",
       "  <tbody>\n",
       "    <tr>\n",
       "      <th>0</th>\n",
       "      <td>2015-05-04T00:00:00</td>\n",
       "      <td>3</td>\n",
       "      <td>north_east_1</td>\n",
       "      <td>0</td>\n",
       "    </tr>\n",
       "    <tr>\n",
       "      <th>1</th>\n",
       "      <td>2015-05-06T00:00:00</td>\n",
       "      <td>2</td>\n",
       "      <td>north_east_1</td>\n",
       "      <td>2</td>\n",
       "    </tr>\n",
       "    <tr>\n",
       "      <th>2</th>\n",
       "      <td>2015-05-08T00:00:00</td>\n",
       "      <td>2</td>\n",
       "      <td>north_east_1</td>\n",
       "      <td>0</td>\n",
       "    </tr>\n",
       "    <tr>\n",
       "      <th>3</th>\n",
       "      <td>2015-05-11T00:00:00</td>\n",
       "      <td>3</td>\n",
       "      <td>north_east_1</td>\n",
       "      <td>0</td>\n",
       "    </tr>\n",
       "    <tr>\n",
       "      <th>4</th>\n",
       "      <td>2015-05-13T00:00:00</td>\n",
       "      <td>2</td>\n",
       "      <td>north_east_1</td>\n",
       "      <td>1</td>\n",
       "    </tr>\n",
       "  </tbody>\n",
       "</table>\n",
       "</div>"
      ],
      "text/plain": [
       "            count_date trap_days      location bugcount\n",
       "0  2015-05-04T00:00:00         3  north_east_1        0\n",
       "1  2015-05-06T00:00:00         2  north_east_1        2\n",
       "2  2015-05-08T00:00:00         2  north_east_1        0\n",
       "3  2015-05-11T00:00:00         3  north_east_1        0\n",
       "4  2015-05-13T00:00:00         2  north_east_1        1"
      ]
     },
     "execution_count": 8,
     "metadata": {},
     "output_type": "execute_result"
    }
   ],
   "source": [
    "import pandas as pd\n",
    "from geopandas import GeoDataFrame\n",
    "client = Socrata(\"data.winnipeg.ca\", None)\n",
    "bugs = client.get(\"du7c-8488\", limit=2000)\n",
    "bugs = GeoDataFrame(bugs)\n",
    "\n",
    "# wrangling\n",
    "idvars = ['count_date', 'trap_days']\n",
    "location_only = [x for x in bugs.columns if \"average\" not in x]\n",
    "location_only = [x for x in location_only if x not in idvars]\n",
    "print(f\"number of locations {len(location_only)}\")\n",
    "\n",
    "# make wide to long \n",
    "bugs = pd.melt(bugs[location_only + idvars], id_vars = idvars, var_name = 'location', value_name = 'bugcount')\n",
    "bugs = GeoDataFrame(bugs)\n",
    "bugs.head()"
   ]
  },
  {
   "cell_type": "markdown",
   "metadata": {
    "ExecuteTime": {
     "end_time": "2018-03-04T00:26:30.046265Z",
     "start_time": "2018-03-04T00:26:29.999755Z"
    }
   },
   "source": [
    "buglocations2gps = \\\n",
    "{\"north_east_1\": {\"coord\": [49.951867, -97.059306]}\n",
    ",\"north_east_2\": {\"coord\": [49.933941, -97.096341]}\n",
    ",\"north_east_3\": {\"coord\": [49.924809, -97.056330]}\n",
    ",\"north_east_4\": {\"coord\": [49.906175, -97.094797]}\n",
    ",\"north_east_5\": {\"coord\": [49.892358, -97.022426]}\n",
    ",\"north_east_6\": {\"coord\": [49.918257, -97.043848]}\n",
    ",\"north_east_7\": {\"coord\": [49.904900, -96.981602]}\n",
    ",\"north_west_1\": {\"coord\": [49.890104, -97.308464]}\n",
    ",\"north_west_2\": {\"coord\": [49.882624, -97.238131]}\n",
    ",\"north_west_3\": {\"coord\": [49.888943, -97.193254]}\n",
    ",\"north_west_4\": {\"coord\": [49.920877, -97.202540]}\n",
    ",\"north_west_5\": {\"coord\": [49.931627, -97.170450]}\n",
    ",\"north_west_6\": {\"coord\": [49.975104, -97.147863]}\n",
    ",\"north_west_7\": {\"coord\": [49.948876, -97.126311]}\n",
    ",\"rural_aa\": {\"coord\": [49.981128, -97.244987]}\n",
    ",\"rural_bb\": {\"coord\": [49.999793, -97.194880]}\n",
    ",\"rural_cc\": {\"coord\": [49.991068, -97.089770]}\n",
    ",\"rural_dd\": {\"coord\": [49.990523, -97.013920]}\n",
    ",\"rural_ee\": {\"coord\": [49.852485, -96.986202]}\n",
    ",\"rural_ff\": {\"coord\": [49.800355, -97.073122]}\n",
    ",\"rural_gg\": {\"coord\": [49.782835, -97.339871]}\n",
    ",\"rural_hh\": {\"coord\": [49.854707, -97.338403]}\n",
    ",\"rural_ii\": {\"coord\": [49.890188, -97.341707]}\n",
    ",\"south_east_1\": {\"coord\": [49.52426, 97.07156]}\n",
    ",\"south_east_2\": {\"coord\": [49.856801, -97.109705]}\n",
    ",\"south_east_3\": {\"coord\": [49.859405, -97.066774]}\n",
    ",\"south_east_4\": {\"coord\": [49.824369, -97.133797]}\n",
    ",\"south_east_5\": {\"coord\": [49.829048, -97.098352]}\n",
    ",\"south_east_6\": {\"coord\": [49.827414, -97.060787]}\n",
    ",\"south_east_7\": {\"coord\": [49.806356, -97.100467]}\n",
    ",\"south_west_1\": {\"coord\": [49.832983, -97.332547]}\n",
    ",\"south_west_2\": {\"coord\": [49.852445, -97.275173]}\n",
    ",\"south_west_3\": {\"coord\": [49.868974, -97.243095]}\n",
    ",\"south_west_4\": {\"coord\": [49.868834, -97.184476]}\n",
    ",\"south_west_5\": {\"coord\": [49.818122, -97.165982]}\n",
    " }"
   ]
  },
  {
   "cell_type": "code",
   "execution_count": 35,
   "metadata": {
    "ExecuteTime": {
     "end_time": "2018-03-04T01:27:52.693244Z",
     "start_time": "2018-03-04T01:27:52.635422Z"
    }
   },
   "outputs": [],
   "source": [
    "buglocations2gps = \\\n",
    "{\"north_east_1\": {\"coord\": [49.951867, -97.059306]}\n",
    ",\"north_east_2\": {\"coord\": [49.933941, -97.096341]}\n",
    ",\"north_east_3\": {\"coord\": [49.924809, -97.056330]}\n",
    ",\"north_east_4\": {\"coord\": [49.906175, -97.094797]}\n",
    ",\"north_east_5\": {\"coord\": [49.892358, -97.022426]}\n",
    ",\"north_east_6\": {\"coord\": [49.918257, -97.043848]}\n",
    ",\"north_east_7\": {\"coord\": [49.904900, -96.981602]}\n",
    ",\"north_west_1\": {\"coord\": [49.890104, -97.308464]}\n",
    ",\"north_west_2\": {\"coord\": [49.882624, -97.238131]}\n",
    ",\"north_west_3\": {\"coord\": [49.888943, -97.193254]}\n",
    ",\"north_west_4\": {\"coord\": [49.920877, -97.202540]}\n",
    ",\"north_west_5\": {\"coord\": [49.931627, -97.170450]}\n",
    ",\"north_west_6\": {\"coord\": [49.975104, -97.147863]}\n",
    ",\"north_west_7\": {\"coord\": [49.948876, -97.126311]}\n",
    ",\"rural_aa\": {\"coord\": [49.981128, -97.244987]}\n",
    ",\"rural_bb\": {\"coord\": [49.999793, -97.194880]}\n",
    ",\"rural_cc\": {\"coord\": [49.991068, -97.089770]}\n",
    ",\"rural_dd\": {\"coord\": [49.990523, -97.013920]}\n",
    ",\"rural_ee\": {\"coord\": [49.852485, -96.986202]}\n",
    ",\"rural_ff\": {\"coord\": [49.800355, -97.073122]}\n",
    ",\"rural_gg\": {\"coord\": [49.782835, -97.339871]}\n",
    ",\"rural_hh\": {\"coord\": [49.854707, -97.338403]}\n",
    ",\"rural_ii\": {\"coord\": [49.890188, -97.341707]}\n",
    ",\"south_east_1\": {\"coord\": [49.52426, -97.07156]}\n",
    ",\"south_east_2\": {\"coord\": [49.856801, -97.109705]}\n",
    ",\"south_east_3\": {\"coord\": [49.859405, -97.066774]}\n",
    ",\"south_east_4\": {\"coord\": [49.824369, -97.133797]}\n",
    ",\"south_east_5\": {\"coord\": [49.829048, -97.098352]}\n",
    ",\"south_east_6\": {\"coord\": [49.827414, -97.060787]}\n",
    ",\"south_east_7\": {\"coord\": [49.806356, -97.100467]}\n",
    ",\"south_west_1\": {\"coord\": [49.832983, -97.332547]}\n",
    ",\"south_west_2\": {\"coord\": [49.852445, -97.275173]}\n",
    ",\"south_west_3\": {\"coord\": [49.868974, -97.243095]}\n",
    ",\"south_west_4\": {\"coord\": [49.868834, -97.184476]}\n",
    ",\"south_west_5\": {\"coord\": [49.818122, -97.165982]}\n",
    ",\"south_west_6\": {\"coord\": [49.805538, -97.138229]}\n",
    ",\"south_west_7\": {\"coord\": [49.827168, -97.170704]}\n",
    " }"
   ]
  },
  {
   "cell_type": "code",
   "execution_count": 39,
   "metadata": {
    "ExecuteTime": {
     "end_time": "2018-03-04T01:29:35.710318Z",
     "start_time": "2018-03-04T01:29:35.583142Z"
    }
   },
   "outputs": [
    {
     "data": {
      "text/html": [
       "<div>\n",
       "<style scoped>\n",
       "    .dataframe tbody tr th:only-of-type {\n",
       "        vertical-align: middle;\n",
       "    }\n",
       "\n",
       "    .dataframe tbody tr th {\n",
       "        vertical-align: top;\n",
       "    }\n",
       "\n",
       "    .dataframe thead th {\n",
       "        text-align: right;\n",
       "    }\n",
       "</style>\n",
       "<table border=\"1\" class=\"dataframe\">\n",
       "  <thead>\n",
       "    <tr style=\"text-align: right;\">\n",
       "      <th></th>\n",
       "      <th>count_date</th>\n",
       "      <th>trap_days</th>\n",
       "      <th>location</th>\n",
       "      <th>bugcount</th>\n",
       "      <th>newgeom</th>\n",
       "    </tr>\n",
       "  </thead>\n",
       "  <tbody>\n",
       "    <tr>\n",
       "      <th>0</th>\n",
       "      <td>2015-05-04T00:00:00</td>\n",
       "      <td>3</td>\n",
       "      <td>north_east_1</td>\n",
       "      <td>0</td>\n",
       "      <td>POINT (-97.05930600000001 49.951867)</td>\n",
       "    </tr>\n",
       "    <tr>\n",
       "      <th>1</th>\n",
       "      <td>2015-05-06T00:00:00</td>\n",
       "      <td>2</td>\n",
       "      <td>north_east_1</td>\n",
       "      <td>2</td>\n",
       "      <td>POINT (-97.05930600000001 49.951867)</td>\n",
       "    </tr>\n",
       "    <tr>\n",
       "      <th>2</th>\n",
       "      <td>2015-05-08T00:00:00</td>\n",
       "      <td>2</td>\n",
       "      <td>north_east_1</td>\n",
       "      <td>0</td>\n",
       "      <td>POINT (-97.05930600000001 49.951867)</td>\n",
       "    </tr>\n",
       "    <tr>\n",
       "      <th>3</th>\n",
       "      <td>2015-05-11T00:00:00</td>\n",
       "      <td>3</td>\n",
       "      <td>north_east_1</td>\n",
       "      <td>0</td>\n",
       "      <td>POINT (-97.05930600000001 49.951867)</td>\n",
       "    </tr>\n",
       "    <tr>\n",
       "      <th>4</th>\n",
       "      <td>2015-05-13T00:00:00</td>\n",
       "      <td>2</td>\n",
       "      <td>north_east_1</td>\n",
       "      <td>1</td>\n",
       "      <td>POINT (-97.05930600000001 49.951867)</td>\n",
       "    </tr>\n",
       "  </tbody>\n",
       "</table>\n",
       "</div>"
      ],
      "text/plain": [
       "            count_date trap_days      location bugcount  \\\n",
       "0  2015-05-04T00:00:00         3  north_east_1        0   \n",
       "1  2015-05-06T00:00:00         2  north_east_1        2   \n",
       "2  2015-05-08T00:00:00         2  north_east_1        0   \n",
       "3  2015-05-11T00:00:00         3  north_east_1        0   \n",
       "4  2015-05-13T00:00:00         2  north_east_1        1   \n",
       "\n",
       "                                newgeom  \n",
       "0  POINT (-97.05930600000001 49.951867)  \n",
       "1  POINT (-97.05930600000001 49.951867)  \n",
       "2  POINT (-97.05930600000001 49.951867)  \n",
       "3  POINT (-97.05930600000001 49.951867)  \n",
       "4  POINT (-97.05930600000001 49.951867)  "
      ]
     },
     "execution_count": 39,
     "metadata": {},
     "output_type": "execute_result"
    }
   ],
   "source": [
    "temp = bugs.location.map(buglocations2gps)\n",
    "newgeom = [shapely.geometry.Point(x['coord'][1], x['coord'][0]) for x in temp]\n",
    "bugs = GeoDataFrame(bugs)\n",
    "bugs['newgeom'] = newgeom\n",
    "bugs = bugs.set_geometry('newgeom')\n",
    "bugs.head()"
   ]
  },
  {
   "cell_type": "code",
   "execution_count": 40,
   "metadata": {
    "ExecuteTime": {
     "end_time": "2018-03-04T01:29:39.960811Z",
     "start_time": "2018-03-04T01:29:39.365670Z"
    }
   },
   "outputs": [
    {
     "data": {
      "text/plain": [
       "<matplotlib.axes._subplots.AxesSubplot at 0x7fd12dedec88>"
      ]
     },
     "execution_count": 40,
     "metadata": {},
     "output_type": "execute_result"
    },
    {
     "data": {
      "image/png": "[encoded data removed]",
      "text/plain": [
       "<matplotlib.figure.Figure at 0x7fd12deed5f8>"
      ]
     },
     "metadata": {},
     "output_type": "display_data"
    }
   ],
   "source": [
    "bugs.plot()"
   ]
  },
  {
   "cell_type": "code",
   "execution_count": 37,
   "metadata": {
    "ExecuteTime": {
     "end_time": "2018-03-04T01:27:54.173591Z",
     "start_time": "2018-03-04T01:27:54.166839Z"
    }
   },
   "outputs": [],
   "source": [
    "subset = bugs[bugs.count_date == bugs.count_date[0]]"
   ]
  },
  {
   "cell_type": "code",
   "execution_count": 38,
   "metadata": {
    "ExecuteTime": {
     "end_time": "2018-03-04T01:27:54.944667Z",
     "start_time": "2018-03-04T01:27:54.738021Z"
    }
   },
   "outputs": [
    {
     "data": {
      "text/plain": [
       "<matplotlib.axes._subplots.AxesSubplot at 0x7fd12de86160>"
      ]
     },
     "execution_count": 38,
     "metadata": {},
     "output_type": "execute_result"
    },
    {
     "data": {
      "image/png": "[encoded data removed]",
      "text/plain": [
       "<matplotlib.figure.Figure at 0x7fd12cdddb38>"
      ]
     },
     "metadata": {},
     "output_type": "display_data"
    }
   ],
   "source": [
    "subset.plot()"
   ]
  },
  {
   "cell_type": "markdown",
   "metadata": {
    "ExecuteTime": {
     "end_time": "2018-03-04T01:14:50.680748Z",
     "start_time": "2018-03-04T01:14:50.611558Z"
    }
   },
   "source": [
    "# merge"
   ]
  },
  {
   "cell_type": "code",
   "execution_count": 34,
   "metadata": {
    "ExecuteTime": {
     "end_time": "2018-03-04T01:14:55.042436Z",
     "start_time": "2018-03-04T01:14:54.861557Z"
    }
   },
   "outputs": [
    {
     "data": {
      "text/plain": [
       "<matplotlib.axes._subplots.AxesSubplot at 0x7fd12d2e6a20>"
      ]
     },
     "execution_count": 34,
     "metadata": {},
     "output_type": "execute_result"
    },
    {
     "data": {
      "image/png": "[encoded data removed]",
      "text/plain": [
       "<matplotlib.figure.Figure at 0x7fd12ccc5550>"
      ]
     },
     "metadata": {},
     "output_type": "display_data"
    }
   ],
   "source": [
    "test.plot()"
   ]
  },
  {
   "cell_type": "markdown",
   "metadata": {},
   "source": [
    "# other stuff"
   ]
  },
  {
   "cell_type": "code",
   "execution_count": null,
   "metadata": {
    "ExecuteTime": {
     "end_time": "2018-03-04T00:04:50.201046Z",
     "start_time": "2018-03-04T00:04:50.164853Z"
    }
   },
   "outputs": [],
   "source": [
    "import shapely.geometry\n",
    "def transform_geometry_json_to_object(the_geom, \n",
    "                                      geom_type = \"type\",\n",
    "                                      coord_varname = 'coordinates'\n",
    "                                     ):\n",
    "    result = []\n",
    "    for datum in the_geom:\n",
    "        geom_type    = datum[geom_type]\n",
    "#         coord_values = datum[coord_varname]\n",
    "#         if geom_type == 'MultiPolygon':\n",
    "#             geom_type = 'Polygon'\n",
    "#         geomfxn = getattr(shapely.geometry, geom_type)\n",
    "#         output = geomfxn(coord_values)\n",
    "#         result.append(output)\n",
    "\n",
    "\n",
    "transform_geometry_json_to_object(bikes.the_geom)"
   ]
  },
  {
   "cell_type": "markdown",
   "metadata": {},
   "source": [
    "## mosquitoes"
   ]
  },
  {
   "cell_type": "code",
   "execution_count": null,
   "metadata": {
    "ExecuteTime": {
     "end_time": "2018-03-03T23:16:08.160215Z",
     "start_time": "2018-03-03T23:16:07.735674Z"
    }
   },
   "outputs": [],
   "source": [
    "client = Socrata(\"data.winnipeg.ca\", None)\n",
    "bugs = client.get(\"du7c-8488\", limit=2000)"
   ]
  },
  {
   "cell_type": "code",
   "execution_count": null,
   "metadata": {
    "ExecuteTime": {
     "end_time": "2018-03-03T23:16:08.382937Z",
     "start_time": "2018-03-03T23:16:08.370472Z"
    }
   },
   "outputs": [],
   "source": [
    "bugsdf = pd.DataFrame(bugs)\n",
    "bugsdf.T\n",
    "idvars = ['count_date', 'trap_days']"
   ]
  },
  {
   "cell_type": "code",
   "execution_count": null,
   "metadata": {
    "ExecuteTime": {
     "end_time": "2018-03-03T23:16:09.010360Z",
     "start_time": "2018-03-03T23:16:09.003622Z"
    }
   },
   "outputs": [],
   "source": [
    "idvars = ['count_date', 'trap_days']\n",
    "location_only = [x for x in bugsdf.columns if \"average\" not in x]\n",
    "location_only = [x for x in location_only if x not in idvars]\n",
    "len(location_only)"
   ]
  },
  {
   "cell_type": "code",
   "execution_count": null,
   "metadata": {
    "ExecuteTime": {
     "end_time": "2018-03-03T22:49:05.686883Z",
     "start_time": "2018-03-03T22:49:05.277887Z"
    }
   },
   "outputs": [],
   "source": [
    "import pandas as pd\n",
    "from sodapy import Socrata"
   ]
  },
  {
   "cell_type": "code",
   "execution_count": null,
   "metadata": {
    "ExecuteTime": {
     "end_time": "2018-03-03T22:49:06.217582Z",
     "start_time": "2018-03-03T22:49:05.689848Z"
    }
   },
   "outputs": [],
   "source": [
    "client = Socrata(\"data.winnipeg.ca\", None)\n",
    "results = client.get(\"t2d2-j4v9\", limit=2000)\n"
   ]
  },
  {
   "cell_type": "code",
   "execution_count": null,
   "metadata": {
    "ExecuteTime": {
     "end_time": "2018-03-03T22:49:06.231800Z",
     "start_time": "2018-03-03T22:49:06.220507Z"
    }
   },
   "outputs": [],
   "source": [
    "df = pd.DataFrame.from_records(results)"
   ]
  },
  {
   "cell_type": "code",
   "execution_count": null,
   "metadata": {
    "ExecuteTime": {
     "end_time": "2018-03-03T22:49:06.249445Z",
     "start_time": "2018-03-03T22:49:06.234000Z"
    }
   },
   "outputs": [],
   "source": [
    "df.columns"
   ]
  },
  {
   "cell_type": "code",
   "execution_count": null,
   "metadata": {
    "ExecuteTime": {
     "end_time": "2018-03-03T22:49:06.273564Z",
     "start_time": "2018-03-03T22:49:06.251690Z"
    }
   },
   "outputs": [],
   "source": [
    "df.head().T"
   ]
  },
  {
   "cell_type": "code",
   "execution_count": null,
   "metadata": {
    "ExecuteTime": {
     "end_time": "2018-03-03T22:49:06.763449Z",
     "start_time": "2018-03-03T22:49:06.648087Z"
    }
   },
   "outputs": [],
   "source": [
    "!ls "
   ]
  },
  {
   "cell_type": "markdown",
   "metadata": {},
   "source": [
    "hello world"
   ]
  },
  {
   "cell_type": "code",
   "execution_count": null,
   "metadata": {
    "ExecuteTime": {
     "end_time": "2018-03-03T22:49:06.776469Z",
     "start_time": "2018-03-03T22:49:06.765589Z"
    }
   },
   "outputs": [],
   "source": [
    "bugcleaned = pd.melt(bugsdf[location_only + idvars], id_vars = idvars, var_name = 'location', value_name = 'bugcount')"
   ]
  },
  {
   "cell_type": "code",
   "execution_count": null,
   "metadata": {
    "ExecuteTime": {
     "end_time": "2018-03-03T22:49:07.235648Z",
     "start_time": "2018-03-03T22:49:06.779903Z"
    }
   },
   "outputs": [],
   "source": [
    "import seaborn as sns\n",
    "import matplotlib.pyplot as plt"
   ]
  },
  {
   "cell_type": "code",
   "execution_count": null,
   "metadata": {
    "ExecuteTime": {
     "end_time": "2018-03-03T22:13:32.163458Z",
     "start_time": "2018-03-03T22:13:32.060247Z"
    }
   },
   "outputs": [],
   "source": []
  },
  {
   "cell_type": "code",
   "execution_count": null,
   "metadata": {
    "ExecuteTime": {
     "end_time": "2018-03-03T22:49:07.511118Z",
     "start_time": "2018-03-03T22:49:07.238249Z"
    }
   },
   "outputs": [],
   "source": [
    "parkbikedata = \"9t9k-ya8b\"\n",
    "parkbikedf = client.get(\"9t9k-ya8b\", limit=2000)"
   ]
  },
  {
   "cell_type": "code",
   "execution_count": null,
   "metadata": {},
   "outputs": [],
   "source": []
  },
  {
   "cell_type": "code",
   "execution_count": null,
   "metadata": {
    "ExecuteTime": {
     "end_time": "2018-03-03T22:49:07.578104Z",
     "start_time": "2018-03-03T22:49:07.513702Z"
    }
   },
   "outputs": [],
   "source": [
    "pd.DataFrame(parkbikedf).T"
   ]
  },
  {
   "cell_type": "code",
   "execution_count": null,
   "metadata": {
    "ExecuteTime": {
     "end_time": "2018-03-03T22:49:07.590691Z",
     "start_time": "2018-03-03T22:49:07.582964Z"
    }
   },
   "outputs": [],
   "source": [
    "client = Socrata(\"data.winnipeg.ca\", None)"
   ]
  },
  {
   "cell_type": "code",
   "execution_count": null,
   "metadata": {
    "ExecuteTime": {
     "end_time": "2018-03-03T22:49:07.599202Z",
     "start_time": "2018-03-03T22:49:07.594577Z"
    }
   },
   "outputs": [],
   "source": [
    "bikeurl = \"https://data.winnipeg.ca/resource/9t9k-ya8b.json\""
   ]
  },
  {
   "cell_type": "code",
   "execution_count": null,
   "metadata": {},
   "outputs": [],
   "source": []
  },
  {
   "cell_type": "code",
   "execution_count": null,
   "metadata": {
    "ExecuteTime": {
     "end_time": "2018-03-03T22:49:07.974047Z",
     "start_time": "2018-03-03T22:49:07.602187Z"
    },
    "scrolled": true
   },
   "outputs": [],
   "source": [
    "client = Socrata(\"data.winnipeg.ca\", None)\n",
    "bikes = client.get(\"9t9k-ya8b\", limit=2000)\n"
   ]
  },
  {
   "cell_type": "markdown",
   "metadata": {},
   "source": [
    "neighbourhood map\n",
    "\n",
    "https://data.winnipeg.ca/resource/xaux-29zr.json"
   ]
  },
  {
   "cell_type": "code",
   "execution_count": null,
   "metadata": {
    "ExecuteTime": {
     "end_time": "2018-03-03T23:14:03.214043Z",
     "start_time": "2018-03-03T23:14:02.581978Z"
    }
   },
   "outputs": [],
   "source": [
    "import shapely.geometry\n",
    "from geopandas import GeoDataFrame\n",
    "client = Socrata(\"data.winnipeg.ca\", None)\n",
    "neighbourhoods = client.get(\"xaux-29zr\", limit=2000)\n",
    "neighbourhoods = GeoDataFrame(neighbourhoods)\n",
    "newgeom = [shapely.geometry.Polygon(x['coordinates'][0][0]) for x in neighbourhoods.the_geom]\n",
    "neighbourhoods['newgeom'] = newgeom\n",
    "neighbourhoods.head()\n"
   ]
  },
  {
   "cell_type": "code",
   "execution_count": null,
   "metadata": {},
   "outputs": [],
   "source": [
    "shapely.geometry.MultiPolygon"
   ]
  },
  {
   "cell_type": "code",
   "execution_count": null,
   "metadata": {
    "ExecuteTime": {
     "end_time": "2018-03-03T23:13:46.562762Z",
     "start_time": "2018-03-03T23:13:45.899726Z"
    }
   },
   "outputs": [],
   "source": [
    "import shapely.geometry\n",
    "from geopandas import GeoDataFrame\n",
    "client = Socrata(\"data.winnipeg.ca\", None)\n",
    "neighbourhoods = client.get(\"xaux-29zr\", limit=2000)\n",
    "\n",
    "neighbourhoods = GeoDataFrame(neighbourhoods)\n",
    "newgeom = [shapely.geometry.Polygon(x['coordinates'][0][0]) for x in neighbourhoods.the_geom]\n",
    "neighbourhoods['newgeom'] = newgeom\n",
    "neighbourhoods.head()\n",
    "#neighbourhoods = neighbourhoods.set_geometry('newgeom')"
   ]
  },
  {
   "cell_type": "code",
   "execution_count": null,
   "metadata": {},
   "outputs": [],
   "source": [
    "getattr(shapely.geometry, x['type'])"
   ]
  },
  {
   "cell_type": "code",
   "execution_count": null,
   "metadata": {},
   "outputs": [],
   "source": []
  },
  {
   "cell_type": "code",
   "execution_count": null,
   "metadata": {
    "ExecuteTime": {
     "end_time": "2018-03-03T22:49:08.626792Z",
     "start_time": "2018-03-03T22:49:08.621024Z"
    }
   },
   "outputs": [],
   "source": [
    "import shapely.geometry\n",
    "example = [x['coordinates'] for x in neighbourhoods.the_geom][0]"
   ]
  },
  {
   "cell_type": "code",
   "execution_count": null,
   "metadata": {
    "ExecuteTime": {
     "end_time": "2018-03-03T22:49:08.801674Z",
     "start_time": "2018-03-03T22:49:08.630416Z"
    }
   },
   "outputs": [],
   "source": [
    "newgeom = [Polygon(x['coordinates'][0][0]) for x in neighbourhoods.the_geom]"
   ]
  },
  {
   "cell_type": "code",
   "execution_count": null,
   "metadata": {
    "ExecuteTime": {
     "end_time": "2018-03-03T22:49:08.803306Z",
     "start_time": "2018-03-03T22:49:05.816Z"
    }
   },
   "outputs": [],
   "source": [
    "neighbourhoods['newgeom'] = newgeom\n",
    "neighbourhoods = neighbourhoods.set_geometry('newgeom')"
   ]
  },
  {
   "cell_type": "code",
   "execution_count": null,
   "metadata": {
    "ExecuteTime": {
     "end_time": "2018-03-03T22:49:08.805454Z",
     "start_time": "2018-03-03T22:49:05.820Z"
    }
   },
   "outputs": [],
   "source": [
    "neighbourhoods.plot()"
   ]
  },
  {
   "cell_type": "code",
   "execution_count": null,
   "metadata": {
    "ExecuteTime": {
     "end_time": "2018-03-03T22:49:08.807240Z",
     "start_time": "2018-03-03T22:49:05.829Z"
    }
   },
   "outputs": [],
   "source": [
    "neighbourhoods"
   ]
  },
  {
   "cell_type": "code",
   "execution_count": null,
   "metadata": {
    "ExecuteTime": {
     "end_time": "2018-03-03T22:49:08.809377Z",
     "start_time": "2018-03-03T22:49:05.833Z"
    }
   },
   "outputs": [],
   "source": [
    "neighbourhoods.the_geom[0].keys()"
   ]
  },
  {
   "cell_type": "code",
   "execution_count": null,
   "metadata": {
    "ExecuteTime": {
     "end_time": "2018-03-03T22:49:08.811461Z",
     "start_time": "2018-03-03T22:49:05.837Z"
    }
   },
   "outputs": [],
   "source": [
    "neighbourhoods.the_geom[0]['type']"
   ]
  },
  {
   "cell_type": "code",
   "execution_count": null,
   "metadata": {
    "ExecuteTime": {
     "end_time": "2018-03-03T22:49:08.813522Z",
     "start_time": "2018-03-03T22:49:05.841Z"
    }
   },
   "outputs": [],
   "source": [
    "example = neighbourhoods.the_geom[0]['coordinates']"
   ]
  },
  {
   "cell_type": "code",
   "execution_count": null,
   "metadata": {
    "ExecuteTime": {
     "end_time": "2018-03-03T22:49:08.815562Z",
     "start_time": "2018-03-03T22:49:05.845Z"
    }
   },
   "outputs": [],
   "source": [
    "example[0][0]"
   ]
  },
  {
   "cell_type": "code",
   "execution_count": null,
   "metadata": {
    "ExecuteTime": {
     "end_time": "2018-03-03T22:49:08.817605Z",
     "start_time": "2018-03-03T22:49:05.849Z"
    }
   },
   "outputs": [],
   "source": [
    "from shapely.geometry import Polygon\n",
    "Polygon(example[0][0])"
   ]
  },
  {
   "cell_type": "code",
   "execution_count": null,
   "metadata": {},
   "outputs": [],
   "source": []
  },
  {
   "cell_type": "code",
   "execution_count": null,
   "metadata": {},
   "outputs": [],
   "source": []
  },
  {
   "cell_type": "code",
   "execution_count": null,
   "metadata": {},
   "outputs": [],
   "source": []
  },
  {
   "cell_type": "code",
   "execution_count": null,
   "metadata": {
    "ExecuteTime": {
     "end_time": "2018-03-03T22:49:08.819621Z",
     "start_time": "2018-03-03T22:49:05.859Z"
    }
   },
   "outputs": [],
   "source": [
    "from shapely.geometry import MultiPolygon\n",
    "MultiPolygon(example)"
   ]
  },
  {
   "cell_type": "code",
   "execution_count": null,
   "metadata": {
    "ExecuteTime": {
     "end_time": "2018-03-03T22:49:08.821602Z",
     "start_time": "2018-03-03T22:49:05.864Z"
    }
   },
   "outputs": [],
   "source": [
    "set(new_geom)"
   ]
  },
  {
   "cell_type": "code",
   "execution_count": null,
   "metadata": {
    "ExecuteTime": {
     "end_time": "2018-03-03T22:49:08.823678Z",
     "start_time": "2018-03-03T22:49:05.868Z"
    }
   },
   "outputs": [],
   "source": [
    "gdf.DataFrame(neighbourhoods)"
   ]
  },
  {
   "cell_type": "code",
   "execution_count": null,
   "metadata": {},
   "outputs": [],
   "source": []
  },
  {
   "cell_type": "code",
   "execution_count": null,
   "metadata": {},
   "outputs": [],
   "source": []
  },
  {
   "cell_type": "code",
   "execution_count": null,
   "metadata": {},
   "outputs": [],
   "source": []
  },
  {
   "cell_type": "code",
   "execution_count": null,
   "metadata": {
    "ExecuteTime": {
     "end_time": "2018-03-03T22:49:08.826019Z",
     "start_time": "2018-03-03T22:49:05.877Z"
    }
   },
   "outputs": [],
   "source": [
    "import shapely.geometry"
   ]
  },
  {
   "cell_type": "code",
   "execution_count": null,
   "metadata": {
    "ExecuteTime": {
     "end_time": "2018-03-03T22:49:08.828181Z",
     "start_time": "2018-03-03T22:49:05.884Z"
    }
   },
   "outputs": [],
   "source": [
    "neipd.DataFrame(neighbourhoods)"
   ]
  },
  {
   "cell_type": "code",
   "execution_count": null,
   "metadata": {
    "ExecuteTime": {
     "end_time": "2018-03-03T22:49:08.830145Z",
     "start_time": "2018-03-03T22:49:05.894Z"
    }
   },
   "outputs": [],
   "source": [
    "bikes_df = pd.DataFrame(bikes)\n",
    "bikes_df.head()"
   ]
  },
  {
   "cell_type": "code",
   "execution_count": null,
   "metadata": {
    "ExecuteTime": {
     "end_time": "2018-03-03T22:49:08.832160Z",
     "start_time": "2018-03-03T22:49:05.898Z"
    }
   },
   "outputs": [],
   "source": [
    "testcoord = bikes_df.the_geom[0]\n",
    "testcoord"
   ]
  },
  {
   "cell_type": "code",
   "execution_count": null,
   "metadata": {
    "ExecuteTime": {
     "end_time": "2018-03-03T22:49:08.834299Z",
     "start_time": "2018-03-03T22:49:05.903Z"
    }
   },
   "outputs": [],
   "source": [
    "import ipyleaflet"
   ]
  },
  {
   "cell_type": "code",
   "execution_count": null,
   "metadata": {
    "ExecuteTime": {
     "end_time": "2018-03-03T22:49:08.836400Z",
     "start_time": "2018-03-03T22:49:05.908Z"
    }
   },
   "outputs": [],
   "source": [
    "!jupyter nbextension enable --py --sys-prefix ipyleaflet"
   ]
  },
  {
   "cell_type": "code",
   "execution_count": null,
   "metadata": {
    "ExecuteTime": {
     "end_time": "2018-03-03T22:49:08.838561Z",
     "start_time": "2018-03-03T22:49:05.913Z"
    }
   },
   "outputs": [],
   "source": [
    "from ipyleaflet import Map"
   ]
  },
  {
   "cell_type": "code",
   "execution_count": null,
   "metadata": {
    "ExecuteTime": {
     "end_time": "2018-03-03T22:49:08.840775Z",
     "start_time": "2018-03-03T22:49:05.920Z"
    }
   },
   "outputs": [],
   "source": [
    "Map(center = testcoord['coordinates'])"
   ]
  },
  {
   "cell_type": "code",
   "execution_count": null,
   "metadata": {
    "ExecuteTime": {
     "end_time": "2018-03-03T22:49:08.844480Z",
     "start_time": "2018-03-03T22:49:05.925Z"
    }
   },
   "outputs": [],
   "source": [
    "# for x in bugcleaned.location.unique():\n",
    "#     print(x)"
   ]
  },
  {
   "cell_type": "markdown",
   "metadata": {
    "ExecuteTime": {
     "end_time": "2018-03-03T21:15:44.002394Z",
     "start_time": "2018-03-03T21:15:43.996590Z"
    }
   },
   "source": [
    "https://docs.google.com/document/d/1xWBXAFSwtUGgZ3hQmzXE7ODnufQEWkji26vnsqfZzZ0/\n",
    "\n",
    "http://winnipeg.ca/publicworks/insectcontrol/mosquitoes/nuisanceschedule.stm\n"
   ]
  },
  {
   "cell_type": "code",
   "execution_count": null,
   "metadata": {
    "ExecuteTime": {
     "end_time": "2018-03-03T22:49:08.846467Z",
     "start_time": "2018-03-03T22:49:06.174Z"
    }
   },
   "outputs": [],
   "source": [
    "client = Socrata(\"data.winnipeg.ca\", None)\n",
    "mapdata = \"tug6-p73s\"\n",
    "mapdata = client.get(\"tug6-p73s\", limit=2000)\n",
    "mapdata"
   ]
  },
  {
   "cell_type": "markdown",
   "metadata": {},
   "source": [
    "North_east_1:  49.951867, -97.059306\n",
    "North_east_2: 49.933941, -97.096341\n",
    "North_east_3: 49.924809, -97.056330\n",
    "North_east_4: 49.906175, -97.094797\n",
    "North_east_5: 49.892358, -97.022426\n",
    "North_east_6: 49.918257, -97.043848\n",
    "North_east_7: 49.904900, -96.981602\n",
    "North_west_1: 49.890104, -97.308464\n",
    "North_west_2: 49.882624, -97.238131\n",
    "North_west_3: 49.888943, -97.193254\n",
    "North_west_4: 49.920877, -97.202540\n",
    "North_west_5: 49.931627, -97.170450\n",
    "North_west_6: 49.975104, -97.147863\n",
    "North_west_7: 49.948876, -97.126311\n",
    "Rural_aa: 49.981128, -97.244987\n",
    "Rural_bb: 49.999793, -97.194880\n",
    "Rural_cc: 49.991068, -97.089770\n",
    "Rural_dd: 49.990523, -97.013920\n",
    "Rural_ee: 49.852485, -96.986202\n",
    "Rural_ff: 49.800355, -97.073122\n",
    "Rural_gg: 49.782835, -97.339871\n",
    "Rural_hh: 49.854707, -97.338403 \n",
    "Rural_ii: 49.890188, -97.341707\n",
    "South_east_1: 49.5242.6, 97.07156\n",
    "South_east_2: 49.856801, -97.109705\n",
    "south_east_3:49.859405, -97.066774\n",
    "South_east_4: 49.824369, -97.133797\n",
    "South_east_5: 49.829048, -97.098352\n",
    "South_east_6: 49.827414, -97.060787\n",
    "South_east_7: 49.806356, -97.100467\n",
    "South_west_1: 49.832983, -97.332547\n",
    "South_west_2: 49.852445, -97.275173\n",
    "South_west_3: 49.868974, -97.243095\n",
    "South_west_4: 49.868834, -97.184476\n",
    "South_west_5: 49.818122, -97.165982\n",
    "South_west_6: 49.805538, -97.138229\n",
    "South_west_7: 49.827168, -97.170704\n"
   ]
  },
  {
   "cell_type": "code",
   "execution_count": null,
   "metadata": {
    "ExecuteTime": {
     "end_time": "2018-03-03T22:49:08.848332Z",
     "start_time": "2018-03-03T22:49:06.426Z"
    }
   },
   "outputs": [],
   "source": [
    "import geopandas"
   ]
  },
  {
   "cell_type": "code",
   "execution_count": null,
   "metadata": {
    "ExecuteTime": {
     "end_time": "2018-03-03T22:49:08.850142Z",
     "start_time": "2018-03-03T22:49:06.432Z"
    }
   },
   "outputs": [],
   "source": [
    "from geopandas import GeoDataFrame"
   ]
  },
  {
   "cell_type": "code",
   "execution_count": null,
   "metadata": {
    "ExecuteTime": {
     "end_time": "2018-03-03T22:49:08.851832Z",
     "start_time": "2018-03-03T22:49:06.437Z"
    }
   },
   "outputs": [],
   "source": [
    "from shapely.geometry import Point"
   ]
  },
  {
   "cell_type": "code",
   "execution_count": null,
   "metadata": {
    "ExecuteTime": {
     "end_time": "2018-03-03T22:49:08.853538Z",
     "start_time": "2018-03-03T22:49:06.443Z"
    }
   },
   "outputs": [],
   "source": [
    "mypoint = testcoord['coordinates']"
   ]
  },
  {
   "cell_type": "code",
   "execution_count": null,
   "metadata": {
    "ExecuteTime": {
     "end_time": "2018-03-03T22:49:08.855418Z",
     "start_time": "2018-03-03T22:49:06.449Z"
    }
   },
   "outputs": [],
   "source": [
    "GeoDataFrame() "
   ]
  },
  {
   "cell_type": "code",
   "execution_count": null,
   "metadata": {
    "ExecuteTime": {
     "end_time": "2018-03-03T22:49:08.857129Z",
     "start_time": "2018-03-03T22:49:06.454Z"
    }
   },
   "outputs": [],
   "source": [
    "from shapely.geometry import Point"
   ]
  },
  {
   "cell_type": "code",
   "execution_count": null,
   "metadata": {
    "ExecuteTime": {
     "end_time": "2018-03-03T22:49:08.859171Z",
     "start_time": "2018-03-03T22:49:06.463Z"
    }
   },
   "outputs": [],
   "source": [
    "geotypes = [x['type'] for x in bikes_df.the_geom]"
   ]
  },
  {
   "cell_type": "code",
   "execution_count": null,
   "metadata": {
    "ExecuteTime": {
     "end_time": "2018-03-03T22:49:08.860883Z",
     "start_time": "2018-03-03T22:49:06.469Z"
    }
   },
   "outputs": [],
   "source": [
    "set(geotypes)"
   ]
  },
  {
   "cell_type": "code",
   "execution_count": null,
   "metadata": {
    "ExecuteTime": {
     "end_time": "2018-03-03T22:49:08.862732Z",
     "start_time": "2018-03-03T22:49:06.476Z"
    }
   },
   "outputs": [],
   "source": [
    "Point()"
   ]
  },
  {
   "cell_type": "code",
   "execution_count": null,
   "metadata": {
    "ExecuteTime": {
     "end_time": "2018-03-03T22:49:08.864585Z",
     "start_time": "2018-03-03T22:49:06.481Z"
    }
   },
   "outputs": [],
   "source": [
    "newgeom = [Point(x['coordinates']) for x in bikes_df.the_geom]\n",
    "bikes_df['newgeom'] = newgeom"
   ]
  },
  {
   "cell_type": "code",
   "execution_count": null,
   "metadata": {
    "ExecuteTime": {
     "end_time": "2018-03-03T22:49:08.866612Z",
     "start_time": "2018-03-03T22:49:06.487Z"
    }
   },
   "outputs": [],
   "source": [
    "gdf = bikes_df\n",
    "gdf = gdf.set_geometry('newgeom')"
   ]
  },
  {
   "cell_type": "code",
   "execution_count": null,
   "metadata": {
    "ExecuteTime": {
     "end_time": "2018-03-03T22:49:08.868884Z",
     "start_time": "2018-03-03T22:49:06.492Z"
    }
   },
   "outputs": [],
   "source": [
    "gdf.head()"
   ]
  },
  {
   "cell_type": "code",
   "execution_count": null,
   "metadata": {
    "ExecuteTime": {
     "end_time": "2018-03-03T22:49:08.871074Z",
     "start_time": "2018-03-03T22:49:06.498Z"
    }
   },
   "outputs": [],
   "source": [
    "gdf.plot()"
   ]
  },
  {
   "cell_type": "code",
   "execution_count": null,
   "metadata": {},
   "outputs": [],
   "source": []
  },
  {
   "cell_type": "code",
   "execution_count": null,
   "metadata": {
    "ExecuteTime": {
     "end_time": "2018-03-03T22:49:08.873071Z",
     "start_time": "2018-03-03T22:49:06.505Z"
    }
   },
   "outputs": [],
   "source": [
    "gdf.set_geometry('newgeom')"
   ]
  },
  {
   "cell_type": "code",
   "execution_count": null,
   "metadata": {},
   "outputs": [],
   "source": []
  },
  {
   "cell_type": "code",
   "execution_count": null,
   "metadata": {},
   "outputs": [],
   "source": []
  },
  {
   "cell_type": "code",
   "execution_count": null,
   "metadata": {
    "ExecuteTime": {
     "end_time": "2018-03-03T22:49:08.875617Z",
     "start_time": "2018-03-03T22:49:06.514Z"
    }
   },
   "outputs": [],
   "source": [
    "bikes_df"
   ]
  },
  {
   "cell_type": "code",
   "execution_count": null,
   "metadata": {},
   "outputs": [],
   "source": []
  },
  {
   "cell_type": "code",
   "execution_count": null,
   "metadata": {},
   "outputs": [],
   "source": []
  },
  {
   "cell_type": "code",
   "execution_count": null,
   "metadata": {},
   "outputs": [],
   "source": []
  },
  {
   "cell_type": "code",
   "execution_count": null,
   "metadata": {},
   "outputs": [],
   "source": []
  },
  {
   "cell_type": "code",
   "execution_count": null,
   "metadata": {},
   "outputs": [],
   "source": []
  },
  {
   "cell_type": "code",
   "execution_count": null,
   "metadata": {
    "ExecuteTime": {
     "end_time": "2018-03-03T22:49:08.877718Z",
     "start_time": "2018-03-03T22:49:06.526Z"
    }
   },
   "outputs": [],
   "source": [
    "bikes_df"
   ]
  },
  {
   "cell_type": "code",
   "execution_count": null,
   "metadata": {
    "ExecuteTime": {
     "end_time": "2018-03-03T22:49:08.879847Z",
     "start_time": "2018-03-03T22:49:06.532Z"
    }
   },
   "outputs": [],
   "source": [
    "import geopandas as gpd"
   ]
  },
  {
   "cell_type": "code",
   "execution_count": null,
   "metadata": {
    "ExecuteTime": {
     "end_time": "2018-03-03T22:49:08.881866Z",
     "start_time": "2018-03-03T22:49:06.539Z"
    }
   },
   "outputs": [],
   "source": [
    "gdf = gpd.GeoDataFrame(bikes)"
   ]
  },
  {
   "cell_type": "code",
   "execution_count": null,
   "metadata": {
    "ExecuteTime": {
     "end_time": "2018-03-03T22:49:08.884023Z",
     "start_time": "2018-03-03T22:49:06.546Z"
    }
   },
   "outputs": [],
   "source": [
    "gdf.set_geometry('the_geom')"
   ]
  },
  {
   "cell_type": "code",
   "execution_count": null,
   "metadata": {},
   "outputs": [],
   "source": []
  },
  {
   "cell_type": "code",
   "execution_count": null,
   "metadata": {},
   "outputs": [],
   "source": []
  },
  {
   "cell_type": "code",
   "execution_count": null,
   "metadata": {},
   "outputs": [],
   "source": []
  }
 ],
 "metadata": {
  "hide_input": false,
  "kernelspec": {
   "display_name": "PythonPath (python)",
   "language": "python",
   "name": "python_ruxi"
  },
  "language_info": {
   "codemirror_mode": {
    "name": "ipython",
    "version": 3
   },
   "file_extension": ".py",
   "mimetype": "text/x-python",
   "name": "python",
   "nbconvert_exporter": "python",
   "pygments_lexer": "ipython3",
   "version": "3.6.4"
  },
  "latex_envs": {
   "LaTeX_envs_menu_present": true,
   "bibliofile": "biblio.bib",
   "cite_by": "apalike",
   "current_citInitial": 1,
   "eqLabelWithNumbers": true,
   "eqNumInitial": 1,
   "labels_anchors": false,
   "latex_user_defs": false,
   "report_style_numbering": false,
   "user_envs_cfg": false
  },
  "toc": {
   "colors": {
    "hover_highlight": "#DAA520",
    "running_highlight": "#FF0000",
    "selected_highlight": "#FFD700"
   },
   "moveMenuLeft": true,
   "nav_menu": {
    "height": "12px",
    "width": "252px"
   },
   "navigate_menu": true,
   "number_sections": true,
   "sideBar": true,
   "threshold": 4,
   "toc_cell": false,
   "toc_section_display": "block",
   "toc_window_display": false
  }
 },
 "nbformat": 4,
 "nbformat_minor": 2
}
